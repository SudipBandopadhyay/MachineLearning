{
 "cells": [
  {
   "cell_type": "code",
   "execution_count": 1,
   "id": "70a7a2d9",
   "metadata": {},
   "outputs": [],
   "source": [
    "from sklearn.discriminant_analysis import LinearDiscriminantAnalysis as LDA\n",
    "import pandas as pd\n",
    "import matplotlib.pyplot as plt\n",
    "import numpy as np\n",
    "from sklearn.datasets import load_digits\n",
    "from sklearn.model_selection import train_test_split\n",
    "from sklearn.linear_model import LogisticRegression\n",
    "from sklearn import metrics"
   ]
  },
  {
   "cell_type": "markdown",
   "id": "1ef2d5ce",
   "metadata": {},
   "source": [
    "# 1. We shall use the same dataset used in previous assignment - digits. Make a 80-20 train/test split."
   ]
  },
  {
   "cell_type": "code",
   "execution_count": 2,
   "id": "c27cb311",
   "metadata": {},
   "outputs": [],
   "source": [
    "digits = load_digits()"
   ]
  },
  {
   "cell_type": "code",
   "execution_count": 3,
   "id": "1103f981",
   "metadata": {},
   "outputs": [],
   "source": [
    "X = digits.images.reshape(digits.images.shape[0], -1)\n",
    "y = digits.target"
   ]
  },
  {
   "cell_type": "code",
   "execution_count": 5,
   "id": "4a4abf42",
   "metadata": {},
   "outputs": [],
   "source": [
    "X_train, X_test, y_train, y_test = train_test_split(X, y, random_state=10, test_size=0.20)\n"
   ]
  },
  {
   "cell_type": "markdown",
   "id": "e5ee7347",
   "metadata": {},
   "source": [
    "# 2. Using scikit learn perform a LDA on the dataset. Find out the number of components in the projected subspace."
   ]
  },
  {
   "cell_type": "code",
   "execution_count": 7,
   "id": "89eba593",
   "metadata": {},
   "outputs": [
    {
     "name": "stdout",
     "output_type": "stream",
     "text": [
      "[0.29115346 0.1856254  0.16536448 0.1171311  0.08263054]\n"
     ]
    }
   ],
   "source": [
    "model_lda = LDA(n_components=5)\n",
    "model_lda.fit(X_train, y_train)\n",
    "\n",
    "print(model_lda.explained_variance_ratio_)\n"
   ]
  },
  {
   "cell_type": "markdown",
   "id": "f8e1aade",
   "metadata": {},
   "source": [
    "# 3. Transform the dataset and fit a logistic regression and observe the accuracy. Compare it with the previous model based on PCA in terms of accuracy and model complexity."
   ]
  },
  {
   "cell_type": "code",
   "execution_count": 8,
   "id": "3ea2b650",
   "metadata": {},
   "outputs": [],
   "source": [
    "\n",
    "X_train_lda = model_lda.transform(X_train)\n",
    "X_test_lda = model_lda.transform(X_test)"
   ]
  },
  {
   "cell_type": "code",
   "execution_count": 10,
   "id": "644d8d7f",
   "metadata": {},
   "outputs": [
    {
     "name": "stdout",
     "output_type": "stream",
     "text": [
      "Accuracy: 0.9055555555555556\n"
     ]
    },
    {
     "name": "stderr",
     "output_type": "stream",
     "text": [
      "E:\\MachineLearning\\Anaconda3\\lib\\site-packages\\sklearn\\linear_model\\_logistic.py:763: ConvergenceWarning: lbfgs failed to converge (status=1):\n",
      "STOP: TOTAL NO. of ITERATIONS REACHED LIMIT.\n",
      "\n",
      "Increase the number of iterations (max_iter) or scale the data as shown in:\n",
      "    https://scikit-learn.org/stable/modules/preprocessing.html\n",
      "Please also refer to the documentation for alternative solver options:\n",
      "    https://scikit-learn.org/stable/modules/linear_model.html#logistic-regression\n",
      "  n_iter_i = _check_optimize_result(\n"
     ]
    }
   ],
   "source": [
    "model_lda = LogisticRegression()\n",
    "model_lda.fit(X_train_lda, y_train)\n",
    "\n",
    "y_predict_lda = model_lda.predict(X_test_lda)\n",
    "\n",
    "print('Accuracy:', metrics.accuracy_score(y_test,y_predict_lda))"
   ]
  },
  {
   "cell_type": "code",
   "execution_count": null,
   "id": "e65d8647",
   "metadata": {},
   "outputs": [],
   "source": []
  }
 ],
 "metadata": {
  "kernelspec": {
   "display_name": "Python 3",
   "language": "python",
   "name": "python3"
  },
  "language_info": {
   "codemirror_mode": {
    "name": "ipython",
    "version": 3
   },
   "file_extension": ".py",
   "mimetype": "text/x-python",
   "name": "python",
   "nbconvert_exporter": "python",
   "pygments_lexer": "ipython3",
   "version": "3.8.8"
  }
 },
 "nbformat": 4,
 "nbformat_minor": 5
}

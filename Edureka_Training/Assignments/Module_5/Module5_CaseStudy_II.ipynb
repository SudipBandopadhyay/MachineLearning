{
 "cells": [
  {
   "cell_type": "code",
   "execution_count": 1,
   "id": "d6e58f17",
   "metadata": {},
   "outputs": [],
   "source": [
    "import pandas as pd\n",
    "import numpy as np"
   ]
  },
  {
   "cell_type": "code",
   "execution_count": 2,
   "id": "47cac37b",
   "metadata": {},
   "outputs": [
    {
     "name": "stderr",
     "output_type": "stream",
     "text": [
      "E:\\MachineLearning\\Anaconda3\\lib\\site-packages\\IPython\\core\\interactiveshell.py:3165: DtypeWarning: Columns (12) have mixed types.Specify dtype option on import or set low_memory=False.\n",
      "  has_raised = await self.run_ast_nodes(code_ast.body, cell_name,\n"
     ]
    },
    {
     "data": {
      "text/html": [
       "<div>\n",
       "<style scoped>\n",
       "    .dataframe tbody tr th:only-of-type {\n",
       "        vertical-align: middle;\n",
       "    }\n",
       "\n",
       "    .dataframe tbody tr th {\n",
       "        vertical-align: top;\n",
       "    }\n",
       "\n",
       "    .dataframe thead th {\n",
       "        text-align: right;\n",
       "    }\n",
       "</style>\n",
       "<table border=\"1\" class=\"dataframe\">\n",
       "  <thead>\n",
       "    <tr style=\"text-align: right;\">\n",
       "      <th></th>\n",
       "      <th>Id</th>\n",
       "      <th>EmployeeName</th>\n",
       "      <th>JobTitle</th>\n",
       "      <th>BasePay</th>\n",
       "      <th>OvertimePay</th>\n",
       "      <th>OtherPay</th>\n",
       "      <th>Benefits</th>\n",
       "      <th>TotalPay</th>\n",
       "      <th>TotalPayBenefits</th>\n",
       "      <th>Year</th>\n",
       "      <th>Notes</th>\n",
       "      <th>Agency</th>\n",
       "      <th>Status</th>\n",
       "    </tr>\n",
       "  </thead>\n",
       "  <tbody>\n",
       "    <tr>\n",
       "      <th>0</th>\n",
       "      <td>1</td>\n",
       "      <td>NATHANIEL FORD</td>\n",
       "      <td>GENERAL MANAGER-METROPOLITAN TRANSIT AUTHORITY</td>\n",
       "      <td>167411.18</td>\n",
       "      <td>0.00</td>\n",
       "      <td>400184.25</td>\n",
       "      <td>NaN</td>\n",
       "      <td>567595.43</td>\n",
       "      <td>567595.43</td>\n",
       "      <td>2011</td>\n",
       "      <td>NaN</td>\n",
       "      <td>San Francisco</td>\n",
       "      <td>NaN</td>\n",
       "    </tr>\n",
       "    <tr>\n",
       "      <th>1</th>\n",
       "      <td>2</td>\n",
       "      <td>GARY JIMENEZ</td>\n",
       "      <td>CAPTAIN III (POLICE DEPARTMENT)</td>\n",
       "      <td>155966.02</td>\n",
       "      <td>245131.88</td>\n",
       "      <td>137811.38</td>\n",
       "      <td>NaN</td>\n",
       "      <td>538909.28</td>\n",
       "      <td>538909.28</td>\n",
       "      <td>2011</td>\n",
       "      <td>NaN</td>\n",
       "      <td>San Francisco</td>\n",
       "      <td>NaN</td>\n",
       "    </tr>\n",
       "    <tr>\n",
       "      <th>2</th>\n",
       "      <td>3</td>\n",
       "      <td>ALBERT PARDINI</td>\n",
       "      <td>CAPTAIN III (POLICE DEPARTMENT)</td>\n",
       "      <td>212739.13</td>\n",
       "      <td>106088.18</td>\n",
       "      <td>16452.60</td>\n",
       "      <td>NaN</td>\n",
       "      <td>335279.91</td>\n",
       "      <td>335279.91</td>\n",
       "      <td>2011</td>\n",
       "      <td>NaN</td>\n",
       "      <td>San Francisco</td>\n",
       "      <td>NaN</td>\n",
       "    </tr>\n",
       "    <tr>\n",
       "      <th>3</th>\n",
       "      <td>4</td>\n",
       "      <td>CHRISTOPHER CHONG</td>\n",
       "      <td>WIRE ROPE CABLE MAINTENANCE MECHANIC</td>\n",
       "      <td>77916.00</td>\n",
       "      <td>56120.71</td>\n",
       "      <td>198306.90</td>\n",
       "      <td>NaN</td>\n",
       "      <td>332343.61</td>\n",
       "      <td>332343.61</td>\n",
       "      <td>2011</td>\n",
       "      <td>NaN</td>\n",
       "      <td>San Francisco</td>\n",
       "      <td>NaN</td>\n",
       "    </tr>\n",
       "    <tr>\n",
       "      <th>4</th>\n",
       "      <td>5</td>\n",
       "      <td>PATRICK GARDNER</td>\n",
       "      <td>DEPUTY CHIEF OF DEPARTMENT,(FIRE DEPARTMENT)</td>\n",
       "      <td>134401.60</td>\n",
       "      <td>9737.00</td>\n",
       "      <td>182234.59</td>\n",
       "      <td>NaN</td>\n",
       "      <td>326373.19</td>\n",
       "      <td>326373.19</td>\n",
       "      <td>2011</td>\n",
       "      <td>NaN</td>\n",
       "      <td>San Francisco</td>\n",
       "      <td>NaN</td>\n",
       "    </tr>\n",
       "  </tbody>\n",
       "</table>\n",
       "</div>"
      ],
      "text/plain": [
       "   Id       EmployeeName                                        JobTitle  \\\n",
       "0   1     NATHANIEL FORD  GENERAL MANAGER-METROPOLITAN TRANSIT AUTHORITY   \n",
       "1   2       GARY JIMENEZ                 CAPTAIN III (POLICE DEPARTMENT)   \n",
       "2   3     ALBERT PARDINI                 CAPTAIN III (POLICE DEPARTMENT)   \n",
       "3   4  CHRISTOPHER CHONG            WIRE ROPE CABLE MAINTENANCE MECHANIC   \n",
       "4   5    PATRICK GARDNER    DEPUTY CHIEF OF DEPARTMENT,(FIRE DEPARTMENT)   \n",
       "\n",
       "     BasePay  OvertimePay   OtherPay  Benefits   TotalPay  TotalPayBenefits  \\\n",
       "0  167411.18         0.00  400184.25       NaN  567595.43         567595.43   \n",
       "1  155966.02    245131.88  137811.38       NaN  538909.28         538909.28   \n",
       "2  212739.13    106088.18   16452.60       NaN  335279.91         335279.91   \n",
       "3   77916.00     56120.71  198306.90       NaN  332343.61         332343.61   \n",
       "4  134401.60      9737.00  182234.59       NaN  326373.19         326373.19   \n",
       "\n",
       "   Year  Notes         Agency Status  \n",
       "0  2011    NaN  San Francisco    NaN  \n",
       "1  2011    NaN  San Francisco    NaN  \n",
       "2  2011    NaN  San Francisco    NaN  \n",
       "3  2011    NaN  San Francisco    NaN  \n",
       "4  2011    NaN  San Francisco    NaN  "
      ]
     },
     "execution_count": 2,
     "metadata": {},
     "output_type": "execute_result"
    }
   ],
   "source": [
    "df = pd.read_csv('Salaries.csv')\n",
    "df.head(5)"
   ]
  },
  {
   "cell_type": "code",
   "execution_count": 17,
   "id": "f12455e0",
   "metadata": {},
   "outputs": [
    {
     "name": "stdout",
     "output_type": "stream",
     "text": [
      "Total change from 2011 to 2014 is 282797920.53994226\n"
     ]
    }
   ],
   "source": [
    "#1. Compute how much total salary cost has increased from year 2011 to 2014\n",
    "df_total_pay= df.groupby('Year').agg({'TotalPay':np.sum}).reset_index()\n",
    "salary_diff = df_total_pay.query(\"Year == 2014\")[\"TotalPay\"].values[0] - df_total_pay.query(\"Year == 2011\")[\"TotalPay\"].values[0]\n",
    "print('Total change from 2011 to 2014 is',salary_diff)"
   ]
  },
  {
   "cell_type": "code",
   "execution_count": 26,
   "id": "ff419dec",
   "metadata": {},
   "outputs": [
    {
     "data": {
      "text/plain": [
       "'Chief Investment Officer'"
      ]
     },
     "execution_count": 26,
     "metadata": {},
     "output_type": "execute_result"
    }
   ],
   "source": [
    "#2. Which Job Title in Year 2014 has highest mean salary?\n",
    "df_job_title= df.groupby(['Year','JobTitle']).agg({'TotalPay':np.mean}).reset_index().query(\"Year == 2014\")\n",
    "df_job_title[df_job_title.TotalPay == df_job_title.TotalPay.max()].JobTitle.values[0]"
   ]
  },
  {
   "cell_type": "code",
   "execution_count": 30,
   "id": "d2641385",
   "metadata": {},
   "outputs": [
    {
     "name": "stdout",
     "output_type": "stream",
     "text": [
      "Amount could have been saved in Year 2014 by stopping OverTimePay is 205918599.27000067\n"
     ]
    }
   ],
   "source": [
    "#3. How much money could have been saved in Year 2014 by stopping OverTimePay?\n",
    "df_overTime = df.groupby([\"Year\"]).agg(\"sum\").filter([\"OvertimePay\"]).query(\"Year == 2014\")\n",
    "\n",
    "print(\"Amount could have been saved in Year 2014 by stopping OverTimePay is\",str(float(df_overTime[\"OvertimePay\"])))"
   ]
  },
  {
   "cell_type": "code",
   "execution_count": 32,
   "id": "85c69a57",
   "metadata": {},
   "outputs": [
    {
     "name": "stdout",
     "output_type": "stream",
     "text": [
      "                                   TotalPay\n",
      "Year JobTitle                              \n",
      "2014 Transit Operator                  2479\n",
      "     Special Nurse                     1478\n",
      "     Registered Nurse                  1234\n",
      "     Public Svc Aide-Public Works       916\n",
      "     Firefighter                        815\n"
     ]
    }
   ],
   "source": [
    "#4. Which are the top 5 common job in Year 2014 and how much do they cost SFO ?\n",
    "df_top5 = df.groupby([\"Year\", \"JobTitle\"]).agg(\"count\").filter([\"Year\", \"TotalPay\", \"JobTitle\"]).query(\"Year == 2014\").sort_values(\"TotalPay\", ascending=False)\n",
    "\n",
    "print(df_top5.head(5))"
   ]
  },
  {
   "cell_type": "code",
   "execution_count": 37,
   "id": "3f1eaf46",
   "metadata": {},
   "outputs": [
    {
     "data": {
      "text/html": [
       "<div>\n",
       "<style scoped>\n",
       "    .dataframe tbody tr th:only-of-type {\n",
       "        vertical-align: middle;\n",
       "    }\n",
       "\n",
       "    .dataframe tbody tr th {\n",
       "        vertical-align: top;\n",
       "    }\n",
       "\n",
       "    .dataframe thead th {\n",
       "        text-align: right;\n",
       "    }\n",
       "</style>\n",
       "<table border=\"1\" class=\"dataframe\">\n",
       "  <thead>\n",
       "    <tr style=\"text-align: right;\">\n",
       "      <th></th>\n",
       "      <th>Year</th>\n",
       "      <th>TotalPay</th>\n",
       "      <th>EmployeeName</th>\n",
       "    </tr>\n",
       "  </thead>\n",
       "  <tbody>\n",
       "    <tr>\n",
       "      <th>0</th>\n",
       "      <td>2011</td>\n",
       "      <td>567595.43</td>\n",
       "      <td>NATHANIEL FORD</td>\n",
       "    </tr>\n",
       "    <tr>\n",
       "      <th>1</th>\n",
       "      <td>2011</td>\n",
       "      <td>538909.28</td>\n",
       "      <td>GARY JIMENEZ</td>\n",
       "    </tr>\n",
       "    <tr>\n",
       "      <th>2</th>\n",
       "      <td>2014</td>\n",
       "      <td>471952.64</td>\n",
       "      <td>David Shinn</td>\n",
       "    </tr>\n",
       "    <tr>\n",
       "      <th>3</th>\n",
       "      <td>2014</td>\n",
       "      <td>390111.98</td>\n",
       "      <td>Amy P Hart</td>\n",
       "    </tr>\n",
       "    <tr>\n",
       "      <th>4</th>\n",
       "      <td>2012</td>\n",
       "      <td>362844.66</td>\n",
       "      <td>Gary Altenberg</td>\n",
       "    </tr>\n",
       "    <tr>\n",
       "      <th>...</th>\n",
       "      <td>...</td>\n",
       "      <td>...</td>\n",
       "      <td>...</td>\n",
       "    </tr>\n",
       "    <tr>\n",
       "      <th>139328</th>\n",
       "      <td>2012</td>\n",
       "      <td>0.00</td>\n",
       "      <td>William Mathews</td>\n",
       "    </tr>\n",
       "    <tr>\n",
       "      <th>139329</th>\n",
       "      <td>2014</td>\n",
       "      <td>0.00</td>\n",
       "      <td>Timothy C Benetti</td>\n",
       "    </tr>\n",
       "    <tr>\n",
       "      <th>139330</th>\n",
       "      <td>2013</td>\n",
       "      <td>0.00</td>\n",
       "      <td>Yao Zhang  Mai</td>\n",
       "    </tr>\n",
       "    <tr>\n",
       "      <th>139331</th>\n",
       "      <td>2011</td>\n",
       "      <td>0.00</td>\n",
       "      <td>PAULETTE ADAMS</td>\n",
       "    </tr>\n",
       "    <tr>\n",
       "      <th>139332</th>\n",
       "      <td>2014</td>\n",
       "      <td>-618.13</td>\n",
       "      <td>Joe Lopez</td>\n",
       "    </tr>\n",
       "  </tbody>\n",
       "</table>\n",
       "<p>139333 rows × 3 columns</p>\n",
       "</div>"
      ],
      "text/plain": [
       "        Year   TotalPay       EmployeeName\n",
       "0       2011  567595.43     NATHANIEL FORD\n",
       "1       2011  538909.28       GARY JIMENEZ\n",
       "2       2014  471952.64        David Shinn\n",
       "3       2014  390111.98         Amy P Hart\n",
       "4       2012  362844.66     Gary Altenberg\n",
       "...      ...        ...                ...\n",
       "139328  2012       0.00    William Mathews\n",
       "139329  2014       0.00  Timothy C Benetti\n",
       "139330  2013       0.00     Yao Zhang  Mai\n",
       "139331  2011       0.00     PAULETTE ADAMS\n",
       "139332  2014    -618.13          Joe Lopez\n",
       "\n",
       "[139333 rows x 3 columns]"
      ]
     },
     "execution_count": 37,
     "metadata": {},
     "output_type": "execute_result"
    }
   ],
   "source": [
    "#5. Who was the top earning employee across all the years?\n",
    "\n",
    "df_top_employee = df.groupby([\"Year\", \"TotalPay\"]).agg(\"max\").filter(\n",
    "    [\"Year\", \"TotalPay\", \"EmployeeName\"]).sort_values(\"TotalPay\", ascending=False).reset_index()\n",
    "df_top_employee"
   ]
  },
  {
   "cell_type": "code",
   "execution_count": 39,
   "id": "bd1026d4",
   "metadata": {},
   "outputs": [
    {
     "name": "stdout",
     "output_type": "stream",
     "text": [
      "Top Earning employee across the years is NATHANIEL FORD\n"
     ]
    }
   ],
   "source": [
    "top_employee_name = df_top_employee[df_top_employee.TotalPay == df_top_employee.TotalPay.max()].EmployeeName.values[0]\n",
    "print('Top Earning employee across the years is',top_employee_name)"
   ]
  },
  {
   "cell_type": "code",
   "execution_count": 51,
   "id": "a0f9ab7b",
   "metadata": {},
   "outputs": [
    {
     "name": "stdout",
     "output_type": "stream",
     "text": [
      "In year 2011 OverTimePay was 6.3150336542786745 % of TotalPayBenefits\n"
     ]
    }
   ],
   "source": [
    "#2. In year 2011 OverTimePay was what percentage of TotalPayBenefits\n",
    "\n",
    "df_overTime1 = df.groupby([\"Year\"]).agg(\"sum\").filter([\"OvertimePay\",\"TotalPay\"]).query(\"Year == 2011\")\n",
    "df_overTime1\n",
    "total_overtime = df_overTime1.OvertimePay.values[0]\n",
    "total_pay = df_overTime1.TotalPay.values[0]\n",
    "\n",
    "print('In year 2011 OverTimePay was', (total_overtime/total_pay)*100, '% of TotalPayBenefits')"
   ]
  },
  {
   "cell_type": "code",
   "execution_count": 71,
   "id": "e7c3b6fd",
   "metadata": {},
   "outputs": [
    {
     "name": "stdout",
     "output_type": "stream",
     "text": [
      "Job Title in Year 2014 has lowest mean salary is Special Assistant 15\n"
     ]
    }
   ],
   "source": [
    "#Which Job Title in Year 2014 has lowest mean salary\n",
    "df_mean_salary = df.groupby([\"Year\",'JobTitle']).agg(\"mean\").filter([\"TotalPay\"]).query(\"Year == 2014\").reset_index()\n",
    "jobtitle = df_mean_salary[df_mean_salary.TotalPay == df_mean_salary.TotalPay.min()].JobTitle.values[0]\n",
    "print('Job Title in Year 2014 has lowest mean salary is',jobtitle)"
   ]
  },
  {
   "cell_type": "code",
   "execution_count": null,
   "id": "bbdf9fd0",
   "metadata": {},
   "outputs": [],
   "source": []
  }
 ],
 "metadata": {
  "kernelspec": {
   "display_name": "Python 3",
   "language": "python",
   "name": "python3"
  },
  "language_info": {
   "codemirror_mode": {
    "name": "ipython",
    "version": 3
   },
   "file_extension": ".py",
   "mimetype": "text/x-python",
   "name": "python",
   "nbconvert_exporter": "python",
   "pygments_lexer": "ipython3",
   "version": "3.8.8"
  }
 },
 "nbformat": 4,
 "nbformat_minor": 5
}

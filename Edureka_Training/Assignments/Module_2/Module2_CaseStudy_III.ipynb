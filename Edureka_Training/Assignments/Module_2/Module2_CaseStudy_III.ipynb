{
 "cells": [
  {
   "cell_type": "markdown",
   "id": "f5816a20",
   "metadata": {},
   "source": [
    "# Approach to Solve\n",
    "You have to use fundamentals of Python taught in module 1\n",
    "1. Read the input from command line – Reference ID\n",
    "2. Check for validity – it should be 12 digits and allows on number and alphabet\n",
    "3. Encrypt the Reference ID and print it for reference\n"
   ]
  },
  {
   "cell_type": "markdown",
   "id": "1e92086c",
   "metadata": {},
   "source": [
    "# Enhancements Made\n",
    "\n",
    "1. Allow only _ and @ in ReferenceID\n",
    "2. Give the option for decryption to user by selecting Y/N"
   ]
  },
  {
   "cell_type": "code",
   "execution_count": 42,
   "id": "f1f10aa9",
   "metadata": {},
   "outputs": [
    {
     "name": "stdout",
     "output_type": "stream",
     "text": [
      "Requirement already satisfied: cryptography in e:\\machinelearning\\anaconda3\\lib\\site-packages (3.4.7)\n",
      "Requirement already satisfied: cffi>=1.12 in e:\\machinelearning\\anaconda3\\lib\\site-packages (from cryptography) (1.14.5)\n",
      "Requirement already satisfied: pycparser in e:\\machinelearning\\anaconda3\\lib\\site-packages (from cffi>=1.12->cryptography) (2.20)\n"
     ]
    }
   ],
   "source": [
    "!pip install cryptography"
   ]
  },
  {
   "cell_type": "code",
   "execution_count": 64,
   "id": "90034058",
   "metadata": {},
   "outputs": [
    {
     "name": "stdout",
     "output_type": "stream",
     "text": [
      "Enter if the Decryption Required(Y/N): n\n",
      "12\n",
      "Encrypted Reference_ID:  gAAAAABhrv0h644J7uQ48ZvoC2UcAcdlVYu8aRS_fbjn9eNplo2_sRN7EUayxatnSQ2ZwUCnJf3m0dueVZbfPxk68uQARi4vWA==\n"
     ]
    }
   ],
   "source": [
    "import re\n",
    "from cryptography.fernet import Fernet\n",
    "key = Fernet.generate_key()\n",
    "fernet = Fernet(key)\n",
    "Reference_ID = input('Enter the Reference ID: ') #'Newpa141s345'\n",
    "decryption_required = input('Enter if the Decryption Required(Y/N): ')\n",
    "Valid = False\n",
    "#print(len(Reference_ID))\n",
    "if (len(Reference_ID) == 12):\n",
    "    Valid = True\n",
    "    if not Reference_ID.isalnum():\n",
    "        Valid = False\n",
    "        if not re.search(\"[@_]\",Reference_ID):\n",
    "            Valid = False\n",
    "        else:\n",
    "            Valid = True\n",
    "    else:\n",
    "        Valid = True\n",
    "        \n",
    "if Valid == True:\n",
    "    \n",
    "    encrReference_ID = fernet.encrypt(Reference_ID.encode())\n",
    "    print(\"Encrypted Reference_ID: \", encrReference_ID.decode())\n",
    "\n",
    "    if decryption_required.upper() == 'Y':\n",
    "        decReference_ID = fernet.decrypt(encrReference_ID).decode()\n",
    "        print(\"Decrypted Reference_ID: \", decReference_ID)\n",
    "    \n",
    "else:\n",
    "    print('Invalid Reference ID')"
   ]
  },
  {
   "cell_type": "code",
   "execution_count": null,
   "id": "7c55c232",
   "metadata": {},
   "outputs": [],
   "source": []
  },
  {
   "cell_type": "code",
   "execution_count": null,
   "id": "686f1572",
   "metadata": {},
   "outputs": [],
   "source": []
  },
  {
   "cell_type": "code",
   "execution_count": null,
   "id": "1da69c97",
   "metadata": {},
   "outputs": [],
   "source": []
  }
 ],
 "metadata": {
  "kernelspec": {
   "display_name": "Python 3",
   "language": "python",
   "name": "python3"
  },
  "language_info": {
   "codemirror_mode": {
    "name": "ipython",
    "version": 3
   },
   "file_extension": ".py",
   "mimetype": "text/x-python",
   "name": "python",
   "nbconvert_exporter": "python",
   "pygments_lexer": "ipython3",
   "version": "3.8.8"
  }
 },
 "nbformat": 4,
 "nbformat_minor": 5
}

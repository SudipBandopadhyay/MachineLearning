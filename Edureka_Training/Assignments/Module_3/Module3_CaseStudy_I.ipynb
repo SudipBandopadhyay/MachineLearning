{
 "cells": [
  {
   "cell_type": "markdown",
   "id": "8f4b12ea",
   "metadata": {},
   "source": [
    "# 1. A Robot moves in a Plane starting from the origin point (0,0). The robot can move toward UP, DOWN, LEFT, RIGHT. The trace of Robot movement is as given following:\n",
    "UP 5\n",
    "DOWN 3\n",
    "LEFT 3\n",
    "RIGHT 2\n",
    "The numbers after directions are steps. Write a program to compute the distance current position after sequence of movements.\n",
    "Hint: Use math module."
   ]
  },
  {
   "cell_type": "code",
   "execution_count": 4,
   "id": "e5776a72",
   "metadata": {},
   "outputs": [
    {
     "name": "stdout",
     "output_type": "stream",
     "text": [
      "Distance Travelled:  2.23606797749979\n"
     ]
    }
   ],
   "source": [
    "import math\n",
    "\n",
    "x=0\n",
    "y=0\n",
    "\n",
    "up = 5\n",
    "down = 3\n",
    "left = 3\n",
    "right = 2\n",
    "y = up-down\n",
    "x = right - left\n",
    "\n",
    "distance = math.sqrt(x**2 + y**2)\n",
    "print('Distance Travelled: ', distance)"
   ]
  },
  {
   "cell_type": "markdown",
   "id": "9db822cd",
   "metadata": {},
   "source": [
    "# 2. Data of XYZ company is stored in sorted list. Write a program for searching specific data from that list.\n",
    "Hint: Use if/elif to deal with conditions."
   ]
  },
  {
   "cell_type": "code",
   "execution_count": 31,
   "id": "6934ca1d",
   "metadata": {},
   "outputs": [
    {
     "name": "stdout",
     "output_type": "stream",
     "text": [
      "Enter the element need to search: 8\n",
      "8 is present in given list at position 8\n"
     ]
    }
   ],
   "source": [
    "xyz_data = ['1', '2', '3', '4', '5', '6', '7', '8', '9']\n",
    "element = input(\"Enter the element need to search: \")\n",
    "\n",
    "\n",
    "if element in xyz_data:\n",
    "    print(element,'is present in given list at position', xyz_data.index(element)+1)\n",
    "else:\n",
    "    print(element, 'is not present in given list')"
   ]
  },
  {
   "cell_type": "markdown",
   "id": "16c67bf7",
   "metadata": {},
   "source": [
    "# 3. Weather forecasting organization wants to show is it day or night. So, write a program for such organization to find whether is it dark outside or not.\n",
    "Hint: Use time module."
   ]
  },
  {
   "cell_type": "code",
   "execution_count": 39,
   "id": "2fbf3abc",
   "metadata": {},
   "outputs": [
    {
     "name": "stdout",
     "output_type": "stream",
     "text": [
      "It is Light outside right now\n"
     ]
    }
   ],
   "source": [
    "import time\n",
    "\n",
    "def check_day_night(hour):\n",
    "    if (5 <= hour <= 18):\n",
    "        return 'Light'\n",
    "    else:\n",
    "        return 'Dark'\n",
    "\n",
    "current_time_hour = time.localtime().tm_hour\n",
    "#print(current_time_hour)\n",
    "\n",
    "print('It is', check_day_night(current_time_hour), 'outside right now')\n",
    "\n"
   ]
  },
  {
   "cell_type": "markdown",
   "id": "890bec8f",
   "metadata": {},
   "source": [
    "# 4. Write a program to find distance between two locations when their latitude and longitudes are given.\n",
    "Hint: Use math module."
   ]
  },
  {
   "cell_type": "code",
   "execution_count": 43,
   "id": "c7b90552",
   "metadata": {},
   "outputs": [
    {
     "name": "stdout",
     "output_type": "stream",
     "text": [
      "Input coordinates of two locations:\n",
      "Latitude of first location: 45\n",
      "Longitude of first location: 67\n",
      "Latitude of 2nd location: 234\n",
      "Longitude of 2nd location: 78\n",
      "The distance is 367.42km.\n"
     ]
    }
   ],
   "source": [
    "from math import radians, sin, cos, acos, asin,sqrt\n",
    "\n",
    "def distance(lat1, lat2, lon1, lon2):\n",
    "     \n",
    "    lon1 = radians(lon1)\n",
    "    lon2 = radians(lon2)\n",
    "    lat1 = radians(lat1)\n",
    "    lat2 = radians(lat2)\n",
    "      \n",
    "    diff_lon = lon2 - lon1\n",
    "    diff_lat = lat2 - lat1\n",
    "    \n",
    "    earth_radius = 6371\n",
    "    \n",
    "    distance = (2 * asin(sqrt(sin(diff_lat / 2)**2 + cos(lat1) * cos(lat2) * sin(diff_lon / 2)**2)) * earth_radius)\n",
    "\n",
    "    return distance\n",
    "\n",
    "print(\"Input coordinates of two locations:\")\n",
    "latitude1 = radians(float(input(\"Latitude of first location: \")))\n",
    "longitude1 = radians(float(input(\"Longitude of first location: \")))\n",
    "latitude2 = radians(float(input(\"Latitude of 2nd location: \")))\n",
    "longitude2 = radians(float(input(\"Longitude of 2nd location: \")))\n",
    "\n",
    "print(\"The distance is %.2fkm.\" % distance(latitude1, latitude2, longitude1, longitude2))\n"
   ]
  },
  {
   "cell_type": "markdown",
   "id": "202cfb7b",
   "metadata": {},
   "source": [
    "# 5. Design a software for bank system. There should be options like cash withdraw, cash credit and change password. According to user input, the software should provide required output.\n",
    "Hint: Use if else statements and functions."
   ]
  },
  {
   "cell_type": "code",
   "execution_count": 54,
   "id": "574c1c2e",
   "metadata": {},
   "outputs": [
    {
     "name": "stdout",
     "output_type": "stream",
     "text": [
      "Please select from below options to start with the banking transaction\n",
      "1. Case withdrawal\n",
      "2. Cash credit\n",
      "3. Change password\n",
      "Please enter your option: 3\n",
      "Please enter the old password: newpass\n",
      "Please enter the new password: newpass1\n",
      "Password changed successfully\n"
     ]
    }
   ],
   "source": [
    "def withdraw():\n",
    "    balance = 1000\n",
    "    amount = int(input('Please enter the amount you want to withdraw: '))\n",
    "    print('The transaction is successfull and available balance in your account now is', balance-amount)\n",
    "    \n",
    "def credit():\n",
    "    balance = 1000\n",
    "    amount = int(input('Please enter the amount you want to credit to your account: '))\n",
    "    print('The transaction is successfull and available balance in your account now is', balance+amount)\n",
    "    \n",
    "def passwordchange():\n",
    "    oldpass='newpass'\n",
    "    newpass = input('Please enter the old password: ')\n",
    "    if oldpass == newpass:\n",
    "        input('Please enter the new password: ')\n",
    "        print('Password changed successfully')\n",
    "    else:\n",
    "        print('The password in invalid. Please start again and try with the correct password')\n",
    "        \n",
    "print('Please select from below options to start with the banking transaction')\n",
    "print('1. Case withdrawal\\n2. Cash credit\\n3. Change password')\n",
    "option = int(input('Please enter your option: '))\n",
    "\n",
    "if option == 1:\n",
    "    withdraw()\n",
    "elif option == 2:\n",
    "    credit()\n",
    "elif option == 3:\n",
    "    passwordchange()\n",
    "else:\n",
    "    print('Please enter a valid option from the above')\n",
    "    "
   ]
  },
  {
   "cell_type": "markdown",
   "id": "9df49ecc",
   "metadata": {},
   "source": [
    "# 6. Write a program which will find all such numbers which are divisible by 7 but are not a multiple of 5, between 2000 and 3200 (both included). The numbers obtained should be printed in a comma-separated sequence on a single line."
   ]
  },
  {
   "cell_type": "code",
   "execution_count": 58,
   "id": "a8dfe411",
   "metadata": {},
   "outputs": [
    {
     "name": "stdout",
     "output_type": "stream",
     "text": [
      "[2002, 2009, 2016, 2023, 2037, 2044, 2051, 2058, 2072, 2079, 2086, 2093, 2107, 2114, 2121, 2128, 2142, 2149, 2156, 2163, 2177, 2184, 2191, 2198, 2212, 2219, 2226, 2233, 2247, 2254, 2261, 2268, 2282, 2289, 2296, 2303, 2317, 2324, 2331, 2338, 2352, 2359, 2366, 2373, 2387, 2394, 2401, 2408, 2422, 2429, 2436, 2443, 2457, 2464, 2471, 2478, 2492, 2499, 2506, 2513, 2527, 2534, 2541, 2548, 2562, 2569, 2576, 2583, 2597, 2604, 2611, 2618, 2632, 2639, 2646, 2653, 2667, 2674, 2681, 2688, 2702, 2709, 2716, 2723, 2737, 2744, 2751, 2758, 2772, 2779, 2786, 2793, 2807, 2814, 2821, 2828, 2842, 2849, 2856, 2863, 2877, 2884, 2891, 2898, 2912, 2919, 2926, 2933, 2947, 2954, 2961, 2968, 2982, 2989, 2996, 3003, 3017, 3024, 3031, 3038, 3052, 3059, 3066, 3073, 3087, 3094, 3101, 3108, 3122, 3129, 3136, 3143, 3157, 3164, 3171, 3178, 3192, 3199]\n"
     ]
    }
   ],
   "source": [
    "out_list=[]\n",
    "\n",
    "for i in range(2000,3201):\n",
    "    if i%7 == 0 and i%5 !=0:\n",
    "        out_list.append(i)\n",
    "print(out_list)"
   ]
  },
  {
   "cell_type": "markdown",
   "id": "deba394a",
   "metadata": {},
   "source": [
    "# 7. Write a program which can compute the factorial of a given numbers. Use recursion to find it.\n",
    "    Hint: Suppose the following input is supplied to the program:\n",
    "    8\n",
    "    Then, the output should be:\n",
    "    40320"
   ]
  },
  {
   "cell_type": "code",
   "execution_count": 81,
   "id": "135c304a",
   "metadata": {},
   "outputs": [
    {
     "name": "stdout",
     "output_type": "stream",
     "text": [
      "Please enter the number you want to compute fatorial: 5\n",
      "The factorial of 5 is 120\n"
     ]
    }
   ],
   "source": [
    "number = int(input('Please enter the number you want to compute fatorial: '))\n",
    "             \n",
    "def factorial(num):\n",
    "    output = 1\n",
    "    for i in range(1,num+1):\n",
    "        output = output*i\n",
    "    return output\n",
    "            \n",
    "print('The factorial of',number,'is', factorial(number))"
   ]
  },
  {
   "cell_type": "markdown",
   "id": "b6ed2530",
   "metadata": {},
   "source": [
    "# 8. Write a program that calculates and prints the value according to the given formula:\n",
    "    Q = Square root of [(2 * C * D)/H]\n",
    "    Following are the fixed values of C and H: C is 50. H is 30.\n",
    "    D is the variable whose values should be input to your program in a comma- separated sequence.\n",
    "    Example:\n",
    "    Let us assume the following comma separated input sequence is given to the program:\n",
    "    100,150,180\n",
    "    The output of the program should be:\n",
    "    18,22,24"
   ]
  },
  {
   "cell_type": "code",
   "execution_count": 102,
   "id": "b579efd4",
   "metadata": {},
   "outputs": [
    {
     "name": "stdout",
     "output_type": "stream",
     "text": [
      "Please enter the comma separated input sequence: 100,150,180\n",
      "[18, 22, 24]\n"
     ]
    }
   ],
   "source": [
    "from math import sqrt\n",
    "input_list = input('Please enter the comma separated input sequence: ')\n",
    "input_lists = input_list.split(\",\")\n",
    "\n",
    "def calculate(d):\n",
    "    c = 50\n",
    "    h =30\n",
    "    q = round(sqrt((2 * c * d)/h))\n",
    "    return q\n",
    "\n",
    "out = []\n",
    "\n",
    "for i in input_lists:\n",
    "    #print(str(i))\n",
    "    out.append(calculate(int(str(i))))\n",
    "    #out=out+','+calculate(int(str(i)))\n",
    "    \n",
    "print(out)\n",
    "\n"
   ]
  },
  {
   "cell_type": "markdown",
   "id": "909ba19d",
   "metadata": {},
   "source": [
    "# 9. Write a program which takes 2 digits, X,Y as input and generates a 2-dimensional array. The element value in the i-th row and j-th column of the array should be i*j.\n",
    "    Note: i=0,1.., X-1; j=0,1,¡Y-1.\n",
    "    Example:\n",
    "    Suppose the following inputs are given to the program:\n",
    "    3,5\n",
    "    Then, the output of the program should be:\n",
    "    [[0, 0, 0, 0, 0], [0, 1, 2, 3, 4], [0, 2, 4, 6, 8]]"
   ]
  },
  {
   "cell_type": "code",
   "execution_count": 122,
   "id": "f421b947",
   "metadata": {},
   "outputs": [
    {
     "name": "stdout",
     "output_type": "stream",
     "text": [
      "Please enter two digits: 3,6\n",
      "The output of the program is: \n",
      " [[0, 0, 0, 0, 0, 0], [0, 1, 2, 3, 4, 5], [0, 2, 4, 6, 8, 10]]\n"
     ]
    }
   ],
   "source": [
    "input_digits=input('Please enter two digits: ')\n",
    "x = int(input_digits.split(',')[0])\n",
    "y= int(input_digits.split(',')[1])\n",
    "out=[]\n",
    "for i in range(x):\n",
    "    out1 = []\n",
    "    for j  in range(y):\n",
    "        out1.append(i*j)\n",
    "    #print(out1)\n",
    "    out.append(out1)\n",
    "print('The output of the program is: \\n', out)"
   ]
  },
  {
   "cell_type": "markdown",
   "id": "fab08e0e",
   "metadata": {},
   "source": [
    "# 10. Write a program that accepts a comma separated sequence of words as input and prints the words in a comma-separated sequence after sorting them alphabetically.\n",
    "    Suppose the following input is supplied to the program:\n",
    "    without,hello,bag,world\n",
    "    Then, the output should be:\n",
    "    bag,hello,without,world"
   ]
  },
  {
   "cell_type": "code",
   "execution_count": 130,
   "id": "082fdfeb",
   "metadata": {},
   "outputs": [
    {
     "name": "stdout",
     "output_type": "stream",
     "text": [
      "Input comma separated sequence of words: without,hello,bag,world\n",
      "Sorted list of words:\n",
      "bag,hello,without,world\n"
     ]
    }
   ],
   "source": [
    "input_items = input(\"Input comma separated sequence of words: \")\n",
    "item_list = input_items.split(\",\")\n",
    "#print(item_list)\n",
    "print('Sorted list of words:')\n",
    "print(\",\".join(sorted(list(set(item_list)))))"
   ]
  },
  {
   "cell_type": "markdown",
   "id": "a087ad32",
   "metadata": {},
   "source": [
    "# 11. Write a program that accepts sequence of lines as input and prints the lines after making all characters in the sentence capitalized.\n",
    "    Suppose the following input is supplied to the program:\n",
    "    Hello world\n",
    "    Practice makes perfect\n",
    "    Then, the output should be:\n",
    "    HELLO WORLD\n",
    "    PRACTICE MAKES PERFECT"
   ]
  },
  {
   "cell_type": "code",
   "execution_count": 140,
   "id": "64e4dfd4",
   "metadata": {},
   "outputs": [
    {
     "name": "stdout",
     "output_type": "stream",
     "text": [
      "Input the sentence in multiple lines: \n",
      "qwwq\n",
      "wqw\n",
      "qw\n",
      "\n",
      "QWWQ\n",
      "WQW\n",
      "QW\n"
     ]
    }
   ],
   "source": [
    "lines = []\n",
    "print('Input the sentence in multiple lines: ')\n",
    "while True:\n",
    "    line = input()\n",
    "    if line:\n",
    "        lines.append(line.upper())\n",
    "    else:\n",
    "        break;\n",
    "\n",
    "for line in lines:\n",
    "    print(line)"
   ]
  },
  {
   "cell_type": "markdown",
   "id": "3c56f3c9",
   "metadata": {},
   "source": [
    "# 12. Write a program that accepts a sequence of whitespace separated words as input and prints the words after removing all duplicate words and sorting them alphanumerically.\n",
    "    Suppose the following input is supplied to the program:\n",
    "    hello world and practice makes perfect and hello world again\n",
    "    Then, the output should be:\n",
    "    again and hello makes perfect practice world"
   ]
  },
  {
   "cell_type": "code",
   "execution_count": 147,
   "id": "bd7f30ea",
   "metadata": {},
   "outputs": [
    {
     "name": "stdout",
     "output_type": "stream",
     "text": [
      "Enter the sentence: hello world and practice makes perfect and hello world again\n",
      "Sorted words after removing the duplicates:\n",
      "again and hello makes perfect practice world\n"
     ]
    }
   ],
   "source": [
    "input_sent= input('Enter the sentence: ')\n",
    "words= [ word for word in input_sent.split(' ')]\n",
    "print('Sorted words after removing the duplicates:')\n",
    "print(\" \".join(sorted(list(set(words)))))"
   ]
  },
  {
   "cell_type": "markdown",
   "id": "dd44f674",
   "metadata": {},
   "source": [
    "# 13. Write a program which accepts a sequence of comma separated 4 digit binary numbers as its input and then check whether they are divisible by 5 or not. The numbers that are divisible by 5 are to be printed in a comma separated sequence.\n",
    "    Example:\n",
    "    0100,0011,1010,1001\n",
    "    Then the output should be:\n",
    "    1010"
   ]
  },
  {
   "cell_type": "code",
   "execution_count": 155,
   "id": "72cb5b8a",
   "metadata": {},
   "outputs": [
    {
     "name": "stdout",
     "output_type": "stream",
     "text": [
      "Enter the sequence of comma separated 4 digit binary numbers: 0100,0011,1010,1001\n",
      "Divisible by 5 are:\n",
      "1010\n"
     ]
    }
   ],
   "source": [
    "items = []\n",
    "input_numbers = input('Enter the sequence of comma separated 4 digit binary numbers: ' )\n",
    "num = [x for x in input_numbers.split(',')]\n",
    "for p in num:\n",
    "    x = int(p,2)\n",
    "    #print(x)\n",
    "    if not x%5:\n",
    "        items.append(p)\n",
    "print(\"Divisible by 5 are:\")\n",
    "print(','.join(items))"
   ]
  },
  {
   "cell_type": "markdown",
   "id": "71ae8f4d",
   "metadata": {},
   "source": [
    "# 14. Write a program that accepts a sentence and calculate the number of upper case letters and lower case letters.\n",
    "    Suppose the following input is supplied to the program:\n",
    "    Hello world!\n",
    "    Then, the output should be:\n",
    "    UPPER CASE 1\n",
    "    LOWER CASE 9"
   ]
  },
  {
   "cell_type": "code",
   "execution_count": 158,
   "id": "1ce0e14a",
   "metadata": {},
   "outputs": [
    {
     "name": "stdout",
     "output_type": "stream",
     "text": [
      "Enter the string: Hello World!\n",
      "UPPER CASE  2\n",
      "LOWER CASE  8\n"
     ]
    }
   ],
   "source": [
    "input_string = input('Enter the string: ')\n",
    "upper = 0\n",
    "lower = 0\n",
    "for c in input_string:\n",
    "    if c.isupper():\n",
    "        upper+=1\n",
    "    elif c.islower():\n",
    "        lower+=1\n",
    "    else:\n",
    "        pass\n",
    "print (\"UPPER CASE \", upper)\n",
    "print (\"LOWER CASE \", lower)"
   ]
  },
  {
   "cell_type": "markdown",
   "id": "6ba4edad",
   "metadata": {},
   "source": [
    "# 15. Give example of fsum and sum function of math library."
   ]
  },
  {
   "cell_type": "code",
   "execution_count": 14,
   "id": "aa2d1195",
   "metadata": {},
   "outputs": [
    {
     "name": "stdout",
     "output_type": "stream",
     "text": [
      "Sum without start: 45\n",
      "Sum with start: 55\n",
      "Sum of list: [1, 2, 3]\n",
      "fsum of range: 45.0\n",
      "fsum of integer list: 11.0\n",
      "fsum of floating point: 7.99\n"
     ]
    }
   ],
   "source": [
    "from math import  fsum\n",
    "#Example of sum\n",
    "\n",
    "#start = 10\n",
    "print('Sum without start:', sum(range(10)))\n",
    "print('Sum with start:', sum(range(10),10))\n",
    "print('Sum of list:', sum(([1], [2,3]), []))\n",
    "#Example of fsum\n",
    "\n",
    "print('fsum of range:', fsum(range(10)))\n",
    "\n",
    "arr = [1, 4, 6]\n",
    "print('fsum of integer list:', fsum(arr))\n",
    "\n",
    "arr = [2.5, 2.4, 3.09]\n",
    "print('fsum of floating point:', fsum(arr))"
   ]
  },
  {
   "cell_type": "code",
   "execution_count": null,
   "id": "a77a8094",
   "metadata": {},
   "outputs": [],
   "source": []
  }
 ],
 "metadata": {
  "kernelspec": {
   "display_name": "Python 3",
   "language": "python",
   "name": "python3"
  },
  "language_info": {
   "codemirror_mode": {
    "name": "ipython",
    "version": 3
   },
   "file_extension": ".py",
   "mimetype": "text/x-python",
   "name": "python",
   "nbconvert_exporter": "python",
   "pygments_lexer": "ipython3",
   "version": "3.8.8"
  }
 },
 "nbformat": 4,
 "nbformat_minor": 5
}

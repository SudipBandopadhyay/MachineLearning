{
 "cells": [
  {
   "cell_type": "markdown",
   "id": "b446f33c",
   "metadata": {},
   "source": [
    "# Domain – Banking Marketing\n",
    "    focus – Optimization\n",
    "    \n",
    "    Business challenge/requirement\n",
    "    Bank of Portugal runs marketing campaign to offer loans to clients. Loan is offered to only clients with particular professions. List of successful campaigns (with client data) is given in attached dataset. You have to come up with program which reads the file and builds a set of unique profession list and given input profession of client – system tells whether client is eligible to be approached for marketing campaign.\n",
    "    \n",
    "    Key issues\n",
    "    Tele Caller can only make x number of cold calls in a day. Hence to increase her effectiveness only eligible customers should be called\n",
    "    \n",
    "    Considerations\n",
    "    Current system does not differentiate clients based on age and profession\n",
    "    \n",
    "    Data volume\n",
    "    447 records in bank-data.csv\n",
    "    \n",
    "    Additional information\n",
    "    - NA\n",
    "    \n",
    "    Business benefits\n",
    "    Company can achieve between 15% to 20% higher conversion by targeting right clients\n",
    "    \n",
    "    Approach to Solve\n",
    "    You have to use fundamentals of Python taught in module 2\n",
    "    1. Read file bank-data.csv\n",
    "    2. Build a set of unique jobs\n",
    "    3. Read the input from command line –profession\n",
    "    4. Check if profession is in list\n",
    "    5. Print whether client is eligible"
   ]
  },
  {
   "cell_type": "markdown",
   "id": "0f0d88a3",
   "metadata": {},
   "source": [
    "# Enhancements made in code\n",
    "1. Computed max and min age for loan eligibility based on data in csv file\n",
    "2. Stored max and min age in dictionary and printed the same\n",
    "3. Made the profession check case insensitive\n",
    "4. Currently program ends after the check. Taken the input in while loop and end only if user types \"END\" for profession. That too is case insensitive. Even if user does not enter anything, the program will show appropriate error message and ask again for input"
   ]
  },
  {
   "cell_type": "code",
   "execution_count": 34,
   "id": "802205cf",
   "metadata": {},
   "outputs": [
    {
     "name": "stdout",
     "output_type": "stream",
     "text": [
      "Please enter the profession or enter 'END' if you want stop checking: \n",
      "Profession can not be blank\n",
      "Please enter the profession or enter 'END' if you want stop checking: technitian\n",
      "Sorry!! The Client is not eligible\n",
      "Please enter the profession or enter 'END' if you want stop checking: admin.\n",
      "Successful!! The Client is eligible\n",
      "Please enter the profession or enter 'END' if you want stop checking: end\n"
     ]
    }
   ],
   "source": [
    "import pandas as pd\n",
    "\n",
    "data = pd.read_csv('bank-data.csv')\n",
    "jobs = list(set(data.job))\n",
    "\n",
    "def check_profession():\n",
    "    profession = input(\"Please enter the profession or enter 'END' if you want stop checking: \")\n",
    "    while profession.upper() == 'END':\n",
    "        break\n",
    "    else:\n",
    "        if profession.lower():\n",
    "            if profession.lower() in jobs:\n",
    "                print('Successful!! The Client is eligible')\n",
    "                check_profession()\n",
    "            else:\n",
    "                print('Sorry!! The Client is not eligible')\n",
    "                check_profession()\n",
    "        else:\n",
    "            print('Profession can not be blank')\n",
    "            check_profession()\n",
    "            \n",
    "check_profession()\n"
   ]
  },
  {
   "cell_type": "code",
   "execution_count": 23,
   "id": "6160d675",
   "metadata": {},
   "outputs": [
    {
     "name": "stdout",
     "output_type": "stream",
     "text": [
      "{'MinAge': 19, 'MaxAge': 80}\n"
     ]
    }
   ],
   "source": [
    "min_age = data[data.y == 'yes'].age.min()\n",
    "max_age = data[data.y == 'yes'].age.max()\n",
    "min_max_age = {'MinAge': min_age, 'MaxAge': max_age}\n",
    "print(min_max_age)"
   ]
  },
  {
   "cell_type": "code",
   "execution_count": null,
   "id": "1dd17403",
   "metadata": {},
   "outputs": [],
   "source": []
  }
 ],
 "metadata": {
  "kernelspec": {
   "display_name": "Python 3",
   "language": "python",
   "name": "python3"
  },
  "language_info": {
   "codemirror_mode": {
    "name": "ipython",
    "version": 3
   },
   "file_extension": ".py",
   "mimetype": "text/x-python",
   "name": "python",
   "nbconvert_exporter": "python",
   "pygments_lexer": "ipython3",
   "version": "3.8.8"
  }
 },
 "nbformat": 4,
 "nbformat_minor": 5
}

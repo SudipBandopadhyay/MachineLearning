{
 "cells": [
  {
   "cell_type": "markdown",
   "id": "db3dec8f",
   "metadata": {},
   "source": [
    "# Case Study III\n",
    "    Domain – E-Commerce\n",
    "    \n",
    "    focus – Optimization\n",
    "    \n",
    "    Business challenge/requirement    \n",
    "    GoodsKart—largest ecommerce company of Indonesia with revenue of $2B+ acquired another ecommerce company FairDeal. FairDeal has its own IT system to maintain records of customer, sales etc. For ease of maintenance and cost savings GoodsKart is integrating customer databases of both the organizations hence customer data of FairDeal has to be converted in GoodsKart Customer Format.\n",
    "    \n",
    "    Key issues\n",
    "    GoodsKart customer data has more fields than in FairDeal customer data. Hence FairDeal data needs to be split and stored in GoodsKart Customer Object Oriented Data Structure\n",
    "    \n",
    "    Considerations\n",
    "    System should convert the data at run time\n",
    "    \n",
    "    Data volume\n",
    "    - NA\n",
    "    \n",
    "    Additional information\n",
    "    - NA\n",
    "    \n",
    "    Business benefits\n",
    "    GoodsKart can eventually sunset IT systems of FairDeal and reduce IT cost by 20-30%\n",
    "    \n",
    "    Approach to Solve\n",
    "    You have to use fundamentals of Python taught in module 2\n",
    "    1. Read FairDealCustomerData.csv\n",
    "    2. Name field contains full name – use regular expression to separate title, first name, last name\n",
    "    3. Store the data in Customer Class\n",
    "    4. Create Custom Exception – CustomerNotAllowedException\n",
    "    5. Pass a customer to function \"createOrder\" and throw CustomerNotAllowedException in case of blacklisted value is 1"
   ]
  },
  {
   "cell_type": "code",
   "execution_count": 189,
   "id": "6100e9f1",
   "metadata": {},
   "outputs": [
    {
     "name": "stdout",
     "output_type": "stream",
     "text": [
      "Please enter the full name of the Employee: Mr. Owen Harris Braund\n",
      "Mr. Owen Harris Braund\n",
      "Employee is not Allowed to create an order\n"
     ]
    }
   ],
   "source": [
    "import pandas as pd\n",
    "\n",
    "class CustomError(Exception):\n",
    "    pass\n",
    "\n",
    "class CustomerNotAllowedException(CustomError):\n",
    "    \"\"\"Raised when customer is not allowed\"\"\"\n",
    "    pass\n",
    "\n",
    "class CustomerNotValid(CustomError):\n",
    "    \"\"\"Raised when customer is not valid\"\"\"\n",
    "    pass\n",
    "\n",
    "\n",
    "class Customer:\n",
    "    def __init__(self):\n",
    "        df = pd.read_csv('FairDealCustomerData.csv', header=None)\n",
    "        df.columns = ('LastName','Name','Blacklisted')\n",
    "        df.LastName=df['LastName'].str.strip()\n",
    "        df1  = df.Name.str.split(' ', 2, expand=True)\n",
    "        df1.drop(0, axis=1, inplace=True)\n",
    "        df1.columns = ['Title','FirstName']\n",
    "        df1['FirstName'] = df1['FirstName'].str.strip()\n",
    "        df = df.join(df1)\n",
    "        #print(df)Blacklisted\n",
    "        self.df=df\n",
    "    def createOrder(self,title,firstname,lastname):\n",
    "        try:\n",
    "            df=self.df\n",
    "            #print(title, firstname, lastname)\n",
    "            #df1=df[(df.FirstName == firstname) & (df['LastName']==lastname) & (df.Blacklisted != 1)]\n",
    "            df1 = df[(df.FirstName == firstname) & (df['LastName']==lastname) & (df.Title == title)]\n",
    "            if df1.shape[0]>0:\n",
    "                #print(\"Employee is Found\")\n",
    "                if df1[df1.Blacklisted != 1].shape[0]>0:\n",
    "                    print('Employee is Eligible')\n",
    "                else:\n",
    "                    raise CustomerNotAllowedException\n",
    "            else:\n",
    "                raise CustomerNotValid\n",
    "                print(\"Employee is not Eligible\")\n",
    "            print('Name',firstname,lastname)\n",
    "        \n",
    "        except CustomerNotAllowedException:\n",
    "            print(\"Employee is not Allowed to create an order\")\n",
    "        \n",
    "        except CustomerNotValid:\n",
    "            print(\"Not a Valid Customer\")\n",
    "            \n",
    "createorderinput = input('Please enter the full name of the Employee: ')\n",
    "\n",
    "customer=Customer()        \n",
    "customer.createOrder(createorderinput.split(' ')[0].strip(),\n",
    "                     createorderinput.split('.')[1].rpartition(\" \")[0].strip(),\n",
    "                    createorderinput.split(' ')[-1].strip())"
   ]
  },
  {
   "cell_type": "code",
   "execution_count": null,
   "id": "72451746",
   "metadata": {},
   "outputs": [],
   "source": []
  },
  {
   "cell_type": "code",
   "execution_count": null,
   "id": "7244c279",
   "metadata": {},
   "outputs": [],
   "source": []
  },
  {
   "cell_type": "code",
   "execution_count": null,
   "id": "b35386f9",
   "metadata": {},
   "outputs": [],
   "source": []
  }
 ],
 "metadata": {
  "kernelspec": {
   "display_name": "Python 3",
   "language": "python",
   "name": "python3"
  },
  "language_info": {
   "codemirror_mode": {
    "name": "ipython",
    "version": 3
   },
   "file_extension": ".py",
   "mimetype": "text/x-python",
   "name": "python",
   "nbconvert_exporter": "python",
   "pygments_lexer": "ipython3",
   "version": "3.8.8"
  }
 },
 "nbformat": 4,
 "nbformat_minor": 5
}

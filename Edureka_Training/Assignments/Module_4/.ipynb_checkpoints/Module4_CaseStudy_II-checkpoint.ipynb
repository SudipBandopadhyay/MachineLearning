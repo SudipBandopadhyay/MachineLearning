{
 "cells": [
  {
   "cell_type": "code",
   "execution_count": null,
   "id": "a004409a",
   "metadata": {},
   "outputs": [],
   "source": []
  },
  {
   "cell_type": "code",
   "execution_count": 43,
   "id": "ad48c78b",
   "metadata": {},
   "outputs": [],
   "source": [
    "import pandas as pd\n",
    "from sklearn.preprocessing import LabelEncoder"
   ]
  },
  {
   "cell_type": "code",
   "execution_count": 38,
   "id": "440f8634",
   "metadata": {},
   "outputs": [
    {
     "name": "stdout",
     "output_type": "stream",
     "text": [
      "             Name  Score  Age         Ethinicity Subject Sex  ID\n",
      "0  AI-KYUNG CHUNG   88.0   18     White American   Maths   M   1\n",
      "1     ALAN HARVEY   85.0   19  European American   Maths   M   2\n",
      "2    ALAN REYNAUD   45.0   19  European American   Maths   M   3\n",
      "3  ALBERT CENDANA   82.0   18     White American   Maths   M   4\n",
      "4  ALBERT HOLT JR   82.0   18     White American   Maths   F   5\n"
     ]
    },
    {
     "data": {
      "text/plain": [
       "Score      False\n",
       "Age        False\n",
       "Subject    False\n",
       "Sex        False\n",
       "ID         False\n",
       "dtype: bool"
      ]
     },
     "execution_count": 38,
     "metadata": {},
     "output_type": "execute_result"
    }
   ],
   "source": [
    "df_math=pd.read_csv('MathScoreTerm1.csv')\n",
    "print(df_math.head())\n",
    "\n",
    "df_math.drop(['Name','Ethinicity'], axis=1, inplace=True)\n",
    "\n",
    "#Filling NaN values with Zero\n",
    "df_math.Score=df_math.Score.fillna(0)\n",
    "\n",
    "#Filling NaN values with Avarage\n",
    "#df_math.Score=df_math.Score.fillna(df_math.Score.mean)\n",
    "\n",
    "df_math.isnull().any()"
   ]
  },
  {
   "cell_type": "code",
   "execution_count": 39,
   "id": "06da56a1",
   "metadata": {},
   "outputs": [
    {
     "data": {
      "text/plain": [
       "Score      False\n",
       "Age        False\n",
       "Subject    False\n",
       "Sex        False\n",
       "ID         False\n",
       "dtype: bool"
      ]
     },
     "execution_count": 39,
     "metadata": {},
     "output_type": "execute_result"
    }
   ],
   "source": [
    "df_ds = pd.read_csv('DSScoreTerm1.csv')\n",
    "\n",
    "df_ds.drop(['Name','Ethinicity'], axis=1, inplace=True)\n",
    "\n",
    "#Filling NaN values with Zero\n",
    "df_ds.Score=df_ds.Score.fillna(0)\n",
    "\n",
    "#Filling NaN values with Avarage\n",
    "#df_ds.Score=df_ds.Score.fillna(df_ds.Score.mean)\n",
    "\n",
    "df_ds.isnull().any()"
   ]
  },
  {
   "cell_type": "code",
   "execution_count": 40,
   "id": "84471bb1",
   "metadata": {},
   "outputs": [
    {
     "data": {
      "text/plain": [
       "Score      False\n",
       "Age        False\n",
       "Subject    False\n",
       "Sex        False\n",
       "ID         False\n",
       "dtype: bool"
      ]
     },
     "execution_count": 40,
     "metadata": {},
     "output_type": "execute_result"
    }
   ],
   "source": [
    "df_phy = pd.read_csv('PhysicsScoreTerm1.csv')\n",
    "\n",
    "df_phy.drop(['Name','Ethinicity'], axis=1, inplace=True)\n",
    "\n",
    "#Filling NaN values with Zero\n",
    "df_phy.Score=df_phy.Score.fillna(0)\n",
    "\n",
    "#Filling NaN values with Avarage\n",
    "#df_phy.Score=df_phy.Score.fillna(df_phy.Score.mean)\n",
    "\n",
    "df_phy.isnull().any()"
   ]
  },
  {
   "cell_type": "code",
   "execution_count": 41,
   "id": "f1debc7f",
   "metadata": {},
   "outputs": [
    {
     "data": {
      "text/plain": [
       "(1797, 5)"
      ]
     },
     "execution_count": 41,
     "metadata": {},
     "output_type": "execute_result"
    }
   ],
   "source": [
    "df_final = df_ds.append(df_math).append(df_phy)\n",
    "df_final.shape"
   ]
  },
  {
   "cell_type": "code",
   "execution_count": 44,
   "id": "545e8941",
   "metadata": {},
   "outputs": [],
   "source": [
    "df_final[\"Sex\"] = [1 if sex == \"M\" else 2 for sex in df_final[\"Sex\"]]"
   ]
  },
  {
   "cell_type": "code",
   "execution_count": 45,
   "id": "31e9cd89",
   "metadata": {},
   "outputs": [
    {
     "data": {
      "text/html": [
       "<div>\n",
       "<style scoped>\n",
       "    .dataframe tbody tr th:only-of-type {\n",
       "        vertical-align: middle;\n",
       "    }\n",
       "\n",
       "    .dataframe tbody tr th {\n",
       "        vertical-align: top;\n",
       "    }\n",
       "\n",
       "    .dataframe thead th {\n",
       "        text-align: right;\n",
       "    }\n",
       "</style>\n",
       "<table border=\"1\" class=\"dataframe\">\n",
       "  <thead>\n",
       "    <tr style=\"text-align: right;\">\n",
       "      <th></th>\n",
       "      <th>Score</th>\n",
       "      <th>Age</th>\n",
       "      <th>Subject</th>\n",
       "      <th>Sex</th>\n",
       "      <th>ID</th>\n",
       "    </tr>\n",
       "  </thead>\n",
       "  <tbody>\n",
       "    <tr>\n",
       "      <th>0</th>\n",
       "      <td>82.0</td>\n",
       "      <td>18</td>\n",
       "      <td>Data Structue</td>\n",
       "      <td>1</td>\n",
       "      <td>1</td>\n",
       "    </tr>\n",
       "    <tr>\n",
       "      <th>1</th>\n",
       "      <td>79.0</td>\n",
       "      <td>19</td>\n",
       "      <td>Data Structue</td>\n",
       "      <td>1</td>\n",
       "      <td>2</td>\n",
       "    </tr>\n",
       "    <tr>\n",
       "      <th>2</th>\n",
       "      <td>39.0</td>\n",
       "      <td>19</td>\n",
       "      <td>Data Structue</td>\n",
       "      <td>1</td>\n",
       "      <td>3</td>\n",
       "    </tr>\n",
       "    <tr>\n",
       "      <th>3</th>\n",
       "      <td>76.0</td>\n",
       "      <td>18</td>\n",
       "      <td>Data Structue</td>\n",
       "      <td>1</td>\n",
       "      <td>4</td>\n",
       "    </tr>\n",
       "    <tr>\n",
       "      <th>4</th>\n",
       "      <td>76.0</td>\n",
       "      <td>18</td>\n",
       "      <td>Data Structue</td>\n",
       "      <td>2</td>\n",
       "      <td>5</td>\n",
       "    </tr>\n",
       "    <tr>\n",
       "      <th>...</th>\n",
       "      <td>...</td>\n",
       "      <td>...</td>\n",
       "      <td>...</td>\n",
       "      <td>...</td>\n",
       "      <td>...</td>\n",
       "    </tr>\n",
       "    <tr>\n",
       "      <th>594</th>\n",
       "      <td>41.0</td>\n",
       "      <td>19</td>\n",
       "      <td>Physics</td>\n",
       "      <td>2</td>\n",
       "      <td>595</td>\n",
       "    </tr>\n",
       "    <tr>\n",
       "      <th>595</th>\n",
       "      <td>71.0</td>\n",
       "      <td>18</td>\n",
       "      <td>Physics</td>\n",
       "      <td>1</td>\n",
       "      <td>596</td>\n",
       "    </tr>\n",
       "    <tr>\n",
       "      <th>596</th>\n",
       "      <td>49.0</td>\n",
       "      <td>20</td>\n",
       "      <td>Physics</td>\n",
       "      <td>1</td>\n",
       "      <td>597</td>\n",
       "    </tr>\n",
       "    <tr>\n",
       "      <th>597</th>\n",
       "      <td>71.0</td>\n",
       "      <td>20</td>\n",
       "      <td>Physics</td>\n",
       "      <td>1</td>\n",
       "      <td>598</td>\n",
       "    </tr>\n",
       "    <tr>\n",
       "      <th>598</th>\n",
       "      <td>69.0</td>\n",
       "      <td>19</td>\n",
       "      <td>Physics</td>\n",
       "      <td>1</td>\n",
       "      <td>599</td>\n",
       "    </tr>\n",
       "  </tbody>\n",
       "</table>\n",
       "<p>1797 rows × 5 columns</p>\n",
       "</div>"
      ],
      "text/plain": [
       "     Score  Age        Subject  Sex   ID\n",
       "0     82.0   18  Data Structue    1    1\n",
       "1     79.0   19  Data Structue    1    2\n",
       "2     39.0   19  Data Structue    1    3\n",
       "3     76.0   18  Data Structue    1    4\n",
       "4     76.0   18  Data Structue    2    5\n",
       "..     ...  ...            ...  ...  ...\n",
       "594   41.0   19        Physics    2  595\n",
       "595   71.0   18        Physics    1  596\n",
       "596   49.0   20        Physics    1  597\n",
       "597   71.0   20        Physics    1  598\n",
       "598   69.0   19        Physics    1  599\n",
       "\n",
       "[1797 rows x 5 columns]"
      ]
     },
     "execution_count": 45,
     "metadata": {},
     "output_type": "execute_result"
    }
   ],
   "source": [
    "df_final"
   ]
  },
  {
   "cell_type": "code",
   "execution_count": 47,
   "id": "de35b11c",
   "metadata": {},
   "outputs": [],
   "source": [
    "df_final.to_csv('ScoreFinal.csv',index=False)"
   ]
  },
  {
   "cell_type": "code",
   "execution_count": null,
   "id": "20108584",
   "metadata": {},
   "outputs": [],
   "source": []
  },
  {
   "cell_type": "code",
   "execution_count": null,
   "id": "51fba1c2",
   "metadata": {},
   "outputs": [],
   "source": []
  }
 ],
 "metadata": {
  "kernelspec": {
   "display_name": "Python 3",
   "language": "python",
   "name": "python3"
  },
  "language_info": {
   "codemirror_mode": {
    "name": "ipython",
    "version": 3
   },
   "file_extension": ".py",
   "mimetype": "text/x-python",
   "name": "python",
   "nbconvert_exporter": "python",
   "pygments_lexer": "ipython3",
   "version": "3.8.8"
  }
 },
 "nbformat": 4,
 "nbformat_minor": 5
}

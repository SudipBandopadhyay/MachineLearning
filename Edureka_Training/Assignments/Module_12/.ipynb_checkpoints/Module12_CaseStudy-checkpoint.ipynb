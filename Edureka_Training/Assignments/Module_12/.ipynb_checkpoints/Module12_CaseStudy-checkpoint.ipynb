{
 "cells": [
  {
   "cell_type": "code",
   "execution_count": 29,
   "id": "a3bf1f41",
   "metadata": {},
   "outputs": [
    {
     "data": {
      "image/png": "[encoded data removed]",
      "text/plain": [
       "<IPython.core.display.Image object>"
      ]
     },
     "metadata": {},
     "output_type": "display_data"
    }
   ],
   "source": [
    "from IPython.core.display import Image, display\n",
    "display(Image(filename='Maze.png'))"
   ]
  },
  {
   "cell_type": "code",
   "execution_count": 30,
   "id": "399a230e",
   "metadata": {},
   "outputs": [
    {
     "name": "stdout",
     "output_type": "stream",
     "text": [
      "[[ -1 100 100  -1  -1  -1  -1]\n",
      " [  0  -1  -1 100  -1   0  -1]\n",
      " [  0  -1  -1 100  -1  -1  -1]\n",
      " [  0   0   0  -1 100  -1  -1]\n",
      " [ -1  -1  -1   0  -1  -1 100]\n",
      " [ -1 100  -1  -1  -1  -1  -1]\n",
      " [ -1  -1  -1  -1  -1  -1 100]]\n"
     ]
    }
   ],
   "source": [
    "import numpy as np\n",
    "# R matrix\n",
    "R = np.matrix([ [-1,100,100,-1,-1,-1,-1],\n",
    "               [0,-1,-1,100,-1,0,-1],\n",
    "               [0,-1,-1,100,-1,-1,-1],\n",
    "               [0,0,0,-1,100,-1,-1],\n",
    "               [-1,-1,-1,0,-1,-1,100],\n",
    "               [-1,100,-1,-1,-1,-1,-1],\n",
    "            [-1,-1,-1,-1,-1,-1,100] ])\n",
    "print(R)"
   ]
  },
  {
   "cell_type": "code",
   "execution_count": 31,
   "id": "76930063",
   "metadata": {},
   "outputs": [
    {
     "name": "stdout",
     "output_type": "stream",
     "text": [
      "[[0. 0. 0. 0. 0. 0. 0.]\n",
      " [0. 0. 0. 0. 0. 0. 0.]\n",
      " [0. 0. 0. 0. 0. 0. 0.]\n",
      " [0. 0. 0. 0. 0. 0. 0.]\n",
      " [0. 0. 0. 0. 0. 0. 0.]\n",
      " [0. 0. 0. 0. 0. 0. 0.]\n",
      " [0. 0. 0. 0. 0. 0. 0.]]\n"
     ]
    }
   ],
   "source": [
    "# Q matrix\n",
    "Q = np.matrix (np.zeros([7,7]))\n",
    "print(Q)\n",
    "# Gamma (learning parameter)\n",
    "gamma = 0.8\n",
    "# Initial state (Usually to be chosen at random)\n",
    "initial_state = 1"
   ]
  },
  {
   "cell_type": "code",
   "execution_count": 32,
   "id": "cc87d164",
   "metadata": {},
   "outputs": [],
   "source": [
    "# This function returns all available actions in the state given as # an argument\n",
    "def available_actions(state):\n",
    "    current_state_row = R[state,]\n",
    "    av_act = np.where(current_state_row >= 0)[1]\n",
    "    return av_act\n",
    "# Get available actions in the current state\n",
    "available_act = available_actions(initial_state)\n",
    "# This function chooses at random which action to be performed within the range of all the available actions\n",
    "def sample_next_action(available_actions_range):\n",
    "    next_action = int(np.random.choice(available_act,1))\n",
    "    return next_action\n",
    "# Sample next action to be performed\n",
    "action = sample_next_action(available_act)"
   ]
  },
  {
   "cell_type": "code",
   "execution_count": 33,
   "id": "d14da19c",
   "metadata": {},
   "outputs": [
    {
     "name": "stdout",
     "output_type": "stream",
     "text": [
      "[[0. 0. 0. 0. 0. 0. 0.]\n",
      " [0. 0. 0. 0. 0. 0. 0.]\n",
      " [0. 0. 0. 0. 0. 0. 0.]\n",
      " [0. 0. 0. 0. 0. 0. 0.]\n",
      " [0. 0. 0. 0. 0. 0. 0.]\n",
      " [0. 0. 0. 0. 0. 0. 0.]\n",
      " [0. 0. 0. 0. 0. 0. 0.]]\n"
     ]
    }
   ],
   "source": [
    "# This function updates the Q matrix according to the path selected and the Q learning algorithm\n",
    "def update(current_state, action, gamma):  \n",
    "    max_index = np.where(Q[action,] == np.max(Q[action,]))[1]\n",
    "    if max_index.shape[0] > 1:\n",
    "        max_index = int(np.random.choice(max_index, size = 1))\n",
    "    else:\n",
    "        max_index = int(max_index)\n",
    "    max_value = Q[action, max_index]   \n",
    "    Q[current_state, action] = R[current_state, action] + gamma * max_value\n",
    "update(initial_state,action,gamma)\n",
    "print(Q)"
   ]
  },
  {
   "cell_type": "code",
   "execution_count": 39,
   "id": "98e70b6a",
   "metadata": {},
   "outputs": [
    {
     "name": "stdout",
     "output_type": "stream",
     "text": [
      "[[  0. 500. 500.   0.   0.   0.   0.]\n",
      " [400.   0.   0. 500.   0. 400.   0.]\n",
      " [400.   0.   0. 500.   0.   0.   0.]\n",
      " [400. 400. 400.   0. 500.   0.   0.]\n",
      " [  0.   0.   0. 400.   0.   0. 500.]\n",
      " [  0. 500.   0.   0.   0.   0.   0.]\n",
      " [  0.   0.   0.   0.   0.   0. 500.]]\n"
     ]
    }
   ],
   "source": [
    "# Train over 10 000 iterations(Re-iterate the # process above)\n",
    "for i in range(10000):\n",
    "    current_state = np.random.randint(0, int(Q.shape[0]))\n",
    "    available_act = available_actions(current_state)\n",
    "    action = sample_next_action(available_act)\n",
    "    update(current_state,action,gamma)\n",
    "print(Q)"
   ]
  },
  {
   "cell_type": "code",
   "execution_count": 40,
   "id": "cd710e22",
   "metadata": {},
   "outputs": [
    {
     "name": "stdout",
     "output_type": "stream",
     "text": [
      "Trained Q matrix:\n",
      "[[  0. 100. 100.   0.   0.   0.   0.]\n",
      " [ 80.   0.   0. 100.   0.  80.   0.]\n",
      " [ 80.   0.   0. 100.   0.   0.   0.]\n",
      " [ 80.  80.  80.   0. 100.   0.   0.]\n",
      " [  0.   0.   0.  80.   0.   0. 100.]\n",
      " [  0. 100.   0.   0.   0.   0.   0.]\n",
      " [  0.   0.   0.   0.   0.   0. 100.]]\n"
     ]
    }
   ],
   "source": [
    "# Normalize the \"trained\" Q matrix\n",
    "print(\"Trained Q matrix:\")\n",
    "print(Q/np.max(Q)*100)"
   ]
  },
  {
   "cell_type": "code",
   "execution_count": 41,
   "id": "48cfd9bd",
   "metadata": {},
   "outputs": [
    {
     "name": "stdout",
     "output_type": "stream",
     "text": [
      "Selected path:\n",
      "[5, 1, 3, 4, 6]\n"
     ]
    }
   ],
   "source": [
    "current_state = 5\n",
    "steps = [current_state]\n",
    "#print(steps)\n",
    "while current_state != 6:\n",
    "    next_step_index = np.where(Q[current_state,] == np.max(Q[current_state,]))[1]\n",
    "    #print(next_step_index)\n",
    "    if next_step_index.shape[0] > 1:\n",
    "        next_step_index = int(np.random.choice(next_step_index, size=1))\n",
    "    else:\n",
    "        next_step_index = int(next_step_index)\n",
    "    steps.append(next_step_index)\n",
    "    current_state = next_step_index\n",
    "# Print selected sequence of steps\n",
    "print(\"Selected path:\")\n",
    "print(steps)"
   ]
  },
  {
   "cell_type": "code",
   "execution_count": null,
   "id": "6cf0e77c",
   "metadata": {},
   "outputs": [],
   "source": []
  },
  {
   "cell_type": "code",
   "execution_count": null,
   "id": "d44eb42a",
   "metadata": {},
   "outputs": [],
   "source": []
  }
 ],
 "metadata": {
  "kernelspec": {
   "display_name": "Python 3",
   "language": "python",
   "name": "python3"
  },
  "language_info": {
   "codemirror_mode": {
    "name": "ipython",
    "version": 3
   },
   "file_extension": ".py",
   "mimetype": "text/x-python",
   "name": "python",
   "nbconvert_exporter": "python",
   "pygments_lexer": "ipython3",
   "version": "3.8.8"
  }
 },
 "nbformat": 4,
 "nbformat_minor": 5
}

{
 "cells": [
  {
   "cell_type": "markdown",
   "id": "c35c2e5a",
   "metadata": {},
   "source": [
    "# 1. What is the output of the following code? \n",
    "\n",
    "    nums = set([1,1,2,3,3,3,4,4])\n",
    "    \n",
    "    print(len(nums))\n",
    "    \n",
    " Answer: 4"
   ]
  },
  {
   "cell_type": "markdown",
   "id": "417a2385",
   "metadata": {},
   "source": [
    "\n",
    "# 2. What will be the output? \n",
    "    d = {\"john\":40, \"peter\":45} \n",
    "    print(list(d.keys()))\n",
    "\n",
    "Answer: ['john', 'peter']"
   ]
  },
  {
   "cell_type": "markdown",
   "id": "5ff900bc",
   "metadata": {},
   "source": [
    "\n",
    "# 3. A website requires a user to input username and password to register. Write a program to check the validity of password given by user. Following are the criteria for checking password:\n",
    "    1. At least 1 letter between [a-z]\n",
    "    2. At least 1 number between [0-9]\n",
    "    1. At least 1 letter between [A-Z]\n",
    "    3. At least 1 character from [$#@]\n",
    "    4. Minimum length of transaction password: 6\n",
    "    5. Maximum length of transaction password: 12"
   ]
  },
  {
   "cell_type": "code",
   "execution_count": 12,
   "id": "630a6b0f",
   "metadata": {},
   "outputs": [
    {
     "name": "stdout",
     "output_type": "stream",
     "text": [
      "Enter the password: Newpass@1\n",
      "Enetered Password is valid\n"
     ]
    }
   ],
   "source": [
    "import re\n",
    "p= input(\"Enter the password: \")\n",
    "invalid = True\n",
    "while x:  \n",
    "    if (len(p)<6 or len(p)>12):\n",
    "        break\n",
    "    elif not re.search(\"[a-z]\",p):\n",
    "        break\n",
    "    elif not re.search(\"[0-9]\",p):\n",
    "        break\n",
    "    elif not re.search(\"[A-Z]\",p):\n",
    "        break\n",
    "    elif not re.search(\"[$#@]\",p):\n",
    "        break\n",
    "    else:\n",
    "        print(\"Enetered Password is valid\")\n",
    "        invalid=False\n",
    "        break\n",
    "\n",
    "if invalid:\n",
    "    print(\"Entered Password is invalid\")"
   ]
  },
  {
   "cell_type": "markdown",
   "id": "9616fe6d",
   "metadata": {},
   "source": [
    "# 4. Write a for loop that prints all elements of a list and their position in the list.\n",
    "    a = [4,7,3,2,5,9]\n",
    "    Hint: Use Loop to iterate through list elements."
   ]
  },
  {
   "cell_type": "code",
   "execution_count": 15,
   "id": "9090065f",
   "metadata": {},
   "outputs": [
    {
     "name": "stdout",
     "output_type": "stream",
     "text": [
      "Element: 4 Index Position: 0\n",
      "Element: 7 Index Position: 1\n",
      "Element: 3 Index Position: 2\n",
      "Element: 2 Index Position: 3\n",
      "Element: 5 Index Position: 4\n",
      "Element: 9 Index Position: 5\n"
     ]
    }
   ],
   "source": [
    "a = [4,7,3,2,5,9]\n",
    "\n",
    "for i in a:\n",
    "    print(\"Element: \" + str(i) + \" Index Position: \"+ str(a.index(i)))"
   ]
  },
  {
   "cell_type": "markdown",
   "id": "65d6bff9",
   "metadata": {},
   "source": [
    "# 5. Please write a program which accepts a string from console and print the characters that have even indexes.\n",
    "Example: If the following string is given as input to the program:\n",
    "H1e2l3l4o5w6o7r8l9d\n",
    "Then, the output of the program should be:\n",
    "Helloworld"
   ]
  },
  {
   "cell_type": "code",
   "execution_count": 40,
   "id": "751664fd",
   "metadata": {},
   "outputs": [
    {
     "name": "stdout",
     "output_type": "stream",
     "text": [
      "Enter the string: H1e2l3l4o5w6o7r8l9d\n",
      "The Output: Helloworld\n"
     ]
    }
   ],
   "source": [
    "inputstring = input(\"Enter the string: \")\n",
    "outputstring = ''\n",
    "for i in inputstring:\n",
    "    if inputstring.index(i)%2 == 0:\n",
    "        outputstring += str(i)\n",
    "print('The Output: '+ outputstring)"
   ]
  },
  {
   "cell_type": "markdown",
   "id": "b9ff1103",
   "metadata": {},
   "source": [
    "# 6. Please write a program which accepts a string from console and print it in reverse order.\n",
    "Example: If the following string is given as input to the program:\n",
    "rise to vote sir\n",
    "Then, the output of the program should be:\n",
    "ris etov ot esir"
   ]
  },
  {
   "cell_type": "code",
   "execution_count": 42,
   "id": "336a9ea7",
   "metadata": {},
   "outputs": [
    {
     "name": "stdout",
     "output_type": "stream",
     "text": [
      "Enter the string: sudip\n",
      "The Reverse String:  pidus\n"
     ]
    }
   ],
   "source": [
    "inputstring = input(\"Enter the string: \")\n",
    "outputstring = ''\n",
    "for i in inputstring:\n",
    "    outputstring = str(i)+outputstring\n",
    "print('The Reverse String: ',outputstring)"
   ]
  },
  {
   "cell_type": "markdown",
   "id": "22f2e1de",
   "metadata": {},
   "source": [
    "# 7. Please write a program which count and print the numbers of each character in a string input by console.\n",
    "Example: If the following string is given as input to the program:\n",
    "abcdefgabc\n",
    "\n",
    "Then, the output of the program should be:\n",
    "\n",
    "    a,2\n",
    "    c,2\n",
    "    b,2\n",
    "    e,1\n",
    "    d,1\n",
    "    g,1\n",
    "    f,1"
   ]
  },
  {
   "cell_type": "code",
   "execution_count": 53,
   "id": "bbeef8a0",
   "metadata": {},
   "outputs": [
    {
     "name": "stdout",
     "output_type": "stream",
     "text": [
      "Enter the string: 124f42\n",
      "['1', '2', '4', 'f', '4', '2']\n",
      "1,1\n",
      "2,2\n",
      "4,2\n",
      "f,1\n"
     ]
    }
   ],
   "source": [
    "inputstring =input(\"Enter the string: \") #abcdefgabc\n",
    "inputstringlist=list(inputstring)\n",
    "print(inputstringlist)\n",
    "newlist=[]\n",
    "for j in inputstringlist:\n",
    "    if j not in newlist:\n",
    "        newlist.append(j)\n",
    "        count=0\n",
    "        for i in range(len(inputstringlist)):\n",
    "            if j==inputstringlist[i]:\n",
    "                count+=1\n",
    "        print(\"{},{}\".format(j,count))"
   ]
  },
  {
   "cell_type": "markdown",
   "id": "90d71edb",
   "metadata": {},
   "source": [
    "# 8. With two given lists [1,3,6,78,35,55] and [12,24,35,24,88,120,155], write a program to make a list whose elements are intersection of the above given lists."
   ]
  },
  {
   "cell_type": "code",
   "execution_count": 58,
   "id": "8e496930",
   "metadata": {},
   "outputs": [
    {
     "name": "stdout",
     "output_type": "stream",
     "text": [
      "[35]\n"
     ]
    }
   ],
   "source": [
    "list1 = [1,3,6,78,35,55]\n",
    "list2 = [12,24,35,24,88,120,155]\n",
    "\n",
    "list3 = [value for value in list1 if value in list2]\n",
    "print(list3)"
   ]
  },
  {
   "cell_type": "markdown",
   "id": "c2fef23c",
   "metadata": {},
   "source": [
    "# 9. By using list comprehension, please write a program to print the list after removing the value 24 in [12,24,35,24,88,120,155]."
   ]
  },
  {
   "cell_type": "code",
   "execution_count": 65,
   "id": "9c7a0729",
   "metadata": {},
   "outputs": [
    {
     "name": "stdout",
     "output_type": "stream",
     "text": [
      "[12, 35, 88, 120, 155]\n"
     ]
    }
   ],
   "source": [
    "list = [12,24,35,24,88,120,155]\n",
    "list1 = [value for value in list if value != 24]\n",
    "print(list1)"
   ]
  },
  {
   "cell_type": "markdown",
   "id": "cd95663d",
   "metadata": {},
   "source": [
    "# 10. By using list comprehension, please write a program to print the list after removing the 0th,4th,5th numbers in [12,24,35,70,88,120,155]."
   ]
  },
  {
   "cell_type": "code",
   "execution_count": 72,
   "id": "42b6c1a5",
   "metadata": {},
   "outputs": [
    {
     "name": "stdout",
     "output_type": "stream",
     "text": [
      "['24', '35', '70', '155']\n"
     ]
    }
   ],
   "source": [
    "list = [12,24,35,70,88,120,155]\n",
    "outlist=[]\n",
    "for i in list:\n",
    "    #print(list.index(i),str(i))\n",
    "    if list.index(i) not in (0,4,5):\n",
    "        outlist.append(str(i))\n",
    "        \n",
    "print(outlist)"
   ]
  },
  {
   "cell_type": "markdown",
   "id": "3b4cad8b",
   "metadata": {},
   "source": [
    "# 11. By using list comprehension, please write a program to print the list after removing delete numbers which are divisible by 5 and 7 in [12,24,35,70,88,120,155]."
   ]
  },
  {
   "cell_type": "code",
   "execution_count": 87,
   "id": "272359e4",
   "metadata": {},
   "outputs": [
    {
     "name": "stdout",
     "output_type": "stream",
     "text": [
      "['12', '24', '88']\n"
     ]
    }
   ],
   "source": [
    "list = [12,24,35,70,88,120,155]\n",
    "outlist = []\n",
    "\n",
    "for i in list:\n",
    "    #print(int(str(i)))\n",
    "    if ((int(str(i))%5 != 0) and (int(str(i))%7 != 0)):\n",
    "        outlist.append(str(i))\n",
    "print(outlist)"
   ]
  },
  {
   "cell_type": "markdown",
   "id": "b07e35a2",
   "metadata": {},
   "source": [
    "# 12. Write a program to compute 1/2+2/3+3/4+...+n/n+1 with a given n input by console (n>0).\n",
    "Example:\n",
    "\n",
    "If the following n is given as input to the program:\n",
    "\n",
    "    5\n",
    "Then, the output of the program should be:\n",
    "\n",
    "    3.55"
   ]
  },
  {
   "cell_type": "code",
   "execution_count": 103,
   "id": "00a583d2",
   "metadata": {},
   "outputs": [
    {
     "name": "stdout",
     "output_type": "stream",
     "text": [
      "Enter the number: 9\n",
      "7.07\n"
     ]
    }
   ],
   "source": [
    "inputnumber = int(input('Enter the number: '))\n",
    "output=0\n",
    "if inputnumber>0:\n",
    "    for i in range(1,inputnumber+1):\n",
    "        output= output+(i/(i+1))\n",
    "        #print(output)\n",
    "    print(round(output,2))\n",
    "else:\n",
    "    print('Enter a Valid Number')"
   ]
  },
  {
   "cell_type": "code",
   "execution_count": null,
   "id": "85e17ce2",
   "metadata": {},
   "outputs": [],
   "source": []
  }
 ],
 "metadata": {
  "kernelspec": {
   "display_name": "Python 3",
   "language": "python",
   "name": "python3"
  },
  "language_info": {
   "codemirror_mode": {
    "name": "ipython",
    "version": 3
   },
   "file_extension": ".py",
   "mimetype": "text/x-python",
   "name": "python",
   "nbconvert_exporter": "python",
   "pygments_lexer": "ipython3",
   "version": "3.8.8"
  }
 },
 "nbformat": 4,
 "nbformat_minor": 5
}

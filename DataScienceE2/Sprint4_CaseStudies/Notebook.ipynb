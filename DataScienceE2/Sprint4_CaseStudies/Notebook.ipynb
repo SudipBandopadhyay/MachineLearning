{
 "cells": [
  {
   "cell_type": "markdown",
   "metadata": {},
   "source": [
    "# PCA\n",
    "\n",
    "Principal Component Analysis (PCA) offers an effective way to reduce the dimensions of the data. This reduction of data allows for improved training speeds for machine learning and easier visualization of the data.\n",
    "\n",
    "Since the number of dimensions are reduced, some information will be lost. However, in many cases this loss is acceptable. And in some cases, this loss can eliminate a portion of the noise in the training data.\n",
    "\n",
    "PCA works by generating n vectors (where n is dimensionality of the data) along which the most variance is explained in decreasing order (the first vector explains the most variance, the second variance the second most, etc).\n",
    "\n",
    "Below PCA has been applied to examine the iris data set."
   ]
  },
  {
   "cell_type": "markdown",
   "metadata": {},
   "source": [
    "#### Import relevant libraries"
   ]
  },
  {
   "cell_type": "code",
   "execution_count": 1,
   "metadata": {},
   "outputs": [],
   "source": [
    "from sklearn.datasets import load_iris\n",
    "from sklearn.decomposition import PCA\n",
    "import matplotlib.pyplot as plt\n",
    "import seaborn as sns\n",
    "import pandas as pd\n",
    "import numpy as np\n",
    "%matplotlib inline"
   ]
  },
  {
   "cell_type": "markdown",
   "metadata": {},
   "source": [
    "#### Load Data"
   ]
  },
  {
   "cell_type": "code",
   "execution_count": 18,
   "metadata": {},
   "outputs": [
    {
     "data": {
      "text/plain": [
       "Index([0, 1, 2, 3, 'Label', 'Species'], dtype='object')"
      ]
     },
     "execution_count": 18,
     "metadata": {},
     "output_type": "execute_result"
    }
   ],
   "source": [
    "iris = load_iris()\n",
    "\n",
    "X = iris.data\n",
    "y = iris.target \n",
    "\n",
    "df = pd.DataFrame(X)\n",
    "df['Label']=y\n",
    "\n",
    "# Map species as per the lables as {0: 'setosa', 1: 'versicolor', 2: 'virginica'} \n",
    "df.loc[df.Label == 0, \"Species\"] = \"setosa\"\n",
    "df.loc[df.Label == 1, \"Species\"] = \"versicolor\"\n",
    "df.loc[df.Label == 2, \"Species\"] = \"virginica\"\n",
    "\n",
    "df.head()\n",
    "df.columns"
   ]
  },
  {
   "cell_type": "markdown",
   "metadata": {},
   "source": [
    "#### Generate PCA df\n",
    "\n",
    "PCA requires that the data be centered at 0, but sklearn does this automatically for us."
   ]
  },
  {
   "cell_type": "code",
   "execution_count": 12,
   "metadata": {},
   "outputs": [],
   "source": [
    "#Transform features\n",
    "#Code\n",
    "from sklearn.preprocessing import StandardScaler\n",
    "data=StandardScaler()\n",
    "x= data.fit_transform(X)\n",
    "df1= pd.DataFrame(x)\n",
    "df1\n",
    "#Merge with df\n",
    "#Code\n",
    "df[[0,1,2,3]]=df1"
   ]
  },
  {
   "cell_type": "markdown",
   "metadata": {},
   "source": [
    "#### Examine variance explained by each Principal Component\n",
    "\n"
   ]
  },
  {
   "cell_type": "code",
   "execution_count": 26,
   "metadata": {},
   "outputs": [
    {
     "name": "stdout",
     "output_type": "stream",
     "text": [
      "Explained Variance Ratio\n"
     ]
    },
    {
     "data": {
      "image/png": "[encoded data removed]",
      "text/plain": [
       "<Figure size 432x288 with 1 Axes>"
      ]
     },
     "metadata": {
      "needs_background": "light"
     },
     "output_type": "display_data"
    },
    {
     "name": "stdout",
     "output_type": "stream",
     "text": [
      "Variance of each component: [0.92461872 0.05306648]\n",
      "\n",
      " Total Variance Explained: 97.77\n"
     ]
    }
   ],
   "source": [
    "print('Explained Variance Ratio')\n",
    "# code\n",
    "pca = PCA(n_components=2)\n",
    "principal_components=pca.fit_transform(X)\n",
    "principaldf=pd.DataFrame(principal_components)\n",
    "#print(principaldf)\n",
    "exp_var_pca = pca.explained_variance_ratio_\n",
    "cum_sum_eigenvalues = np.cumsum(exp_var_pca)\n",
    "plt.bar(range(0,len(exp_var_pca)), exp_var_pca, alpha=0.5,align='center', label='Individual explained variance')\n",
    "plt.step(range(0,len(cum_sum_eigenvalues)), cum_sum_eigenvalues, where='mid',label='Cumulative explained variance')\n",
    "plt.ylabel('Explained variance ratio')\n",
    "plt.xlabel('Principal component index')\n",
    "plt.legend(loc='best')\n",
    "plt.tight_layout()\n",
    "plt.show()\n",
    "print('Variance of each component:', pca.explained_variance_ratio_)\n",
    "print('\\n Total Variance Explained:', round(sum(list(pca.explained_variance_ratio_))*100, 2))"
   ]
  },
  {
   "cell_type": "markdown",
   "metadata": {},
   "source": [
    "## Q1: What is the variance Ratio for PC1? \n",
    "\n",
    "    A: PC1: 0.9246162071742683\n",
    "    B: PC1: 0.053015567850535045\n",
    "    C: PC1: 0.017185139525006807\n",
    "    D: PC1: 0.005183085450189932\n",
    "\n",
    "    assgin A,B,C or D to q1."
   ]
  },
  {
   "cell_type": "code",
   "execution_count": 29,
   "metadata": {},
   "outputs": [],
   "source": [
    "# Replace \"X\" with A,B,C or D\n",
    "q1 = str('A')"
   ]
  },
  {
   "cell_type": "code",
   "execution_count": 30,
   "metadata": {},
   "outputs": [],
   "source": [
    "'''\n",
    "Please run this cell to to, submit your option for evalutaion\n",
    "'''\n",
    "\n",
    "file=open(\"submit0.txt\",\"w+\")\n",
    "\n",
    "s0=q1\n",
    "file.write(s0)\n",
    "file.write(\"\\n\")\n",
    "file.close()"
   ]
  },
  {
   "cell_type": "markdown",
   "metadata": {},
   "source": [
    "#### Visualize data in one dimension\n",
    "This may incline us to visualize (and perhaps classify the data) via this first principle component alone. We can use PC1 to visualize the data in one dimension.\n",
    "\n"
   ]
  },
  {
   "cell_type": "code",
   "execution_count": null,
   "metadata": {},
   "outputs": [],
   "source": [
    "# code "
   ]
  },
  {
   "cell_type": "markdown",
   "metadata": {},
   "source": [
    "As you can see below, the setosa category can be entirely distinguished from the other two by this component. Although the other two species are mostly separable, they experience some significant overlap which could make classification difficult with PC1 alone."
   ]
  },
  {
   "cell_type": "markdown",
   "metadata": {},
   "source": [
    "#### Explaining more variance"
   ]
  },
  {
   "cell_type": "markdown",
   "metadata": {},
   "source": [
    "Perhaps we want to be sure that our model is explaining 95% of the variance (instead of our current 92%). If a variance threshold is known, but the number of desired components is not, then we can set the n_components parameter to the percentage we desire. When the number of components is known, the n_components parameter can instead be set to the number of principal components desired."
   ]
  },
  {
   "cell_type": "code",
   "execution_count": null,
   "metadata": {},
   "outputs": [],
   "source": [
    "precent_of_variance_explained = None \n",
    "\n",
    "pca = None\n",
    "\n",
    "\n",
    "\n",
    "print(\"{} Principal Components are required to explain {} of the variation in this data.\".format(pca.n_components_,precent_of_variance_explained))"
   ]
  },
  {
   "cell_type": "markdown",
   "metadata": {},
   "source": [
    "## Q2: Principal Components are required to explain 0.95 of the variation in this data.? \n",
    "\n",
    "    A: 4\n",
    "    B: 3\n",
    "    C: 2\n",
    "    D: 1\n",
    "\n",
    "    assgin A,B,C or D to q2."
   ]
  },
  {
   "cell_type": "code",
   "execution_count": 31,
   "metadata": {},
   "outputs": [],
   "source": [
    "# Replace \"X\" with A,B,C or D\n",
    "q2 = str(\"B\")"
   ]
  },
  {
   "cell_type": "code",
   "execution_count": 32,
   "metadata": {},
   "outputs": [],
   "source": [
    "'''\n",
    "Please run this cell to to, submit your option for evalutaion\n",
    "'''\n",
    "\n",
    "file=open(\"submit1.txt\",\"w+\")\n",
    "\n",
    "s1=q2\n",
    "file.write(s1)\n",
    "file.write(\"\\n\")\n",
    "file.close()"
   ]
  },
  {
   "cell_type": "markdown",
   "metadata": {},
   "source": [
    "#### Determing the right number of dimensions\n",
    "\n",
    "We can attempt to confirm that '_' is a natural number of dimensions for our data by visualizing the relationship between the number of principal components and the variance explained.\n",
    "\n"
   ]
  },
  {
   "cell_type": "code",
   "execution_count": null,
   "metadata": {},
   "outputs": [],
   "source": [
    "# Plot the graph for Selecting the right number of dimensions\n",
    "# graph b/w Dimensions and Variance Explained\n"
   ]
  },
  {
   "cell_type": "markdown",
   "metadata": {},
   "source": [
    "#### Plotting the data in two dimensions\n",
    "Thus we should consider plotting the data in two dimensions."
   ]
  },
  {
   "cell_type": "code",
   "execution_count": null,
   "metadata": {},
   "outputs": [],
   "source": [
    "# Plot lmplot for PC1 and PC2 \n"
   ]
  },
  {
   "cell_type": "markdown",
   "metadata": {},
   "source": [
    "## Q3 Is the data is nearly entireably separable with the first two principle components alone? \n",
    "    A: False \n",
    "    B: True\n",
    "    \n",
    "    Assgin A or B to q3."
   ]
  },
  {
   "cell_type": "code",
   "execution_count": 33,
   "metadata": {},
   "outputs": [],
   "source": [
    "# Replace \"X\" with A or B\n",
    "q3 = str(\"B\")"
   ]
  },
  {
   "cell_type": "code",
   "execution_count": 34,
   "metadata": {},
   "outputs": [],
   "source": [
    "'''\n",
    "Please run this cell to to, submit your option for evalutaion\n",
    "'''\n",
    "\n",
    "file=open(\"submit2.txt\",\"w+\")\n",
    "\n",
    "s2=q3\n",
    "file.write(s2)\n",
    "file.write(\"\\n\")\n",
    "file.close()"
   ]
  },
  {
   "cell_type": "code",
   "execution_count": 21,
   "metadata": {},
   "outputs": [],
   "source": [
    "import pickle\n",
    "import hashlib\n",
    "def hashit(obj):\n",
    "    obj = str(obj).encode()\n",
    "    m = hashlib.md5(bytes(obj))\n",
    "    m.update(bytes(obj))\n",
    "#     print(m.hexdigest())\n",
    "    return m.hexdigest()"
   ]
  },
  {
   "cell_type": "code",
   "execution_count": 23,
   "metadata": {},
   "outputs": [
    {
     "name": "stdout",
     "output_type": "stream",
     "text": [
      "f7c4a0c7f605ce97fc25df7e06ea77d3\n"
     ]
    },
    {
     "data": {
      "text/plain": [
       "'PC1: 0.9246162071742683\\n    B: PC1: 0.053015567850535045\\n    C: PC1: 0.017185139525006807\\n    D: PC1: 0.005183085450189932\\n    \\n    e9e553c369b0a952e66ac5cb9d48276a'"
      ]
     },
     "execution_count": 23,
     "metadata": {},
     "output_type": "execute_result"
    }
   ],
   "source": [
    "print(hashit(str('0.9246162071742683')))\n",
    "'''PC1: 0.9246162071742683\n",
    "    B: PC1: 0.053015567850535045\n",
    "    C: PC1: 0.017185139525006807\n",
    "    D: PC1: 0.005183085450189932\n",
    "    \n",
    "    e9e553c369b0a952e66ac5cb9d48276a'''"
   ]
  },
  {
   "cell_type": "code",
   "execution_count": null,
   "metadata": {},
   "outputs": [],
   "source": []
  }
 ],
 "metadata": {
  "kernelspec": {
   "display_name": "Python 3",
   "language": "python",
   "name": "python3"
  },
  "language_info": {
   "codemirror_mode": {
    "name": "ipython",
    "version": 3
   },
   "file_extension": ".py",
   "mimetype": "text/x-python",
   "name": "python",
   "nbconvert_exporter": "python",
   "pygments_lexer": "ipython3",
   "version": "3.8.8"
  }
 },
 "nbformat": 4,
 "nbformat_minor": 4
}

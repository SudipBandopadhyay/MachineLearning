{
 "cells": [
  {
   "cell_type": "markdown",
   "id": "fdbea7ba",
   "metadata": {},
   "source": [
    "## Welcome to the Usecase Challenge on Time Series Analysis.\n"
   ]
  },
  {
   "cell_type": "markdown",
   "id": "2de6055a",
   "metadata": {},
   "source": [
    "## Instructions :\n",
    "- Follow the instructions and write your code \n",
    "- Press 'Shift+Enter' or use the Run Button to run each cell\n",
    "- This Python Notebook contains everything you'll need to finish this challenge.\n",
    "- Before submit your notebook. Restart the kernel and run all the cell. Make sure that any cell shouldn't cause any error or problem.\n",
    "- Make sure not to delete any of the cells"
   ]
  },
  {
   "cell_type": "markdown",
   "id": "9a8a4e38",
   "metadata": {},
   "source": [
    "### Question :\n",
    "- Load the FTSE data for 24 Months (1 Aug 2019 to 30 July 2021) with daily closing prices \n",
    "\n",
    "- Perform Seasonal Decompose using additive and multiplicative methods \n",
    "\n",
    "- Plot the ACF and PACF values \n",
    "\n",
    "- Calculate AR and MR Model summary\n",
    "\n"
   ]
  },
  {
   "cell_type": "markdown",
   "id": "6c6c3dad",
   "metadata": {},
   "source": [
    "### Importing packages"
   ]
  },
  {
   "cell_type": "code",
   "execution_count": 1,
   "id": "9cd78225",
   "metadata": {},
   "outputs": [],
   "source": [
    "import pandas as pd\n",
    "import numpy as np \n",
    "import matplotlib.pyplot as plt \n",
    "import seaborn as sns \n",
    "sns.set()\n",
    "import warnings\n",
    "warnings.filterwarnings('ignore')\n",
    "import statsmodels.graphics.tsaplots as sgt\n",
    "import statsmodels.tsa.stattools as sts \n",
    "from statsmodels.tsa.seasonal import seasonal_decompose\n",
    "from statsmodels.tsa.arima_model import ARMA"
   ]
  },
  {
   "cell_type": "markdown",
   "id": "ab870c39",
   "metadata": {},
   "source": [
    "### Reading the Data"
   ]
  },
  {
   "cell_type": "code",
   "execution_count": 2,
   "id": "10c76dd3",
   "metadata": {},
   "outputs": [],
   "source": [
    "#Read the FTSE_Data and save it in df variable\n",
    "#Write your code here\n",
    "df = pd.read_csv('FTSE_Data.csv')"
   ]
  },
  {
   "cell_type": "code",
   "execution_count": 32,
   "id": "0e8a1651",
   "metadata": {},
   "outputs": [
    {
     "name": "stdout",
     "output_type": "stream",
     "text": [
      "            Open_Price  Close_Price  High_Price  Low_Price      Volume\n",
      "Date                                                                  \n",
      "2019-08-01     7586.78      7584.87     7609.98    7535.90   822491456\n",
      "2019-08-02     7584.87      7407.06     7585.24    7397.91  1043849664\n",
      "2019-08-05     7407.06      7223.85     7407.06    7200.54  1269942016\n",
      "2019-08-06     7223.85      7171.69     7241.57    7166.98   744772160\n",
      "2019-08-07     7171.69      7198.70     7237.88    7153.89   748412672\n"
     ]
    },
    {
     "data": {
      "text/html": [
       "<div>\n",
       "<style scoped>\n",
       "    .dataframe tbody tr th:only-of-type {\n",
       "        vertical-align: middle;\n",
       "    }\n",
       "\n",
       "    .dataframe tbody tr th {\n",
       "        vertical-align: top;\n",
       "    }\n",
       "\n",
       "    .dataframe thead th {\n",
       "        text-align: right;\n",
       "    }\n",
       "</style>\n",
       "<table border=\"1\" class=\"dataframe\">\n",
       "  <thead>\n",
       "    <tr style=\"text-align: right;\">\n",
       "      <th></th>\n",
       "      <th>Open_Price</th>\n",
       "      <th>Close_Price</th>\n",
       "      <th>High_Price</th>\n",
       "      <th>Low_Price</th>\n",
       "      <th>Volume</th>\n",
       "    </tr>\n",
       "    <tr>\n",
       "      <th>Date</th>\n",
       "      <th></th>\n",
       "      <th></th>\n",
       "      <th></th>\n",
       "      <th></th>\n",
       "      <th></th>\n",
       "    </tr>\n",
       "  </thead>\n",
       "  <tbody>\n",
       "    <tr>\n",
       "      <th>2019-08-01</th>\n",
       "      <td>7586.78</td>\n",
       "      <td>7584.87</td>\n",
       "      <td>7609.98</td>\n",
       "      <td>7535.90</td>\n",
       "      <td>822491456</td>\n",
       "    </tr>\n",
       "    <tr>\n",
       "      <th>2019-08-02</th>\n",
       "      <td>7584.87</td>\n",
       "      <td>7407.06</td>\n",
       "      <td>7585.24</td>\n",
       "      <td>7397.91</td>\n",
       "      <td>1043849664</td>\n",
       "    </tr>\n",
       "    <tr>\n",
       "      <th>2019-08-05</th>\n",
       "      <td>7407.06</td>\n",
       "      <td>7223.85</td>\n",
       "      <td>7407.06</td>\n",
       "      <td>7200.54</td>\n",
       "      <td>1269942016</td>\n",
       "    </tr>\n",
       "    <tr>\n",
       "      <th>2019-08-06</th>\n",
       "      <td>7223.85</td>\n",
       "      <td>7171.69</td>\n",
       "      <td>7241.57</td>\n",
       "      <td>7166.98</td>\n",
       "      <td>744772160</td>\n",
       "    </tr>\n",
       "    <tr>\n",
       "      <th>2019-08-07</th>\n",
       "      <td>7171.69</td>\n",
       "      <td>7198.70</td>\n",
       "      <td>7237.88</td>\n",
       "      <td>7153.89</td>\n",
       "      <td>748412672</td>\n",
       "    </tr>\n",
       "    <tr>\n",
       "      <th>...</th>\n",
       "      <td>...</td>\n",
       "      <td>...</td>\n",
       "      <td>...</td>\n",
       "      <td>...</td>\n",
       "      <td>...</td>\n",
       "    </tr>\n",
       "    <tr>\n",
       "      <th>2021-07-26</th>\n",
       "      <td>7027.58</td>\n",
       "      <td>7025.43</td>\n",
       "      <td>7038.65</td>\n",
       "      <td>6980.67</td>\n",
       "      <td>524675744</td>\n",
       "    </tr>\n",
       "    <tr>\n",
       "      <th>2021-07-27</th>\n",
       "      <td>7025.43</td>\n",
       "      <td>6996.08</td>\n",
       "      <td>7028.37</td>\n",
       "      <td>6929.64</td>\n",
       "      <td>515215456</td>\n",
       "    </tr>\n",
       "    <tr>\n",
       "      <th>2021-07-28</th>\n",
       "      <td>6996.08</td>\n",
       "      <td>7016.63</td>\n",
       "      <td>7023.35</td>\n",
       "      <td>6974.80</td>\n",
       "      <td>595935808</td>\n",
       "    </tr>\n",
       "    <tr>\n",
       "      <th>2021-07-29</th>\n",
       "      <td>7016.63</td>\n",
       "      <td>7078.42</td>\n",
       "      <td>7093.93</td>\n",
       "      <td>7008.65</td>\n",
       "      <td>789466368</td>\n",
       "    </tr>\n",
       "    <tr>\n",
       "      <th>2021-07-30</th>\n",
       "      <td>7078.42</td>\n",
       "      <td>7032.30</td>\n",
       "      <td>7078.42</td>\n",
       "      <td>6996.93</td>\n",
       "      <td>674951552</td>\n",
       "    </tr>\n",
       "  </tbody>\n",
       "</table>\n",
       "<p>503 rows × 5 columns</p>\n",
       "</div>"
      ],
      "text/plain": [
       "            Open_Price  Close_Price  High_Price  Low_Price      Volume\n",
       "Date                                                                  \n",
       "2019-08-01     7586.78      7584.87     7609.98    7535.90   822491456\n",
       "2019-08-02     7584.87      7407.06     7585.24    7397.91  1043849664\n",
       "2019-08-05     7407.06      7223.85     7407.06    7200.54  1269942016\n",
       "2019-08-06     7223.85      7171.69     7241.57    7166.98   744772160\n",
       "2019-08-07     7171.69      7198.70     7237.88    7153.89   748412672\n",
       "...                ...          ...         ...        ...         ...\n",
       "2021-07-26     7027.58      7025.43     7038.65    6980.67   524675744\n",
       "2021-07-27     7025.43      6996.08     7028.37    6929.64   515215456\n",
       "2021-07-28     6996.08      7016.63     7023.35    6974.80   595935808\n",
       "2021-07-29     7016.63      7078.42     7093.93    7008.65   789466368\n",
       "2021-07-30     7078.42      7032.30     7078.42    6996.93   674951552\n",
       "\n",
       "[503 rows x 5 columns]"
      ]
     },
     "execution_count": 32,
     "metadata": {},
     "output_type": "execute_result"
    }
   ],
   "source": [
    "df.dropna(inplace=True)\n",
    "df.set_index('Date',inplace=True)\n",
    "df.index=pd.to_datetime(df.index)\n",
    "print(df.head())\n",
    "df"
   ]
  },
  {
   "cell_type": "markdown",
   "id": "92388821",
   "metadata": {},
   "source": [
    "### Time series decomposition\n",
    "We can decompose a time series into three components:\n",
    "\n",
    "*   Trend: Pattern\n",
    "*   Seasonality: Cyclical effects\n",
    "*   Residuals: Error of prediction\n"
   ]
  },
  {
   "cell_type": "markdown",
   "id": "45748bc8",
   "metadata": {},
   "source": [
    "#### Additive Decompose\n",
    "_Additive method_ assumes the time series follows a nearly linear trend. Here, observed value is the sum of its components(trend,seasonality,noise)\n",
    "\n",
    "Observed = trend + seasonal + residual"
   ]
  },
  {
   "cell_type": "markdown",
   "id": "65b27993",
   "metadata": {},
   "source": [
    "#### Note:\n",
    "- Put figsize as (10,5)\n",
    "- Store the output plot in A1 variable"
   ]
  },
  {
   "cell_type": "markdown",
   "id": "7eed89e3",
   "metadata": {},
   "source": [
    "**Sample image:**\n",
    "    \n",
    "<img src='Sample_images/Expected1.png' style='width:600px;height:400px'>"
   ]
  },
  {
   "cell_type": "code",
   "execution_count": 33,
   "id": "18272433",
   "metadata": {},
   "outputs": [
    {
     "ename": "ValueError",
     "evalue": "This function does not handle missing values",
     "output_type": "error",
     "traceback": [
      "\u001b[1;31m---------------------------------------------------------------------------\u001b[0m",
      "\u001b[1;31mValueError\u001b[0m                                Traceback (most recent call last)",
      "\u001b[1;32m<ipython-input-33-33875d8ada36>\u001b[0m in \u001b[0;36m<module>\u001b[1;34m\u001b[0m\n\u001b[0;32m      1\u001b[0m \u001b[1;31m#Additive Decompose\u001b[0m\u001b[1;33m\u001b[0m\u001b[1;33m\u001b[0m\u001b[1;33m\u001b[0m\u001b[0m\n\u001b[0;32m      2\u001b[0m \u001b[1;33m\u001b[0m\u001b[0m\n\u001b[1;32m----> 3\u001b[1;33m \u001b[0mresult\u001b[0m \u001b[1;33m=\u001b[0m \u001b[0mseasonal_decompose\u001b[0m\u001b[1;33m(\u001b[0m\u001b[0mdf\u001b[0m\u001b[1;33m.\u001b[0m\u001b[0masfreq\u001b[0m\u001b[1;33m(\u001b[0m\u001b[1;34m'MS'\u001b[0m\u001b[1;33m)\u001b[0m\u001b[1;33m,\u001b[0m \u001b[0mmodel\u001b[0m\u001b[1;33m=\u001b[0m\u001b[1;34m'additive'\u001b[0m\u001b[1;33m)\u001b[0m\u001b[1;33m\u001b[0m\u001b[1;33m\u001b[0m\u001b[0m\n\u001b[0m\u001b[0;32m      4\u001b[0m \u001b[1;33m\u001b[0m\u001b[0m\n\u001b[0;32m      5\u001b[0m \u001b[1;33m\u001b[0m\u001b[0m\n",
      "\u001b[1;32mE:\\MachineLearning\\Anaconda3\\lib\\site-packages\\pandas\\util\\_decorators.py\u001b[0m in \u001b[0;36mwrapper\u001b[1;34m(*args, **kwargs)\u001b[0m\n\u001b[0;32m    197\u001b[0m                 \u001b[1;32melse\u001b[0m\u001b[1;33m:\u001b[0m\u001b[1;33m\u001b[0m\u001b[1;33m\u001b[0m\u001b[0m\n\u001b[0;32m    198\u001b[0m                     \u001b[0mkwargs\u001b[0m\u001b[1;33m[\u001b[0m\u001b[0mnew_arg_name\u001b[0m\u001b[1;33m]\u001b[0m \u001b[1;33m=\u001b[0m \u001b[0mnew_arg_value\u001b[0m\u001b[1;33m\u001b[0m\u001b[1;33m\u001b[0m\u001b[0m\n\u001b[1;32m--> 199\u001b[1;33m             \u001b[1;32mreturn\u001b[0m \u001b[0mfunc\u001b[0m\u001b[1;33m(\u001b[0m\u001b[1;33m*\u001b[0m\u001b[0margs\u001b[0m\u001b[1;33m,\u001b[0m \u001b[1;33m**\u001b[0m\u001b[0mkwargs\u001b[0m\u001b[1;33m)\u001b[0m\u001b[1;33m\u001b[0m\u001b[1;33m\u001b[0m\u001b[0m\n\u001b[0m\u001b[0;32m    200\u001b[0m \u001b[1;33m\u001b[0m\u001b[0m\n\u001b[0;32m    201\u001b[0m         \u001b[1;32mreturn\u001b[0m \u001b[0mcast\u001b[0m\u001b[1;33m(\u001b[0m\u001b[0mF\u001b[0m\u001b[1;33m,\u001b[0m \u001b[0mwrapper\u001b[0m\u001b[1;33m)\u001b[0m\u001b[1;33m\u001b[0m\u001b[1;33m\u001b[0m\u001b[0m\n",
      "\u001b[1;32mE:\\MachineLearning\\Anaconda3\\lib\\site-packages\\statsmodels\\tsa\\seasonal.py\u001b[0m in \u001b[0;36mseasonal_decompose\u001b[1;34m(x, model, filt, period, two_sided, extrapolate_trend)\u001b[0m\n\u001b[0;32m    130\u001b[0m \u001b[1;33m\u001b[0m\u001b[0m\n\u001b[0;32m    131\u001b[0m     \u001b[1;32mif\u001b[0m \u001b[1;32mnot\u001b[0m \u001b[0mnp\u001b[0m\u001b[1;33m.\u001b[0m\u001b[0mall\u001b[0m\u001b[1;33m(\u001b[0m\u001b[0mnp\u001b[0m\u001b[1;33m.\u001b[0m\u001b[0misfinite\u001b[0m\u001b[1;33m(\u001b[0m\u001b[0mx\u001b[0m\u001b[1;33m)\u001b[0m\u001b[1;33m)\u001b[0m\u001b[1;33m:\u001b[0m\u001b[1;33m\u001b[0m\u001b[1;33m\u001b[0m\u001b[0m\n\u001b[1;32m--> 132\u001b[1;33m         \u001b[1;32mraise\u001b[0m \u001b[0mValueError\u001b[0m\u001b[1;33m(\u001b[0m\u001b[1;34m\"This function does not handle missing values\"\u001b[0m\u001b[1;33m)\u001b[0m\u001b[1;33m\u001b[0m\u001b[1;33m\u001b[0m\u001b[0m\n\u001b[0m\u001b[0;32m    133\u001b[0m     \u001b[1;32mif\u001b[0m \u001b[0mmodel\u001b[0m\u001b[1;33m.\u001b[0m\u001b[0mstartswith\u001b[0m\u001b[1;33m(\u001b[0m\u001b[1;34m'm'\u001b[0m\u001b[1;33m)\u001b[0m\u001b[1;33m:\u001b[0m\u001b[1;33m\u001b[0m\u001b[1;33m\u001b[0m\u001b[0m\n\u001b[0;32m    134\u001b[0m         \u001b[1;32mif\u001b[0m \u001b[0mnp\u001b[0m\u001b[1;33m.\u001b[0m\u001b[0many\u001b[0m\u001b[1;33m(\u001b[0m\u001b[0mx\u001b[0m \u001b[1;33m<=\u001b[0m \u001b[1;36m0\u001b[0m\u001b[1;33m)\u001b[0m\u001b[1;33m:\u001b[0m\u001b[1;33m\u001b[0m\u001b[1;33m\u001b[0m\u001b[0m\n",
      "\u001b[1;31mValueError\u001b[0m: This function does not handle missing values"
     ]
    }
   ],
   "source": [
    "#Additive Decompose\n",
    "\n",
    "result = seasonal_decompose(df.asfreq('MS'), model='additive')\n",
    "\n",
    "\n",
    "A1 =_\n",
    "\n",
    "\n",
    "df_aa"
   ]
  },
  {
   "cell_type": "markdown",
   "id": "038ee433",
   "metadata": {},
   "source": [
    "#### Multiplicative Decompose\n",
    "_Multiplicative method_ assumes that the time series is non-linear or exponential. Here, observed value is the product of its components  \n",
    "observed = trend * seasonal * residual"
   ]
  },
  {
   "cell_type": "markdown",
   "id": "1a00004d",
   "metadata": {},
   "source": [
    "#### Note:\n",
    "- Put figsize as (10,5)\n",
    "- Store the output plot in A2 variable"
   ]
  },
  {
   "cell_type": "markdown",
   "id": "611370c3",
   "metadata": {},
   "source": [
    "**Sample image:**\n",
    "    \n",
    "<img src='Sample_images/Expected2.png' style='width:600px;height:400px'>"
   ]
  },
  {
   "cell_type": "code",
   "execution_count": null,
   "id": "ffc16b6a",
   "metadata": {},
   "outputs": [],
   "source": [
    "#Multiplicative Decompose\n",
    "\n",
    "\n",
    "\n",
    "A2 = \n",
    "\n",
    "\n",
    "\n"
   ]
  },
  {
   "cell_type": "markdown",
   "id": "66af1e46",
   "metadata": {},
   "source": [
    "## AutoCorrelation Function"
   ]
  },
  {
   "cell_type": "markdown",
   "id": "959afa48",
   "metadata": {},
   "source": [
    "#### Note:\n",
    "- Take Lags as 40 and Zero as False\n",
    "- Give title as ACF for Closed Prices and Font size is 20\n",
    "- Store the output plot in A3 variable\n",
    "    "
   ]
  },
  {
   "cell_type": "markdown",
   "id": "bb4d9f00",
   "metadata": {},
   "source": [
    "**Sample image:**\n",
    "    \n",
    "<img src='Sample_images/Expected3.png' style='width:600px;height:400px'>"
   ]
  },
  {
   "cell_type": "code",
   "execution_count": null,
   "id": "25f94c09",
   "metadata": {},
   "outputs": [],
   "source": [
    "#AutoCorrelation Function\n",
    "\n",
    "\n",
    "\n",
    "A3 = \n",
    "\n",
    "\n",
    "\n"
   ]
  },
  {
   "cell_type": "markdown",
   "id": "9c2319be",
   "metadata": {},
   "source": [
    "## Partial AutoCorrelation Function"
   ]
  },
  {
   "cell_type": "markdown",
   "id": "0e83e8d3",
   "metadata": {},
   "source": [
    "#### Note:\n",
    "- Take Lags as 40, Zero as False and method as 'ols\n",
    "- Give title as PACF for Closed Prices and Font size is 20\n",
    "- Store the output plot in A4 variable"
   ]
  },
  {
   "cell_type": "markdown",
   "id": "87adc0a2",
   "metadata": {},
   "source": [
    "**Sample image:**\n",
    "    \n",
    "<img src='Sample_images/Expected4.png' style='width:600px;height:400px'>"
   ]
  },
  {
   "cell_type": "code",
   "execution_count": null,
   "id": "fa558af8",
   "metadata": {},
   "outputs": [],
   "source": [
    "#Partial AutoCorrelation Function\n",
    "\n",
    "\n",
    "\n",
    "A4 =\n",
    "\n",
    "\n",
    "\n"
   ]
  },
  {
   "cell_type": "markdown",
   "id": "1e0e7e4d",
   "metadata": {},
   "source": [
    "## Auto Regressive Model "
   ]
  },
  {
   "cell_type": "markdown",
   "id": "ba35f85e",
   "metadata": {},
   "source": [
    "### $ x_t = C + \\phi * x_{t-1} + \\epsilon_t  $"
   ]
  },
  {
   "cell_type": "markdown",
   "id": "6fa401f9",
   "metadata": {},
   "source": [
    "#### Note:\n",
    "- Print the summary of fittedModel using the summary() function\n",
    "- Store the output plot in A5 variable"
   ]
  },
  {
   "cell_type": "code",
   "execution_count": null,
   "id": "6df946b0",
   "metadata": {},
   "outputs": [],
   "source": [
    "#Auto Regressive Model  \n",
    "\n",
    "\n",
    "\n",
    "A5 =\n",
    "\n",
    "\n",
    "\n"
   ]
  },
  {
   "cell_type": "markdown",
   "id": "c2cea196",
   "metadata": {},
   "source": [
    "## Moving Average Model "
   ]
  },
  {
   "cell_type": "markdown",
   "id": "402d52c9",
   "metadata": {},
   "source": [
    "## $ r_t = C + \\theta_1 * \\epsilon_{t-1} + \\epsilon_{t} $"
   ]
  },
  {
   "cell_type": "markdown",
   "id": "c1b36996",
   "metadata": {},
   "source": [
    "#### Note:\n",
    "- Print the summary of fittedModel using the summary() function\n",
    "- Store the output plot in A6 variable"
   ]
  },
  {
   "cell_type": "code",
   "execution_count": null,
   "id": "068368cc",
   "metadata": {},
   "outputs": [],
   "source": [
    "# Moving Average Model \n",
    "\n",
    "\n",
    "\n",
    "A6 =\n",
    "\n",
    "\n",
    "\n"
   ]
  },
  {
   "cell_type": "markdown",
   "id": "9814a2dd",
   "metadata": {},
   "source": [
    "### Run the below cell without modifying to save your answers"
   ]
  },
  {
   "cell_type": "code",
   "execution_count": null,
   "id": "5fa17288",
   "metadata": {},
   "outputs": [],
   "source": [
    "import pickle\n",
    "\n",
    "def pickle1(FTSE, obj):\n",
    "    with open(FTSE,'wb')as f:\n",
    "        pickle.dump(obj,f,pickle.HIGHEST_PROTOCOL)   \n",
    "\n",
    "def pickling():\n",
    "    try:\n",
    "        pickle1('A1.pickle',A1)\n",
    "    except:\n",
    "        print('A1 variale is not defined. Please check the variable')\n",
    "    try:\n",
    "        pickle1('A2.pickle',A2)\n",
    "    except:\n",
    "        print('A2 variale is not defined. Please check the variable')\n",
    "    try:\n",
    "        pickle1('A3.pickle',A3)\n",
    "    except:\n",
    "        print('A3 variale is not defined. Please check the variable')\n",
    "    try:\n",
    "        pickle1('A4.pickle',A4)\n",
    "    except:\n",
    "        print('A4 variale is not defined. Please check the variable')\n",
    "    try:\n",
    "        pickle1('A5.pickle',A5)\n",
    "    except:\n",
    "        print('A5 variale is not defined. Please check the variable')\n",
    "    try:\n",
    "        pickle1('A6.pickle',A6)\n",
    "    except:\n",
    "        print('A6 variale is not defined. Please check the variable')\n",
    "        \n",
    "pickling()"
   ]
  }
 ],
 "metadata": {
  "kernelspec": {
   "display_name": "Python 3",
   "language": "python",
   "name": "python3"
  },
  "language_info": {
   "codemirror_mode": {
    "name": "ipython",
    "version": 3
   },
   "file_extension": ".py",
   "mimetype": "text/x-python",
   "name": "python",
   "nbconvert_exporter": "python",
   "pygments_lexer": "ipython3",
   "version": "3.8.8"
  }
 },
 "nbformat": 4,
 "nbformat_minor": 5
}

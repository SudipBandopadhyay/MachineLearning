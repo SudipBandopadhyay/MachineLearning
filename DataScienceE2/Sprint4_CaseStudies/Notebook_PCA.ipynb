{
 "cells": [
  {
   "cell_type": "markdown",
   "metadata": {},
   "source": [
    "# PCA\n",
    "\n",
    "Principal Component Analysis (PCA) offers an effective way to reduce the dimensions of the data. This reduction of data allows for improved training speeds for machine learning and easier visualization of the data.\n",
    "\n",
    "Since the number of dimensions are reduced, some information will be lost. However, in many cases this loss is acceptable. And in some cases, this loss can eliminate a portion of the noise in the training data.\n",
    "\n",
    "PCA works by generating n vectors (where n is dimensionality of the data) along which the most variance is explained in decreasing order (the first vector explains the most variance, the second variance the second most, etc).\n",
    "\n",
    "Below PCA has been applied to examine the iris data set."
   ]
  },
  {
   "cell_type": "markdown",
   "metadata": {},
   "source": [
    "#### Import relevant libraries"
   ]
  },
  {
   "cell_type": "code",
   "execution_count": 32,
   "metadata": {},
   "outputs": [],
   "source": [
    "from sklearn.datasets import load_iris\n",
    "from sklearn.decomposition import PCA\n",
    "import matplotlib.pyplot as plt\n",
    "import seaborn as sns\n",
    "import pandas as pd\n",
    "import numpy as np\n",
    "%matplotlib inline"
   ]
  },
  {
   "cell_type": "markdown",
   "metadata": {},
   "source": [
    "#### Load Data"
   ]
  },
  {
   "cell_type": "code",
   "execution_count": 33,
   "metadata": {},
   "outputs": [
    {
     "data": {
      "text/plain": [
       "Index([0, 1, 2, 3, 'Label', 'Species'], dtype='object')"
      ]
     },
     "execution_count": 33,
     "metadata": {},
     "output_type": "execute_result"
    }
   ],
   "source": [
    "iris = load_iris()\n",
    "\n",
    "X = iris.data\n",
    "y = iris.target \n",
    "\n",
    "df = pd.DataFrame(X)\n",
    "df['Label']=y\n",
    "\n",
    "# Map species as per the lables as {0: 'setosa', 1: 'versicolor', 2: 'virginica'} \n",
    "'''df.loc[df.Label == 0, \"Species\"] = \"setosa\"\n",
    "df.loc[df.Label == 1, \"Species\"] = \"versicolor\"\n",
    "df.loc[df.Label == 2, \"Species\"] = \"virginica\"'''\n",
    "\n",
    "df['Species']=df['Label'].map({0: 'setosa',1: 'versicolor',2: 'virginica'})\n",
    "df.head()\n",
    "df.columns"
   ]
  },
  {
   "cell_type": "markdown",
   "metadata": {},
   "source": [
    "#### Generate PCA df\n",
    "\n",
    "PCA requires that the data be centered at 0, but sklearn does this automatically for us."
   ]
  },
  {
   "cell_type": "code",
   "execution_count": 34,
   "metadata": {},
   "outputs": [
    {
     "data": {
      "text/html": [
       "<div>\n",
       "<style scoped>\n",
       "    .dataframe tbody tr th:only-of-type {\n",
       "        vertical-align: middle;\n",
       "    }\n",
       "\n",
       "    .dataframe tbody tr th {\n",
       "        vertical-align: top;\n",
       "    }\n",
       "\n",
       "    .dataframe thead th {\n",
       "        text-align: right;\n",
       "    }\n",
       "</style>\n",
       "<table border=\"1\" class=\"dataframe\">\n",
       "  <thead>\n",
       "    <tr style=\"text-align: right;\">\n",
       "      <th></th>\n",
       "      <th>0</th>\n",
       "      <th>1</th>\n",
       "      <th>2</th>\n",
       "      <th>3</th>\n",
       "      <th>Label</th>\n",
       "      <th>Species</th>\n",
       "      <th>PC1</th>\n",
       "      <th>PC2</th>\n",
       "      <th>PC3</th>\n",
       "      <th>PC4</th>\n",
       "    </tr>\n",
       "  </thead>\n",
       "  <tbody>\n",
       "    <tr>\n",
       "      <th>0</th>\n",
       "      <td>5.1</td>\n",
       "      <td>3.5</td>\n",
       "      <td>1.4</td>\n",
       "      <td>0.2</td>\n",
       "      <td>0</td>\n",
       "      <td>setosa</td>\n",
       "      <td>-2.684126</td>\n",
       "      <td>0.319397</td>\n",
       "      <td>-0.027915</td>\n",
       "      <td>-0.002262</td>\n",
       "    </tr>\n",
       "    <tr>\n",
       "      <th>1</th>\n",
       "      <td>4.9</td>\n",
       "      <td>3.0</td>\n",
       "      <td>1.4</td>\n",
       "      <td>0.2</td>\n",
       "      <td>0</td>\n",
       "      <td>setosa</td>\n",
       "      <td>-2.714142</td>\n",
       "      <td>-0.177001</td>\n",
       "      <td>-0.210464</td>\n",
       "      <td>-0.099027</td>\n",
       "    </tr>\n",
       "    <tr>\n",
       "      <th>2</th>\n",
       "      <td>4.7</td>\n",
       "      <td>3.2</td>\n",
       "      <td>1.3</td>\n",
       "      <td>0.2</td>\n",
       "      <td>0</td>\n",
       "      <td>setosa</td>\n",
       "      <td>-2.888991</td>\n",
       "      <td>-0.144949</td>\n",
       "      <td>0.017900</td>\n",
       "      <td>-0.019968</td>\n",
       "    </tr>\n",
       "    <tr>\n",
       "      <th>3</th>\n",
       "      <td>4.6</td>\n",
       "      <td>3.1</td>\n",
       "      <td>1.5</td>\n",
       "      <td>0.2</td>\n",
       "      <td>0</td>\n",
       "      <td>setosa</td>\n",
       "      <td>-2.745343</td>\n",
       "      <td>-0.318299</td>\n",
       "      <td>0.031559</td>\n",
       "      <td>0.075576</td>\n",
       "    </tr>\n",
       "    <tr>\n",
       "      <th>4</th>\n",
       "      <td>5.0</td>\n",
       "      <td>3.6</td>\n",
       "      <td>1.4</td>\n",
       "      <td>0.2</td>\n",
       "      <td>0</td>\n",
       "      <td>setosa</td>\n",
       "      <td>-2.728717</td>\n",
       "      <td>0.326755</td>\n",
       "      <td>0.090079</td>\n",
       "      <td>0.061259</td>\n",
       "    </tr>\n",
       "    <tr>\n",
       "      <th>...</th>\n",
       "      <td>...</td>\n",
       "      <td>...</td>\n",
       "      <td>...</td>\n",
       "      <td>...</td>\n",
       "      <td>...</td>\n",
       "      <td>...</td>\n",
       "      <td>...</td>\n",
       "      <td>...</td>\n",
       "      <td>...</td>\n",
       "      <td>...</td>\n",
       "    </tr>\n",
       "    <tr>\n",
       "      <th>145</th>\n",
       "      <td>6.7</td>\n",
       "      <td>3.0</td>\n",
       "      <td>5.2</td>\n",
       "      <td>2.3</td>\n",
       "      <td>2</td>\n",
       "      <td>virginica</td>\n",
       "      <td>1.944110</td>\n",
       "      <td>0.187532</td>\n",
       "      <td>0.177825</td>\n",
       "      <td>-0.426196</td>\n",
       "    </tr>\n",
       "    <tr>\n",
       "      <th>146</th>\n",
       "      <td>6.3</td>\n",
       "      <td>2.5</td>\n",
       "      <td>5.0</td>\n",
       "      <td>1.9</td>\n",
       "      <td>2</td>\n",
       "      <td>virginica</td>\n",
       "      <td>1.527167</td>\n",
       "      <td>-0.375317</td>\n",
       "      <td>-0.121898</td>\n",
       "      <td>-0.254367</td>\n",
       "    </tr>\n",
       "    <tr>\n",
       "      <th>147</th>\n",
       "      <td>6.5</td>\n",
       "      <td>3.0</td>\n",
       "      <td>5.2</td>\n",
       "      <td>2.0</td>\n",
       "      <td>2</td>\n",
       "      <td>virginica</td>\n",
       "      <td>1.764346</td>\n",
       "      <td>0.078859</td>\n",
       "      <td>0.130482</td>\n",
       "      <td>-0.137001</td>\n",
       "    </tr>\n",
       "    <tr>\n",
       "      <th>148</th>\n",
       "      <td>6.2</td>\n",
       "      <td>3.4</td>\n",
       "      <td>5.4</td>\n",
       "      <td>2.3</td>\n",
       "      <td>2</td>\n",
       "      <td>virginica</td>\n",
       "      <td>1.900942</td>\n",
       "      <td>0.116628</td>\n",
       "      <td>0.723252</td>\n",
       "      <td>-0.044595</td>\n",
       "    </tr>\n",
       "    <tr>\n",
       "      <th>149</th>\n",
       "      <td>5.9</td>\n",
       "      <td>3.0</td>\n",
       "      <td>5.1</td>\n",
       "      <td>1.8</td>\n",
       "      <td>2</td>\n",
       "      <td>virginica</td>\n",
       "      <td>1.390189</td>\n",
       "      <td>-0.282661</td>\n",
       "      <td>0.362910</td>\n",
       "      <td>0.155039</td>\n",
       "    </tr>\n",
       "  </tbody>\n",
       "</table>\n",
       "<p>150 rows × 10 columns</p>\n",
       "</div>"
      ],
      "text/plain": [
       "       0    1    2    3  Label    Species       PC1       PC2       PC3  \\\n",
       "0    5.1  3.5  1.4  0.2      0     setosa -2.684126  0.319397 -0.027915   \n",
       "1    4.9  3.0  1.4  0.2      0     setosa -2.714142 -0.177001 -0.210464   \n",
       "2    4.7  3.2  1.3  0.2      0     setosa -2.888991 -0.144949  0.017900   \n",
       "3    4.6  3.1  1.5  0.2      0     setosa -2.745343 -0.318299  0.031559   \n",
       "4    5.0  3.6  1.4  0.2      0     setosa -2.728717  0.326755  0.090079   \n",
       "..   ...  ...  ...  ...    ...        ...       ...       ...       ...   \n",
       "145  6.7  3.0  5.2  2.3      2  virginica  1.944110  0.187532  0.177825   \n",
       "146  6.3  2.5  5.0  1.9      2  virginica  1.527167 -0.375317 -0.121898   \n",
       "147  6.5  3.0  5.2  2.0      2  virginica  1.764346  0.078859  0.130482   \n",
       "148  6.2  3.4  5.4  2.3      2  virginica  1.900942  0.116628  0.723252   \n",
       "149  5.9  3.0  5.1  1.8      2  virginica  1.390189 -0.282661  0.362910   \n",
       "\n",
       "          PC4  \n",
       "0   -0.002262  \n",
       "1   -0.099027  \n",
       "2   -0.019968  \n",
       "3    0.075576  \n",
       "4    0.061259  \n",
       "..        ...  \n",
       "145 -0.426196  \n",
       "146 -0.254367  \n",
       "147 -0.137001  \n",
       "148 -0.044595  \n",
       "149  0.155039  \n",
       "\n",
       "[150 rows x 10 columns]"
      ]
     },
     "execution_count": 34,
     "metadata": {},
     "output_type": "execute_result"
    }
   ],
   "source": [
    "#Transform features\n",
    "#Code\n",
    "pca=PCA()\n",
    "x_pca=pca.fit_transform(X)\n",
    "#Merge with df\n",
    "#Code\n",
    "pca_df=pd.DataFrame(x_pca,columns=['PC1','PC2','PC3','PC4'])\n",
    "df=pd.merge(df,pca_df,right_index=True,left_index=True)\n",
    "df"
   ]
  },
  {
   "cell_type": "markdown",
   "metadata": {},
   "source": [
    "#### Examine variance explained by each Principal Component\n",
    "\n"
   ]
  },
  {
   "cell_type": "code",
   "execution_count": 35,
   "metadata": {},
   "outputs": [
    {
     "name": "stdout",
     "output_type": "stream",
     "text": [
      "Explained Variance Ratio\n",
      "PC1: 0.9246187232017271\n",
      "PC2: 0.05306648311706783\n",
      "PC3: 0.01710260980792974\n",
      "PC4: 0.005212183873275366\n"
     ]
    },
    {
     "data": {
      "text/plain": [
       "\"pca = PCA(n_components=2)\\nprincipal_components=pca.fit_transform(X)\\nprincipaldf=pd.DataFrame(principal_components)\\n#print(principaldf)\\nexp_var_pca = pca.explained_variance_ratio_\\ncum_sum_eigenvalues = np.cumsum(exp_var_pca)\\nplt.bar(range(0,len(exp_var_pca)), exp_var_pca, alpha=0.5,align='center', label='Individual explained variance')\\nplt.step(range(0,len(cum_sum_eigenvalues)), cum_sum_eigenvalues, where='mid',label='Cumulative explained variance')\\nplt.ylabel('Explained variance ratio')\\nplt.xlabel('Principal component index')\\nplt.legend(loc='best')\\nplt.tight_layout()\\nplt.show()\\nprint('Variance of each component:', pca.explained_variance_ratio_)\\nprint('\\n Total Variance Explained:', round(sum(list(pca.explained_variance_ratio_))*100, 2))\""
      ]
     },
     "execution_count": 35,
     "metadata": {},
     "output_type": "execute_result"
    }
   ],
   "source": [
    "print('Explained Variance Ratio')\n",
    "# code\n",
    "for i in range(4):\n",
    "    print('PC{}: {}'.format(i+1,pca.explained_variance_ratio_[i]))\n",
    "\n",
    "'''pca = PCA(n_components=2)\n",
    "principal_components=pca.fit_transform(X)\n",
    "principaldf=pd.DataFrame(principal_components)\n",
    "#print(principaldf)\n",
    "exp_var_pca = pca.explained_variance_ratio_\n",
    "cum_sum_eigenvalues = np.cumsum(exp_var_pca)\n",
    "plt.bar(range(0,len(exp_var_pca)), exp_var_pca, alpha=0.5,align='center', label='Individual explained variance')\n",
    "plt.step(range(0,len(cum_sum_eigenvalues)), cum_sum_eigenvalues, where='mid',label='Cumulative explained variance')\n",
    "plt.ylabel('Explained variance ratio')\n",
    "plt.xlabel('Principal component index')\n",
    "plt.legend(loc='best')\n",
    "plt.tight_layout()\n",
    "plt.show()\n",
    "print('Variance of each component:', pca.explained_variance_ratio_)\n",
    "print('\\n Total Variance Explained:', round(sum(list(pca.explained_variance_ratio_))*100, 2))'''"
   ]
  },
  {
   "cell_type": "markdown",
   "metadata": {},
   "source": [
    "## Q1: What is the variance Ratio for PC1? \n",
    "\n",
    "    A: PC1: 0.9246162071742683\n",
    "    B: PC1: 0.053015567850535045\n",
    "    C: PC1: 0.017185139525006807\n",
    "    D: PC1: 0.005183085450189932\n",
    "\n",
    "    assgin A,B,C or D to q1."
   ]
  },
  {
   "cell_type": "code",
   "execution_count": 36,
   "metadata": {},
   "outputs": [],
   "source": [
    "# Replace \"X\" with A,B,C or D\n",
    "q1 = str('A')"
   ]
  },
  {
   "cell_type": "code",
   "execution_count": 37,
   "metadata": {},
   "outputs": [],
   "source": [
    "'''\n",
    "Please run this cell to to, submit your option for evalutaion\n",
    "'''\n",
    "\n",
    "file=open(\"submit0.txt\",\"w+\")\n",
    "\n",
    "s0=q1\n",
    "file.write(s0)\n",
    "file.write(\"\\n\")\n",
    "file.close()"
   ]
  },
  {
   "cell_type": "markdown",
   "metadata": {},
   "source": [
    "#### Visualize data in one dimension\n",
    "This may incline us to visualize (and perhaps classify the data) via this first principle component alone. We can use PC1 to visualize the data in one dimension.\n",
    "\n"
   ]
  },
  {
   "cell_type": "code",
   "execution_count": 38,
   "metadata": {},
   "outputs": [
    {
     "data": {
      "text/plain": [
       "Text(0.5, 1.0, 'Iris Data Visualised in one Deimension')"
      ]
     },
     "execution_count": 38,
     "metadata": {},
     "output_type": "execute_result"
    },
    {
     "data": {
      "image/png": "[encoded data removed]",
      "text/plain": [
       "<Figure size 432x288 with 1 Axes>"
      ]
     },
     "metadata": {
      "needs_background": "light"
     },
     "output_type": "display_data"
    }
   ],
   "source": [
    "# code \n",
    "sns.stripplot(x='PC1',y='Species',data=df,jitter=True)\n",
    "plt.title('Iris Data Visualised in one Deimension')"
   ]
  },
  {
   "cell_type": "markdown",
   "metadata": {},
   "source": [
    "As you can see below, the setosa category can be entirely distinguished from the other two by this component. Although the other two species are mostly separable, they experience some significant overlap which could make classification difficult with PC1 alone."
   ]
  },
  {
   "cell_type": "markdown",
   "metadata": {},
   "source": [
    "#### Explaining more variance"
   ]
  },
  {
   "cell_type": "markdown",
   "metadata": {},
   "source": [
    "Perhaps we want to be sure that our model is explaining 95% of the variance (instead of our current 92%). If a variance threshold is known, but the number of desired components is not, then we can set the n_components parameter to the percentage we desire. When the number of components is known, the n_components parameter can instead be set to the number of principal components desired."
   ]
  },
  {
   "cell_type": "code",
   "execution_count": 40,
   "metadata": {},
   "outputs": [
    {
     "name": "stdout",
     "output_type": "stream",
     "text": [
      "2 Principal Components are required to explain 0.95 of the variation in this data.\n"
     ]
    }
   ],
   "source": [
    "precent_of_variance_explained = .95 \n",
    "\n",
    "pca = PCA(n_components=precent_of_variance_explained)\n",
    "\n",
    "pca_data=pca.fit_transform(X)\n",
    "\n",
    "print(\"{} Principal Components are required to explain {} of the variation in this data.\".format(pca.n_components_,precent_of_variance_explained))"
   ]
  },
  {
   "cell_type": "markdown",
   "metadata": {},
   "source": [
    "## Q2: Principal Components are required to explain 0.95 of the variation in this data.? \n",
    "\n",
    "    A: 4\n",
    "    B: 3\n",
    "    C: 2\n",
    "    D: 1\n",
    "\n",
    "    assgin A,B,C or D to q2."
   ]
  },
  {
   "cell_type": "code",
   "execution_count": 41,
   "metadata": {},
   "outputs": [],
   "source": [
    "# Replace \"X\" with A,B,C or D\n",
    "q2 = str(\"C\")"
   ]
  },
  {
   "cell_type": "code",
   "execution_count": 42,
   "metadata": {},
   "outputs": [],
   "source": [
    "'''\n",
    "Please run this cell to to, submit your option for evalutaion\n",
    "'''\n",
    "\n",
    "file=open(\"submit1.txt\",\"w+\")\n",
    "\n",
    "s1=q2\n",
    "file.write(s1)\n",
    "file.write(\"\\n\")\n",
    "file.close()"
   ]
  },
  {
   "cell_type": "markdown",
   "metadata": {},
   "source": [
    "#### Determing the right number of dimensions\n",
    "\n",
    "We can attempt to confirm that '_' is a natural number of dimensions for our data by visualizing the relationship between the number of principal components and the variance explained.\n",
    "\n"
   ]
  },
  {
   "cell_type": "code",
   "execution_count": 45,
   "metadata": {},
   "outputs": [
    {
     "name": "stdout",
     "output_type": "stream",
     "text": [
      "[0.92461872 0.97768521 0.99478782 1.        ]\n"
     ]
    },
    {
     "data": {
      "text/plain": [
       "(0.0, 1.1)"
      ]
     },
     "execution_count": 45,
     "metadata": {},
     "output_type": "execute_result"
    },
    {
     "data": {
      "image/png": "[encoded data removed]",
      "text/plain": [
       "<Figure size 432x288 with 1 Axes>"
      ]
     },
     "metadata": {
      "needs_background": "light"
     },
     "output_type": "display_data"
    }
   ],
   "source": [
    "# Plot the graph for Selecting the right number of dimensions\n",
    "# graph b/w Dimensions and Variance Explained\n",
    "pca=PCA().fit(X)\n",
    "cumsum = np.cumsum(pca.explained_variance_ratio_)\n",
    "print(cumsum)\n",
    "dim= np.arange(len(cumsum))+1\n",
    "\n",
    "plt.plot(dim,cumsum,'-',lw=3);\n",
    "\n",
    "plt.xlabel('Dimensions')\n",
    "plt.ylabel('Variance Explained')\n",
    "plt.title('Selecting the Right no of Dimensions')\n",
    "\n",
    "plt.xticks([1,2,3,4])\n",
    "plt.ylim([0,1.1])\n"
   ]
  },
  {
   "cell_type": "markdown",
   "metadata": {},
   "source": [
    "#### Plotting the data in two dimensions\n",
    "Thus we should consider plotting the data in two dimensions."
   ]
  },
  {
   "cell_type": "code",
   "execution_count": 46,
   "metadata": {},
   "outputs": [
    {
     "name": "stderr",
     "output_type": "stream",
     "text": [
      "E:\\MachineLearning\\Anaconda3\\lib\\site-packages\\seaborn\\_decorators.py:36: FutureWarning: Pass the following variables as keyword args: x, y. From version 0.12, the only valid positional argument will be `data`, and passing other arguments without an explicit keyword will result in an error or misinterpretation.\n",
      "  warnings.warn(\n"
     ]
    },
    {
     "data": {
      "text/plain": [
       "Text(0.5, 1.0, 'Iris Data Visualised in Two Dimension')"
      ]
     },
     "execution_count": 46,
     "metadata": {},
     "output_type": "execute_result"
    },
    {
     "data": {
      "image/png": "[encoded data removed]",
      "text/plain": [
       "<Figure size 444.75x360 with 1 Axes>"
      ]
     },
     "metadata": {
      "needs_background": "light"
     },
     "output_type": "display_data"
    }
   ],
   "source": [
    "# Plot lmplot for PC1 and PC2 \n",
    "sns.lmplot('PC1','PC2',data=df,hue='Species',fit_reg=False)\n",
    "plt.title('Iris Data Visualised in Two Dimension')"
   ]
  },
  {
   "cell_type": "markdown",
   "metadata": {},
   "source": [
    "## Q3 Is the data is nearly entireably separable with the first two principle components alone? \n",
    "    A: False \n",
    "    B: True\n",
    "    \n",
    "    Assgin A or B to q3."
   ]
  },
  {
   "cell_type": "code",
   "execution_count": 47,
   "metadata": {},
   "outputs": [],
   "source": [
    "# Replace \"X\" with A or B\n",
    "q3 = str(\"B\")"
   ]
  },
  {
   "cell_type": "code",
   "execution_count": 48,
   "metadata": {},
   "outputs": [],
   "source": [
    "'''\n",
    "Please run this cell to to, submit your option for evalutaion\n",
    "'''\n",
    "\n",
    "file=open(\"submit2.txt\",\"w+\")\n",
    "\n",
    "s2=q3\n",
    "file.write(s2)\n",
    "file.write(\"\\n\")\n",
    "file.close()"
   ]
  },
  {
   "cell_type": "code",
   "execution_count": 21,
   "metadata": {},
   "outputs": [],
   "source": []
  },
  {
   "cell_type": "code",
   "execution_count": null,
   "metadata": {},
   "outputs": [],
   "source": []
  },
  {
   "cell_type": "code",
   "execution_count": null,
   "metadata": {},
   "outputs": [],
   "source": []
  }
 ],
 "metadata": {
  "kernelspec": {
   "display_name": "Python 3",
   "language": "python",
   "name": "python3"
  },
  "language_info": {
   "codemirror_mode": {
    "name": "ipython",
    "version": 3
   },
   "file_extension": ".py",
   "mimetype": "text/x-python",
   "name": "python",
   "nbconvert_exporter": "python",
   "pygments_lexer": "ipython3",
   "version": "3.8.8"
  }
 },
 "nbformat": 4,
 "nbformat_minor": 4
}

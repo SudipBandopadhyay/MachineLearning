{
 "cells": [
  {
   "cell_type": "markdown",
   "metadata": {},
   "source": [
    "## K-Means Clustering"
   ]
  },
  {
   "cell_type": "code",
   "execution_count": 1,
   "metadata": {},
   "outputs": [
    {
     "name": "stdout",
     "output_type": "stream",
     "text": [
      "Processing e:\\machinelearning\\machine learning\\datasciencee2\\sprint4_casestudies\\testclustering-0.1-py3-none-any.whl\n",
      "Requirement already satisfied: pandas in e:\\machinelearning\\anaconda3\\lib\\site-packages (from testclustering==0.1) (1.2.4)\n",
      "Requirement already satisfied: matplotlib in e:\\machinelearning\\anaconda3\\lib\\site-packages (from testclustering==0.1) (3.3.4)\n",
      "Requirement already satisfied: numpy in e:\\machinelearning\\anaconda3\\lib\\site-packages (from testclustering==0.1) (1.20.1)\n",
      "Requirement already satisfied: kiwisolver>=1.0.1 in e:\\machinelearning\\anaconda3\\lib\\site-packages (from matplotlib->testclustering==0.1) (1.3.1)\n",
      "Requirement already satisfied: pillow>=6.2.0 in e:\\machinelearning\\anaconda3\\lib\\site-packages (from matplotlib->testclustering==0.1) (8.2.0)\n",
      "Requirement already satisfied: python-dateutil>=2.1 in e:\\machinelearning\\anaconda3\\lib\\site-packages (from matplotlib->testclustering==0.1) (2.8.1)\n",
      "Requirement already satisfied: pyparsing!=2.0.4,!=2.1.2,!=2.1.6,>=2.0.3 in e:\\machinelearning\\anaconda3\\lib\\site-packages (from matplotlib->testclustering==0.1) (2.4.7)\n",
      "Requirement already satisfied: cycler>=0.10 in e:\\machinelearning\\anaconda3\\lib\\site-packages (from matplotlib->testclustering==0.1) (0.10.0)\n",
      "Requirement already satisfied: six in e:\\machinelearning\\anaconda3\\lib\\site-packages (from cycler>=0.10->matplotlib->testclustering==0.1) (1.15.0)\n",
      "Requirement already satisfied: pytz>=2017.3 in e:\\machinelearning\\anaconda3\\lib\\site-packages (from pandas->testclustering==0.1) (2021.1)\n",
      "Installing collected packages: testclustering\n",
      "Successfully installed testclustering-0.1\n"
     ]
    },
    {
     "name": "stderr",
     "output_type": "stream",
     "text": [
      "! was unexpected at this time.\n"
     ]
    }
   ],
   "source": [
    "!pip install ../testclustering-0.1-py3-none-any.whl\n",
    "!if [ ! -d ../.ans ]; then mkdir ../.ans; fi"
   ]
  },
  {
   "cell_type": "code",
   "execution_count": 2,
   "metadata": {},
   "outputs": [],
   "source": [
    "import numpy as np # linear algebra\n",
    "import pandas as pd # data processing, CSV file I/O (e.g. pd.read_csv)\n",
    "\n",
    "import scipy \n",
    "import seaborn as sns\n",
    "import matplotlib.pyplot as plt\n",
    "%matplotlib inline\n",
    "\n",
    "import sklearn\n",
    "from sklearn.cluster import KMeans"
   ]
  },
  {
   "cell_type": "markdown",
   "metadata": {},
   "source": [
    "### DataSet\n",
    "\n",
    "**Dataset Path:** ../dataset/customer.csv\n",
    "\n",
    "Given a data set of a retail company prepared using the RFM methodology, analyze the given data set.   \n",
    " \n",
    "The RFM method has three dimensions:   \n",
    "\n",
    "**Recency**: How recently did a particular customer make a purchase?   \n",
    "**Frequency**: How frequently does the customer make a purchase?    \n",
    "**Monetary**: How much does the customer spend?    \n",
    "  \n",
    "\n",
    "The given a data set is as described below:  \n",
    "A key column **customer** represents the name of the customer.    \n",
    "Recency Column named **days_between_first_last_orders** defining the number of days between the first and the last order of the customer.    \n",
    "Frequency Column named **count_orders_all** contains the total number of orders placed by the customer.    \n",
    "Frequency Column named **count_orders_last_120_days** defines the total number of orders placed by the customer for the last 120 days.    \n",
    "Monetary Column named **sum_revenue_all** defines the total amount of money the customer has spent.   \n",
    "Monetary Column named **sum_revenue_last_120_days** defines the total amount of money the customer has spent in the last 120 days.    \n",
    "Monetary Column named **mean_revenue_all** defines the average amount of money the customer has spent.     \n",
    " "
   ]
  },
  {
   "cell_type": "markdown",
   "metadata": {},
   "source": [
    "### Reading and Understanding Data"
   ]
  },
  {
   "cell_type": "code",
   "execution_count": 3,
   "metadata": {},
   "outputs": [],
   "source": [
    "#read csv data and store into dataframe\n",
    "df = pd.read_csv('../dataset/customer.csv')"
   ]
  },
  {
   "cell_type": "code",
   "execution_count": 4,
   "metadata": {},
   "outputs": [],
   "source": [
    "#take copy of original data \n",
    "df1=df"
   ]
  },
  {
   "cell_type": "code",
   "execution_count": 5,
   "metadata": {},
   "outputs": [
    {
     "name": "stdout",
     "output_type": "stream",
     "text": [
      "(120, 7)\n"
     ]
    },
    {
     "data": {
      "text/html": [
       "<div>\n",
       "<style scoped>\n",
       "    .dataframe tbody tr th:only-of-type {\n",
       "        vertical-align: middle;\n",
       "    }\n",
       "\n",
       "    .dataframe tbody tr th {\n",
       "        vertical-align: top;\n",
       "    }\n",
       "\n",
       "    .dataframe thead th {\n",
       "        text-align: right;\n",
       "    }\n",
       "</style>\n",
       "<table border=\"1\" class=\"dataframe\">\n",
       "  <thead>\n",
       "    <tr style=\"text-align: right;\">\n",
       "      <th></th>\n",
       "      <th>days_between_first_last_orders</th>\n",
       "      <th>count_orders_all</th>\n",
       "      <th>count_orders_last_120_days</th>\n",
       "      <th>sum_revenue_all</th>\n",
       "      <th>sum_revenue_last_120_days</th>\n",
       "      <th>mean_revenue_all</th>\n",
       "    </tr>\n",
       "  </thead>\n",
       "  <tbody>\n",
       "    <tr>\n",
       "      <th>count</th>\n",
       "      <td>120.000000</td>\n",
       "      <td>120.000000</td>\n",
       "      <td>120.000000</td>\n",
       "      <td>120.000000</td>\n",
       "      <td>120.000000</td>\n",
       "      <td>120.000000</td>\n",
       "    </tr>\n",
       "    <tr>\n",
       "      <th>mean</th>\n",
       "      <td>239.783333</td>\n",
       "      <td>7.558333</td>\n",
       "      <td>3.083333</td>\n",
       "      <td>11634.158333</td>\n",
       "      <td>4595.925000</td>\n",
       "      <td>1460.525000</td>\n",
       "    </tr>\n",
       "    <tr>\n",
       "      <th>std</th>\n",
       "      <td>129.508326</td>\n",
       "      <td>6.264205</td>\n",
       "      <td>3.549372</td>\n",
       "      <td>15042.369558</td>\n",
       "      <td>5575.321442</td>\n",
       "      <td>827.219784</td>\n",
       "    </tr>\n",
       "    <tr>\n",
       "      <th>min</th>\n",
       "      <td>11.000000</td>\n",
       "      <td>3.000000</td>\n",
       "      <td>0.000000</td>\n",
       "      <td>1371.000000</td>\n",
       "      <td>0.000000</td>\n",
       "      <td>425.000000</td>\n",
       "    </tr>\n",
       "    <tr>\n",
       "      <th>25%</th>\n",
       "      <td>124.500000</td>\n",
       "      <td>4.000000</td>\n",
       "      <td>1.000000</td>\n",
       "      <td>4594.500000</td>\n",
       "      <td>481.750000</td>\n",
       "      <td>976.250000</td>\n",
       "    </tr>\n",
       "    <tr>\n",
       "      <th>50%</th>\n",
       "      <td>251.500000</td>\n",
       "      <td>6.000000</td>\n",
       "      <td>2.000000</td>\n",
       "      <td>7903.500000</td>\n",
       "      <td>2330.500000</td>\n",
       "      <td>1226.000000</td>\n",
       "    </tr>\n",
       "    <tr>\n",
       "      <th>75%</th>\n",
       "      <td>357.250000</td>\n",
       "      <td>9.000000</td>\n",
       "      <td>4.000000</td>\n",
       "      <td>12181.000000</td>\n",
       "      <td>6498.000000</td>\n",
       "      <td>1713.250000</td>\n",
       "    </tr>\n",
       "    <tr>\n",
       "      <th>max</th>\n",
       "      <td>470.000000</td>\n",
       "      <td>40.000000</td>\n",
       "      <td>25.000000</td>\n",
       "      <td>121660.000000</td>\n",
       "      <td>27598.000000</td>\n",
       "      <td>6614.000000</td>\n",
       "    </tr>\n",
       "  </tbody>\n",
       "</table>\n",
       "</div>"
      ],
      "text/plain": [
       "       days_between_first_last_orders  count_orders_all  \\\n",
       "count                      120.000000        120.000000   \n",
       "mean                       239.783333          7.558333   \n",
       "std                        129.508326          6.264205   \n",
       "min                         11.000000          3.000000   \n",
       "25%                        124.500000          4.000000   \n",
       "50%                        251.500000          6.000000   \n",
       "75%                        357.250000          9.000000   \n",
       "max                        470.000000         40.000000   \n",
       "\n",
       "       count_orders_last_120_days  sum_revenue_all  sum_revenue_last_120_days  \\\n",
       "count                  120.000000       120.000000                 120.000000   \n",
       "mean                     3.083333     11634.158333                4595.925000   \n",
       "std                      3.549372     15042.369558                5575.321442   \n",
       "min                      0.000000      1371.000000                   0.000000   \n",
       "25%                      1.000000      4594.500000                 481.750000   \n",
       "50%                      2.000000      7903.500000                2330.500000   \n",
       "75%                      4.000000     12181.000000                6498.000000   \n",
       "max                     25.000000    121660.000000               27598.000000   \n",
       "\n",
       "       mean_revenue_all  \n",
       "count        120.000000  \n",
       "mean        1460.525000  \n",
       "std          827.219784  \n",
       "min          425.000000  \n",
       "25%          976.250000  \n",
       "50%         1226.000000  \n",
       "75%         1713.250000  \n",
       "max         6614.000000  "
      ]
     },
     "execution_count": 5,
     "metadata": {},
     "output_type": "execute_result"
    }
   ],
   "source": [
    "#Find Shape\n",
    "print(df.shape)\n",
    "df.describe()\n",
    "#Analyse the Summary of the Dataset"
   ]
  },
  {
   "cell_type": "markdown",
   "metadata": {},
   "source": [
    "### Data cleaning\n",
    "\n",
    "-----------"
   ]
  },
  {
   "cell_type": "code",
   "execution_count": 6,
   "metadata": {},
   "outputs": [
    {
     "data": {
      "text/plain": [
       "customer                          0\n",
       "days_between_first_last_orders    0\n",
       "count_orders_all                  0\n",
       "count_orders_last_120_days        0\n",
       "sum_revenue_all                   0\n",
       "sum_revenue_last_120_days         0\n",
       "mean_revenue_all                  0\n",
       "dtype: int64"
      ]
     },
     "execution_count": 6,
     "metadata": {},
     "output_type": "execute_result"
    }
   ],
   "source": [
    "#Check if dataset has null values\n",
    "df1.isnull().sum()"
   ]
  },
  {
   "cell_type": "code",
   "execution_count": 7,
   "metadata": {},
   "outputs": [],
   "source": [
    "#drop customer column\n",
    "df1= df1.drop('customer',axis=1)"
   ]
  },
  {
   "cell_type": "code",
   "execution_count": 8,
   "metadata": {},
   "outputs": [],
   "source": [
    "#Sort the data frame based on the column name\n",
    "df1 = df1.sort_index(axis=1)"
   ]
  },
  {
   "cell_type": "markdown",
   "metadata": {},
   "source": [
    "**Question 1:** Find all the variables has outliers in the dataframe (Use: IQR Way)\n",
    "\n",
    "Assign the all variable list to the variable **`a1`**. Make sure that **a1** should be list type."
   ]
  },
  {
   "cell_type": "code",
   "execution_count": 9,
   "metadata": {},
   "outputs": [
    {
     "name": "stdout",
     "output_type": "stream",
     "text": [
      "count_orders_all                     5.00\n",
      "count_orders_last_120_days           3.00\n",
      "days_between_first_last_orders     232.75\n",
      "mean_revenue_all                   737.00\n",
      "sum_revenue_all                   7586.50\n",
      "sum_revenue_last_120_days         6016.25\n",
      "dtype: float64\n"
     ]
    },
    {
     "data": {
      "text/plain": [
       "['count_orders_all',\n",
       " 'count_orders_last_120_days',\n",
       " 'mean_revenue_all',\n",
       " 'sum_revenue_all',\n",
       " 'sum_revenue_last_120_days']"
      ]
     },
     "execution_count": 9,
     "metadata": {},
     "output_type": "execute_result"
    }
   ],
   "source": [
    "#Find the outliers\n",
    "Q1 = df1.quantile(0.25)\n",
    "Q3 = df1.quantile(0.75)\n",
    "IQR = Q3 - Q1\n",
    "print(IQR)\n",
    "### Enter code below\n",
    "a1 = df1.columns[((df1 < (Q1 - 1.5 * IQR)) |(df1 > (Q3 + 1.5 * IQR))).any(axis=0)].tolist()\n",
    "### End code\n",
    "a1"
   ]
  },
  {
   "cell_type": "markdown",
   "metadata": {},
   "source": [
    "**Note: Data set contains some outliers. Let it be, We aren't going change anything.**"
   ]
  },
  {
   "cell_type": "markdown",
   "metadata": {},
   "source": [
    "### Data Visualization\n",
    "\n",
    "**Question 2:** Plot the graph, it should show that how the data is distributed over the all Variable (Hint: Use Box Plot)\n",
    "\n",
    "<a href=\"../expected_img/expected_boxplot_outliers.png\">Expected Boxplot</a>"
   ]
  },
  {
   "cell_type": "code",
   "execution_count": 10,
   "metadata": {},
   "outputs": [
    {
     "data": {
      "image/png": "[encoded data removed]",
      "text/plain": [
       "<Figure size 2160x720 with 1 Axes>"
      ]
     },
     "metadata": {
      "needs_background": "light"
     },
     "output_type": "display_data"
    }
   ],
   "source": [
    "# Using boxplot for indentify possible outliers values (Note rotate the box plot into 90 degree)\n",
    "### Don't remove any code given below. Enter your code in the appropriate section\n",
    "\n",
    "### Enter code below\n",
    "f1, ax1 = plt.subplots(1,1, figsize = (30, 10))\n",
    "plt.boxplot(df1)\n",
    "plt.xticks([1,2,3,4,5,6],['count_orders_all', 'count_orders_last_120_days', 'mean_revenue_all','days_between_first_last_orders',\n",
    "                           'sum_revenue_all', 'sum_revenue_last_120_days'],rotation=90)\n",
    "plt.grid()\n",
    "### End code\n",
    "ax1.set_yscale('log')\n",
    "plt.show()"
   ]
  },
  {
   "cell_type": "markdown",
   "metadata": {},
   "source": [
    "**Question 3**    \n",
    "\n",
    "i) Find the optimal cluster `n`. Take a range from (1, 10) from which n is optimal cluster for K-Means Clustering. Set `random_state=42` while build cluster. **(Use Elbow Method)**   \n",
    "ii) Plot the graph which show how SSE square decrease when n clusters increased. (Use line plot)\n",
    "\n",
    "Assign optimal cluster `n` value as int to the variable **`a2`**. Make sure that **a2** should be int type.\n",
    "\n",
    "<a href=\"../expected_img/expected_lineplot_elbow.png\">Expected Line Plot (Elbow Method)</a>"
   ]
  },
  {
   "cell_type": "code",
   "execution_count": 11,
   "metadata": {},
   "outputs": [
    {
     "name": "stderr",
     "output_type": "stream",
     "text": [
      "E:\\MachineLearning\\Anaconda3\\lib\\site-packages\\sklearn\\cluster\\_kmeans.py:881: UserWarning: KMeans is known to have a memory leak on Windows with MKL, when there are less chunks than available threads. You can avoid it by setting the environment variable OMP_NUM_THREADS=1.\n",
      "  warnings.warn(\n"
     ]
    },
    {
     "data": {
      "image/png": "[encoded data removed]",
      "text/plain": [
       "<Figure size 720x432 with 1 Axes>"
      ]
     },
     "metadata": {
      "needs_background": "light"
     },
     "output_type": "display_data"
    }
   ],
   "source": [
    "# Use the Elbow method to find a good number of clusters using WCSS\n",
    "### Don't remove any code given below. Enter your code in the appropriate section\n",
    "# set random_state=42 to make sure the results are producible and match the expected outputs.\n",
    "f2, ax2 = plt.subplots(1,1, figsize = (10, 6))\n",
    "\n",
    "### Enter code below\n",
    "sse = []\n",
    "K = range(1,10)\n",
    "for k in K:\n",
    "    kmeanModel = KMeans(n_clusters=k,random_state=42)\n",
    "    kmeanModel.fit(df1)\n",
    "    sse.append(kmeanModel.inertia_)\n",
    "plt.plot(K, sse)\n",
    "plt.legend(['SSE'])\n",
    "a2 = 4\n",
    "### End code\n",
    "plt.show()"
   ]
  },
  {
   "cell_type": "markdown",
   "metadata": {},
   "source": [
    "**Question 4:** Create cluster for given data set. Create and Train Kmeans Clustering based on optimal cluster `n` value. \n",
    "\n",
    "Assign Cluster Labels as list to the variable **`a3`**. Make sure that **a3** should be list type."
   ]
  },
  {
   "cell_type": "code",
   "execution_count": 12,
   "metadata": {},
   "outputs": [],
   "source": [
    "    # Create Kmeans Clustering based on optimal cluster `n` value\n",
    "# Set random_state=42 to make sure the results are producible and match the expected outputs.\n",
    "# identify the cluster for each record belongs.\n",
    "### Enter code below\n",
    "model=KMeans(n_clusters=4,random_state=42)\n",
    "kmodel = model.fit(df1)\n",
    "labels = kmodel.fit_predict(df1)\n",
    "a3 = kmodel.fit_predict(df1).tolist()\n",
    "### End code"
   ]
  },
  {
   "cell_type": "code",
   "execution_count": 13,
   "metadata": {},
   "outputs": [],
   "source": [
    "#Create a new column and append clustered labels into original dataframe (Copied orginal dataframe)\n",
    "df['clusters']=a3"
   ]
  },
  {
   "cell_type": "code",
   "execution_count": 14,
   "metadata": {},
   "outputs": [
    {
     "data": {
      "text/html": [
       "<div>\n",
       "<style scoped>\n",
       "    .dataframe tbody tr th:only-of-type {\n",
       "        vertical-align: middle;\n",
       "    }\n",
       "\n",
       "    .dataframe tbody tr th {\n",
       "        vertical-align: top;\n",
       "    }\n",
       "\n",
       "    .dataframe thead th {\n",
       "        text-align: right;\n",
       "    }\n",
       "</style>\n",
       "<table border=\"1\" class=\"dataframe\">\n",
       "  <thead>\n",
       "    <tr style=\"text-align: right;\">\n",
       "      <th></th>\n",
       "      <th>customer</th>\n",
       "      <th>days_between_first_last_orders</th>\n",
       "      <th>count_orders_all</th>\n",
       "      <th>count_orders_last_120_days</th>\n",
       "      <th>sum_revenue_all</th>\n",
       "      <th>sum_revenue_last_120_days</th>\n",
       "      <th>mean_revenue_all</th>\n",
       "      <th>clusters</th>\n",
       "    </tr>\n",
       "  </thead>\n",
       "  <tbody>\n",
       "    <tr>\n",
       "      <th>0</th>\n",
       "      <td>21VIANET GROUP, INC.</td>\n",
       "      <td>111</td>\n",
       "      <td>7</td>\n",
       "      <td>5</td>\n",
       "      <td>8892</td>\n",
       "      <td>5729</td>\n",
       "      <td>1270</td>\n",
       "      <td>0</td>\n",
       "    </tr>\n",
       "    <tr>\n",
       "      <th>1</th>\n",
       "      <td>ACASTI PHARMA, INC.</td>\n",
       "      <td>383</td>\n",
       "      <td>13</td>\n",
       "      <td>8</td>\n",
       "      <td>31204</td>\n",
       "      <td>19409</td>\n",
       "      <td>2400</td>\n",
       "      <td>2</td>\n",
       "    </tr>\n",
       "    <tr>\n",
       "      <th>2</th>\n",
       "      <td>ACHILLION PHARMACEUTICALS, INC.</td>\n",
       "      <td>312</td>\n",
       "      <td>9</td>\n",
       "      <td>6</td>\n",
       "      <td>14542</td>\n",
       "      <td>11000</td>\n",
       "      <td>1616</td>\n",
       "      <td>2</td>\n",
       "    </tr>\n",
       "    <tr>\n",
       "      <th>3</th>\n",
       "      <td>ALKERMES PLC</td>\n",
       "      <td>391</td>\n",
       "      <td>9</td>\n",
       "      <td>6</td>\n",
       "      <td>10921</td>\n",
       "      <td>9172</td>\n",
       "      <td>1213</td>\n",
       "      <td>2</td>\n",
       "    </tr>\n",
       "    <tr>\n",
       "      <th>4</th>\n",
       "      <td>ALPHATEC HOLDINGS, INC.</td>\n",
       "      <td>373</td>\n",
       "      <td>16</td>\n",
       "      <td>10</td>\n",
       "      <td>29767</td>\n",
       "      <td>16547</td>\n",
       "      <td>1860</td>\n",
       "      <td>2</td>\n",
       "    </tr>\n",
       "    <tr>\n",
       "      <th>...</th>\n",
       "      <td>...</td>\n",
       "      <td>...</td>\n",
       "      <td>...</td>\n",
       "      <td>...</td>\n",
       "      <td>...</td>\n",
       "      <td>...</td>\n",
       "      <td>...</td>\n",
       "      <td>...</td>\n",
       "    </tr>\n",
       "    <tr>\n",
       "      <th>115</th>\n",
       "      <td>WILSHIRE BANCORP, INC.</td>\n",
       "      <td>201</td>\n",
       "      <td>4</td>\n",
       "      <td>2</td>\n",
       "      <td>7200</td>\n",
       "      <td>2769</td>\n",
       "      <td>1800</td>\n",
       "      <td>0</td>\n",
       "    </tr>\n",
       "    <tr>\n",
       "      <th>116</th>\n",
       "      <td>WORLD ENERGY SOLUTIONS INC (DE)</td>\n",
       "      <td>272</td>\n",
       "      <td>3</td>\n",
       "      <td>0</td>\n",
       "      <td>7893</td>\n",
       "      <td>0</td>\n",
       "      <td>2631</td>\n",
       "      <td>0</td>\n",
       "    </tr>\n",
       "    <tr>\n",
       "      <th>117</th>\n",
       "      <td>XOMA CORPORATION</td>\n",
       "      <td>182</td>\n",
       "      <td>5</td>\n",
       "      <td>3</td>\n",
       "      <td>6333</td>\n",
       "      <td>3688</td>\n",
       "      <td>1267</td>\n",
       "      <td>0</td>\n",
       "    </tr>\n",
       "    <tr>\n",
       "      <th>118</th>\n",
       "      <td>ZOLTEK COMPANIES, INC.</td>\n",
       "      <td>91</td>\n",
       "      <td>6</td>\n",
       "      <td>4</td>\n",
       "      <td>9700</td>\n",
       "      <td>5088</td>\n",
       "      <td>1617</td>\n",
       "      <td>0</td>\n",
       "    </tr>\n",
       "    <tr>\n",
       "      <th>119</th>\n",
       "      <td>ZOOM TECHNOLOGIES, INC.</td>\n",
       "      <td>378</td>\n",
       "      <td>5</td>\n",
       "      <td>2</td>\n",
       "      <td>4446</td>\n",
       "      <td>940</td>\n",
       "      <td>889</td>\n",
       "      <td>0</td>\n",
       "    </tr>\n",
       "  </tbody>\n",
       "</table>\n",
       "<p>120 rows × 8 columns</p>\n",
       "</div>"
      ],
      "text/plain": [
       "                            customer  days_between_first_last_orders  \\\n",
       "0               21VIANET GROUP, INC.                             111   \n",
       "1                ACASTI PHARMA, INC.                             383   \n",
       "2    ACHILLION PHARMACEUTICALS, INC.                             312   \n",
       "3                       ALKERMES PLC                             391   \n",
       "4            ALPHATEC HOLDINGS, INC.                             373   \n",
       "..                               ...                             ...   \n",
       "115           WILSHIRE BANCORP, INC.                             201   \n",
       "116  WORLD ENERGY SOLUTIONS INC (DE)                             272   \n",
       "117                 XOMA CORPORATION                             182   \n",
       "118           ZOLTEK COMPANIES, INC.                              91   \n",
       "119          ZOOM TECHNOLOGIES, INC.                             378   \n",
       "\n",
       "     count_orders_all  count_orders_last_120_days  sum_revenue_all  \\\n",
       "0                   7                           5             8892   \n",
       "1                  13                           8            31204   \n",
       "2                   9                           6            14542   \n",
       "3                   9                           6            10921   \n",
       "4                  16                          10            29767   \n",
       "..                ...                         ...              ...   \n",
       "115                 4                           2             7200   \n",
       "116                 3                           0             7893   \n",
       "117                 5                           3             6333   \n",
       "118                 6                           4             9700   \n",
       "119                 5                           2             4446   \n",
       "\n",
       "     sum_revenue_last_120_days  mean_revenue_all  clusters  \n",
       "0                         5729              1270         0  \n",
       "1                        19409              2400         2  \n",
       "2                        11000              1616         2  \n",
       "3                         9172              1213         2  \n",
       "4                        16547              1860         2  \n",
       "..                         ...               ...       ...  \n",
       "115                       2769              1800         0  \n",
       "116                          0              2631         0  \n",
       "117                       3688              1267         0  \n",
       "118                       5088              1617         0  \n",
       "119                        940               889         0  \n",
       "\n",
       "[120 rows x 8 columns]"
      ]
     },
     "execution_count": 14,
     "metadata": {},
     "output_type": "execute_result"
    }
   ],
   "source": [
    "df"
   ]
  },
  {
   "cell_type": "markdown",
   "metadata": {},
   "source": [
    "### Interpretation of clusters"
   ]
  },
  {
   "cell_type": "code",
   "execution_count": 15,
   "metadata": {
    "scrolled": true
   },
   "outputs": [
    {
     "data": {
      "text/plain": [
       "<seaborn.axisgrid.FacetGrid at 0x24dacd32ac0>"
      ]
     },
     "execution_count": 15,
     "metadata": {},
     "output_type": "execute_result"
    },
    {
     "data": {
      "image/png": "[encoded data removed]",
      "text/plain": [
       "<Figure size 864x216 with 4 Axes>"
      ]
     },
     "metadata": {
      "needs_background": "light"
     },
     "output_type": "display_data"
    }
   ],
   "source": [
    "#Plot Facet Grid for each cluster.\n",
    "g=sns.FacetGrid(df,col='clusters')\n",
    "g.map(sns.scatterplot, \"count_orders_last_120_days\",'sum_revenue_last_120_days')"
   ]
  },
  {
   "cell_type": "markdown",
   "metadata": {},
   "source": [
    "**Question 5**  \n",
    "\n",
    "Find Appropriate Cluster    \n",
    "\n",
    "1) In which cluster, The customers are less orders and revenue on last 120 days.\n",
    "\n",
    "For ex: If answer is cluster 0 then assign the value 0 to the mentioned variables below.     \n",
    "\n",
    "Assign cluster label value as int to the variable **`a4`**. Make sure that **a4** should be int type.  "
   ]
  },
  {
   "cell_type": "code",
   "execution_count": 16,
   "metadata": {},
   "outputs": [],
   "source": [
    "a4 = 1"
   ]
  },
  {
   "cell_type": "markdown",
   "metadata": {},
   "source": [
    "###  Run the below cells to save your answers"
   ]
  },
  {
   "cell_type": "code",
   "execution_count": 17,
   "metadata": {
    "deletable": false,
    "editable": false
   },
   "outputs": [],
   "source": [
    "from testclustering import kmeans as kmeanstest\n",
    "kmeanstest.save_question1(a1)\n",
    "kmeanstest.save_question2(f1)\n",
    "kmeanstest.save_question3(a2, f2)\n",
    "kmeanstest.save_question4(a3)\n",
    "kmeanstest.save_question5(a4)"
   ]
  },
  {
   "cell_type": "code",
   "execution_count": null,
   "metadata": {},
   "outputs": [],
   "source": []
  }
 ],
 "metadata": {
  "kernelspec": {
   "display_name": "Python 3",
   "language": "python",
   "name": "python3"
  },
  "language_info": {
   "codemirror_mode": {
    "name": "ipython",
    "version": 3
   },
   "file_extension": ".py",
   "mimetype": "text/x-python",
   "name": "python",
   "nbconvert_exporter": "python",
   "pygments_lexer": "ipython3",
   "version": "3.8.8"
  }
 },
 "nbformat": 4,
 "nbformat_minor": 4
}

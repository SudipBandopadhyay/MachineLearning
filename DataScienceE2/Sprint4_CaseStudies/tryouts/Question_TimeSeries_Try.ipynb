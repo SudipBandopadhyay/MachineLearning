{
 "cells": [
  {
   "cell_type": "markdown",
   "id": "855d2781",
   "metadata": {},
   "source": [
    "## Welcome to the Usecase Challenge on time series analysis...\n"
   ]
  },
  {
   "cell_type": "markdown",
   "id": "c774fb0d",
   "metadata": {},
   "source": [
    "## Instructions\n",
    "- Follow the instructions and write your code \n",
    "- Press 'Shift+Enter' or use the Run Button to run each cell\n",
    "- This Python Notebook contains everything you'll need to finish this challenge.\n",
    "- Before submit your notebook. Restart the kernel and run all the cell. Make sure that any cell shouldn't cause any error or problem.\n",
    "- Make sure not to delete any of the cells"
   ]
  },
  {
   "cell_type": "markdown",
   "id": "c485cee3",
   "metadata": {},
   "source": [
    "### Importing packages"
   ]
  },
  {
   "cell_type": "code",
   "execution_count": 1,
   "id": "5f140d32",
   "metadata": {},
   "outputs": [],
   "source": [
    "import pandas as pd\n",
    "import numpy as np \n",
    "import matplotlib.pyplot as plt \n",
    "import seaborn as sns \n",
    "sns.set()\n",
    "import warnings\n",
    "warnings.filterwarnings('ignore')\n",
    "import scipy.stats\n",
    "import pylab\n",
    "import statsmodels.graphics.tsaplots as sgt\n",
    "import statsmodels.tsa.stattools as sts \n",
    "from statsmodels.tsa.seasonal import seasonal_decompose\n",
    "from statsmodels.tsa.arima_model import ARMA"
   ]
  },
  {
   "cell_type": "markdown",
   "id": "68108168",
   "metadata": {},
   "source": [
    "### Reading the Data"
   ]
  },
  {
   "cell_type": "markdown",
   "id": "0fc1381f",
   "metadata": {},
   "source": [
    " Read the data and set the index as ObservationDate and then save the dataframe in 'df' variable"
   ]
  },
  {
   "cell_type": "code",
   "execution_count": 5,
   "id": "bad1d3c3",
   "metadata": {},
   "outputs": [
    {
     "data": {
      "text/html": [
       "<div>\n",
       "<style scoped>\n",
       "    .dataframe tbody tr th:only-of-type {\n",
       "        vertical-align: middle;\n",
       "    }\n",
       "\n",
       "    .dataframe tbody tr th {\n",
       "        vertical-align: top;\n",
       "    }\n",
       "\n",
       "    .dataframe thead th {\n",
       "        text-align: right;\n",
       "    }\n",
       "</style>\n",
       "<table border=\"1\" class=\"dataframe\">\n",
       "  <thead>\n",
       "    <tr style=\"text-align: right;\">\n",
       "      <th></th>\n",
       "      <th>State</th>\n",
       "      <th>Country</th>\n",
       "      <th>LastUpdate</th>\n",
       "      <th>Confirmed</th>\n",
       "      <th>Deaths</th>\n",
       "      <th>Recovered</th>\n",
       "    </tr>\n",
       "    <tr>\n",
       "      <th>ObservationDate</th>\n",
       "      <th></th>\n",
       "      <th></th>\n",
       "      <th></th>\n",
       "      <th></th>\n",
       "      <th></th>\n",
       "      <th></th>\n",
       "    </tr>\n",
       "  </thead>\n",
       "  <tbody>\n",
       "    <tr>\n",
       "      <th>2020-01-22</th>\n",
       "      <td>Anhui</td>\n",
       "      <td>Mainland China</td>\n",
       "      <td>1/22/2020 17:00</td>\n",
       "      <td>1</td>\n",
       "      <td>0</td>\n",
       "      <td>0</td>\n",
       "    </tr>\n",
       "    <tr>\n",
       "      <th>2020-01-22</th>\n",
       "      <td>Beijing</td>\n",
       "      <td>Mainland China</td>\n",
       "      <td>1/22/2020 17:00</td>\n",
       "      <td>14</td>\n",
       "      <td>0</td>\n",
       "      <td>0</td>\n",
       "    </tr>\n",
       "    <tr>\n",
       "      <th>2020-01-22</th>\n",
       "      <td>Chongqing</td>\n",
       "      <td>Mainland China</td>\n",
       "      <td>1/22/2020 17:00</td>\n",
       "      <td>6</td>\n",
       "      <td>0</td>\n",
       "      <td>0</td>\n",
       "    </tr>\n",
       "    <tr>\n",
       "      <th>2020-01-22</th>\n",
       "      <td>Fujian</td>\n",
       "      <td>Mainland China</td>\n",
       "      <td>1/22/2020 17:00</td>\n",
       "      <td>1</td>\n",
       "      <td>0</td>\n",
       "      <td>0</td>\n",
       "    </tr>\n",
       "    <tr>\n",
       "      <th>2020-01-22</th>\n",
       "      <td>Gansu</td>\n",
       "      <td>Mainland China</td>\n",
       "      <td>1/22/2020 17:00</td>\n",
       "      <td>0</td>\n",
       "      <td>0</td>\n",
       "      <td>0</td>\n",
       "    </tr>\n",
       "  </tbody>\n",
       "</table>\n",
       "</div>"
      ],
      "text/plain": [
       "                     State         Country       LastUpdate  Confirmed  \\\n",
       "ObservationDate                                                          \n",
       "2020-01-22           Anhui  Mainland China  1/22/2020 17:00          1   \n",
       "2020-01-22         Beijing  Mainland China  1/22/2020 17:00         14   \n",
       "2020-01-22       Chongqing  Mainland China  1/22/2020 17:00          6   \n",
       "2020-01-22          Fujian  Mainland China  1/22/2020 17:00          1   \n",
       "2020-01-22           Gansu  Mainland China  1/22/2020 17:00          0   \n",
       "\n",
       "                 Deaths  Recovered  \n",
       "ObservationDate                     \n",
       "2020-01-22            0          0  \n",
       "2020-01-22            0          0  \n",
       "2020-01-22            0          0  \n",
       "2020-01-22            0          0  \n",
       "2020-01-22            0          0  "
      ]
     },
     "execution_count": 5,
     "metadata": {},
     "output_type": "execute_result"
    }
   ],
   "source": [
    "#Read the data and set the index as ObservationDate and then save the dataframe in 'df' variable\n",
    "#write your code here\n",
    "\n",
    "df=pd.read_csv('covid19_data.csv',parse_dates=['ObservationDate'],index_col='ObservationDate')\n",
    "df.head()"
   ]
  },
  {
   "cell_type": "markdown",
   "id": "0e3edbf2",
   "metadata": {},
   "source": [
    "### Question 1"
   ]
  },
  {
   "cell_type": "markdown",
   "id": "f7c7d7df",
   "metadata": {},
   "source": [
    "Create a graph that depicts the recovered cases and save it in the A1 variable."
   ]
  },
  {
   "cell_type": "markdown",
   "id": "a9a62b6f",
   "metadata": {},
   "source": [
    "### Instructions\n",
    "- Give fig size as (10,5)\n",
    "- Title must be present\n",
    "- type of A1 will be matplotlib.axes._subplots.AxesSubplot"
   ]
  },
  {
   "cell_type": "markdown",
   "id": "367d82ca",
   "metadata": {},
   "source": [
    "**Hint:** :  data.plot(figsize =(),title = \" \")"
   ]
  },
  {
   "cell_type": "markdown",
   "id": "6a674874",
   "metadata": {},
   "source": [
    "**Sample image:**\n",
    "    \n",
    "<img src='Sample_images/Pic1.png' style='width:600px;height:400px'>"
   ]
  },
  {
   "cell_type": "code",
   "execution_count": 6,
   "id": "7f441687",
   "metadata": {},
   "outputs": [
    {
     "data": {
      "image/png": "[encoded data removed]",
      "text/plain": [
       "<Figure size 720x360 with 1 Axes>"
      ]
     },
     "metadata": {},
     "output_type": "display_data"
    }
   ],
   "source": [
    "#write your code here\n",
    "\n",
    "A1 = df['Recovered'].plot(figsize =(10,5),title = \"Recovered Cases\")\n",
    "\n"
   ]
  },
  {
   "cell_type": "markdown",
   "id": "1a8dcfc8",
   "metadata": {},
   "source": [
    "### Question 2"
   ]
  },
  {
   "cell_type": "markdown",
   "id": "7ccd1ca1",
   "metadata": {},
   "source": [
    "Create a probability plot with Deaths cases and save it as an A2 variable."
   ]
  },
  {
   "cell_type": "markdown",
   "id": "05f4c0af",
   "metadata": {},
   "source": [
    "**Hint:** Use scipy.stats.probplot(data, plot = pylab)                    "
   ]
  },
  {
   "cell_type": "markdown",
   "id": "ded6e968",
   "metadata": {},
   "source": [
    "**Sample image:**\n",
    "    \n",
    "<img src='Sample_images/Pic2.png' style='width:600px;height:400px'>"
   ]
  },
  {
   "cell_type": "code",
   "execution_count": 7,
   "id": "c008cc3b",
   "metadata": {},
   "outputs": [
    {
     "data": {
      "image/png": "[encoded data removed]",
      "text/plain": [
       "<Figure size 432x288 with 1 Axes>"
      ]
     },
     "metadata": {},
     "output_type": "display_data"
    }
   ],
   "source": [
    "#write your code here\n",
    "\n",
    "A2 = scipy.stats.probplot(df.Deaths, plot = pylab)\n",
    "\n"
   ]
  },
  {
   "cell_type": "markdown",
   "id": "39154edd",
   "metadata": {},
   "source": [
    "### Question 3"
   ]
  },
  {
   "cell_type": "markdown",
   "id": "89af3854",
   "metadata": {},
   "source": [
    "Run the below cell to filter the confirmed cases related to 'Hong Kong' Country"
   ]
  },
  {
   "cell_type": "code",
   "execution_count": 8,
   "id": "699047dc",
   "metadata": {},
   "outputs": [],
   "source": [
    "data = df[(df.Country == 'Hong Kong')].Confirmed"
   ]
  },
  {
   "cell_type": "markdown",
   "id": "3a2a17e6",
   "metadata": {},
   "source": [
    "List all confirmed cases from 2020-01-22 to 2020-01-31 using the data filtered in the previous step. And assign the resulting series to variable 'A3'"
   ]
  },
  {
   "cell_type": "code",
   "execution_count": 10,
   "id": "83b6b2ac",
   "metadata": {},
   "outputs": [
    {
     "data": {
      "text/plain": [
       "ObservationDate\n",
       "2020-01-22     0\n",
       "2020-01-23     2\n",
       "2020-01-24     2\n",
       "2020-01-25     5\n",
       "2020-01-26     8\n",
       "2020-01-27     8\n",
       "2020-01-28     8\n",
       "2020-01-29    10\n",
       "2020-01-30    10\n",
       "2020-01-31    12\n",
       "Name: Confirmed, dtype: int64"
      ]
     },
     "execution_count": 10,
     "metadata": {},
     "output_type": "execute_result"
    }
   ],
   "source": [
    "#write your code here\n",
    "\n",
    "A3 =data['2020-01-22' : '2020-01-31']\n",
    "A3\n"
   ]
  },
  {
   "cell_type": "markdown",
   "id": "88f02392",
   "metadata": {},
   "source": [
    "### Question 4"
   ]
  },
  {
   "cell_type": "markdown",
   "id": "a6bd7801",
   "metadata": {},
   "source": [
    "Verify stationarity on recovered cases using the adfuller technique and return the result to variable 'A4'"
   ]
  },
  {
   "cell_type": "markdown",
   "id": "f77a13eb",
   "metadata": {},
   "source": [
    "**Hint:** sts.adfuller(data)"
   ]
  },
  {
   "cell_type": "code",
   "execution_count": 13,
   "id": "ab16c4b3",
   "metadata": {},
   "outputs": [
    {
     "data": {
      "text/plain": [
       "(-32.24772088601884,\n",
       " 0.0,\n",
       " 74,\n",
       " 139899,\n",
       " {'1%': -3.43039674386515,\n",
       "  '5%': -2.861560660120993,\n",
       "  '10%': -2.5667809966481445},\n",
       " 3701031.6922185207)"
      ]
     },
     "execution_count": 13,
     "metadata": {},
     "output_type": "execute_result"
    }
   ],
   "source": [
    "#write your code here\n",
    "\n",
    "A4 = sts.adfuller(df.Recovered)\n",
    "A4\n"
   ]
  },
  {
   "cell_type": "markdown",
   "id": "f8e92838",
   "metadata": {},
   "source": [
    "### Question 5"
   ]
  },
  {
   "cell_type": "markdown",
   "id": "bee22820",
   "metadata": {},
   "source": [
    "Perform Seasonal Decompose on confirmed cases using additive method and save it in A5 varaible"
   ]
  },
  {
   "cell_type": "markdown",
   "id": "0d71b363",
   "metadata": {},
   "source": [
    "#### Instuctions:\n",
    "- Put figsize as (10,5)\n",
    "- Take freq as 3\n",
    "- Store the output plot in A5 variable\n",
    "- **Note:** Type of A5 must be 'matplotlib.figure.Figure'"
   ]
  },
  {
   "cell_type": "markdown",
   "id": "32e78126",
   "metadata": {},
   "source": [
    "**Sample image:**\n",
    "    \n",
    "<img src='Sample_images/Pic3.png' style='width:600px;height:400px'>"
   ]
  },
  {
   "cell_type": "code",
   "execution_count": 14,
   "id": "5b394227",
   "metadata": {},
   "outputs": [
    {
     "data": {
      "image/png": "[encoded data removed]",
      "text/plain": [
       "<Figure size 720x360 with 4 Axes>"
      ]
     },
     "metadata": {},
     "output_type": "display_data"
    }
   ],
   "source": [
    "#Additive Decompose\n",
    "#write your code here\n",
    "\n",
    "result_add = seasonal_decompose(x=df.Confirmed, model='additive',freq=3)\n",
    "\n",
    "plt.rcParams.update({'figure.figsize': (10,5)})\n",
    "A5 =result_add.plot()\n"
   ]
  },
  {
   "cell_type": "markdown",
   "id": "2b308bd9",
   "metadata": {},
   "source": [
    "### Question 6"
   ]
  },
  {
   "cell_type": "markdown",
   "id": "41799dbc",
   "metadata": {},
   "source": [
    "Create AutoCorrelation plot on Death cases and save it in A6 variable"
   ]
  },
  {
   "cell_type": "markdown",
   "id": "cfdff40e",
   "metadata": {},
   "source": [
    "#### Instructions:\n",
    "- Take Lags as 40 and Zero as False\n",
    "- Title must be present and Font size is 20\n",
    "- Store the output plot in A6 variable\n",
    "- **Note:** Type of A6 must be 'matplotlib.figure.Figure'\n",
    "   "
   ]
  },
  {
   "cell_type": "markdown",
   "id": "d5357fe5",
   "metadata": {},
   "source": [
    "**Sample image:**\n",
    "    \n",
    "<img src='Sample_images/Pic4.png' style='width:600px;height:400px'>"
   ]
  },
  {
   "cell_type": "code",
   "execution_count": 15,
   "id": "97baca18",
   "metadata": {},
   "outputs": [
    {
     "data": {
      "image/png": "[encoded data removed]",
      "text/plain": [
       "<Figure size 720x360 with 1 Axes>"
      ]
     },
     "metadata": {},
     "output_type": "display_data"
    }
   ],
   "source": [
    "#write your code here\n",
    "\n",
    "\n",
    "A6 = sgt.plot_acf(df.Deaths,lags=40,zero=False)\n",
    "\n",
    "title = plt.title('ACF for Death Cases', size=30)\n",
    "plt.show()\n"
   ]
  },
  {
   "cell_type": "markdown",
   "id": "d246bc69",
   "metadata": {},
   "source": [
    "### Question 7"
   ]
  },
  {
   "cell_type": "markdown",
   "id": "1648aceb",
   "metadata": {},
   "source": [
    "Create Partial AutoCorrelation plot on Death cases and save it in A7 variable"
   ]
  },
  {
   "cell_type": "markdown",
   "id": "250fe172",
   "metadata": {},
   "source": [
    "#### Instructions:\n",
    "- Take Lags as 40, Zero as False and method as 'ols\n",
    "- Title must be present and Font size is 20\n",
    "- Store the output plot in A7 variable\n",
    "- **Note:** Type of A7 must be 'matplotlib.figure.Figure'"
   ]
  },
  {
   "cell_type": "markdown",
   "id": "e75374f5",
   "metadata": {},
   "source": [
    "**Sample image:**\n",
    "    \n",
    "<img src='Sample_images/Pic5.png' style='width:600px;height:400px'>"
   ]
  },
  {
   "cell_type": "code",
   "execution_count": 16,
   "id": "2ecc317f",
   "metadata": {},
   "outputs": [
    {
     "data": {
      "image/png": "[encoded data removed]",
      "text/plain": [
       "<Figure size 720x360 with 1 Axes>"
      ]
     },
     "metadata": {},
     "output_type": "display_data"
    }
   ],
   "source": [
    "#write your code here\n",
    "\n",
    "#Partial AutoCorrelation Function\n",
    "\n",
    "\n",
    "\n",
    "A7 = sgt.plot_pacf(df.Deaths,lags=40,method='ols',zero=False)\n",
    "\n",
    "title = plt.title('PACF for Closed Prices', size=30)\n",
    "plt.show()\n",
    "\n",
    "\n"
   ]
  },
  {
   "cell_type": "markdown",
   "id": "059b7df6",
   "metadata": {},
   "source": [
    "### Question 8"
   ]
  },
  {
   "cell_type": "markdown",
   "id": "fd9485f5",
   "metadata": {},
   "source": [
    "Print the summary of auto regression fitted model on confirmed cases using summary() function and store the result in A8 variable."
   ]
  },
  {
   "cell_type": "markdown",
   "id": "cd526cb5",
   "metadata": {},
   "source": [
    "**Note:** Type of A8 must be 'statsmodels.iolib.summary.Summary'"
   ]
  },
  {
   "cell_type": "markdown",
   "id": "8990e974",
   "metadata": {},
   "source": [
    "### $ x_t = C + \\phi * x_{t-1} + \\epsilon_t  $"
   ]
  },
  {
   "cell_type": "code",
   "execution_count": 17,
   "id": "1a9978c5",
   "metadata": {},
   "outputs": [
    {
     "name": "stderr",
     "output_type": "stream",
     "text": [
      "G:\\MachineLearning\\anaconda3\\lib\\site-packages\\statsmodels\\tsa\\base\\tsa_model.py:581: ValueWarning: A date index has been provided, but it has no associated frequency information and so will be ignored when e.g. forecasting.\n",
      "  warnings.warn('A date index has been provided, but it has no'\n"
     ]
    },
    {
     "data": {
      "text/html": [
       "<table class=\"simpletable\">\n",
       "<caption>ARMA Model Results</caption>\n",
       "<tr>\n",
       "  <th>Dep. Variable:</th>     <td>Confirmed</td>    <th>  No. Observations:  </th>    <td>139974</td>   \n",
       "</tr>\n",
       "<tr>\n",
       "  <th>Model:</th>            <td>ARMA(1, 0)</td>    <th>  Log Likelihood     </th> <td>-1833600.777</td>\n",
       "</tr>\n",
       "<tr>\n",
       "  <th>Method:</th>             <td>css-mle</td>     <th>  S.D. of innovations</th>  <td>118260.210</td> \n",
       "</tr>\n",
       "<tr>\n",
       "  <th>Date:</th>          <td>Fri, 24 Sep 2021</td> <th>  AIC                </th>  <td>3667207.555</td>\n",
       "</tr>\n",
       "<tr>\n",
       "  <th>Time:</th>              <td>19:46:45</td>     <th>  BIC                </th>  <td>3667237.102</td>\n",
       "</tr>\n",
       "<tr>\n",
       "  <th>Sample:</th>                <td>0</td>        <th>  HQIC               </th>  <td>3667216.388</td>\n",
       "</tr>\n",
       "<tr>\n",
       "  <th></th>                       <td> </td>        <th>                     </th>       <td> </td>     \n",
       "</tr>\n",
       "</table>\n",
       "<table class=\"simpletable\">\n",
       "<tr>\n",
       "         <td></td>            <th>coef</th>     <th>std err</th>      <th>z</th>      <th>P>|z|</th>  <th>[0.025</th>    <th>0.975]</th>  \n",
       "</tr>\n",
       "<tr>\n",
       "  <th>const</th>           <td> 3.892e+04</td> <td>  333.200</td> <td>  116.794</td> <td> 0.000</td> <td> 3.83e+04</td> <td> 3.96e+04</td>\n",
       "</tr>\n",
       "<tr>\n",
       "  <th>ar.L1.Confirmed</th> <td>    0.0513</td> <td>    0.003</td> <td>   19.234</td> <td> 0.000</td> <td>    0.046</td> <td>    0.057</td>\n",
       "</tr>\n",
       "</table>\n",
       "<table class=\"simpletable\">\n",
       "<caption>Roots</caption>\n",
       "<tr>\n",
       "    <td></td>   <th>            Real</th>  <th>         Imaginary</th> <th>         Modulus</th>  <th>        Frequency</th>\n",
       "</tr>\n",
       "<tr>\n",
       "  <th>AR.1</th> <td>          19.4773</td> <td>          +0.0000j</td> <td>          19.4773</td> <td>           0.0000</td>\n",
       "</tr>\n",
       "</table>"
      ],
      "text/plain": [
       "<class 'statsmodels.iolib.summary.Summary'>\n",
       "\"\"\"\n",
       "                              ARMA Model Results                              \n",
       "==============================================================================\n",
       "Dep. Variable:              Confirmed   No. Observations:               139974\n",
       "Model:                     ARMA(1, 0)   Log Likelihood            -1833600.777\n",
       "Method:                       css-mle   S.D. of innovations         118260.210\n",
       "Date:                Fri, 24 Sep 2021   AIC                        3667207.555\n",
       "Time:                        19:46:45   BIC                        3667237.102\n",
       "Sample:                             0   HQIC                       3667216.388\n",
       "                                                                              \n",
       "===================================================================================\n",
       "                      coef    std err          z      P>|z|      [0.025      0.975]\n",
       "-----------------------------------------------------------------------------------\n",
       "const            3.892e+04    333.200    116.794      0.000    3.83e+04    3.96e+04\n",
       "ar.L1.Confirmed     0.0513      0.003     19.234      0.000       0.046       0.057\n",
       "                                    Roots                                    \n",
       "=============================================================================\n",
       "                  Real          Imaginary           Modulus         Frequency\n",
       "-----------------------------------------------------------------------------\n",
       "AR.1           19.4773           +0.0000j           19.4773            0.0000\n",
       "-----------------------------------------------------------------------------\n",
       "\"\"\""
      ]
     },
     "execution_count": 17,
     "metadata": {},
     "output_type": "execute_result"
    }
   ],
   "source": [
    "#write your code here\n",
    "\n",
    "model_ar=ARMA(df.Confirmed,order=(1,0))\n",
    "result_ar=model_ar.fit()\n",
    "\n",
    "A8 =result_ar.summary()\n",
    "A8"
   ]
  },
  {
   "cell_type": "markdown",
   "id": "041e2556",
   "metadata": {},
   "source": [
    "### Question 9"
   ]
  },
  {
   "cell_type": "markdown",
   "id": "d511d607",
   "metadata": {},
   "source": [
    "Print the summary of moving average fitted model on confirmed cases using summary() function and store the result in A9 variable."
   ]
  },
  {
   "cell_type": "markdown",
   "id": "33ba15c8",
   "metadata": {},
   "source": [
    "**Note:** Type of A9 must be 'statsmodels.iolib.summary.Summary'"
   ]
  },
  {
   "cell_type": "markdown",
   "id": "9783a731",
   "metadata": {},
   "source": [
    "## $ r_t = C + \\theta_1 * \\epsilon_{t-1} + \\epsilon_{t} $"
   ]
  },
  {
   "cell_type": "code",
   "execution_count": 19,
   "id": "5237c14f",
   "metadata": {},
   "outputs": [
    {
     "name": "stderr",
     "output_type": "stream",
     "text": [
      "G:\\MachineLearning\\anaconda3\\lib\\site-packages\\statsmodels\\tsa\\base\\tsa_model.py:581: ValueWarning: A date index has been provided, but it has no associated frequency information and so will be ignored when e.g. forecasting.\n",
      "  warnings.warn('A date index has been provided, but it has no'\n"
     ]
    },
    {
     "data": {
      "text/html": [
       "<table class=\"simpletable\">\n",
       "<caption>ARMA Model Results</caption>\n",
       "<tr>\n",
       "  <th>Dep. Variable:</th>     <td>Confirmed</td>    <th>  No. Observations:  </th>    <td>139974</td>   \n",
       "</tr>\n",
       "<tr>\n",
       "  <th>Model:</th>            <td>ARMA(0, 1)</td>    <th>  Log Likelihood     </th> <td>-1833618.834</td>\n",
       "</tr>\n",
       "<tr>\n",
       "  <th>Method:</th>             <td>css-mle</td>     <th>  S.D. of innovations</th>  <td>118275.467</td> \n",
       "</tr>\n",
       "<tr>\n",
       "  <th>Date:</th>          <td>Fri, 24 Sep 2021</td> <th>  AIC                </th>  <td>3667243.669</td>\n",
       "</tr>\n",
       "<tr>\n",
       "  <th>Time:</th>              <td>19:47:28</td>     <th>  BIC                </th>  <td>3667273.216</td>\n",
       "</tr>\n",
       "<tr>\n",
       "  <th>Sample:</th>                <td>0</td>        <th>  HQIC               </th>  <td>3667252.502</td>\n",
       "</tr>\n",
       "<tr>\n",
       "  <th></th>                       <td> </td>        <th>                     </th>       <td> </td>     \n",
       "</tr>\n",
       "</table>\n",
       "<table class=\"simpletable\">\n",
       "<tr>\n",
       "         <td></td>            <th>coef</th>     <th>std err</th>      <th>z</th>      <th>P>|z|</th>  <th>[0.025</th>    <th>0.975]</th>  \n",
       "</tr>\n",
       "<tr>\n",
       "  <th>const</th>           <td> 3.892e+04</td> <td>  330.812</td> <td>  117.637</td> <td> 0.000</td> <td> 3.83e+04</td> <td> 3.96e+04</td>\n",
       "</tr>\n",
       "<tr>\n",
       "  <th>ma.L1.Confirmed</th> <td>    0.0464</td> <td>    0.003</td> <td>   18.251</td> <td> 0.000</td> <td>    0.041</td> <td>    0.051</td>\n",
       "</tr>\n",
       "</table>\n",
       "<table class=\"simpletable\">\n",
       "<caption>Roots</caption>\n",
       "<tr>\n",
       "    <td></td>   <th>            Real</th>  <th>         Imaginary</th> <th>         Modulus</th>  <th>        Frequency</th>\n",
       "</tr>\n",
       "<tr>\n",
       "  <th>MA.1</th> <td>         -21.5376</td> <td>          +0.0000j</td> <td>          21.5376</td> <td>           0.5000</td>\n",
       "</tr>\n",
       "</table>"
      ],
      "text/plain": [
       "<class 'statsmodels.iolib.summary.Summary'>\n",
       "\"\"\"\n",
       "                              ARMA Model Results                              \n",
       "==============================================================================\n",
       "Dep. Variable:              Confirmed   No. Observations:               139974\n",
       "Model:                     ARMA(0, 1)   Log Likelihood            -1833618.834\n",
       "Method:                       css-mle   S.D. of innovations         118275.467\n",
       "Date:                Fri, 24 Sep 2021   AIC                        3667243.669\n",
       "Time:                        19:47:28   BIC                        3667273.216\n",
       "Sample:                             0   HQIC                       3667252.502\n",
       "                                                                              \n",
       "===================================================================================\n",
       "                      coef    std err          z      P>|z|      [0.025      0.975]\n",
       "-----------------------------------------------------------------------------------\n",
       "const            3.892e+04    330.812    117.637      0.000    3.83e+04    3.96e+04\n",
       "ma.L1.Confirmed     0.0464      0.003     18.251      0.000       0.041       0.051\n",
       "                                    Roots                                    \n",
       "=============================================================================\n",
       "                  Real          Imaginary           Modulus         Frequency\n",
       "-----------------------------------------------------------------------------\n",
       "MA.1          -21.5376           +0.0000j           21.5376            0.5000\n",
       "-----------------------------------------------------------------------------\n",
       "\"\"\""
      ]
     },
     "execution_count": 19,
     "metadata": {},
     "output_type": "execute_result"
    }
   ],
   "source": [
    "#write your code here\n",
    "model_mr=ARMA(df.Confirmed,order=(0,1))\n",
    "result_mr=model_mr.fit()\n",
    "\n",
    "A9 =result_mr.summary()\n",
    "A9"
   ]
  },
  {
   "cell_type": "markdown",
   "id": "b3a90839",
   "metadata": {},
   "source": [
    "### Run the below cell without modifying to save your answers"
   ]
  },
  {
   "cell_type": "code",
   "execution_count": 20,
   "id": "2dbeed03",
   "metadata": {},
   "outputs": [],
   "source": [
    "import pickle\n",
    "\n",
    "def pickle1(covid19, obj):\n",
    "    with open(covid19,'wb')as f:\n",
    "        pickle.dump(obj,f,pickle.HIGHEST_PROTOCOL)   \n",
    "\n",
    "def pickling():\n",
    "    try:\n",
    "        pickle1('A1.pickle',A1)\n",
    "    except:\n",
    "        print('A1 variale is not defined. Please check the variable')\n",
    "    try:\n",
    "        pickle1('A2.pickle',A2)\n",
    "    except:\n",
    "        print('A2 variale is not defined. Please check the variable')\n",
    "    try:\n",
    "        pickle1('A3.pickle',A3)\n",
    "    except:\n",
    "        print('A3 variale is not defined. Please check the variable')\n",
    "    try:\n",
    "        pickle1('A4.pickle',A4)\n",
    "    except:\n",
    "        print('A4 variale is not defined. Please check the variable')\n",
    "    try:\n",
    "        pickle1('A5.pickle',A5)\n",
    "    except:\n",
    "        print('A5 variale is not defined. Please check the variable')\n",
    "    try:\n",
    "        pickle1('A6.pickle',A6)\n",
    "    except:\n",
    "        print('A6 variale is not defined. Please check the variable')\n",
    "    try:\n",
    "        pickle1('A7.pickle',A7)\n",
    "    except:\n",
    "        print('A7 variale is not defined. Please check the variable')\n",
    "    try:\n",
    "        pickle1('A8.pickle',A8)\n",
    "    except:\n",
    "        print('A8 variale is not defined. Please check the variable')\n",
    "    try:\n",
    "        pickle1('A9.pickle',A9)\n",
    "    except:\n",
    "        print('A9 variale is not defined. Please check the variable')\n",
    "        \n",
    "pickling()"
   ]
  },
  {
   "cell_type": "code",
   "execution_count": null,
   "id": "3cca7091",
   "metadata": {},
   "outputs": [],
   "source": []
  },
  {
   "cell_type": "code",
   "execution_count": null,
   "id": "f9d5c914",
   "metadata": {},
   "outputs": [],
   "source": []
  }
 ],
 "metadata": {
  "kernelspec": {
   "display_name": "Python 3",
   "language": "python",
   "name": "python3"
  },
  "language_info": {
   "codemirror_mode": {
    "name": "ipython",
    "version": 3
   },
   "file_extension": ".py",
   "mimetype": "text/x-python",
   "name": "python",
   "nbconvert_exporter": "python",
   "pygments_lexer": "ipython3",
   "version": "3.8.8"
  }
 },
 "nbformat": 4,
 "nbformat_minor": 5
}

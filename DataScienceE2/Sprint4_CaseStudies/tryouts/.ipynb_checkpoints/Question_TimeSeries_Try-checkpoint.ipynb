{
 "cells": [
  {
   "cell_type": "markdown",
   "id": "855d2781",
   "metadata": {},
   "source": [
    "## Welcome to the Usecase Challenge on time series analysis...\n"
   ]
  },
  {
   "cell_type": "markdown",
   "id": "c774fb0d",
   "metadata": {},
   "source": [
    "## Instructions\n",
    "- Follow the instructions and write your code \n",
    "- Press 'Shift+Enter' or use the Run Button to run each cell\n",
    "- This Python Notebook contains everything you'll need to finish this challenge.\n",
    "- Before submit your notebook. Restart the kernel and run all the cell. Make sure that any cell shouldn't cause any error or problem.\n",
    "- Make sure not to delete any of the cells"
   ]
  },
  {
   "cell_type": "markdown",
   "id": "c485cee3",
   "metadata": {},
   "source": [
    "### Importing packages"
   ]
  },
  {
   "cell_type": "code",
   "execution_count": 1,
   "id": "5f140d32",
   "metadata": {},
   "outputs": [],
   "source": [
    "import pandas as pd\n",
    "import numpy as np \n",
    "import matplotlib.pyplot as plt \n",
    "import seaborn as sns \n",
    "sns.set()\n",
    "import warnings\n",
    "warnings.filterwarnings('ignore')\n",
    "import scipy.stats\n",
    "import pylab\n",
    "import statsmodels.graphics.tsaplots as sgt\n",
    "import statsmodels.tsa.stattools as sts \n",
    "from statsmodels.tsa.seasonal import seasonal_decompose\n",
    "from statsmodels.tsa.arima_model import ARMA"
   ]
  },
  {
   "cell_type": "markdown",
   "id": "68108168",
   "metadata": {},
   "source": [
    "### Reading the Data"
   ]
  },
  {
   "cell_type": "markdown",
   "id": "0fc1381f",
   "metadata": {},
   "source": [
    " Read the data and set the index as ObservationDate and then save the dataframe in 'df' variable"
   ]
  },
  {
   "cell_type": "code",
   "execution_count": 3,
   "id": "bad1d3c3",
   "metadata": {},
   "outputs": [
    {
     "data": {
      "text/html": [
       "<div>\n",
       "<style scoped>\n",
       "    .dataframe tbody tr th:only-of-type {\n",
       "        vertical-align: middle;\n",
       "    }\n",
       "\n",
       "    .dataframe tbody tr th {\n",
       "        vertical-align: top;\n",
       "    }\n",
       "\n",
       "    .dataframe thead th {\n",
       "        text-align: right;\n",
       "    }\n",
       "</style>\n",
       "<table border=\"1\" class=\"dataframe\">\n",
       "  <thead>\n",
       "    <tr style=\"text-align: right;\">\n",
       "      <th></th>\n",
       "      <th>ObservationDate</th>\n",
       "      <th>State</th>\n",
       "      <th>Country</th>\n",
       "      <th>LastUpdate</th>\n",
       "      <th>Confirmed</th>\n",
       "      <th>Deaths</th>\n",
       "      <th>Recovered</th>\n",
       "    </tr>\n",
       "  </thead>\n",
       "  <tbody>\n",
       "    <tr>\n",
       "      <th>0</th>\n",
       "      <td>01/22/2020</td>\n",
       "      <td>Anhui</td>\n",
       "      <td>Mainland China</td>\n",
       "      <td>1/22/2020 17:00</td>\n",
       "      <td>1</td>\n",
       "      <td>0</td>\n",
       "      <td>0</td>\n",
       "    </tr>\n",
       "    <tr>\n",
       "      <th>1</th>\n",
       "      <td>01/22/2020</td>\n",
       "      <td>Beijing</td>\n",
       "      <td>Mainland China</td>\n",
       "      <td>1/22/2020 17:00</td>\n",
       "      <td>14</td>\n",
       "      <td>0</td>\n",
       "      <td>0</td>\n",
       "    </tr>\n",
       "    <tr>\n",
       "      <th>2</th>\n",
       "      <td>01/22/2020</td>\n",
       "      <td>Chongqing</td>\n",
       "      <td>Mainland China</td>\n",
       "      <td>1/22/2020 17:00</td>\n",
       "      <td>6</td>\n",
       "      <td>0</td>\n",
       "      <td>0</td>\n",
       "    </tr>\n",
       "    <tr>\n",
       "      <th>3</th>\n",
       "      <td>01/22/2020</td>\n",
       "      <td>Fujian</td>\n",
       "      <td>Mainland China</td>\n",
       "      <td>1/22/2020 17:00</td>\n",
       "      <td>1</td>\n",
       "      <td>0</td>\n",
       "      <td>0</td>\n",
       "    </tr>\n",
       "    <tr>\n",
       "      <th>4</th>\n",
       "      <td>01/22/2020</td>\n",
       "      <td>Gansu</td>\n",
       "      <td>Mainland China</td>\n",
       "      <td>1/22/2020 17:00</td>\n",
       "      <td>0</td>\n",
       "      <td>0</td>\n",
       "      <td>0</td>\n",
       "    </tr>\n",
       "  </tbody>\n",
       "</table>\n",
       "</div>"
      ],
      "text/plain": [
       "  ObservationDate      State         Country       LastUpdate  Confirmed  \\\n",
       "0      01/22/2020      Anhui  Mainland China  1/22/2020 17:00          1   \n",
       "1      01/22/2020    Beijing  Mainland China  1/22/2020 17:00         14   \n",
       "2      01/22/2020  Chongqing  Mainland China  1/22/2020 17:00          6   \n",
       "3      01/22/2020     Fujian  Mainland China  1/22/2020 17:00          1   \n",
       "4      01/22/2020      Gansu  Mainland China  1/22/2020 17:00          0   \n",
       "\n",
       "   Deaths  Recovered  \n",
       "0       0          0  \n",
       "1       0          0  \n",
       "2       0          0  \n",
       "3       0          0  \n",
       "4       0          0  "
      ]
     },
     "execution_count": 3,
     "metadata": {},
     "output_type": "execute_result"
    }
   ],
   "source": [
    "#Read the data and set the index as ObservationDate and then save the dataframe in 'df' variable\n",
    "#write your code here\n",
    "\n",
    "df=pd.read_csv('covid19_data.csv')\n",
    "df.head()"
   ]
  },
  {
   "cell_type": "markdown",
   "id": "0e3edbf2",
   "metadata": {},
   "source": [
    "### Question 1"
   ]
  },
  {
   "cell_type": "markdown",
   "id": "f7c7d7df",
   "metadata": {},
   "source": [
    "Create a graph that depicts the recovered cases and save it in the A1 variable."
   ]
  },
  {
   "cell_type": "markdown",
   "id": "a9a62b6f",
   "metadata": {},
   "source": [
    "### Instructions\n",
    "- Give fig size as (10,5)\n",
    "- Title must be present\n",
    "- type of A1 will be matplotlib.axes._subplots.AxesSubplot"
   ]
  },
  {
   "cell_type": "markdown",
   "id": "367d82ca",
   "metadata": {},
   "source": [
    "**Hint:** :  data.plot(figsize =(),title = \" \")"
   ]
  },
  {
   "cell_type": "markdown",
   "id": "6a674874",
   "metadata": {},
   "source": [
    "**Sample image:**\n",
    "    \n",
    "<img src='Sample_images/Pic1.png' style='width:600px;height:400px'>"
   ]
  },
  {
   "cell_type": "code",
   "execution_count": 4,
   "id": "7f441687",
   "metadata": {},
   "outputs": [
    {
     "data": {
      "image/png": "[encoded data removed]",
      "text/plain": [
       "<Figure size 720x360 with 1 Axes>"
      ]
     },
     "metadata": {},
     "output_type": "display_data"
    }
   ],
   "source": [
    "#write your code here\n",
    "\n",
    "A1 = df['Recovered'].plot(figsize =(10,5),title = \"Recovered Cases\")\n",
    "\n"
   ]
  },
  {
   "cell_type": "markdown",
   "id": "1a8dcfc8",
   "metadata": {},
   "source": [
    "### Question 2"
   ]
  },
  {
   "cell_type": "markdown",
   "id": "7ccd1ca1",
   "metadata": {},
   "source": [
    "Create a probability plot with Deaths cases and save it as an A2 variable."
   ]
  },
  {
   "cell_type": "markdown",
   "id": "05f4c0af",
   "metadata": {},
   "source": [
    "**Hint:** Use scipy.stats.probplot(data, plot = pylab)                    "
   ]
  },
  {
   "cell_type": "markdown",
   "id": "ded6e968",
   "metadata": {},
   "source": [
    "**Sample image:**\n",
    "    \n",
    "<img src='Sample_images/Pic2.png' style='width:600px;height:400px'>"
   ]
  },
  {
   "cell_type": "code",
   "execution_count": null,
   "id": "c008cc3b",
   "metadata": {},
   "outputs": [],
   "source": [
    "#write your code here\n",
    "\n",
    "A2 = \n",
    "\n"
   ]
  },
  {
   "cell_type": "markdown",
   "id": "39154edd",
   "metadata": {},
   "source": [
    "### Question 3"
   ]
  },
  {
   "cell_type": "markdown",
   "id": "89af3854",
   "metadata": {},
   "source": [
    "Run the below cell to filter the confirmed cases related to 'Hong Kong' Country"
   ]
  },
  {
   "cell_type": "code",
   "execution_count": null,
   "id": "699047dc",
   "metadata": {},
   "outputs": [],
   "source": [
    "data = df[(df.Country == 'Hong Kong')].Confirmed"
   ]
  },
  {
   "cell_type": "markdown",
   "id": "3a2a17e6",
   "metadata": {},
   "source": [
    "List all confirmed cases from 2020-01-22 to 2020-01-31 using the data filtered in the previous step. And assign the resulting series to variable 'A3'"
   ]
  },
  {
   "cell_type": "code",
   "execution_count": null,
   "id": "83b6b2ac",
   "metadata": {},
   "outputs": [],
   "source": [
    "#write your code here\n",
    "\n",
    "A3 =\n",
    "\n"
   ]
  },
  {
   "cell_type": "markdown",
   "id": "88f02392",
   "metadata": {},
   "source": [
    "### Question 4"
   ]
  },
  {
   "cell_type": "markdown",
   "id": "a6bd7801",
   "metadata": {},
   "source": [
    "Verify stationarity on recovered cases using the adfuller technique and return the result to variable 'A4'"
   ]
  },
  {
   "cell_type": "markdown",
   "id": "f77a13eb",
   "metadata": {},
   "source": [
    "**Hint:** sts.adfuller(data)"
   ]
  },
  {
   "cell_type": "code",
   "execution_count": null,
   "id": "ab16c4b3",
   "metadata": {},
   "outputs": [],
   "source": [
    "#write your code here\n",
    "\n",
    "A4 = \n",
    "\n"
   ]
  },
  {
   "cell_type": "markdown",
   "id": "f8e92838",
   "metadata": {},
   "source": [
    "### Question 5"
   ]
  },
  {
   "cell_type": "markdown",
   "id": "bee22820",
   "metadata": {},
   "source": [
    "Perform Seasonal Decompose on confirmed cases using additive method and save it in A5 varaible"
   ]
  },
  {
   "cell_type": "markdown",
   "id": "0d71b363",
   "metadata": {},
   "source": [
    "#### Instuctions:\n",
    "- Put figsize as (10,5)\n",
    "- Take freq as 3\n",
    "- Store the output plot in A5 variable\n",
    "- **Note:** Type of A5 must be 'matplotlib.figure.Figure'"
   ]
  },
  {
   "cell_type": "markdown",
   "id": "32e78126",
   "metadata": {},
   "source": [
    "**Sample image:**\n",
    "    \n",
    "<img src='Sample_images/Pic3.png' style='width:600px;height:400px'>"
   ]
  },
  {
   "cell_type": "code",
   "execution_count": null,
   "id": "5b394227",
   "metadata": {},
   "outputs": [],
   "source": [
    "#Additive Decompose\n",
    "#write your code here\n",
    "\n",
    "A5 = \n",
    "\n"
   ]
  },
  {
   "cell_type": "markdown",
   "id": "2b308bd9",
   "metadata": {},
   "source": [
    "### Question 6"
   ]
  },
  {
   "cell_type": "markdown",
   "id": "41799dbc",
   "metadata": {},
   "source": [
    "Create AutoCorrelation plot on Death cases and save it in A6 variable"
   ]
  },
  {
   "cell_type": "markdown",
   "id": "cfdff40e",
   "metadata": {},
   "source": [
    "#### Instructions:\n",
    "- Take Lags as 40 and Zero as False\n",
    "- Title must be present and Font size is 20\n",
    "- Store the output plot in A6 variable\n",
    "- **Note:** Type of A6 must be 'matplotlib.figure.Figure'\n",
    "   "
   ]
  },
  {
   "cell_type": "markdown",
   "id": "d5357fe5",
   "metadata": {},
   "source": [
    "**Sample image:**\n",
    "    \n",
    "<img src='Sample_images/Pic4.png' style='width:600px;height:400px'>"
   ]
  },
  {
   "cell_type": "code",
   "execution_count": null,
   "id": "97baca18",
   "metadata": {},
   "outputs": [],
   "source": [
    "#write your code here\n",
    "\n",
    "A6 = \n",
    "\n"
   ]
  },
  {
   "cell_type": "markdown",
   "id": "d246bc69",
   "metadata": {},
   "source": [
    "### Question 7"
   ]
  },
  {
   "cell_type": "markdown",
   "id": "1648aceb",
   "metadata": {},
   "source": [
    "Create Partial AutoCorrelation plot on Death cases and save it in A7 variable"
   ]
  },
  {
   "cell_type": "markdown",
   "id": "250fe172",
   "metadata": {},
   "source": [
    "#### Instructions:\n",
    "- Take Lags as 40, Zero as False and method as 'ols\n",
    "- Title must be present and Font size is 20\n",
    "- Store the output plot in A7 variable\n",
    "- **Note:** Type of A7 must be 'matplotlib.figure.Figure'"
   ]
  },
  {
   "cell_type": "markdown",
   "id": "e75374f5",
   "metadata": {},
   "source": [
    "**Sample image:**\n",
    "    \n",
    "<img src='Sample_images/Pic5.png' style='width:600px;height:400px'>"
   ]
  },
  {
   "cell_type": "code",
   "execution_count": null,
   "id": "2ecc317f",
   "metadata": {},
   "outputs": [],
   "source": [
    "#write your code here\n",
    "\n",
    "A7 = \n"
   ]
  },
  {
   "cell_type": "markdown",
   "id": "059b7df6",
   "metadata": {},
   "source": [
    "### Question 8"
   ]
  },
  {
   "cell_type": "markdown",
   "id": "fd9485f5",
   "metadata": {},
   "source": [
    "Print the summary of auto regression fitted model on confirmed cases using summary() function and store the result in A8 variable."
   ]
  },
  {
   "cell_type": "markdown",
   "id": "cd526cb5",
   "metadata": {},
   "source": [
    "**Note:** Type of A8 must be 'statsmodels.iolib.summary.Summary'"
   ]
  },
  {
   "cell_type": "markdown",
   "id": "8990e974",
   "metadata": {},
   "source": [
    "### $ x_t = C + \\phi * x_{t-1} + \\epsilon_t  $"
   ]
  },
  {
   "cell_type": "code",
   "execution_count": null,
   "id": "1a9978c5",
   "metadata": {},
   "outputs": [],
   "source": [
    "#write your code here\n",
    "\n",
    "A8 = \n",
    "\n"
   ]
  },
  {
   "cell_type": "markdown",
   "id": "041e2556",
   "metadata": {},
   "source": [
    "### Question 9"
   ]
  },
  {
   "cell_type": "markdown",
   "id": "d511d607",
   "metadata": {},
   "source": [
    "Print the summary of moving average fitted model on confirmed cases using summary() function and store the result in A9 variable."
   ]
  },
  {
   "cell_type": "markdown",
   "id": "33ba15c8",
   "metadata": {},
   "source": [
    "**Note:** Type of A9 must be 'statsmodels.iolib.summary.Summary'"
   ]
  },
  {
   "cell_type": "markdown",
   "id": "9783a731",
   "metadata": {},
   "source": [
    "## $ r_t = C + \\theta_1 * \\epsilon_{t-1} + \\epsilon_{t} $"
   ]
  },
  {
   "cell_type": "code",
   "execution_count": null,
   "id": "5237c14f",
   "metadata": {},
   "outputs": [],
   "source": [
    "#write your code here\n",
    "\n",
    "A9 = \n",
    "\n"
   ]
  },
  {
   "cell_type": "markdown",
   "id": "b3a90839",
   "metadata": {},
   "source": [
    "### Run the below cell without modifying to save your answers"
   ]
  },
  {
   "cell_type": "code",
   "execution_count": null,
   "id": "2dbeed03",
   "metadata": {},
   "outputs": [],
   "source": [
    "import pickle\n",
    "\n",
    "def pickle1(covid19, obj):\n",
    "    with open(covid19,'wb')as f:\n",
    "        pickle.dump(obj,f,pickle.HIGHEST_PROTOCOL)   \n",
    "\n",
    "def pickling():\n",
    "    try:\n",
    "        pickle1('A1.pickle',A1)\n",
    "    except:\n",
    "        print('A1 variale is not defined. Please check the variable')\n",
    "    try:\n",
    "        pickle1('A2.pickle',A2)\n",
    "    except:\n",
    "        print('A2 variale is not defined. Please check the variable')\n",
    "    try:\n",
    "        pickle1('A3.pickle',A3)\n",
    "    except:\n",
    "        print('A3 variale is not defined. Please check the variable')\n",
    "    try:\n",
    "        pickle1('A4.pickle',A4)\n",
    "    except:\n",
    "        print('A4 variale is not defined. Please check the variable')\n",
    "    try:\n",
    "        pickle1('A5.pickle',A5)\n",
    "    except:\n",
    "        print('A5 variale is not defined. Please check the variable')\n",
    "    try:\n",
    "        pickle1('A6.pickle',A6)\n",
    "    except:\n",
    "        print('A6 variale is not defined. Please check the variable')\n",
    "    try:\n",
    "        pickle1('A7.pickle',A7)\n",
    "    except:\n",
    "        print('A7 variale is not defined. Please check the variable')\n",
    "    try:\n",
    "        pickle1('A8.pickle',A8)\n",
    "    except:\n",
    "        print('A8 variale is not defined. Please check the variable')\n",
    "    try:\n",
    "        pickle1('A9.pickle',A9)\n",
    "    except:\n",
    "        print('A9 variale is not defined. Please check the variable')\n",
    "        \n",
    "pickling()"
   ]
  },
  {
   "cell_type": "code",
   "execution_count": null,
   "id": "3cca7091",
   "metadata": {},
   "outputs": [],
   "source": []
  },
  {
   "cell_type": "code",
   "execution_count": null,
   "id": "f9d5c914",
   "metadata": {},
   "outputs": [],
   "source": []
  }
 ],
 "metadata": {
  "kernelspec": {
   "display_name": "Python 3",
   "language": "python",
   "name": "python3"
  },
  "language_info": {
   "codemirror_mode": {
    "name": "ipython",
    "version": 3
   },
   "file_extension": ".py",
   "mimetype": "text/x-python",
   "name": "python",
   "nbconvert_exporter": "python",
   "pygments_lexer": "ipython3",
   "version": "3.8.8"
  }
 },
 "nbformat": 4,
 "nbformat_minor": 5
}

{
 "cells": [
  {
   "cell_type": "markdown",
   "metadata": {},
   "source": [
    "## Feature Engineering\n",
    "\n",
    "Will bring together various techniques for feature engineering.\n",
    "This would give you an idea of the end-to-end pipeline to build machine learning algorithms.\n",
    "\n",
    "will:\n",
    "- build a lasso\n",
    "- use feature-engine for the feature engineering steps\n",
    "- set up an entire engineering and prediction pipeline using a Scikit-learn Pipeline\n",
    "\n",
    "===================================================================================================\n",
    "\n",
    "\n",
    "\n",
    "We will use the House Prices dataset."
   ]
  },
  {
   "cell_type": "code",
   "execution_count": 1,
   "metadata": {},
   "outputs": [
    {
     "name": "stdout",
     "output_type": "stream",
     "text": [
      "Collecting feature_engine\n",
      "  Downloading feature_engine-1.1.2-py2.py3-none-any.whl (180 kB)\n",
      "Requirement already satisfied: pandas>=1.0.3 in e:\\machinelearning\\anaconda3\\lib\\site-packages (from feature_engine) (1.2.4)\n",
      "Requirement already satisfied: numpy>=1.18.2 in e:\\machinelearning\\anaconda3\\lib\\site-packages (from feature_engine) (1.20.1)\n",
      "Requirement already satisfied: scipy>=1.4.1 in e:\\machinelearning\\anaconda3\\lib\\site-packages (from feature_engine) (1.6.2)\n",
      "Requirement already satisfied: statsmodels>=0.11.1 in e:\\machinelearning\\anaconda3\\lib\\site-packages (from feature_engine) (0.12.2)\n",
      "Requirement already satisfied: scikit-learn>=0.22.2 in e:\\machinelearning\\anaconda3\\lib\\site-packages (from feature_engine) (0.24.1)\n",
      "Requirement already satisfied: pytz>=2017.3 in e:\\machinelearning\\anaconda3\\lib\\site-packages (from pandas>=1.0.3->feature_engine) (2021.1)\n",
      "Requirement already satisfied: python-dateutil>=2.7.3 in e:\\machinelearning\\anaconda3\\lib\\site-packages (from pandas>=1.0.3->feature_engine) (2.8.1)\n",
      "Requirement already satisfied: six>=1.5 in e:\\machinelearning\\anaconda3\\lib\\site-packages (from python-dateutil>=2.7.3->pandas>=1.0.3->feature_engine) (1.15.0)\n",
      "Requirement already satisfied: joblib>=0.11 in e:\\machinelearning\\anaconda3\\lib\\site-packages (from scikit-learn>=0.22.2->feature_engine) (1.0.1)\n",
      "Requirement already satisfied: threadpoolctl>=2.0.0 in e:\\machinelearning\\anaconda3\\lib\\site-packages (from scikit-learn>=0.22.2->feature_engine) (2.1.0)\n",
      "Requirement already satisfied: patsy>=0.5 in e:\\machinelearning\\anaconda3\\lib\\site-packages (from statsmodels>=0.11.1->feature_engine) (0.5.1)\n",
      "Installing collected packages: feature-engine\n",
      "Successfully installed feature-engine-1.1.2\n"
     ]
    }
   ],
   "source": [
    "!pip install feature_engine"
   ]
  },
  {
   "cell_type": "markdown",
   "metadata": {},
   "source": [
    "## House Prices dataset"
   ]
  },
  {
   "cell_type": "code",
   "execution_count": 2,
   "metadata": {},
   "outputs": [],
   "source": [
    "import warnings \n",
    "warnings.filterwarnings('ignore')\n",
    "\n",
    "from math import sqrt\n",
    "import pandas as pd\n",
    "import numpy as np\n",
    "import matplotlib.pyplot as plt\n",
    "\n",
    "# for the model\n",
    "from sklearn.model_selection import train_test_split\n",
    "from sklearn.linear_model import Lasso\n",
    "from sklearn.pipeline import Pipeline\n",
    "from sklearn.metrics import mean_squared_error, r2_score\n",
    "\n",
    "# for feature engineering\n",
    "from sklearn.preprocessing import StandardScaler\n",
    "from feature_engine import imputation as mdi\n",
    "from feature_engine import discretisation as dsc\n",
    "from feature_engine import encoding as ce\n",
    "\n",
    "pd.pandas.set_option('display.max_columns', None)"
   ]
  },
  {
   "cell_type": "code",
   "execution_count": null,
   "metadata": {},
   "outputs": [],
   "source": [
    "'''\n",
    "Download dataset\n",
    "'''\n",
    "!wget = https://hr-projects-assets-prod.s3.amazonaws.com/cnjqbce2gfg/ba26e5aee7029d68d6adc1ab20cf3c54/houseprice.csv"
   ]
  },
  {
   "cell_type": "markdown",
   "metadata": {},
   "source": [
    "### Load Datasets"
   ]
  },
  {
   "cell_type": "code",
   "execution_count": 3,
   "metadata": {},
   "outputs": [],
   "source": [
    "'''\n",
    "load dataset, file : houseprice.csv\n",
    "'''\n",
    "\n",
    "data = pd.read_csv('houseprice.csv')"
   ]
  },
  {
   "cell_type": "markdown",
   "metadata": {},
   "source": [
    "### Types of variables \n",
    "\n",
    "Go ahead and find out what types of variables there are in this dataset"
   ]
  },
  {
   "cell_type": "code",
   "execution_count": 7,
   "metadata": {},
   "outputs": [
    {
     "data": {
      "text/plain": [
       "(1460, 81)"
      ]
     },
     "execution_count": 7,
     "metadata": {},
     "output_type": "execute_result"
    }
   ],
   "source": [
    "'''\n",
    "inspect the type of variables\n",
    "'''\n",
    "data.shape"
   ]
  },
  {
   "cell_type": "markdown",
   "metadata": {},
   "source": [
    "There are a mixture of categorical and numerical variables. Numerical are those of type **int** and **float** and categorical those of type **object**."
   ]
  },
  {
   "cell_type": "markdown",
   "metadata": {},
   "source": [
    "Id is a unique identifier for each of the houses. Thus this is not a variable that we can use.\n",
    "\n",
    "#### Find categorical variables"
   ]
  },
  {
   "cell_type": "code",
   "execution_count": 6,
   "metadata": {},
   "outputs": [
    {
     "name": "stdout",
     "output_type": "stream",
     "text": [
      "['MSZoning', 'Street', 'Alley', 'LotShape', 'LandContour', 'Utilities', 'LotConfig', 'LandSlope', 'Neighborhood', 'Condition1', 'Condition2', 'BldgType', 'HouseStyle', 'RoofStyle', 'RoofMatl', 'Exterior1st', 'Exterior2nd', 'MasVnrType', 'ExterQual', 'ExterCond', 'Foundation', 'BsmtQual', 'BsmtCond', 'BsmtExposure', 'BsmtFinType1', 'BsmtFinType2', 'Heating', 'HeatingQC', 'CentralAir', 'Electrical', 'KitchenQual', 'Functional', 'FireplaceQu', 'GarageType', 'GarageFinish', 'GarageQual', 'GarageCond', 'PavedDrive', 'PoolQC', 'Fence', 'MiscFeature', 'SaleType', 'SaleCondition']\n",
      "There are 43 categorical variables\n"
     ]
    }
   ],
   "source": [
    "'''\n",
    "find categorical variables\n",
    "'''\n",
    "print(data.select_dtypes(include=['object']).columns.tolist())\n",
    "categorical = data.select_dtypes(include=['object']).columns.tolist()\n",
    "\n",
    "print('There are {} categorical variables'.format(len(categorical)))"
   ]
  },
  {
   "cell_type": "code",
   "execution_count": 8,
   "metadata": {},
   "outputs": [
    {
     "data": {
      "text/html": [
       "<div>\n",
       "<style scoped>\n",
       "    .dataframe tbody tr th:only-of-type {\n",
       "        vertical-align: middle;\n",
       "    }\n",
       "\n",
       "    .dataframe tbody tr th {\n",
       "        vertical-align: top;\n",
       "    }\n",
       "\n",
       "    .dataframe thead th {\n",
       "        text-align: right;\n",
       "    }\n",
       "</style>\n",
       "<table border=\"1\" class=\"dataframe\">\n",
       "  <thead>\n",
       "    <tr style=\"text-align: right;\">\n",
       "      <th></th>\n",
       "      <th>MSZoning</th>\n",
       "      <th>Street</th>\n",
       "      <th>Alley</th>\n",
       "      <th>LotShape</th>\n",
       "      <th>LandContour</th>\n",
       "      <th>Utilities</th>\n",
       "      <th>LotConfig</th>\n",
       "      <th>LandSlope</th>\n",
       "      <th>Neighborhood</th>\n",
       "      <th>Condition1</th>\n",
       "      <th>Condition2</th>\n",
       "      <th>BldgType</th>\n",
       "      <th>HouseStyle</th>\n",
       "      <th>RoofStyle</th>\n",
       "      <th>RoofMatl</th>\n",
       "      <th>Exterior1st</th>\n",
       "      <th>Exterior2nd</th>\n",
       "      <th>MasVnrType</th>\n",
       "      <th>ExterQual</th>\n",
       "      <th>ExterCond</th>\n",
       "      <th>Foundation</th>\n",
       "      <th>BsmtQual</th>\n",
       "      <th>BsmtCond</th>\n",
       "      <th>BsmtExposure</th>\n",
       "      <th>BsmtFinType1</th>\n",
       "      <th>BsmtFinType2</th>\n",
       "      <th>Heating</th>\n",
       "      <th>HeatingQC</th>\n",
       "      <th>CentralAir</th>\n",
       "      <th>Electrical</th>\n",
       "      <th>KitchenQual</th>\n",
       "      <th>Functional</th>\n",
       "      <th>FireplaceQu</th>\n",
       "      <th>GarageType</th>\n",
       "      <th>GarageFinish</th>\n",
       "      <th>GarageQual</th>\n",
       "      <th>GarageCond</th>\n",
       "      <th>PavedDrive</th>\n",
       "      <th>PoolQC</th>\n",
       "      <th>Fence</th>\n",
       "      <th>MiscFeature</th>\n",
       "      <th>SaleType</th>\n",
       "      <th>SaleCondition</th>\n",
       "    </tr>\n",
       "  </thead>\n",
       "  <tbody>\n",
       "    <tr>\n",
       "      <th>0</th>\n",
       "      <td>RL</td>\n",
       "      <td>Pave</td>\n",
       "      <td>NaN</td>\n",
       "      <td>Reg</td>\n",
       "      <td>Lvl</td>\n",
       "      <td>AllPub</td>\n",
       "      <td>Inside</td>\n",
       "      <td>Gtl</td>\n",
       "      <td>CollgCr</td>\n",
       "      <td>Norm</td>\n",
       "      <td>Norm</td>\n",
       "      <td>1Fam</td>\n",
       "      <td>2Story</td>\n",
       "      <td>Gable</td>\n",
       "      <td>CompShg</td>\n",
       "      <td>VinylSd</td>\n",
       "      <td>VinylSd</td>\n",
       "      <td>BrkFace</td>\n",
       "      <td>Gd</td>\n",
       "      <td>TA</td>\n",
       "      <td>PConc</td>\n",
       "      <td>Gd</td>\n",
       "      <td>TA</td>\n",
       "      <td>No</td>\n",
       "      <td>GLQ</td>\n",
       "      <td>Unf</td>\n",
       "      <td>GasA</td>\n",
       "      <td>Ex</td>\n",
       "      <td>Y</td>\n",
       "      <td>SBrkr</td>\n",
       "      <td>Gd</td>\n",
       "      <td>Typ</td>\n",
       "      <td>NaN</td>\n",
       "      <td>Attchd</td>\n",
       "      <td>RFn</td>\n",
       "      <td>TA</td>\n",
       "      <td>TA</td>\n",
       "      <td>Y</td>\n",
       "      <td>NaN</td>\n",
       "      <td>NaN</td>\n",
       "      <td>NaN</td>\n",
       "      <td>WD</td>\n",
       "      <td>Normal</td>\n",
       "    </tr>\n",
       "    <tr>\n",
       "      <th>1</th>\n",
       "      <td>RL</td>\n",
       "      <td>Pave</td>\n",
       "      <td>NaN</td>\n",
       "      <td>Reg</td>\n",
       "      <td>Lvl</td>\n",
       "      <td>AllPub</td>\n",
       "      <td>FR2</td>\n",
       "      <td>Gtl</td>\n",
       "      <td>Veenker</td>\n",
       "      <td>Feedr</td>\n",
       "      <td>Norm</td>\n",
       "      <td>1Fam</td>\n",
       "      <td>1Story</td>\n",
       "      <td>Gable</td>\n",
       "      <td>CompShg</td>\n",
       "      <td>MetalSd</td>\n",
       "      <td>MetalSd</td>\n",
       "      <td>None</td>\n",
       "      <td>TA</td>\n",
       "      <td>TA</td>\n",
       "      <td>CBlock</td>\n",
       "      <td>Gd</td>\n",
       "      <td>TA</td>\n",
       "      <td>Gd</td>\n",
       "      <td>ALQ</td>\n",
       "      <td>Unf</td>\n",
       "      <td>GasA</td>\n",
       "      <td>Ex</td>\n",
       "      <td>Y</td>\n",
       "      <td>SBrkr</td>\n",
       "      <td>TA</td>\n",
       "      <td>Typ</td>\n",
       "      <td>TA</td>\n",
       "      <td>Attchd</td>\n",
       "      <td>RFn</td>\n",
       "      <td>TA</td>\n",
       "      <td>TA</td>\n",
       "      <td>Y</td>\n",
       "      <td>NaN</td>\n",
       "      <td>NaN</td>\n",
       "      <td>NaN</td>\n",
       "      <td>WD</td>\n",
       "      <td>Normal</td>\n",
       "    </tr>\n",
       "    <tr>\n",
       "      <th>2</th>\n",
       "      <td>RL</td>\n",
       "      <td>Pave</td>\n",
       "      <td>NaN</td>\n",
       "      <td>IR1</td>\n",
       "      <td>Lvl</td>\n",
       "      <td>AllPub</td>\n",
       "      <td>Inside</td>\n",
       "      <td>Gtl</td>\n",
       "      <td>CollgCr</td>\n",
       "      <td>Norm</td>\n",
       "      <td>Norm</td>\n",
       "      <td>1Fam</td>\n",
       "      <td>2Story</td>\n",
       "      <td>Gable</td>\n",
       "      <td>CompShg</td>\n",
       "      <td>VinylSd</td>\n",
       "      <td>VinylSd</td>\n",
       "      <td>BrkFace</td>\n",
       "      <td>Gd</td>\n",
       "      <td>TA</td>\n",
       "      <td>PConc</td>\n",
       "      <td>Gd</td>\n",
       "      <td>TA</td>\n",
       "      <td>Mn</td>\n",
       "      <td>GLQ</td>\n",
       "      <td>Unf</td>\n",
       "      <td>GasA</td>\n",
       "      <td>Ex</td>\n",
       "      <td>Y</td>\n",
       "      <td>SBrkr</td>\n",
       "      <td>Gd</td>\n",
       "      <td>Typ</td>\n",
       "      <td>TA</td>\n",
       "      <td>Attchd</td>\n",
       "      <td>RFn</td>\n",
       "      <td>TA</td>\n",
       "      <td>TA</td>\n",
       "      <td>Y</td>\n",
       "      <td>NaN</td>\n",
       "      <td>NaN</td>\n",
       "      <td>NaN</td>\n",
       "      <td>WD</td>\n",
       "      <td>Normal</td>\n",
       "    </tr>\n",
       "    <tr>\n",
       "      <th>3</th>\n",
       "      <td>RL</td>\n",
       "      <td>Pave</td>\n",
       "      <td>NaN</td>\n",
       "      <td>IR1</td>\n",
       "      <td>Lvl</td>\n",
       "      <td>AllPub</td>\n",
       "      <td>Corner</td>\n",
       "      <td>Gtl</td>\n",
       "      <td>Crawfor</td>\n",
       "      <td>Norm</td>\n",
       "      <td>Norm</td>\n",
       "      <td>1Fam</td>\n",
       "      <td>2Story</td>\n",
       "      <td>Gable</td>\n",
       "      <td>CompShg</td>\n",
       "      <td>Wd Sdng</td>\n",
       "      <td>Wd Shng</td>\n",
       "      <td>None</td>\n",
       "      <td>TA</td>\n",
       "      <td>TA</td>\n",
       "      <td>BrkTil</td>\n",
       "      <td>TA</td>\n",
       "      <td>Gd</td>\n",
       "      <td>No</td>\n",
       "      <td>ALQ</td>\n",
       "      <td>Unf</td>\n",
       "      <td>GasA</td>\n",
       "      <td>Gd</td>\n",
       "      <td>Y</td>\n",
       "      <td>SBrkr</td>\n",
       "      <td>Gd</td>\n",
       "      <td>Typ</td>\n",
       "      <td>Gd</td>\n",
       "      <td>Detchd</td>\n",
       "      <td>Unf</td>\n",
       "      <td>TA</td>\n",
       "      <td>TA</td>\n",
       "      <td>Y</td>\n",
       "      <td>NaN</td>\n",
       "      <td>NaN</td>\n",
       "      <td>NaN</td>\n",
       "      <td>WD</td>\n",
       "      <td>Abnorml</td>\n",
       "    </tr>\n",
       "    <tr>\n",
       "      <th>4</th>\n",
       "      <td>RL</td>\n",
       "      <td>Pave</td>\n",
       "      <td>NaN</td>\n",
       "      <td>IR1</td>\n",
       "      <td>Lvl</td>\n",
       "      <td>AllPub</td>\n",
       "      <td>FR2</td>\n",
       "      <td>Gtl</td>\n",
       "      <td>NoRidge</td>\n",
       "      <td>Norm</td>\n",
       "      <td>Norm</td>\n",
       "      <td>1Fam</td>\n",
       "      <td>2Story</td>\n",
       "      <td>Gable</td>\n",
       "      <td>CompShg</td>\n",
       "      <td>VinylSd</td>\n",
       "      <td>VinylSd</td>\n",
       "      <td>BrkFace</td>\n",
       "      <td>Gd</td>\n",
       "      <td>TA</td>\n",
       "      <td>PConc</td>\n",
       "      <td>Gd</td>\n",
       "      <td>TA</td>\n",
       "      <td>Av</td>\n",
       "      <td>GLQ</td>\n",
       "      <td>Unf</td>\n",
       "      <td>GasA</td>\n",
       "      <td>Ex</td>\n",
       "      <td>Y</td>\n",
       "      <td>SBrkr</td>\n",
       "      <td>Gd</td>\n",
       "      <td>Typ</td>\n",
       "      <td>TA</td>\n",
       "      <td>Attchd</td>\n",
       "      <td>RFn</td>\n",
       "      <td>TA</td>\n",
       "      <td>TA</td>\n",
       "      <td>Y</td>\n",
       "      <td>NaN</td>\n",
       "      <td>NaN</td>\n",
       "      <td>NaN</td>\n",
       "      <td>WD</td>\n",
       "      <td>Normal</td>\n",
       "    </tr>\n",
       "  </tbody>\n",
       "</table>\n",
       "</div>"
      ],
      "text/plain": [
       "  MSZoning Street Alley LotShape LandContour Utilities LotConfig LandSlope  \\\n",
       "0       RL   Pave   NaN      Reg         Lvl    AllPub    Inside       Gtl   \n",
       "1       RL   Pave   NaN      Reg         Lvl    AllPub       FR2       Gtl   \n",
       "2       RL   Pave   NaN      IR1         Lvl    AllPub    Inside       Gtl   \n",
       "3       RL   Pave   NaN      IR1         Lvl    AllPub    Corner       Gtl   \n",
       "4       RL   Pave   NaN      IR1         Lvl    AllPub       FR2       Gtl   \n",
       "\n",
       "  Neighborhood Condition1 Condition2 BldgType HouseStyle RoofStyle RoofMatl  \\\n",
       "0      CollgCr       Norm       Norm     1Fam     2Story     Gable  CompShg   \n",
       "1      Veenker      Feedr       Norm     1Fam     1Story     Gable  CompShg   \n",
       "2      CollgCr       Norm       Norm     1Fam     2Story     Gable  CompShg   \n",
       "3      Crawfor       Norm       Norm     1Fam     2Story     Gable  CompShg   \n",
       "4      NoRidge       Norm       Norm     1Fam     2Story     Gable  CompShg   \n",
       "\n",
       "  Exterior1st Exterior2nd MasVnrType ExterQual ExterCond Foundation BsmtQual  \\\n",
       "0     VinylSd     VinylSd    BrkFace        Gd        TA      PConc       Gd   \n",
       "1     MetalSd     MetalSd       None        TA        TA     CBlock       Gd   \n",
       "2     VinylSd     VinylSd    BrkFace        Gd        TA      PConc       Gd   \n",
       "3     Wd Sdng     Wd Shng       None        TA        TA     BrkTil       TA   \n",
       "4     VinylSd     VinylSd    BrkFace        Gd        TA      PConc       Gd   \n",
       "\n",
       "  BsmtCond BsmtExposure BsmtFinType1 BsmtFinType2 Heating HeatingQC  \\\n",
       "0       TA           No          GLQ          Unf    GasA        Ex   \n",
       "1       TA           Gd          ALQ          Unf    GasA        Ex   \n",
       "2       TA           Mn          GLQ          Unf    GasA        Ex   \n",
       "3       Gd           No          ALQ          Unf    GasA        Gd   \n",
       "4       TA           Av          GLQ          Unf    GasA        Ex   \n",
       "\n",
       "  CentralAir Electrical KitchenQual Functional FireplaceQu GarageType  \\\n",
       "0          Y      SBrkr          Gd        Typ         NaN     Attchd   \n",
       "1          Y      SBrkr          TA        Typ          TA     Attchd   \n",
       "2          Y      SBrkr          Gd        Typ          TA     Attchd   \n",
       "3          Y      SBrkr          Gd        Typ          Gd     Detchd   \n",
       "4          Y      SBrkr          Gd        Typ          TA     Attchd   \n",
       "\n",
       "  GarageFinish GarageQual GarageCond PavedDrive PoolQC Fence MiscFeature  \\\n",
       "0          RFn         TA         TA          Y    NaN   NaN         NaN   \n",
       "1          RFn         TA         TA          Y    NaN   NaN         NaN   \n",
       "2          RFn         TA         TA          Y    NaN   NaN         NaN   \n",
       "3          Unf         TA         TA          Y    NaN   NaN         NaN   \n",
       "4          RFn         TA         TA          Y    NaN   NaN         NaN   \n",
       "\n",
       "  SaleType SaleCondition  \n",
       "0       WD        Normal  \n",
       "1       WD        Normal  \n",
       "2       WD        Normal  \n",
       "3       WD       Abnorml  \n",
       "4       WD        Normal  "
      ]
     },
     "execution_count": 8,
     "metadata": {},
     "output_type": "execute_result"
    }
   ],
   "source": [
    "data[categorical].head()"
   ]
  },
  {
   "cell_type": "markdown",
   "metadata": {},
   "source": [
    "#### Find temporal variables\n",
    "\n",
    "There are a few variables in the dataset that are temporal. They indicate the year in which something happened. We shouldn't use these variables straightaway for model building. We should instead transform them to capture some sort of time information. Let's inspect these temporal variables:\n"
   ]
  },
  {
   "cell_type": "code",
   "execution_count": 89,
   "metadata": {},
   "outputs": [
    {
     "name": "stdout",
     "output_type": "stream",
     "text": [
      "38\n"
     ]
    },
    {
     "data": {
      "text/plain": [
       "['YearBuilt', 'YearRemodAdd', 'GarageYrBlt', 'YrSold']"
      ]
     },
     "execution_count": 89,
     "metadata": {},
     "output_type": "execute_result"
    }
   ],
   "source": [
    "'''\n",
    "make a list of the numerical variables first\n",
    "'''\n",
    "\n",
    "numerical = data.select_dtypes(exclude=['object']).columns.tolist()\n",
    "print(len(numerical))\n",
    "'''\n",
    "list of variables that contain year information\n",
    "'''\n",
    "df_years=(data.filter(regex=(\"Year.*|Yr.*\")))\n",
    "year_vars = list(df_years.columns)\n",
    "\n",
    "year_vars"
   ]
  },
  {
   "cell_type": "code",
   "execution_count": 90,
   "metadata": {},
   "outputs": [
    {
     "data": {
      "text/html": [
       "<div>\n",
       "<style scoped>\n",
       "    .dataframe tbody tr th:only-of-type {\n",
       "        vertical-align: middle;\n",
       "    }\n",
       "\n",
       "    .dataframe tbody tr th {\n",
       "        vertical-align: top;\n",
       "    }\n",
       "\n",
       "    .dataframe thead th {\n",
       "        text-align: right;\n",
       "    }\n",
       "</style>\n",
       "<table border=\"1\" class=\"dataframe\">\n",
       "  <thead>\n",
       "    <tr style=\"text-align: right;\">\n",
       "      <th></th>\n",
       "      <th>YearBuilt</th>\n",
       "      <th>YearRemodAdd</th>\n",
       "      <th>GarageYrBlt</th>\n",
       "      <th>YrSold</th>\n",
       "    </tr>\n",
       "  </thead>\n",
       "  <tbody>\n",
       "    <tr>\n",
       "      <th>0</th>\n",
       "      <td>2003</td>\n",
       "      <td>2003</td>\n",
       "      <td>2003.0</td>\n",
       "      <td>2008</td>\n",
       "    </tr>\n",
       "    <tr>\n",
       "      <th>1</th>\n",
       "      <td>1976</td>\n",
       "      <td>1976</td>\n",
       "      <td>1976.0</td>\n",
       "      <td>2007</td>\n",
       "    </tr>\n",
       "    <tr>\n",
       "      <th>2</th>\n",
       "      <td>2001</td>\n",
       "      <td>2002</td>\n",
       "      <td>2001.0</td>\n",
       "      <td>2008</td>\n",
       "    </tr>\n",
       "    <tr>\n",
       "      <th>3</th>\n",
       "      <td>1915</td>\n",
       "      <td>1970</td>\n",
       "      <td>1998.0</td>\n",
       "      <td>2006</td>\n",
       "    </tr>\n",
       "    <tr>\n",
       "      <th>4</th>\n",
       "      <td>2000</td>\n",
       "      <td>2000</td>\n",
       "      <td>2000.0</td>\n",
       "      <td>2008</td>\n",
       "    </tr>\n",
       "  </tbody>\n",
       "</table>\n",
       "</div>"
      ],
      "text/plain": [
       "   YearBuilt  YearRemodAdd  GarageYrBlt  YrSold\n",
       "0       2003          2003       2003.0    2008\n",
       "1       1976          1976       1976.0    2007\n",
       "2       2001          2002       2001.0    2008\n",
       "3       1915          1970       1998.0    2006\n",
       "4       2000          2000       2000.0    2008"
      ]
     },
     "execution_count": 90,
     "metadata": {},
     "output_type": "execute_result"
    }
   ],
   "source": [
    "data[year_vars].head()"
   ]
  },
  {
   "cell_type": "markdown",
   "metadata": {},
   "source": [
    "We can see that these variables correspond to the years in which the houses were built or remodeled or a garage was built, or the house was indeed sold. It would be better if we captured the time elapsed between the time the house was built and the time the house was sold for example. We are going to do that in the feature engineering section later. \n",
    "\n",
    "We have another temporal variable: MoSold, which indicates the month in which the house was sold. Let's inspect if the house price varies with the time of the year in which it is sold:"
   ]
  },
  {
   "cell_type": "code",
   "execution_count": 91,
   "metadata": {},
   "outputs": [
    {
     "data": {
      "text/plain": [
       "<AxesSubplot:xlabel='MoSold'>"
      ]
     },
     "execution_count": 91,
     "metadata": {},
     "output_type": "execute_result"
    },
    {
     "data": {
      "image/png": "[encoded data removed]",
      "text/plain": [
       "<Figure size 432x288 with 1 Axes>"
      ]
     },
     "metadata": {
      "needs_background": "light"
     },
     "output_type": "display_data"
    }
   ],
   "source": [
    "'''\n",
    "plot median house price per month in which it was sold\n",
    "'''\n",
    "\n",
    "df_mo=data.groupby(by='MoSold').median()['SalePrice']\n",
    "df_mo.plot()"
   ]
  },
  {
   "cell_type": "markdown",
   "metadata": {},
   "source": [
    "### Q1 . Dose the price seems to vary depending on the month in which the house is sold?\n",
    "\n",
    "    A. No\n",
    "    B. Yes\n",
    "    \n",
    "    assgin A or B to q1."
   ]
  },
  {
   "cell_type": "code",
   "execution_count": 92,
   "metadata": {},
   "outputs": [],
   "source": [
    "# Replace \"X\" with A or B\n",
    "q1 = str(\"B\")"
   ]
  },
  {
   "cell_type": "code",
   "execution_count": 93,
   "metadata": {},
   "outputs": [],
   "source": [
    "'''\n",
    "Please run this cell to to, submit your option for evalutaion\n",
    "'''\n",
    "\n",
    "file=open(\"submit0.txt\",\"w+\")\n",
    "\n",
    "s0=q1\n",
    "file.write(s0)\n",
    "file.write(\"\\n\")\n",
    "file.close()"
   ]
  },
  {
   "cell_type": "markdown",
   "metadata": {},
   "source": [
    "#### Find discrete variables\n",
    "\n",
    "To identify discrete variables, we will select from all the numerical ones, those that contain a finite and small number of distinct values."
   ]
  },
  {
   "cell_type": "code",
   "execution_count": 94,
   "metadata": {},
   "outputs": [
    {
     "name": "stdout",
     "output_type": "stream",
     "text": [
      "MSSubClass 15\n",
      "OverallQual 10\n",
      "OverallCond 9\n",
      "LowQualFinSF 24\n",
      "BsmtFullBath 4\n",
      "BsmtHalfBath 3\n",
      "FullBath 4\n",
      "HalfBath 3\n",
      "BedroomAbvGr 8\n",
      "KitchenAbvGr 4\n",
      "TotRmsAbvGrd 12\n",
      "Fireplaces 4\n",
      "GarageCars 5\n",
      "3SsnPorch 20\n",
      "PoolArea 8\n",
      "MiscVal 21\n",
      "MoSold 12\n",
      "YrSold 5\n",
      "['MSSubClass', 'OverallQual', 'OverallCond', 'LowQualFinSF', 'BsmtFullBath', 'BsmtHalfBath', 'FullBath', 'HalfBath', 'BedroomAbvGr', 'KitchenAbvGr', 'TotRmsAbvGrd', 'Fireplaces', 'GarageCars', '3SsnPorch', 'PoolArea', 'MiscVal', 'MoSold', 'YrSold']\n",
      "There are 18 discrete variables\n"
     ]
    }
   ],
   "source": [
    "'''\n",
    "visualise the values of the discrete variables\n",
    "'''\n",
    "#data[numerical].plot(subplots=True, layout=(4,5))\n",
    "discrete = []\n",
    "for i in numerical:\n",
    "    count=len(data[i].unique())\n",
    "    if (count <= 40):\n",
    "        discrete.append(i)\n",
    "        print(i,count)\n",
    "\n",
    "print(discrete)\n",
    "# Code\n",
    "\n",
    "print('There are {} discrete variables'.format(len(discrete)))"
   ]
  },
  {
   "cell_type": "markdown",
   "metadata": {},
   "source": [
    "#### Continuous variables"
   ]
  },
  {
   "cell_type": "code",
   "execution_count": 95,
   "metadata": {},
   "outputs": [
    {
     "name": "stdout",
     "output_type": "stream",
     "text": [
      "LotFrontage 111\n",
      "LotArea 1073\n",
      "YearBuilt 112\n",
      "YearRemodAdd 61\n",
      "MasVnrArea 328\n",
      "BsmtFinSF1 637\n",
      "BsmtFinSF2 144\n",
      "BsmtUnfSF 780\n",
      "TotalBsmtSF 721\n",
      "1stFlrSF 753\n",
      "2ndFlrSF 417\n",
      "GrLivArea 861\n",
      "GarageYrBlt 98\n",
      "GarageArea 441\n",
      "WoodDeckSF 274\n",
      "OpenPorchSF 202\n",
      "EnclosedPorch 120\n",
      "ScreenPorch 76\n",
      "There are 18 numerical and continuous variables\n"
     ]
    }
   ],
   "source": [
    "'''\n",
    "find continuous variables\n",
    "let's remember to skip the Id variable and the target variable SalePrice\n",
    "which are both also numerical'''\n",
    "number_columns=numerical\n",
    "numerical = []\n",
    "for i in number_columns:\n",
    "    if (i != 'Id') & (i!='SalePrice'):\n",
    "        count=len(data[i].unique())\n",
    "        if (count > 40):\n",
    "            numerical.append(i)\n",
    "            print(i,count)\n",
    "print('There are {} numerical and continuous variables'.format(len(numerical)))"
   ]
  },
  {
   "cell_type": "markdown",
   "metadata": {},
   "source": [
    "    Now we have inspected and have a view of the different types of variables that we have in the house price dataset. \n",
    "    Let's move on to understand the types of problems that these variables have.\n",
    "\n",
    "### Types of problems within the variables\n",
    "\n",
    "#### Missing values"
   ]
  },
  {
   "cell_type": "code",
   "execution_count": 102,
   "metadata": {},
   "outputs": [
    {
     "data": {
      "text/plain": [
       "Id                0.000000\n",
       "MSSubClass        0.000000\n",
       "MSZoning          0.000000\n",
       "LotFrontage      17.739726\n",
       "LotArea           0.000000\n",
       "                   ...    \n",
       "MoSold            0.000000\n",
       "YrSold            0.000000\n",
       "SaleType          0.000000\n",
       "SaleCondition     0.000000\n",
       "SalePrice         0.000000\n",
       "Length: 81, dtype: float64"
      ]
     },
     "execution_count": 102,
     "metadata": {},
     "output_type": "execute_result"
    }
   ],
   "source": [
    "'''\n",
    "Find variables with NA and the percentage of NA\n",
    "'''\n",
    "data.columns[data.isnull().any()]\n",
    "data.isnull().mean() * 100\n",
    "# Code"
   ]
  },
  {
   "cell_type": "markdown",
   "metadata": {},
   "source": [
    "#### Outliers and distributions"
   ]
  },
  {
   "cell_type": "code",
   "execution_count": 106,
   "metadata": {},
   "outputs": [
    {
     "data": {
      "text/plain": [
       "{'whiskers': [<matplotlib.lines.Line2D at 0x118d903cb50>,\n",
       "  <matplotlib.lines.Line2D at 0x118d9b99610>,\n",
       "  <matplotlib.lines.Line2D at 0x118d9042910>,\n",
       "  <matplotlib.lines.Line2D at 0x118d9042310>,\n",
       "  <matplotlib.lines.Line2D at 0x118d7485d30>,\n",
       "  <matplotlib.lines.Line2D at 0x118d7485fd0>,\n",
       "  <matplotlib.lines.Line2D at 0x118d8b0cf70>,\n",
       "  <matplotlib.lines.Line2D at 0x118d8b0c580>,\n",
       "  <matplotlib.lines.Line2D at 0x118d8f789d0>,\n",
       "  <matplotlib.lines.Line2D at 0x118d9046c70>,\n",
       "  <matplotlib.lines.Line2D at 0x118d75d8f10>,\n",
       "  <matplotlib.lines.Line2D at 0x118d6069a60>,\n",
       "  <matplotlib.lines.Line2D at 0x118d75dfa90>,\n",
       "  <matplotlib.lines.Line2D at 0x118d5a68f70>,\n",
       "  <matplotlib.lines.Line2D at 0x118d8db05e0>,\n",
       "  <matplotlib.lines.Line2D at 0x118d8db02e0>,\n",
       "  <matplotlib.lines.Line2D at 0x118d911fc70>,\n",
       "  <matplotlib.lines.Line2D at 0x118d92cb310>,\n",
       "  <matplotlib.lines.Line2D at 0x118d8fffb80>,\n",
       "  <matplotlib.lines.Line2D at 0x118d920d850>,\n",
       "  <matplotlib.lines.Line2D at 0x118d8c69b80>,\n",
       "  <matplotlib.lines.Line2D at 0x118d8d46910>,\n",
       "  <matplotlib.lines.Line2D at 0x118d9509760>,\n",
       "  <matplotlib.lines.Line2D at 0x118d8cd5130>,\n",
       "  <matplotlib.lines.Line2D at 0x118d6ee5d90>,\n",
       "  <matplotlib.lines.Line2D at 0x118d6ee5460>,\n",
       "  <matplotlib.lines.Line2D at 0x118d8d75c10>,\n",
       "  <matplotlib.lines.Line2D at 0x118d8d75b50>,\n",
       "  <matplotlib.lines.Line2D at 0x118d8e35e50>,\n",
       "  <matplotlib.lines.Line2D at 0x118d8e359a0>,\n",
       "  <matplotlib.lines.Line2D at 0x118d8c15670>,\n",
       "  <matplotlib.lines.Line2D at 0x118d6ef3dc0>,\n",
       "  <matplotlib.lines.Line2D at 0x118d8b17940>,\n",
       "  <matplotlib.lines.Line2D at 0x118d8b17c40>,\n",
       "  <matplotlib.lines.Line2D at 0x118d8b3b970>,\n",
       "  <matplotlib.lines.Line2D at 0x118d523d8e0>],\n",
       " 'caps': [<matplotlib.lines.Line2D at 0x118d9b99790>,\n",
       "  <matplotlib.lines.Line2D at 0x118d9b99ca0>,\n",
       "  <matplotlib.lines.Line2D at 0x118d9686a00>,\n",
       "  <matplotlib.lines.Line2D at 0x118d9686700>,\n",
       "  <matplotlib.lines.Line2D at 0x118d8d46940>,\n",
       "  <matplotlib.lines.Line2D at 0x118d8d46220>,\n",
       "  <matplotlib.lines.Line2D at 0x118d8b0ce20>,\n",
       "  <matplotlib.lines.Line2D at 0x118d8b0ca00>,\n",
       "  <matplotlib.lines.Line2D at 0x118d9046250>,\n",
       "  <matplotlib.lines.Line2D at 0x118d9046fd0>,\n",
       "  <matplotlib.lines.Line2D at 0x118d6069fa0>,\n",
       "  <matplotlib.lines.Line2D at 0x118d60694c0>,\n",
       "  <matplotlib.lines.Line2D at 0x118d5a68cd0>,\n",
       "  <matplotlib.lines.Line2D at 0x118d5a68880>,\n",
       "  <matplotlib.lines.Line2D at 0x118d8db0250>,\n",
       "  <matplotlib.lines.Line2D at 0x118d911f940>,\n",
       "  <matplotlib.lines.Line2D at 0x118d92cb460>,\n",
       "  <matplotlib.lines.Line2D at 0x118d8ca6100>,\n",
       "  <matplotlib.lines.Line2D at 0x118d920dfd0>,\n",
       "  <matplotlib.lines.Line2D at 0x118d920dac0>,\n",
       "  <matplotlib.lines.Line2D at 0x118d94e3fa0>,\n",
       "  <matplotlib.lines.Line2D at 0x118d9b7e490>,\n",
       "  <matplotlib.lines.Line2D at 0x118d8cd5dc0>,\n",
       "  <matplotlib.lines.Line2D at 0x118d8cd51c0>,\n",
       "  <matplotlib.lines.Line2D at 0x118d6ee58b0>,\n",
       "  <matplotlib.lines.Line2D at 0x118d904dbb0>,\n",
       "  <matplotlib.lines.Line2D at 0x118d8d75070>,\n",
       "  <matplotlib.lines.Line2D at 0x118d8d758b0>,\n",
       "  <matplotlib.lines.Line2D at 0x118d8e35df0>,\n",
       "  <matplotlib.lines.Line2D at 0x118d8c15fa0>,\n",
       "  <matplotlib.lines.Line2D at 0x118d6ef30a0>,\n",
       "  <matplotlib.lines.Line2D at 0x118d6ef32e0>,\n",
       "  <matplotlib.lines.Line2D at 0x118d8b17b50>,\n",
       "  <matplotlib.lines.Line2D at 0x118d8b3b6a0>,\n",
       "  <matplotlib.lines.Line2D at 0x118d8d9d910>,\n",
       "  <matplotlib.lines.Line2D at 0x118d8d9dc10>],\n",
       " 'boxes': [<matplotlib.lines.Line2D at 0x118d903c580>,\n",
       "  <matplotlib.lines.Line2D at 0x118d9042460>,\n",
       "  <matplotlib.lines.Line2D at 0x118d7485ee0>,\n",
       "  <matplotlib.lines.Line2D at 0x118d8b0cb50>,\n",
       "  <matplotlib.lines.Line2D at 0x118d8f78910>,\n",
       "  <matplotlib.lines.Line2D at 0x118d75d8c40>,\n",
       "  <matplotlib.lines.Line2D at 0x118d53c43d0>,\n",
       "  <matplotlib.lines.Line2D at 0x118d8db0460>,\n",
       "  <matplotlib.lines.Line2D at 0x118d911fa60>,\n",
       "  <matplotlib.lines.Line2D at 0x118d8ca61f0>,\n",
       "  <matplotlib.lines.Line2D at 0x118d8d4f5e0>,\n",
       "  <matplotlib.lines.Line2D at 0x118d9b7e640>,\n",
       "  <matplotlib.lines.Line2D at 0x118d6ee5b80>,\n",
       "  <matplotlib.lines.Line2D at 0x118d904ddc0>,\n",
       "  <matplotlib.lines.Line2D at 0x118d8e359d0>,\n",
       "  <matplotlib.lines.Line2D at 0x118d8c158b0>,\n",
       "  <matplotlib.lines.Line2D at 0x118d8b17a00>,\n",
       "  <matplotlib.lines.Line2D at 0x118d8b3bee0>],\n",
       " 'medians': [<matplotlib.lines.Line2D at 0x118d9b991c0>,\n",
       "  <matplotlib.lines.Line2D at 0x118d9686ac0>,\n",
       "  <matplotlib.lines.Line2D at 0x118d8d46370>,\n",
       "  <matplotlib.lines.Line2D at 0x118d8f787f0>,\n",
       "  <matplotlib.lines.Line2D at 0x118d90469a0>,\n",
       "  <matplotlib.lines.Line2D at 0x118d60692e0>,\n",
       "  <matplotlib.lines.Line2D at 0x118d5a68190>,\n",
       "  <matplotlib.lines.Line2D at 0x118d911fdc0>,\n",
       "  <matplotlib.lines.Line2D at 0x118d8ca6550>,\n",
       "  <matplotlib.lines.Line2D at 0x118d920d670>,\n",
       "  <matplotlib.lines.Line2D at 0x118d9b7ea30>,\n",
       "  <matplotlib.lines.Line2D at 0x118d8cd53a0>,\n",
       "  <matplotlib.lines.Line2D at 0x118d904d790>,\n",
       "  <matplotlib.lines.Line2D at 0x118d8d75c40>,\n",
       "  <matplotlib.lines.Line2D at 0x118d8c153d0>,\n",
       "  <matplotlib.lines.Line2D at 0x118d6ef39a0>,\n",
       "  <matplotlib.lines.Line2D at 0x118d8b3b730>,\n",
       "  <matplotlib.lines.Line2D at 0x118d8d9d1f0>],\n",
       " 'fliers': [<matplotlib.lines.Line2D at 0x118d5527910>,\n",
       "  <matplotlib.lines.Line2D at 0x118d7485a00>,\n",
       "  <matplotlib.lines.Line2D at 0x118d8d46040>,\n",
       "  <matplotlib.lines.Line2D at 0x118d8f785e0>,\n",
       "  <matplotlib.lines.Line2D at 0x118d9046400>,\n",
       "  <matplotlib.lines.Line2D at 0x118d6069610>,\n",
       "  <matplotlib.lines.Line2D at 0x118d8db03d0>,\n",
       "  <matplotlib.lines.Line2D at 0x118d911f430>,\n",
       "  <matplotlib.lines.Line2D at 0x118d8ca6940>,\n",
       "  <matplotlib.lines.Line2D at 0x118d920d430>,\n",
       "  <matplotlib.lines.Line2D at 0x118d9b7ed00>,\n",
       "  <matplotlib.lines.Line2D at 0x118d8cd54f0>,\n",
       "  <matplotlib.lines.Line2D at 0x118d904dc40>,\n",
       "  <matplotlib.lines.Line2D at 0x118d8e35ca0>,\n",
       "  <matplotlib.lines.Line2D at 0x118d8c15490>,\n",
       "  <matplotlib.lines.Line2D at 0x118d8b17fa0>,\n",
       "  <matplotlib.lines.Line2D at 0x118d8b3b6d0>,\n",
       "  <matplotlib.lines.Line2D at 0x118d8d9d8e0>],\n",
       " 'means': []}"
      ]
     },
     "execution_count": 106,
     "metadata": {},
     "output_type": "execute_result"
    },
    {
     "data": {
      "image/png": "[encoded data removed]",
      "text/plain": [
       "<Figure size 432x288 with 1 Axes>"
      ]
     },
     "metadata": {
      "needs_background": "light"
     },
     "output_type": "display_data"
    }
   ],
   "source": [
    "'''\n",
    "let's make boxplots to visualise outliers in the continuous variables \n",
    "and histograms to get an idea of the distribution\n",
    "'''\n",
    "plt.boxplot(data[numerical])\n",
    "#code"
   ]
  },
  {
   "cell_type": "markdown",
   "metadata": {},
   "source": [
    "#### Outliers in discrete variables\n",
    "\n",
    "Now, let's identify outliers in the discrete variables.\n",
    "**Discrete variables can be pre-processed / engineered as if they were categorical**. "
   ]
  },
  {
   "cell_type": "code",
   "execution_count": null,
   "metadata": {},
   "outputs": [],
   "source": [
    "'''\n",
    "outlies in discrete variables\n",
    "'''\n",
    "\n",
    "# Code"
   ]
  },
  {
   "cell_type": "markdown",
   "metadata": {},
   "source": [
    "### Monotonicity between discrete variables and target values"
   ]
  },
  {
   "cell_type": "code",
   "execution_count": null,
   "metadata": {},
   "outputs": [],
   "source": [
    "'''\n",
    "plot the median sale price per value of the discrete\n",
    "variable\n",
    "'''\n"
   ]
  },
  {
   "cell_type": "markdown",
   "metadata": {},
   "source": [
    "Some of the discrete variables show some sort of monotonic relationship and some don't.\n",
    "\n",
    "#### Number of labels: cardinality\n",
    "\n",
    "Let's go ahead now and examine the cardinality of our categorical variables. That is, the number of different labels."
   ]
  },
  {
   "cell_type": "code",
   "execution_count": null,
   "metadata": {},
   "outputs": [],
   "source": [
    "'''\n",
    "plot number of categories per categorical variable\n",
    "'''\n",
    "\n",
    "# Code"
   ]
  },
  {
   "cell_type": "markdown",
   "metadata": {},
   "source": [
    "Most of the variables, contain only a few labels. Then, we do not have to deal with high cardinality."
   ]
  },
  {
   "cell_type": "markdown",
   "metadata": {},
   "source": [
    "### Separate train and test set"
   ]
  },
  {
   "cell_type": "code",
   "execution_count": 107,
   "metadata": {},
   "outputs": [
    {
     "data": {
      "text/plain": [
       "((1168, 79), (292, 79))"
      ]
     },
     "execution_count": 107,
     "metadata": {},
     "output_type": "execute_result"
    }
   ],
   "source": [
    "'''\n",
    "Split data into train and test set\n",
    "'''\n",
    "\n",
    "X_train, X_test, y_train, y_test = train_test_split(data.drop(['Id', 'SalePrice'], axis=1),\n",
    "                                                    data['SalePrice'],\n",
    "                                                    test_size=0.2,\n",
    "                                                    random_state=42)\n",
    "\n",
    "X_train.shape, X_test.shape"
   ]
  },
  {
   "cell_type": "markdown",
   "metadata": {},
   "source": [
    "**Now we will move on and engineer the features of this dataset. The most important part for this course.**"
   ]
  },
  {
   "cell_type": "markdown",
   "metadata": {},
   "source": [
    "### Temporal variables \n",
    "\n",
    "First, we will create those temporal variables."
   ]
  },
  {
   "cell_type": "code",
   "execution_count": 108,
   "metadata": {},
   "outputs": [],
   "source": [
    "'''\n",
    "function to calculate elapsed time\n",
    "'''\n",
    "\n",
    "def elapsed_years(df, var):\n",
    "    # capture difference between year variable and\n",
    "    # year the house was sold\n",
    "    \n",
    "    df[var] = df['YrSold']-df[var]\n",
    "    return df"
   ]
  },
  {
   "cell_type": "code",
   "execution_count": 109,
   "metadata": {},
   "outputs": [],
   "source": [
    "for var in ['YearBuilt', 'YearRemodAdd', 'GarageYrBlt']:\n",
    "    X_train = elapsed_years(X_train, var)\n",
    "    X_test = elapsed_years(X_test, var)\n",
    "    "
   ]
  },
  {
   "cell_type": "code",
   "execution_count": 110,
   "metadata": {},
   "outputs": [
    {
     "data": {
      "text/html": [
       "<div>\n",
       "<style scoped>\n",
       "    .dataframe tbody tr th:only-of-type {\n",
       "        vertical-align: middle;\n",
       "    }\n",
       "\n",
       "    .dataframe tbody tr th {\n",
       "        vertical-align: top;\n",
       "    }\n",
       "\n",
       "    .dataframe thead th {\n",
       "        text-align: right;\n",
       "    }\n",
       "</style>\n",
       "<table border=\"1\" class=\"dataframe\">\n",
       "  <thead>\n",
       "    <tr style=\"text-align: right;\">\n",
       "      <th></th>\n",
       "      <th>YearBuilt</th>\n",
       "      <th>YearRemodAdd</th>\n",
       "      <th>GarageYrBlt</th>\n",
       "    </tr>\n",
       "  </thead>\n",
       "  <tbody>\n",
       "    <tr>\n",
       "      <th>254</th>\n",
       "      <td>53</td>\n",
       "      <td>53</td>\n",
       "      <td>53.0</td>\n",
       "    </tr>\n",
       "    <tr>\n",
       "      <th>1066</th>\n",
       "      <td>16</td>\n",
       "      <td>15</td>\n",
       "      <td>16.0</td>\n",
       "    </tr>\n",
       "    <tr>\n",
       "      <th>638</th>\n",
       "      <td>98</td>\n",
       "      <td>58</td>\n",
       "      <td>NaN</td>\n",
       "    </tr>\n",
       "    <tr>\n",
       "      <th>799</th>\n",
       "      <td>70</td>\n",
       "      <td>57</td>\n",
       "      <td>68.0</td>\n",
       "    </tr>\n",
       "    <tr>\n",
       "      <th>380</th>\n",
       "      <td>86</td>\n",
       "      <td>60</td>\n",
       "      <td>86.0</td>\n",
       "    </tr>\n",
       "  </tbody>\n",
       "</table>\n",
       "</div>"
      ],
      "text/plain": [
       "      YearBuilt  YearRemodAdd  GarageYrBlt\n",
       "254          53            53         53.0\n",
       "1066         16            15         16.0\n",
       "638          98            58          NaN\n",
       "799          70            57         68.0\n",
       "380          86            60         86.0"
      ]
     },
     "execution_count": 110,
     "metadata": {},
     "output_type": "execute_result"
    }
   ],
   "source": [
    "X_train[['YearBuilt', 'YearRemodAdd', 'GarageYrBlt']].head()"
   ]
  },
  {
   "cell_type": "markdown",
   "metadata": {},
   "source": [
    "Instead of the \"year\", now we have the amount of **years that passed** since the house was built or remodeled and the house was sold. Next, we drop the YrSold variable from the datasets, because we already extracted its value."
   ]
  },
  {
   "cell_type": "code",
   "execution_count": 111,
   "metadata": {},
   "outputs": [],
   "source": [
    "'''\n",
    "drop YrSold\n",
    "'''\n",
    "data=data.drop('YrSold',axis=1)"
   ]
  },
  {
   "cell_type": "code",
   "execution_count": 112,
   "metadata": {},
   "outputs": [],
   "source": [
    "'''\n",
    "capture the column names for later use in the notebook\n",
    "'''\n",
    "final_columns = X_train.columns"
   ]
  },
  {
   "cell_type": "markdown",
   "metadata": {},
   "source": [
    "### Missing data imputation\n",
    "#### Continuous variables"
   ]
  },
  {
   "cell_type": "code",
   "execution_count": null,
   "metadata": {},
   "outputs": [],
   "source": [
    "'''\n",
    "print variables with missing data\n",
    "keep in mind that now that we created those new temporal variables, we\n",
    "are going to treat them as numerical and continuous:\n",
    "'''\n",
    "\n",
    "'''\n",
    "remove YrSold from the variable list\n",
    "because it is no longer in our dataset\n",
    "'''\n",
    "\n",
    "\n",
    "'''\n",
    "examine percentage of missing values\n",
    "'''\n"
   ]
  },
  {
   "cell_type": "code",
   "execution_count": null,
   "metadata": {},
   "outputs": [],
   "source": [
    "'''\n",
    "print variables with missing data\n",
    "'''\n",
    "\n"
   ]
  },
  {
   "cell_type": "code",
   "execution_count": 113,
   "metadata": {},
   "outputs": [],
   "source": [
    "'''\n",
    "will treat discrete variables as if they were categorical\n",
    "to treat discrete as categorical using Feature-engine\n",
    "we need to re-cast them as object\n",
    "'''\n",
    "X_train[discrete] = X_train[discrete].astype('O')\n",
    "X_test[discrete] = X_test[discrete].astype('O')"
   ]
  },
  {
   "cell_type": "markdown",
   "metadata": {},
   "source": [
    "## Putting it all together"
   ]
  },
  {
   "cell_type": "markdown",
   "metadata": {},
   "source": [
    "Create pipeline using following parameter"
   ]
  },
  {
   "cell_type": "markdown",
   "metadata": {},
   "source": [
    "   ### Pipeline\n",
    "    \n",
    "       # missing data imputation\n",
    "       \n",
    "       AddMissingIndicator : varibales = 'LotFrontage', 'MasVnrArea',  'GarageYrBlt'\n",
    "       MeanMedianImputer   : imputation_method='median',\n",
    "                              variables= 'LotFrontage', 'MasVnrArea',  'GarageYrBlt'\n",
    "       CategoricalImputer  : variables= categorical\n",
    "       \n",
    "       \n",
    "       # categorical encoding\n",
    "       \n",
    "       RareLabelEncoder    : tol=0.05, n_categories=6, variables= categorical+discrete\n",
    "       OrdinalEncoder      : encoding_method='ordered', variables=categorical+discrete\n",
    "       \n",
    "       # discretisation + encoding \n",
    "       \n",
    "       EqualFrequencyDiscretiser : q=5, return_object=True, variables=numerical\n",
    "       OrdinalEncoder      : encoding_method='ordered', variables=numerical\n",
    "       \n",
    "       # feature Scaling\n",
    "       StandardScaler\n",
    "       \n",
    "       # regression\n",
    "       Lasso : random_state=42"
   ]
  },
  {
   "cell_type": "code",
   "execution_count": 162,
   "metadata": {},
   "outputs": [],
   "source": [
    "'''\n",
    "Create Pipeline\n",
    "'''\n",
    "from feature_engine.encoding import RareLabelEncoder\n",
    "from feature_engine.encoding import OrdinalEncoder\n",
    "from feature_engine.imputation import MeanMedianImputer,CategoricalImputer\n",
    "from feature_engine.imputation import AddMissingIndicator\n",
    "from feature_engine.discretisation import EqualFrequencyDiscretiser\n",
    "house_pipe = Pipeline([\n",
    "\n",
    "    # missing data imputation\n",
    "    #Code\n",
    "    ('AddMissingIndicator',AddMissingIndicator(variables=['LotFrontage', 'MasVnrArea',  'GarageYrBlt'])),\n",
    "    ('MeanMedianImputer',MeanMedianImputer(imputation_method='median',variables=['LotFrontage', 'MasVnrArea',  'GarageYrBlt'])),\n",
    "    ('CategoricalImputer',CategoricalImputer(variables=categorical)),\n",
    "    # categorical encoding - \n",
    "    #Code\n",
    "    ('RareLabelEncoder',RareLabelEncoder(tol=0.05, n_categories=6, variables= categorical+discrete)),\n",
    "    ('OrdinalEncoder',OrdinalEncoder(encoding_method='ordered',variables=categorical+discrete)),\n",
    "    # discretisation + encoding \n",
    "    #Code\n",
    "    ('EqualFrequencyDiscretiser',EqualFrequencyDiscretiser(q=5, return_object=True, variables=numerical)),\n",
    "    ('OrdinalEncoderNeu',OrdinalEncoder(encoding_method='ordered',variables= numerical)),\n",
    "    # feature Scaling    \n",
    "    #Code\n",
    "    ('StandardScaler', StandardScaler()),\n",
    "    # regression\n",
    "    #Code\n",
    "    ('lasso', Lasso(random_state=42))\n",
    "])"
   ]
  },
  {
   "cell_type": "code",
   "execution_count": 163,
   "metadata": {},
   "outputs": [],
   "source": [
    "'''\n",
    "fit the pipeline\n",
    "'''\n",
    "house_pipe.fit(X_train, y_train)\n",
    "house_pipe.fit(X_test, y_test)\n",
    "\n",
    "# let's get the predictions\n",
    "X_test_preds = house_pipe.predict(X_test)"
   ]
  },
  {
   "cell_type": "code",
   "execution_count": 164,
   "metadata": {},
   "outputs": [
    {
     "data": {
      "text/plain": [
       "array([161274.15750587, 328511.5655462 , 116979.32328234, 157413.62311033,\n",
       "       308714.52256482,  86002.17335696, 279353.73439913, 132013.0459786 ,\n",
       "        84924.03433084, 117768.01789057, 155700.19535474, 119204.08541645,\n",
       "        95500.21027671, 213633.31346218, 144295.7558448 , 134167.67371074,\n",
       "       189579.18471777, 132957.70264995, 144906.0333015 , 233774.60590102,\n",
       "       172042.91685671, 194950.34551943, 172558.70096417, 114697.23199633,\n",
       "       235981.15751396, 176479.190765  , 221554.74663638, 128156.34885782,\n",
       "       187495.8887112 , 197072.55999463, 114927.47274377, 290960.17472399,\n",
       "       230784.13648296, 107490.04296859, 263868.29551551, 137496.79071831,\n",
       "       116921.53449084, 195918.29381932, 262541.53143523,  95468.29465964,\n",
       "       108819.19465069, 232582.12272333, 106839.08665298, 353372.8771049 ,\n",
       "       140650.95361546, 167275.99972924,  97608.43791246, 114718.24585408,\n",
       "       399252.61272352, 136729.64618703, 115353.25613284, 227423.63198665,\n",
       "       102390.76463241, 337448.85160282, 165518.16479515, 235720.83403132,\n",
       "       221900.52256684, 194285.26174953, 130863.20503464,  89178.75309542,\n",
       "        61607.89573447, 165546.5061492 , 303873.61045168, 282618.54856903,\n",
       "       283128.27730434, 212084.27739483,  91968.9126309 , 354719.43398825,\n",
       "        80331.06386193, 152367.3603087 ,  90387.98443302, 116306.93350499,\n",
       "       109637.81317567, 120981.61525853, 421947.88394795, 162159.61119495,\n",
       "       306757.98928265, 338230.88294722, 125326.99946964, 140192.79511418,\n",
       "       119520.5263682 ,  59996.25070436, 121105.22704472,  62303.43041146,\n",
       "       161676.88834953, 107723.00976427, 289403.20515308, 191986.44997348,\n",
       "       159003.01619081, 229668.16413535, 133303.42864391, 162902.83052179,\n",
       "       133754.61025046, 314837.50683751, 113800.43085021, 187315.62004623,\n",
       "       202301.12719268, 199065.00285592, 225150.56355019, 277550.96259382,\n",
       "       187022.2774085 , 224115.71738448, 284685.39986072, 129095.32064654,\n",
       "       204318.03470719, 187118.63853544, 135660.37689244, 231646.05154422,\n",
       "       133237.96599127, 154520.91739182,  40074.1134409 , 119913.63455494,\n",
       "       137129.81029256, 144954.19758827, 226287.89683376, 118027.57370692,\n",
       "        87931.23807841,  58421.64397579, 109460.30671145, 294431.86217437,\n",
       "       105165.18129082, 192513.71161426, 169475.36643689, 184652.21675256,\n",
       "       190526.65575858, 126263.23238406, 234119.49664893,  79603.29825266,\n",
       "       131091.23701401, 180554.77968308, 185194.49226903, 344198.2214468 ,\n",
       "       204328.3454398 , 105548.27056138,  46633.07277667, 373432.77316014,\n",
       "       345565.5140654 , 127992.81412088, 241659.58375127, 590402.08836426,\n",
       "       321831.74111759, 117906.9015178 , 223450.71435428, 167868.83586705,\n",
       "       147248.96402424, 128910.12451135, 226354.91721422, 211185.91028954,\n",
       "       126535.82090217,  86758.23004998, 102197.09644306, 166913.41717025,\n",
       "       238925.32349235, 183095.16114322, 114107.95450652, 105853.03247884,\n",
       "        81663.05082417, 165032.68761872, 108377.8581906 , 128623.6097227 ,\n",
       "       222611.1919047 , 168962.6759676 , 307548.97192931, 180436.13952441,\n",
       "        79726.24942836, 117726.69657979, 263444.4351182 , 322919.56804886,\n",
       "       385853.15734191, 194840.19415804, 340321.7348846 ,  71698.25830299,\n",
       "       112850.00268982, 115756.55747237, 290832.17197244,  70489.73692295,\n",
       "       125107.28864582, 258298.35965331, 156479.87624794, 194640.21417199,\n",
       "       223526.08874311,  41517.35326597, 124980.32017891, 140755.41658486,\n",
       "       292647.172357  , 165708.57742724, 270440.24375394, 250638.04612227,\n",
       "       209168.56384729,  64245.88993433, 125776.27666872,  89792.72333493,\n",
       "       162569.95017879, 170982.9404745 , 205544.82326583, 185172.90814013,\n",
       "       205517.68936034,  46104.65514584, 211536.39436339, 136700.33974356,\n",
       "       355992.69686463, 212982.98486361, 130153.06199234, 290456.47381982,\n",
       "       191207.54671378, 140671.28409856, 261804.17636047, 125663.87278806,\n",
       "       159203.39362813, 107912.47411459, 256370.29499872, 151755.14170997,\n",
       "       123162.12264638, 148287.82274058, 247254.79963242, 251369.80576341,\n",
       "       212790.88207233, 144437.99027602, 147268.21231083, 117390.81673017,\n",
       "       133914.91258049, 211169.23072101, 248732.8727558 ,  62277.34601855,\n",
       "       226120.8677364 , 149563.86741217,  51808.1116085 , 100225.53192925,\n",
       "       210996.47437321,  92506.34383139,  70251.68370314, 174723.86681401,\n",
       "       104905.4959006 , 147914.11200305, 246385.36497269, 113810.62025105,\n",
       "       203416.92416737, 135270.66156128, 267378.78413225, 120483.79004594,\n",
       "       107207.09901639, 338857.97733187, 200915.18227726, 389030.82633805,\n",
       "       238337.79612933, 156382.89418657, 176977.11854697, 165215.47734893,\n",
       "       109871.0653557 , 116550.95631303, 167869.54735389, 175697.95359598,\n",
       "       111860.58451142,  81694.29492574, 156429.2591192 , 126309.84941583,\n",
       "        91285.43496484, 115623.3225113 , 199974.09198847, 279561.00211286,\n",
       "       321528.45916225, 196139.82137622, 113671.02814447, 252856.7826694 ,\n",
       "       333240.457154  , 240602.88996211, 166444.21907561, 169862.33058579,\n",
       "        97152.8711373 , 140810.35868933, 426674.5940223 , 157259.98019864,\n",
       "       244056.71297652,  78808.76925141, 125235.98163437, 125775.76280688,\n",
       "       152034.16004242, 311436.87565562, 165667.30826407, 134208.04915032,\n",
       "       206221.63461888,  97894.67346324, 202401.8345958 , 130636.09611542,\n",
       "       306590.68468505, 158779.43451529, 220194.59997241,  99599.70254712,\n",
       "       253011.17558052, 209011.80796911,  99383.56160558, 102187.71466271])"
      ]
     },
     "execution_count": 164,
     "metadata": {},
     "output_type": "execute_result"
    }
   ],
   "source": [
    "# a peek into the prediction values\n",
    "X_test_preds"
   ]
  },
  {
   "cell_type": "code",
   "execution_count": 165,
   "metadata": {},
   "outputs": [
    {
     "name": "stdout",
     "output_type": "stream",
     "text": [
      "test mse: 964464705.656653\n",
      "test rmse: 31055.832071555466\n",
      "test r2: 0.8742602752992505\n"
     ]
    }
   ],
   "source": [
    "MSE_ = mean_squared_error(y_test, X_test_preds)\n",
    "RMSE_ = sqrt(mean_squared_error(y_test, X_test_preds))\n",
    "r2_ = r2_score(y_test, X_test_preds)\n",
    "\n",
    "print('test mse: {}'.format(MSE_))\n",
    "print('test rmse: {}'.format(RMSE_))\n",
    "print('test r2: {}'.format(r2_))"
   ]
  },
  {
   "cell_type": "code",
   "execution_count": 166,
   "metadata": {},
   "outputs": [],
   "source": [
    "'''\n",
    "Please run this cell to to, submit your answer for evalutaion\n",
    "'''\n",
    "\n",
    "file=open(\"submit2.txt\",\"w+\")\n",
    "file.write(str(RMSE_))\n",
    "file.write(\"\\n\")\n",
    "file.write(str(MSE_))\n",
    "file.write(\"\\n\")\n",
    "file.write(str(r2_))\n",
    "file.write(\"\\n\")\n",
    "file.close()"
   ]
  },
  {
   "cell_type": "code",
   "execution_count": 167,
   "metadata": {
    "scrolled": true
   },
   "outputs": [
    {
     "data": {
      "text/plain": [
       "Text(0, 0.5, 'Predicted Price')"
      ]
     },
     "execution_count": 167,
     "metadata": {},
     "output_type": "execute_result"
    },
    {
     "data": {
      "image/png": "[encoded data removed]",
      "text/plain": [
       "<Figure size 432x288 with 1 Axes>"
      ]
     },
     "metadata": {
      "needs_background": "light"
     },
     "output_type": "display_data"
    }
   ],
   "source": [
    "'''\n",
    "plot predictions vs real value\n",
    "'''\n",
    "\n",
    "plt.scatter(y_test,X_test_preds)\n",
    "plt.xlabel('True Price')\n",
    "plt.ylabel('Predicted Price')"
   ]
  },
  {
   "cell_type": "code",
   "execution_count": 168,
   "metadata": {},
   "outputs": [
    {
     "data": {
      "text/plain": [
       "<AxesSubplot:>"
      ]
     },
     "execution_count": 168,
     "metadata": {},
     "output_type": "execute_result"
    },
    {
     "data": {
      "image/png": "[encoded data removed]",
      "text/plain": [
       "<Figure size 1296x432 with 1 Axes>"
      ]
     },
     "metadata": {
      "needs_background": "light"
     },
     "output_type": "display_data"
    }
   ],
   "source": [
    "'''\n",
    "explore the importance of the features\n",
    "'''\n",
    "importance = pd.Series(np.abs(house_pipe.named_steps['lasso'].coef_))\n",
    "importance.index = list(final_columns)+['LotFrontage_na', 'MasVnrArea_na',  'GarageYrBlt_na']\n",
    "importance.sort_values(inplace=True, ascending=False)\n",
    "importance.plot.bar(figsize=(18,6))"
   ]
  },
  {
   "cell_type": "code",
   "execution_count": null,
   "metadata": {},
   "outputs": [],
   "source": []
  },
  {
   "cell_type": "code",
   "execution_count": null,
   "metadata": {},
   "outputs": [],
   "source": []
  }
 ],
 "metadata": {
  "kernelspec": {
   "display_name": "Python 3",
   "language": "python",
   "name": "python3"
  },
  "language_info": {
   "codemirror_mode": {
    "name": "ipython",
    "version": 3
   },
   "file_extension": ".py",
   "mimetype": "text/x-python",
   "name": "python",
   "nbconvert_exporter": "python",
   "pygments_lexer": "ipython3",
   "version": "3.8.8"
  },
  "toc": {
   "base_numbering": 1,
   "nav_menu": {},
   "number_sections": true,
   "sideBar": true,
   "skip_h1_title": false,
   "title_cell": "Table of Contents",
   "title_sidebar": "Contents",
   "toc_cell": false,
   "toc_position": {
    "height": "583px",
    "left": "0px",
    "right": "1324px",
    "top": "107px",
    "width": "212px"
   },
   "toc_section_display": "block",
   "toc_window_display": true
  }
 },
 "nbformat": 4,
 "nbformat_minor": 4
}

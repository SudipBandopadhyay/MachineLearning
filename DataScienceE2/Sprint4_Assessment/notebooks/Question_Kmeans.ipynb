{
 "cells": [
  {
   "cell_type": "markdown",
   "metadata": {},
   "source": [
    "## K-Means Clustering"
   ]
  },
  {
   "cell_type": "code",
   "execution_count": 1,
   "metadata": {
    "deletable": false,
    "editable": false
   },
   "outputs": [
    {
     "name": "stdout",
     "output_type": "stream",
     "text": [
      "Processing e:\\machinelearning\\machinelearning\\datasciencee2\\sprint4_assessment\\testclustering-0.1-py3-none-any.whl\n",
      "Requirement already satisfied: matplotlib in e:\\machinelearning\\anaconda3\\lib\\site-packages (from testclustering==0.1) (3.3.4)\n",
      "Requirement already satisfied: pandas in e:\\machinelearning\\anaconda3\\lib\\site-packages (from testclustering==0.1) (1.2.4)\n",
      "Requirement already satisfied: numpy in e:\\machinelearning\\anaconda3\\lib\\site-packages (from testclustering==0.1) (1.20.1)\n",
      "Requirement already satisfied: python-dateutil>=2.1 in e:\\machinelearning\\anaconda3\\lib\\site-packages (from matplotlib->testclustering==0.1) (2.8.1)\n",
      "Requirement already satisfied: kiwisolver>=1.0.1 in e:\\machinelearning\\anaconda3\\lib\\site-packages (from matplotlib->testclustering==0.1) (1.3.1)\n",
      "Requirement already satisfied: cycler>=0.10 in e:\\machinelearning\\anaconda3\\lib\\site-packages (from matplotlib->testclustering==0.1) (0.10.0)\n",
      "Requirement already satisfied: pillow>=6.2.0 in e:\\machinelearning\\anaconda3\\lib\\site-packages (from matplotlib->testclustering==0.1) (8.2.0)\n",
      "Requirement already satisfied: pyparsing!=2.0.4,!=2.1.2,!=2.1.6,>=2.0.3 in e:\\machinelearning\\anaconda3\\lib\\site-packages (from matplotlib->testclustering==0.1) (2.4.7)\n",
      "Requirement already satisfied: six in e:\\machinelearning\\anaconda3\\lib\\site-packages (from cycler>=0.10->matplotlib->testclustering==0.1) (1.15.0)\n",
      "Requirement already satisfied: pytz>=2017.3 in e:\\machinelearning\\anaconda3\\lib\\site-packages (from pandas->testclustering==0.1) (2021.1)\n",
      "Installing collected packages: testclustering\n",
      "Successfully installed testclustering-0.1\n"
     ]
    },
    {
     "name": "stderr",
     "output_type": "stream",
     "text": [
      "! was unexpected at this time.\n"
     ]
    }
   ],
   "source": [
    "!pip install ../testclustering-0.1-py3-none-any.whl\n",
    "!if [ ! -d ../.ans ]; then mkdir ../.ans; fi"
   ]
  },
  {
   "cell_type": "code",
   "execution_count": 2,
   "metadata": {},
   "outputs": [
    {
     "name": "stderr",
     "output_type": "stream",
     "text": [
      "Matplotlib is building the font cache; this may take a moment.\n"
     ]
    }
   ],
   "source": [
    "import numpy as np # linear algebra\n",
    "import pandas as pd # data processing, CSV file I/O (e.g. pd.read_csv)\n",
    "\n",
    "import scipy \n",
    "import seaborn as sns\n",
    "import matplotlib.pyplot as plt\n",
    "%matplotlib inline"
   ]
  },
  {
   "cell_type": "code",
   "execution_count": 81,
   "metadata": {},
   "outputs": [],
   "source": [
    "import sklearn\n",
    "from sklearn.preprocessing import StandardScaler\n",
    "from sklearn.cluster import KMeans"
   ]
  },
  {
   "cell_type": "markdown",
   "metadata": {},
   "source": [
    "### DataSet\n",
    "\n",
    "**Dataset Path:** ../dataset/CC GENERAL.csv\n",
    "\n",
    "**In this scenario, Let us develop a customer segmentation for Credit Card Dataset Using K-Means Clustering.** The sample Dataset summarizes the usage behavior of about 8950 active credit card holders during the last 6 months. The file is at a customer level with 18 behavioral variables.\n",
    "\n",
    "**CUST_ID** : Identification of Credit Card holder (Categorical)  \n",
    "**BALANCE** : Balance amount left in their account to make purchases   \n",
    "**BALANCE_FREQUENCY** : How frequently the Balance is updated, score between 0 and 1 (1 = frequently updated, 0 = not frequently updated)   \n",
    "**PURCHASES** : Amount of purchases made from account   \n",
    "**ONEOFF_PURCHASES** : Maximum purchase amount done in one-go   \n",
    "**INSTALLMENTS_PURCHASES** : Amount of purchase done in installment   \n",
    "**CASH_ADVANCE** : Cash in advance given by the user   \n",
    "**PURCHASES_FREQUENCY** : How frequently the Purchases are being made, score between 0 and 1 (1 = frequently purchased, 0 = not frequently purchased)    \n",
    "**ONEOFFPURCHASESFREQUENCY** : How frequently Purchases are happening in one-go (1 = frequently purchased, 0 = not frequently purchased)      \n",
    "**PURCHASESINSTALLMENTSFREQUENCY** : How frequently purchases in installments are being done (1 = frequently done, 0 = not frequently done)     \n",
    "**CASHADVANCEFREQUENCY** : How frequently the cash in advance being paid   \n",
    "**CASHADVANCETRX** : Number of Transactions made with \"Cash in Advanced\"    \n",
    "**PURCHASES_TRX** : Numbe of purchase transactions made    \n",
    "**CREDIT_LIMIT** : Limit of Credit Card for user      \n",
    "**PAYMENTS** : Amount of Payment done by user     \n",
    "**MINIMUM_PAYMENTS** : Minimum amount of payments made by user      \n",
    "**PRCFULLPAYMENT** : Percent of full payment paid by user   \n",
    "**TENURE** : Tenure of credit card service for user"
   ]
  },
  {
   "cell_type": "markdown",
   "metadata": {},
   "source": [
    "### Reading and Understanding Data"
   ]
  },
  {
   "cell_type": "code",
   "execution_count": 82,
   "metadata": {},
   "outputs": [
    {
     "name": "stdout",
     "output_type": "stream",
     "text": [
      "     CUST_ID      BALANCE  BALANCE_FREQUENCY  PURCHASES  ONEOFF_PURCHASES  \\\n",
      "0     C10001    40.900749           0.818182      95.40              0.00   \n",
      "1     C10002  3202.467416           0.909091       0.00              0.00   \n",
      "2     C10003  2495.148862           1.000000     773.17            773.17   \n",
      "3     C10004  1666.670542           0.636364    1499.00           1499.00   \n",
      "4     C10005   817.714335           1.000000      16.00             16.00   \n",
      "...      ...          ...                ...        ...               ...   \n",
      "8945  C19186    28.493517           1.000000     291.12              0.00   \n",
      "8946  C19187    19.183215           1.000000     300.00              0.00   \n",
      "8947  C19188    23.398673           0.833333     144.40              0.00   \n",
      "8948  C19189    13.457564           0.833333       0.00              0.00   \n",
      "8949  C19190   372.708075           0.666667    1093.25           1093.25   \n",
      "\n",
      "      INSTALLMENTS_PURCHASES  CASH_ADVANCE  PURCHASES_FREQUENCY  \\\n",
      "0                      95.40      0.000000             0.166667   \n",
      "1                       0.00   6442.945483             0.000000   \n",
      "2                       0.00      0.000000             1.000000   \n",
      "3                       0.00    205.788017             0.083333   \n",
      "4                       0.00      0.000000             0.083333   \n",
      "...                      ...           ...                  ...   \n",
      "8945                  291.12      0.000000             1.000000   \n",
      "8946                  300.00      0.000000             1.000000   \n",
      "8947                  144.40      0.000000             0.833333   \n",
      "8948                    0.00     36.558778             0.000000   \n",
      "8949                    0.00    127.040008             0.666667   \n",
      "\n",
      "      ONEOFF_PURCHASES_FREQUENCY  PURCHASES_INSTALLMENTS_FREQUENCY  \\\n",
      "0                       0.000000                          0.083333   \n",
      "1                       0.000000                          0.000000   \n",
      "2                       1.000000                          0.000000   \n",
      "3                       0.083333                          0.000000   \n",
      "4                       0.083333                          0.000000   \n",
      "...                          ...                               ...   \n",
      "8945                    0.000000                          0.833333   \n",
      "8946                    0.000000                          0.833333   \n",
      "8947                    0.000000                          0.666667   \n",
      "8948                    0.000000                          0.000000   \n",
      "8949                    0.666667                          0.000000   \n",
      "\n",
      "      CASH_ADVANCE_FREQUENCY  CASH_ADVANCE_TRX  PURCHASES_TRX  CREDIT_LIMIT  \\\n",
      "0                   0.000000                 0              2        1000.0   \n",
      "1                   0.250000                 4              0        7000.0   \n",
      "2                   0.000000                 0             12        7500.0   \n",
      "3                   0.083333                 1              1        7500.0   \n",
      "4                   0.000000                 0              1        1200.0   \n",
      "...                      ...               ...            ...           ...   \n",
      "8945                0.000000                 0              6        1000.0   \n",
      "8946                0.000000                 0              6        1000.0   \n",
      "8947                0.000000                 0              5        1000.0   \n",
      "8948                0.166667                 2              0         500.0   \n",
      "8949                0.333333                 2             23        1200.0   \n",
      "\n",
      "         PAYMENTS  MINIMUM_PAYMENTS  PRC_FULL_PAYMENT  TENURE  \n",
      "0      201.802084        139.509787          0.000000      12  \n",
      "1     4103.032597       1072.340217          0.222222      12  \n",
      "2      622.066742        627.284787          0.000000      12  \n",
      "3        0.000000               NaN          0.000000      12  \n",
      "4      678.334763        244.791237          0.000000      12  \n",
      "...           ...               ...               ...     ...  \n",
      "8945   325.594462         48.886365          0.500000       6  \n",
      "8946   275.861322               NaN          0.000000       6  \n",
      "8947    81.270775         82.418369          0.250000       6  \n",
      "8948    52.549959         55.755628          0.250000       6  \n",
      "8949    63.165404         88.288956          0.000000       6  \n",
      "\n",
      "[8950 rows x 18 columns]\n"
     ]
    }
   ],
   "source": [
    "#read csv data and store into dataframe\n",
    "df=pd.read_csv('../dataset/CC GENERAL.csv')\n",
    "#df.head()\n",
    "print(df)"
   ]
  },
  {
   "cell_type": "code",
   "execution_count": 83,
   "metadata": {},
   "outputs": [],
   "source": [
    "#take copy of original data \n",
    "df1=df"
   ]
  },
  {
   "cell_type": "code",
   "execution_count": 84,
   "metadata": {},
   "outputs": [
    {
     "name": "stdout",
     "output_type": "stream",
     "text": [
      "(8950, 18)\n"
     ]
    },
    {
     "data": {
      "text/html": [
       "<div>\n",
       "<style scoped>\n",
       "    .dataframe tbody tr th:only-of-type {\n",
       "        vertical-align: middle;\n",
       "    }\n",
       "\n",
       "    .dataframe tbody tr th {\n",
       "        vertical-align: top;\n",
       "    }\n",
       "\n",
       "    .dataframe thead th {\n",
       "        text-align: right;\n",
       "    }\n",
       "</style>\n",
       "<table border=\"1\" class=\"dataframe\">\n",
       "  <thead>\n",
       "    <tr style=\"text-align: right;\">\n",
       "      <th></th>\n",
       "      <th>BALANCE</th>\n",
       "      <th>BALANCE_FREQUENCY</th>\n",
       "      <th>PURCHASES</th>\n",
       "      <th>ONEOFF_PURCHASES</th>\n",
       "      <th>INSTALLMENTS_PURCHASES</th>\n",
       "      <th>CASH_ADVANCE</th>\n",
       "      <th>PURCHASES_FREQUENCY</th>\n",
       "      <th>ONEOFF_PURCHASES_FREQUENCY</th>\n",
       "      <th>PURCHASES_INSTALLMENTS_FREQUENCY</th>\n",
       "      <th>CASH_ADVANCE_FREQUENCY</th>\n",
       "      <th>CASH_ADVANCE_TRX</th>\n",
       "      <th>PURCHASES_TRX</th>\n",
       "      <th>CREDIT_LIMIT</th>\n",
       "      <th>PAYMENTS</th>\n",
       "      <th>MINIMUM_PAYMENTS</th>\n",
       "      <th>PRC_FULL_PAYMENT</th>\n",
       "      <th>TENURE</th>\n",
       "    </tr>\n",
       "  </thead>\n",
       "  <tbody>\n",
       "    <tr>\n",
       "      <th>count</th>\n",
       "      <td>8950.000000</td>\n",
       "      <td>8950.000000</td>\n",
       "      <td>8950.000000</td>\n",
       "      <td>8950.000000</td>\n",
       "      <td>8950.000000</td>\n",
       "      <td>8950.000000</td>\n",
       "      <td>8950.000000</td>\n",
       "      <td>8950.000000</td>\n",
       "      <td>8950.000000</td>\n",
       "      <td>8950.000000</td>\n",
       "      <td>8950.000000</td>\n",
       "      <td>8950.000000</td>\n",
       "      <td>8949.000000</td>\n",
       "      <td>8950.000000</td>\n",
       "      <td>8637.000000</td>\n",
       "      <td>8950.000000</td>\n",
       "      <td>8950.000000</td>\n",
       "    </tr>\n",
       "    <tr>\n",
       "      <th>mean</th>\n",
       "      <td>1564.474828</td>\n",
       "      <td>0.877271</td>\n",
       "      <td>1003.204834</td>\n",
       "      <td>592.437371</td>\n",
       "      <td>411.067645</td>\n",
       "      <td>978.871112</td>\n",
       "      <td>0.490351</td>\n",
       "      <td>0.202458</td>\n",
       "      <td>0.364437</td>\n",
       "      <td>0.135144</td>\n",
       "      <td>3.248827</td>\n",
       "      <td>14.709832</td>\n",
       "      <td>4494.449450</td>\n",
       "      <td>1733.143852</td>\n",
       "      <td>864.206542</td>\n",
       "      <td>0.153715</td>\n",
       "      <td>11.517318</td>\n",
       "    </tr>\n",
       "    <tr>\n",
       "      <th>std</th>\n",
       "      <td>2081.531879</td>\n",
       "      <td>0.236904</td>\n",
       "      <td>2136.634782</td>\n",
       "      <td>1659.887917</td>\n",
       "      <td>904.338115</td>\n",
       "      <td>2097.163877</td>\n",
       "      <td>0.401371</td>\n",
       "      <td>0.298336</td>\n",
       "      <td>0.397448</td>\n",
       "      <td>0.200121</td>\n",
       "      <td>6.824647</td>\n",
       "      <td>24.857649</td>\n",
       "      <td>3638.815725</td>\n",
       "      <td>2895.063757</td>\n",
       "      <td>2372.446607</td>\n",
       "      <td>0.292499</td>\n",
       "      <td>1.338331</td>\n",
       "    </tr>\n",
       "    <tr>\n",
       "      <th>min</th>\n",
       "      <td>0.000000</td>\n",
       "      <td>0.000000</td>\n",
       "      <td>0.000000</td>\n",
       "      <td>0.000000</td>\n",
       "      <td>0.000000</td>\n",
       "      <td>0.000000</td>\n",
       "      <td>0.000000</td>\n",
       "      <td>0.000000</td>\n",
       "      <td>0.000000</td>\n",
       "      <td>0.000000</td>\n",
       "      <td>0.000000</td>\n",
       "      <td>0.000000</td>\n",
       "      <td>50.000000</td>\n",
       "      <td>0.000000</td>\n",
       "      <td>0.019163</td>\n",
       "      <td>0.000000</td>\n",
       "      <td>6.000000</td>\n",
       "    </tr>\n",
       "    <tr>\n",
       "      <th>25%</th>\n",
       "      <td>128.281915</td>\n",
       "      <td>0.888889</td>\n",
       "      <td>39.635000</td>\n",
       "      <td>0.000000</td>\n",
       "      <td>0.000000</td>\n",
       "      <td>0.000000</td>\n",
       "      <td>0.083333</td>\n",
       "      <td>0.000000</td>\n",
       "      <td>0.000000</td>\n",
       "      <td>0.000000</td>\n",
       "      <td>0.000000</td>\n",
       "      <td>1.000000</td>\n",
       "      <td>1600.000000</td>\n",
       "      <td>383.276166</td>\n",
       "      <td>169.123707</td>\n",
       "      <td>0.000000</td>\n",
       "      <td>12.000000</td>\n",
       "    </tr>\n",
       "    <tr>\n",
       "      <th>50%</th>\n",
       "      <td>873.385231</td>\n",
       "      <td>1.000000</td>\n",
       "      <td>361.280000</td>\n",
       "      <td>38.000000</td>\n",
       "      <td>89.000000</td>\n",
       "      <td>0.000000</td>\n",
       "      <td>0.500000</td>\n",
       "      <td>0.083333</td>\n",
       "      <td>0.166667</td>\n",
       "      <td>0.000000</td>\n",
       "      <td>0.000000</td>\n",
       "      <td>7.000000</td>\n",
       "      <td>3000.000000</td>\n",
       "      <td>856.901546</td>\n",
       "      <td>312.343947</td>\n",
       "      <td>0.000000</td>\n",
       "      <td>12.000000</td>\n",
       "    </tr>\n",
       "    <tr>\n",
       "      <th>75%</th>\n",
       "      <td>2054.140036</td>\n",
       "      <td>1.000000</td>\n",
       "      <td>1110.130000</td>\n",
       "      <td>577.405000</td>\n",
       "      <td>468.637500</td>\n",
       "      <td>1113.821139</td>\n",
       "      <td>0.916667</td>\n",
       "      <td>0.300000</td>\n",
       "      <td>0.750000</td>\n",
       "      <td>0.222222</td>\n",
       "      <td>4.000000</td>\n",
       "      <td>17.000000</td>\n",
       "      <td>6500.000000</td>\n",
       "      <td>1901.134317</td>\n",
       "      <td>825.485459</td>\n",
       "      <td>0.142857</td>\n",
       "      <td>12.000000</td>\n",
       "    </tr>\n",
       "    <tr>\n",
       "      <th>max</th>\n",
       "      <td>19043.138560</td>\n",
       "      <td>1.000000</td>\n",
       "      <td>49039.570000</td>\n",
       "      <td>40761.250000</td>\n",
       "      <td>22500.000000</td>\n",
       "      <td>47137.211760</td>\n",
       "      <td>1.000000</td>\n",
       "      <td>1.000000</td>\n",
       "      <td>1.000000</td>\n",
       "      <td>1.500000</td>\n",
       "      <td>123.000000</td>\n",
       "      <td>358.000000</td>\n",
       "      <td>30000.000000</td>\n",
       "      <td>50721.483360</td>\n",
       "      <td>76406.207520</td>\n",
       "      <td>1.000000</td>\n",
       "      <td>12.000000</td>\n",
       "    </tr>\n",
       "  </tbody>\n",
       "</table>\n",
       "</div>"
      ],
      "text/plain": [
       "            BALANCE  BALANCE_FREQUENCY     PURCHASES  ONEOFF_PURCHASES  \\\n",
       "count   8950.000000        8950.000000   8950.000000       8950.000000   \n",
       "mean    1564.474828           0.877271   1003.204834        592.437371   \n",
       "std     2081.531879           0.236904   2136.634782       1659.887917   \n",
       "min        0.000000           0.000000      0.000000          0.000000   \n",
       "25%      128.281915           0.888889     39.635000          0.000000   \n",
       "50%      873.385231           1.000000    361.280000         38.000000   \n",
       "75%     2054.140036           1.000000   1110.130000        577.405000   \n",
       "max    19043.138560           1.000000  49039.570000      40761.250000   \n",
       "\n",
       "       INSTALLMENTS_PURCHASES  CASH_ADVANCE  PURCHASES_FREQUENCY  \\\n",
       "count             8950.000000   8950.000000          8950.000000   \n",
       "mean               411.067645    978.871112             0.490351   \n",
       "std                904.338115   2097.163877             0.401371   \n",
       "min                  0.000000      0.000000             0.000000   \n",
       "25%                  0.000000      0.000000             0.083333   \n",
       "50%                 89.000000      0.000000             0.500000   \n",
       "75%                468.637500   1113.821139             0.916667   \n",
       "max              22500.000000  47137.211760             1.000000   \n",
       "\n",
       "       ONEOFF_PURCHASES_FREQUENCY  PURCHASES_INSTALLMENTS_FREQUENCY  \\\n",
       "count                 8950.000000                       8950.000000   \n",
       "mean                     0.202458                          0.364437   \n",
       "std                      0.298336                          0.397448   \n",
       "min                      0.000000                          0.000000   \n",
       "25%                      0.000000                          0.000000   \n",
       "50%                      0.083333                          0.166667   \n",
       "75%                      0.300000                          0.750000   \n",
       "max                      1.000000                          1.000000   \n",
       "\n",
       "       CASH_ADVANCE_FREQUENCY  CASH_ADVANCE_TRX  PURCHASES_TRX  CREDIT_LIMIT  \\\n",
       "count             8950.000000       8950.000000    8950.000000   8949.000000   \n",
       "mean                 0.135144          3.248827      14.709832   4494.449450   \n",
       "std                  0.200121          6.824647      24.857649   3638.815725   \n",
       "min                  0.000000          0.000000       0.000000     50.000000   \n",
       "25%                  0.000000          0.000000       1.000000   1600.000000   \n",
       "50%                  0.000000          0.000000       7.000000   3000.000000   \n",
       "75%                  0.222222          4.000000      17.000000   6500.000000   \n",
       "max                  1.500000        123.000000     358.000000  30000.000000   \n",
       "\n",
       "           PAYMENTS  MINIMUM_PAYMENTS  PRC_FULL_PAYMENT       TENURE  \n",
       "count   8950.000000       8637.000000       8950.000000  8950.000000  \n",
       "mean    1733.143852        864.206542          0.153715    11.517318  \n",
       "std     2895.063757       2372.446607          0.292499     1.338331  \n",
       "min        0.000000          0.019163          0.000000     6.000000  \n",
       "25%      383.276166        169.123707          0.000000    12.000000  \n",
       "50%      856.901546        312.343947          0.000000    12.000000  \n",
       "75%     1901.134317        825.485459          0.142857    12.000000  \n",
       "max    50721.483360      76406.207520          1.000000    12.000000  "
      ]
     },
     "execution_count": 84,
     "metadata": {},
     "output_type": "execute_result"
    }
   ],
   "source": [
    "#Find Shape\n",
    "print(df.shape)\n",
    "#Analyse the Summary of the Dataset\n",
    "df.describe()"
   ]
  },
  {
   "cell_type": "code",
   "execution_count": 85,
   "metadata": {},
   "outputs": [
    {
     "data": {
      "text/plain": [
       "CUST_ID                              object\n",
       "BALANCE                             float64\n",
       "BALANCE_FREQUENCY                   float64\n",
       "PURCHASES                           float64\n",
       "ONEOFF_PURCHASES                    float64\n",
       "INSTALLMENTS_PURCHASES              float64\n",
       "CASH_ADVANCE                        float64\n",
       "PURCHASES_FREQUENCY                 float64\n",
       "ONEOFF_PURCHASES_FREQUENCY          float64\n",
       "PURCHASES_INSTALLMENTS_FREQUENCY    float64\n",
       "CASH_ADVANCE_FREQUENCY              float64\n",
       "CASH_ADVANCE_TRX                      int64\n",
       "PURCHASES_TRX                         int64\n",
       "CREDIT_LIMIT                        float64\n",
       "PAYMENTS                            float64\n",
       "MINIMUM_PAYMENTS                    float64\n",
       "PRC_FULL_PAYMENT                    float64\n",
       "TENURE                                int64\n",
       "dtype: object"
      ]
     },
     "execution_count": 85,
     "metadata": {},
     "output_type": "execute_result"
    }
   ],
   "source": [
    "df.dtypes"
   ]
  },
  {
   "cell_type": "code",
   "execution_count": 86,
   "metadata": {},
   "outputs": [
    {
     "data": {
      "text/plain": [
       "BALANCE                             1564.474828\n",
       "BALANCE_FREQUENCY                      0.877271\n",
       "PURCHASES                           1003.204834\n",
       "ONEOFF_PURCHASES                     592.437371\n",
       "INSTALLMENTS_PURCHASES               411.067645\n",
       "CASH_ADVANCE                         978.871112\n",
       "PURCHASES_FREQUENCY                    0.490351\n",
       "ONEOFF_PURCHASES_FREQUENCY             0.202458\n",
       "PURCHASES_INSTALLMENTS_FREQUENCY       0.364437\n",
       "CASH_ADVANCE_FREQUENCY                 0.135144\n",
       "CASH_ADVANCE_TRX                       3.248827\n",
       "PURCHASES_TRX                         14.709832\n",
       "CREDIT_LIMIT                        4494.449450\n",
       "PAYMENTS                            1733.143852\n",
       "MINIMUM_PAYMENTS                     864.206542\n",
       "PRC_FULL_PAYMENT                       0.153715\n",
       "TENURE                                11.517318\n",
       "dtype: float64"
      ]
     },
     "execution_count": 86,
     "metadata": {},
     "output_type": "execute_result"
    }
   ],
   "source": [
    "#df1.isnull().sum()\n",
    "df1.mean()"
   ]
  },
  {
   "cell_type": "markdown",
   "metadata": {},
   "source": [
    "### Data Cleaning\n",
    " \n",
    "**Question 1:** Find the null values in the dataframe and replace with thier means\n",
    "\n",
    "Assign the final cleaned DataFrame to the variable **`a1`**"
   ]
  },
  {
   "cell_type": "code",
   "execution_count": 87,
   "metadata": {},
   "outputs": [],
   "source": [
    "#Replace null with values with means\n",
    "df1=df1.fillna(df1.mean())\n",
    "a1 = df1.copy()"
   ]
  },
  {
   "cell_type": "code",
   "execution_count": 88,
   "metadata": {},
   "outputs": [
    {
     "name": "stdout",
     "output_type": "stream",
     "text": [
      "     CUST_ID      BALANCE  BALANCE_FREQUENCY  PURCHASES  ONEOFF_PURCHASES  \\\n",
      "0     C10001    40.900749           0.818182      95.40              0.00   \n",
      "1     C10002  3202.467416           0.909091       0.00              0.00   \n",
      "2     C10003  2495.148862           1.000000     773.17            773.17   \n",
      "3     C10004  1666.670542           0.636364    1499.00           1499.00   \n",
      "4     C10005   817.714335           1.000000      16.00             16.00   \n",
      "...      ...          ...                ...        ...               ...   \n",
      "8945  C19186    28.493517           1.000000     291.12              0.00   \n",
      "8946  C19187    19.183215           1.000000     300.00              0.00   \n",
      "8947  C19188    23.398673           0.833333     144.40              0.00   \n",
      "8948  C19189    13.457564           0.833333       0.00              0.00   \n",
      "8949  C19190   372.708075           0.666667    1093.25           1093.25   \n",
      "\n",
      "      INSTALLMENTS_PURCHASES  CASH_ADVANCE  PURCHASES_FREQUENCY  \\\n",
      "0                      95.40      0.000000             0.166667   \n",
      "1                       0.00   6442.945483             0.000000   \n",
      "2                       0.00      0.000000             1.000000   \n",
      "3                       0.00    205.788017             0.083333   \n",
      "4                       0.00      0.000000             0.083333   \n",
      "...                      ...           ...                  ...   \n",
      "8945                  291.12      0.000000             1.000000   \n",
      "8946                  300.00      0.000000             1.000000   \n",
      "8947                  144.40      0.000000             0.833333   \n",
      "8948                    0.00     36.558778             0.000000   \n",
      "8949                    0.00    127.040008             0.666667   \n",
      "\n",
      "      ONEOFF_PURCHASES_FREQUENCY  PURCHASES_INSTALLMENTS_FREQUENCY  \\\n",
      "0                       0.000000                          0.083333   \n",
      "1                       0.000000                          0.000000   \n",
      "2                       1.000000                          0.000000   \n",
      "3                       0.083333                          0.000000   \n",
      "4                       0.083333                          0.000000   \n",
      "...                          ...                               ...   \n",
      "8945                    0.000000                          0.833333   \n",
      "8946                    0.000000                          0.833333   \n",
      "8947                    0.000000                          0.666667   \n",
      "8948                    0.000000                          0.000000   \n",
      "8949                    0.666667                          0.000000   \n",
      "\n",
      "      CASH_ADVANCE_FREQUENCY  CASH_ADVANCE_TRX  PURCHASES_TRX  CREDIT_LIMIT  \\\n",
      "0                   0.000000                 0              2        1000.0   \n",
      "1                   0.250000                 4              0        7000.0   \n",
      "2                   0.000000                 0             12        7500.0   \n",
      "3                   0.083333                 1              1        7500.0   \n",
      "4                   0.000000                 0              1        1200.0   \n",
      "...                      ...               ...            ...           ...   \n",
      "8945                0.000000                 0              6        1000.0   \n",
      "8946                0.000000                 0              6        1000.0   \n",
      "8947                0.000000                 0              5        1000.0   \n",
      "8948                0.166667                 2              0         500.0   \n",
      "8949                0.333333                 2             23        1200.0   \n",
      "\n",
      "         PAYMENTS  MINIMUM_PAYMENTS  PRC_FULL_PAYMENT  TENURE  \n",
      "0      201.802084        139.509787          0.000000      12  \n",
      "1     4103.032597       1072.340217          0.222222      12  \n",
      "2      622.066742        627.284787          0.000000      12  \n",
      "3        0.000000        864.206542          0.000000      12  \n",
      "4      678.334763        244.791237          0.000000      12  \n",
      "...           ...               ...               ...     ...  \n",
      "8945   325.594462         48.886365          0.500000       6  \n",
      "8946   275.861322        864.206542          0.000000       6  \n",
      "8947    81.270775         82.418369          0.250000       6  \n",
      "8948    52.549959         55.755628          0.250000       6  \n",
      "8949    63.165404         88.288956          0.000000       6  \n",
      "\n",
      "[8950 rows x 18 columns]\n"
     ]
    }
   ],
   "source": [
    "a1.isnull().sum()\n",
    "print(df1)"
   ]
  },
  {
   "cell_type": "markdown",
   "metadata": {},
   "source": [
    "-----------"
   ]
  },
  {
   "cell_type": "code",
   "execution_count": 89,
   "metadata": {},
   "outputs": [],
   "source": [
    "#drop customer id column\n",
    "df1=df1.drop('CUST_ID',axis=1)"
   ]
  },
  {
   "cell_type": "code",
   "execution_count": 90,
   "metadata": {},
   "outputs": [],
   "source": [
    "#Sort the data frame based on the column name\n",
    "df1 = df1.sort_index(axis=1)"
   ]
  },
  {
   "cell_type": "markdown",
   "metadata": {},
   "source": [
    "**Question 2:** Find all the variables contains outliers in the dataframe (Use: IQR Way)\n",
    "\n",
    "Assign the all variable list to the variable **`a2`**"
   ]
  },
  {
   "cell_type": "code",
   "execution_count": 91,
   "metadata": {},
   "outputs": [
    {
     "name": "stdout",
     "output_type": "stream",
     "text": [
      "BALANCE                             1925.858120\n",
      "BALANCE_FREQUENCY                      0.111111\n",
      "CASH_ADVANCE                        1113.821139\n",
      "CASH_ADVANCE_FREQUENCY                 0.222222\n",
      "CASH_ADVANCE_TRX                       4.000000\n",
      "CREDIT_LIMIT                        4900.000000\n",
      "INSTALLMENTS_PURCHASES               468.637500\n",
      "MINIMUM_PAYMENTS                     693.348888\n",
      "ONEOFF_PURCHASES                     577.405000\n",
      "ONEOFF_PURCHASES_FREQUENCY             0.300000\n",
      "PAYMENTS                            1517.858151\n",
      "PRC_FULL_PAYMENT                       0.142857\n",
      "PURCHASES                           1070.495000\n",
      "PURCHASES_FREQUENCY                    0.833334\n",
      "PURCHASES_INSTALLMENTS_FREQUENCY       0.750000\n",
      "PURCHASES_TRX                         16.000000\n",
      "TENURE                                 0.000000\n",
      "dtype: float64\n"
     ]
    },
    {
     "data": {
      "text/plain": [
       "['BALANCE',\n",
       " 'BALANCE_FREQUENCY',\n",
       " 'CASH_ADVANCE',\n",
       " 'CASH_ADVANCE_FREQUENCY',\n",
       " 'CASH_ADVANCE_TRX',\n",
       " 'CREDIT_LIMIT',\n",
       " 'INSTALLMENTS_PURCHASES',\n",
       " 'MINIMUM_PAYMENTS',\n",
       " 'ONEOFF_PURCHASES',\n",
       " 'ONEOFF_PURCHASES_FREQUENCY',\n",
       " 'PAYMENTS',\n",
       " 'PRC_FULL_PAYMENT',\n",
       " 'PURCHASES',\n",
       " 'PURCHASES_TRX',\n",
       " 'TENURE']"
      ]
     },
     "execution_count": 91,
     "metadata": {},
     "output_type": "execute_result"
    }
   ],
   "source": [
    "#Find the outliers\n",
    "Q1 = df1.quantile(0.25)\n",
    "Q3 = df1.quantile(0.75)\n",
    "IQR = Q3 - Q1\n",
    "print(IQR)\n",
    "### Enter code below\n",
    "a2 = df1.columns[((df1 < (Q1 - 1.5 * IQR)) |(df1 > (Q3 + 1.5 * IQR))).any(axis=0)].tolist()\n",
    "### End code\n",
    "a2"
   ]
  },
  {
   "cell_type": "markdown",
   "metadata": {},
   "source": [
    "Summary\n",
    "\n",
    "- As you can see, There are many outliers. But, we can't simply drop the outliers as they may contain useful information. So, we'll treat them as extreme values (Because, most of the variables are currency based units).\n",
    "\n",
    "- Already we know that outliers will effect the clusters. For now, we`ll do nothing with outliers because this may harm the clustering.\n",
    "\n",
    "--------------\n",
    "\n",
    "To avoid the outliers(Skewed data), Lets use \n",
    "\n",
    "- Log transformation\n",
    "\n"
   ]
  },
  {
   "cell_type": "markdown",
   "metadata": {},
   "source": [
    "### Data Transformation\n",
    "\n",
    "**Question 3:** Transform all variables in the dataframe and replace with log transform values. (Use: Natural Logrithmic $log(1+x)$)\n",
    "\n",
    "Assign the final transformed DataFrame to the variable **`a3`**"
   ]
  },
  {
   "cell_type": "code",
   "execution_count": 92,
   "metadata": {
    "scrolled": true
   },
   "outputs": [
    {
     "name": "stderr",
     "output_type": "stream",
     "text": [
      "E:\\MachineLearning\\Anaconda3\\lib\\site-packages\\pandas\\core\\arraylike.py:358: RuntimeWarning: divide by zero encountered in log\n",
      "  result = getattr(ufunc, method)(*inputs, **kwargs)\n"
     ]
    },
    {
     "data": {
      "text/html": [
       "<div>\n",
       "<style scoped>\n",
       "    .dataframe tbody tr th:only-of-type {\n",
       "        vertical-align: middle;\n",
       "    }\n",
       "\n",
       "    .dataframe tbody tr th {\n",
       "        vertical-align: top;\n",
       "    }\n",
       "\n",
       "    .dataframe thead th {\n",
       "        text-align: right;\n",
       "    }\n",
       "</style>\n",
       "<table border=\"1\" class=\"dataframe\">\n",
       "  <thead>\n",
       "    <tr style=\"text-align: right;\">\n",
       "      <th></th>\n",
       "      <th>BALANCE</th>\n",
       "      <th>BALANCE_FREQUENCY</th>\n",
       "      <th>CASH_ADVANCE</th>\n",
       "      <th>CASH_ADVANCE_FREQUENCY</th>\n",
       "      <th>CASH_ADVANCE_TRX</th>\n",
       "      <th>CREDIT_LIMIT</th>\n",
       "      <th>INSTALLMENTS_PURCHASES</th>\n",
       "      <th>MINIMUM_PAYMENTS</th>\n",
       "      <th>ONEOFF_PURCHASES</th>\n",
       "      <th>ONEOFF_PURCHASES_FREQUENCY</th>\n",
       "      <th>PAYMENTS</th>\n",
       "      <th>PRC_FULL_PAYMENT</th>\n",
       "      <th>PURCHASES</th>\n",
       "      <th>PURCHASES_FREQUENCY</th>\n",
       "      <th>PURCHASES_INSTALLMENTS_FREQUENCY</th>\n",
       "      <th>PURCHASES_TRX</th>\n",
       "      <th>TENURE</th>\n",
       "    </tr>\n",
       "  </thead>\n",
       "  <tbody>\n",
       "    <tr>\n",
       "      <th>0</th>\n",
       "      <td>3.711148</td>\n",
       "      <td>-0.200670</td>\n",
       "      <td>-inf</td>\n",
       "      <td>-inf</td>\n",
       "      <td>-inf</td>\n",
       "      <td>6.907755</td>\n",
       "      <td>4.558079</td>\n",
       "      <td>4.938135</td>\n",
       "      <td>-inf</td>\n",
       "      <td>-inf</td>\n",
       "      <td>5.307287</td>\n",
       "      <td>-inf</td>\n",
       "      <td>4.558079</td>\n",
       "      <td>-1.791757</td>\n",
       "      <td>-2.484911</td>\n",
       "      <td>0.693147</td>\n",
       "      <td>2.484907</td>\n",
       "    </tr>\n",
       "    <tr>\n",
       "      <th>1</th>\n",
       "      <td>8.071677</td>\n",
       "      <td>-0.095310</td>\n",
       "      <td>8.770741</td>\n",
       "      <td>-1.386294</td>\n",
       "      <td>1.386294</td>\n",
       "      <td>8.853665</td>\n",
       "      <td>-inf</td>\n",
       "      <td>6.977599</td>\n",
       "      <td>-inf</td>\n",
       "      <td>-inf</td>\n",
       "      <td>8.319482</td>\n",
       "      <td>-1.504078</td>\n",
       "      <td>-inf</td>\n",
       "      <td>-inf</td>\n",
       "      <td>-inf</td>\n",
       "      <td>-inf</td>\n",
       "      <td>2.484907</td>\n",
       "    </tr>\n",
       "    <tr>\n",
       "      <th>2</th>\n",
       "      <td>7.822104</td>\n",
       "      <td>0.000000</td>\n",
       "      <td>-inf</td>\n",
       "      <td>-inf</td>\n",
       "      <td>-inf</td>\n",
       "      <td>8.922658</td>\n",
       "      <td>-inf</td>\n",
       "      <td>6.441401</td>\n",
       "      <td>6.650499</td>\n",
       "      <td>0.000000</td>\n",
       "      <td>6.433047</td>\n",
       "      <td>-inf</td>\n",
       "      <td>6.650499</td>\n",
       "      <td>0.000000</td>\n",
       "      <td>-inf</td>\n",
       "      <td>2.484907</td>\n",
       "      <td>2.484907</td>\n",
       "    </tr>\n",
       "    <tr>\n",
       "      <th>3</th>\n",
       "      <td>7.418583</td>\n",
       "      <td>-0.451985</td>\n",
       "      <td>5.326847</td>\n",
       "      <td>-2.484911</td>\n",
       "      <td>0.000000</td>\n",
       "      <td>8.922658</td>\n",
       "      <td>-inf</td>\n",
       "      <td>6.761812</td>\n",
       "      <td>7.312553</td>\n",
       "      <td>-2.484911</td>\n",
       "      <td>-inf</td>\n",
       "      <td>-inf</td>\n",
       "      <td>7.312553</td>\n",
       "      <td>-2.484911</td>\n",
       "      <td>-inf</td>\n",
       "      <td>0.000000</td>\n",
       "      <td>2.484907</td>\n",
       "    </tr>\n",
       "    <tr>\n",
       "      <th>4</th>\n",
       "      <td>6.706513</td>\n",
       "      <td>0.000000</td>\n",
       "      <td>-inf</td>\n",
       "      <td>-inf</td>\n",
       "      <td>-inf</td>\n",
       "      <td>7.090077</td>\n",
       "      <td>-inf</td>\n",
       "      <td>5.500406</td>\n",
       "      <td>2.772589</td>\n",
       "      <td>-2.484911</td>\n",
       "      <td>6.519641</td>\n",
       "      <td>-inf</td>\n",
       "      <td>2.772589</td>\n",
       "      <td>-2.484911</td>\n",
       "      <td>-inf</td>\n",
       "      <td>0.000000</td>\n",
       "      <td>2.484907</td>\n",
       "    </tr>\n",
       "    <tr>\n",
       "      <th>...</th>\n",
       "      <td>...</td>\n",
       "      <td>...</td>\n",
       "      <td>...</td>\n",
       "      <td>...</td>\n",
       "      <td>...</td>\n",
       "      <td>...</td>\n",
       "      <td>...</td>\n",
       "      <td>...</td>\n",
       "      <td>...</td>\n",
       "      <td>...</td>\n",
       "      <td>...</td>\n",
       "      <td>...</td>\n",
       "      <td>...</td>\n",
       "      <td>...</td>\n",
       "      <td>...</td>\n",
       "      <td>...</td>\n",
       "      <td>...</td>\n",
       "    </tr>\n",
       "    <tr>\n",
       "      <th>8945</th>\n",
       "      <td>3.349677</td>\n",
       "      <td>0.000000</td>\n",
       "      <td>-inf</td>\n",
       "      <td>-inf</td>\n",
       "      <td>-inf</td>\n",
       "      <td>6.907755</td>\n",
       "      <td>5.673736</td>\n",
       "      <td>3.889499</td>\n",
       "      <td>-inf</td>\n",
       "      <td>-inf</td>\n",
       "      <td>5.785653</td>\n",
       "      <td>-0.693147</td>\n",
       "      <td>5.673736</td>\n",
       "      <td>0.000000</td>\n",
       "      <td>-0.182322</td>\n",
       "      <td>1.791759</td>\n",
       "      <td>1.791759</td>\n",
       "    </tr>\n",
       "    <tr>\n",
       "      <th>8946</th>\n",
       "      <td>2.954036</td>\n",
       "      <td>0.000000</td>\n",
       "      <td>-inf</td>\n",
       "      <td>-inf</td>\n",
       "      <td>-inf</td>\n",
       "      <td>6.907755</td>\n",
       "      <td>5.703782</td>\n",
       "      <td>6.761812</td>\n",
       "      <td>-inf</td>\n",
       "      <td>-inf</td>\n",
       "      <td>5.619898</td>\n",
       "      <td>-inf</td>\n",
       "      <td>5.703782</td>\n",
       "      <td>0.000000</td>\n",
       "      <td>-0.182322</td>\n",
       "      <td>1.791759</td>\n",
       "      <td>1.791759</td>\n",
       "    </tr>\n",
       "    <tr>\n",
       "      <th>8947</th>\n",
       "      <td>3.152679</td>\n",
       "      <td>-0.182322</td>\n",
       "      <td>-inf</td>\n",
       "      <td>-inf</td>\n",
       "      <td>-inf</td>\n",
       "      <td>6.907755</td>\n",
       "      <td>4.972587</td>\n",
       "      <td>4.411808</td>\n",
       "      <td>-inf</td>\n",
       "      <td>-inf</td>\n",
       "      <td>4.397786</td>\n",
       "      <td>-1.386294</td>\n",
       "      <td>4.972587</td>\n",
       "      <td>-0.182322</td>\n",
       "      <td>-0.405465</td>\n",
       "      <td>1.609438</td>\n",
       "      <td>1.791759</td>\n",
       "    </tr>\n",
       "    <tr>\n",
       "      <th>8948</th>\n",
       "      <td>2.599541</td>\n",
       "      <td>-0.182322</td>\n",
       "      <td>3.598921</td>\n",
       "      <td>-1.791757</td>\n",
       "      <td>0.693147</td>\n",
       "      <td>6.214608</td>\n",
       "      <td>-inf</td>\n",
       "      <td>4.020978</td>\n",
       "      <td>-inf</td>\n",
       "      <td>-inf</td>\n",
       "      <td>3.961764</td>\n",
       "      <td>-1.386294</td>\n",
       "      <td>-inf</td>\n",
       "      <td>-inf</td>\n",
       "      <td>-inf</td>\n",
       "      <td>-inf</td>\n",
       "      <td>1.791759</td>\n",
       "    </tr>\n",
       "    <tr>\n",
       "      <th>8949</th>\n",
       "      <td>5.920795</td>\n",
       "      <td>-0.405465</td>\n",
       "      <td>4.844502</td>\n",
       "      <td>-1.098613</td>\n",
       "      <td>0.693147</td>\n",
       "      <td>7.090077</td>\n",
       "      <td>-inf</td>\n",
       "      <td>4.480615</td>\n",
       "      <td>6.996910</td>\n",
       "      <td>-0.405465</td>\n",
       "      <td>4.145757</td>\n",
       "      <td>-inf</td>\n",
       "      <td>6.996910</td>\n",
       "      <td>-0.405465</td>\n",
       "      <td>-inf</td>\n",
       "      <td>3.135494</td>\n",
       "      <td>1.791759</td>\n",
       "    </tr>\n",
       "  </tbody>\n",
       "</table>\n",
       "<p>8950 rows × 17 columns</p>\n",
       "</div>"
      ],
      "text/plain": [
       "       BALANCE  BALANCE_FREQUENCY  CASH_ADVANCE  CASH_ADVANCE_FREQUENCY  \\\n",
       "0     3.711148          -0.200670          -inf                    -inf   \n",
       "1     8.071677          -0.095310      8.770741               -1.386294   \n",
       "2     7.822104           0.000000          -inf                    -inf   \n",
       "3     7.418583          -0.451985      5.326847               -2.484911   \n",
       "4     6.706513           0.000000          -inf                    -inf   \n",
       "...        ...                ...           ...                     ...   \n",
       "8945  3.349677           0.000000          -inf                    -inf   \n",
       "8946  2.954036           0.000000          -inf                    -inf   \n",
       "8947  3.152679          -0.182322          -inf                    -inf   \n",
       "8948  2.599541          -0.182322      3.598921               -1.791757   \n",
       "8949  5.920795          -0.405465      4.844502               -1.098613   \n",
       "\n",
       "      CASH_ADVANCE_TRX  CREDIT_LIMIT  INSTALLMENTS_PURCHASES  \\\n",
       "0                 -inf      6.907755                4.558079   \n",
       "1             1.386294      8.853665                    -inf   \n",
       "2                 -inf      8.922658                    -inf   \n",
       "3             0.000000      8.922658                    -inf   \n",
       "4                 -inf      7.090077                    -inf   \n",
       "...                ...           ...                     ...   \n",
       "8945              -inf      6.907755                5.673736   \n",
       "8946              -inf      6.907755                5.703782   \n",
       "8947              -inf      6.907755                4.972587   \n",
       "8948          0.693147      6.214608                    -inf   \n",
       "8949          0.693147      7.090077                    -inf   \n",
       "\n",
       "      MINIMUM_PAYMENTS  ONEOFF_PURCHASES  ONEOFF_PURCHASES_FREQUENCY  \\\n",
       "0             4.938135              -inf                        -inf   \n",
       "1             6.977599              -inf                        -inf   \n",
       "2             6.441401          6.650499                    0.000000   \n",
       "3             6.761812          7.312553                   -2.484911   \n",
       "4             5.500406          2.772589                   -2.484911   \n",
       "...                ...               ...                         ...   \n",
       "8945          3.889499              -inf                        -inf   \n",
       "8946          6.761812              -inf                        -inf   \n",
       "8947          4.411808              -inf                        -inf   \n",
       "8948          4.020978              -inf                        -inf   \n",
       "8949          4.480615          6.996910                   -0.405465   \n",
       "\n",
       "      PAYMENTS  PRC_FULL_PAYMENT  PURCHASES  PURCHASES_FREQUENCY  \\\n",
       "0     5.307287              -inf   4.558079            -1.791757   \n",
       "1     8.319482         -1.504078       -inf                 -inf   \n",
       "2     6.433047              -inf   6.650499             0.000000   \n",
       "3         -inf              -inf   7.312553            -2.484911   \n",
       "4     6.519641              -inf   2.772589            -2.484911   \n",
       "...        ...               ...        ...                  ...   \n",
       "8945  5.785653         -0.693147   5.673736             0.000000   \n",
       "8946  5.619898              -inf   5.703782             0.000000   \n",
       "8947  4.397786         -1.386294   4.972587            -0.182322   \n",
       "8948  3.961764         -1.386294       -inf                 -inf   \n",
       "8949  4.145757              -inf   6.996910            -0.405465   \n",
       "\n",
       "      PURCHASES_INSTALLMENTS_FREQUENCY  PURCHASES_TRX    TENURE  \n",
       "0                            -2.484911       0.693147  2.484907  \n",
       "1                                 -inf           -inf  2.484907  \n",
       "2                                 -inf       2.484907  2.484907  \n",
       "3                                 -inf       0.000000  2.484907  \n",
       "4                                 -inf       0.000000  2.484907  \n",
       "...                                ...            ...       ...  \n",
       "8945                         -0.182322       1.791759  1.791759  \n",
       "8946                         -0.182322       1.791759  1.791759  \n",
       "8947                         -0.405465       1.609438  1.791759  \n",
       "8948                              -inf           -inf  1.791759  \n",
       "8949                              -inf       3.135494  1.791759  \n",
       "\n",
       "[8950 rows x 17 columns]"
      ]
     },
     "execution_count": 92,
     "metadata": {},
     "output_type": "execute_result"
    }
   ],
   "source": [
    "#Transform all variables\n",
    "#Log Transformation, log(1+x)\n",
    "df1.astype('float')\n",
    "for column in df1.columns:\n",
    "   df1[column] = np.log(df1[column])\n",
    "a3 = df1\n",
    "a3"
   ]
  },
  {
   "cell_type": "markdown",
   "metadata": {},
   "source": [
    "### Data Visualization\n",
    "\n",
    "**Question 4:** Plot the graph it should show that how the data is distributed over the all Variable (Hint: Use Box Plot)   \n",
    "\n",
    "<a href=\"../expected_img/expected_boxplot_outliers.png\">Expected Boxplot</a>"
   ]
  },
  {
   "cell_type": "code",
   "execution_count": 93,
   "metadata": {},
   "outputs": [
    {
     "name": "stderr",
     "output_type": "stream",
     "text": [
      "E:\\MachineLearning\\Anaconda3\\lib\\site-packages\\numpy\\lib\\function_base.py:3961: RuntimeWarning: invalid value encountered in subtract\n",
      "  diff_b_a = subtract(b, a)\n",
      "E:\\MachineLearning\\Anaconda3\\lib\\site-packages\\matplotlib\\cbook\\__init__.py:1211: RuntimeWarning: invalid value encountered in less_equal\n",
      "  wiskhi = x[x <= hival]\n",
      "E:\\MachineLearning\\Anaconda3\\lib\\site-packages\\matplotlib\\cbook\\__init__.py:1218: RuntimeWarning: invalid value encountered in greater_equal\n",
      "  wisklo = x[x >= loval]\n",
      "E:\\MachineLearning\\Anaconda3\\lib\\site-packages\\matplotlib\\cbook\\__init__.py:1226: RuntimeWarning: invalid value encountered in less\n",
      "  x[x < stats['whislo']],\n"
     ]
    },
    {
     "data": {
      "image/png": "[encoded data removed]",
      "text/plain": [
       "<Figure size 2160x720 with 1 Axes>"
      ]
     },
     "metadata": {
      "needs_background": "light"
     },
     "output_type": "display_data"
    }
   ],
   "source": [
    "# Using boxplot for indentify possible outliers values after log-transform. (Note rotate the box plot into 90 degree)\n",
    "### Don't remove any code given below. Enter your code in the appropriate section\n",
    "f1, ax1 = plt.subplots(1,1, figsize = (30, 10))\n",
    "\n",
    "### Enter code below\n",
    "ax1 = df1.boxplot(ax=ax1)\n",
    "plt.show()\n",
    "### End code"
   ]
  },
  {
   "cell_type": "markdown",
   "metadata": {},
   "source": [
    "**Note: Still data contains some outliers. Let it be, We aren't going change anything.**"
   ]
  },
  {
   "cell_type": "markdown",
   "metadata": {},
   "source": [
    "### Feature Engineering and Selection"
   ]
  },
  {
   "cell_type": "code",
   "execution_count": 94,
   "metadata": {},
   "outputs": [
    {
     "data": {
      "text/plain": [
       "<AxesSubplot:>"
      ]
     },
     "execution_count": 94,
     "metadata": {},
     "output_type": "execute_result"
    },
    {
     "data": {
      "image/png": "[encoded data removed]",
      "text/plain": [
       "<Figure size 432x288 with 2 Axes>"
      ]
     },
     "metadata": {
      "needs_background": "light"
     },
     "output_type": "display_data"
    }
   ],
   "source": [
    "#Plot Heatmap and See correlation between variables\n",
    "sns.heatmap(df.corr())\n"
   ]
  },
  {
   "cell_type": "markdown",
   "metadata": {},
   "source": [
    "**Question 5**: Find out the highly correlated variables each other. Find all variable pairs that have greater than a **0.7** correlation coefficient.\n",
    "\n",
    "Ex: If (X,Y) correlation coefficient is 0.7 and (X,Z) correlation coefficient is 0.7 then store [X, Y, Z] only. Second correlation has X, Z but X is already highly correlated with Y. So, Don't Repeat X again.\n",
    "\n",
    "Assign the correlated variables as list to the variable **`a4`**"
   ]
  },
  {
   "cell_type": "code",
   "execution_count": 95,
   "metadata": {},
   "outputs": [
    {
     "name": "stdout",
     "output_type": "stream",
     "text": [
      "['BALANCE', 'CASH_ADVANCE_FREQUENCY', 'CASH_ADVANCE_TRX', 'INSTALLMENTS_PURCHASES', 'MINIMUM_PAYMENTS', 'ONEOFF_PURCHASES', 'PURCHASES', 'PURCHASES_FREQUENCY', 'PURCHASES_INSTALLMENTS_FREQUENCY', 'PURCHASES_TRX']\n"
     ]
    }
   ],
   "source": [
    "#Find all variable pairs that have greater than a **0.7** correlation coefficient. (Use: corr function)\n",
    "#print(df.corr().abs().unstack().sort_values().drop_duplicates()>.7)\n",
    "corr=df1.corr()\n",
    "df_corr =(corr.mask(np.eye(len(corr), dtype=bool)).abs() > 0.70).any()\n",
    "df_corr=df_corr.reset_index()\n",
    "df_corr_true=df_corr[df_corr[0=='True']]\n",
    "\n",
    "\n",
    "a4 = df_corr_true['index'].values.tolist()\n",
    "\n",
    "print(a4)"
   ]
  },
  {
   "cell_type": "markdown",
   "metadata": {},
   "source": [
    "**Standardization**"
   ]
  },
  {
   "cell_type": "code",
   "execution_count": 96,
   "metadata": {},
   "outputs": [
    {
     "data": {
      "text/plain": [
       "array([[-0.47606982, -0.67534886, -0.80649035, -0.70731317, -0.35693402,\n",
       "        -0.42489974],\n",
       "       [ 0.11007385,  0.57396272, -1.22175806, -0.91699519, -0.35693402,\n",
       "        -0.46955188],\n",
       "       [-0.47606982, -0.67534886,  1.26984323, -0.91699519,  0.10888851,\n",
       "        -0.10766823],\n",
       "       ...,\n",
       "       [-0.47606982, -0.67534886,  0.85457552,  0.76046857, -0.35693402,\n",
       "        -0.40196519],\n",
       "       [-0.18299798,  0.15752719, -1.22175806, -0.91699519, -0.35693402,\n",
       "        -0.46955188],\n",
       "       [-0.18299798,  0.99039825,  0.4393103 , -0.91699519,  0.30173158,\n",
       "         0.04214581]])"
      ]
     },
     "execution_count": 96,
     "metadata": {},
     "output_type": "execute_result"
    }
   ],
   "source": [
    "# Select those best features and store into seperate variable `X`\n",
    "X = df[['CASH_ADVANCE_TRX', 'CASH_ADVANCE_FREQUENCY',\n",
    "             'PURCHASES_FREQUENCY', 'PURCHASES_INSTALLMENTS_FREQUENCY',\n",
    "             'ONEOFF_PURCHASES', 'PURCHASES']]\n",
    "\n",
    "#Let us do Standardization for selected features and store into seperate variable\n",
    "sc = StandardScaler()\n",
    "sc_data = sc.fit_transform(X)\n",
    "sc_data\n"
   ]
  },
  {
   "cell_type": "markdown",
   "metadata": {},
   "source": [
    "**Question 6**   \n",
    "i) Find the optimal cluster `n`. Take a range from (1, 20) from which n is optimal cluster for K-Means Clustering. Set `random_state=42` while build cluster. **(Use Elbow Method)**   \n",
    "ii) Plot the graph which show how SSE square decrease when n clusters increased. (Use line plot)\n",
    "\n",
    "Assign optimal cluster `n` value as int to the variable **`a5`** \n",
    "\n",
    "<a href=\"../expected_img/expected_lineplot_elbow.png\">Expected Line Plot (Elbow Method)</a>"
   ]
  },
  {
   "cell_type": "code",
   "execution_count": 97,
   "metadata": {},
   "outputs": [
    {
     "data": {
      "image/png": "[encoded data removed]",
      "text/plain": [
       "<Figure size 720x432 with 1 Axes>"
      ]
     },
     "metadata": {
      "needs_background": "light"
     },
     "output_type": "display_data"
    }
   ],
   "source": [
    "# Use the Elbow method to find a good number of clusters using WCSS\n",
    "### Don't remove any code given below. Enter your code in the appropriate section\n",
    "# Use init=\"k-means++\", n_init=10, max_iter=300, random_state=42 as attributes for kmeans\n",
    "f2, ax2 = plt.subplots(1, 1, figsize = (10, 6))\n",
    "\n",
    "### Enter code below\n",
    "sse = []\n",
    "K = range(1,20)\n",
    "for k in K:\n",
    "    kmeanModel = KMeans(n_clusters=k,random_state=42,init='k-means++',n_init=10,max_iter=300)\n",
    "    kmeanModel.fit(sc_data)\n",
    "    sse.append(kmeanModel.inertia_)\n",
    "plt.plot(K, sse)\n",
    "plt.legend(['SSE'])\n",
    "### Enter code below\n",
    "#ax2 = _\n",
    "plt.show()\n",
    "### End code\n",
    "\n",
    "a5 = 5"
   ]
  },
  {
   "cell_type": "markdown",
   "metadata": {},
   "source": [
    "----------"
   ]
  },
  {
   "cell_type": "markdown",
   "metadata": {},
   "source": [
    "### Clustering"
   ]
  },
  {
   "cell_type": "code",
   "execution_count": 98,
   "metadata": {},
   "outputs": [],
   "source": [
    "# Create Kmeans Clustering based on optimal cluster `n` value\n",
    "# Use init=\"k-means++\", n_init=10, max_iter=300, random_state=42 as attributes for kmeans\n",
    "\n",
    "model=KMeans(init=\"k-means++\", n_init=10, max_iter=300, random_state=42,n_clusters=5)\n",
    "kmodel = model.fit(sc_data)\n",
    "labels = kmodel.fit_predict(sc_data)"
   ]
  },
  {
   "cell_type": "code",
   "execution_count": 99,
   "metadata": {},
   "outputs": [],
   "source": [
    "#Create a new column and append clustered labels into original dataframe (Copied orginal dataframe)\n",
    "label = kmodel.fit_predict(sc_data).tolist()\n",
    "df['clusters']=label\n"
   ]
  },
  {
   "cell_type": "markdown",
   "metadata": {},
   "source": [
    "### Interpretation of clusters"
   ]
  },
  {
   "cell_type": "code",
   "execution_count": 100,
   "metadata": {
    "scrolled": true
   },
   "outputs": [
    {
     "data": {
      "text/plain": [
       "<seaborn.axisgrid.FacetGrid at 0x1bb2438ab20>"
      ]
     },
     "execution_count": 100,
     "metadata": {},
     "output_type": "execute_result"
    },
    {
     "data": {
      "image/png": "[encoded data removed]",
      "text/plain": [
       "<Figure size 1080x216 with 5 Axes>"
      ]
     },
     "metadata": {
      "needs_background": "light"
     },
     "output_type": "display_data"
    }
   ],
   "source": [
    "#Plot Facet Grid for each cluster.\n",
    "g=sns.FacetGrid(df,col='clusters')\n",
    "g.map(sns.scatterplot, \"CASH_ADVANCE\",'BALANCE')\n",
    "g.map(sns.scatterplot, \"CASH_ADVANCE\",'BALANCE')"
   ]
  },
  {
   "cell_type": "markdown",
   "metadata": {},
   "source": [
    "**Question 7**  \n",
    "\n",
    "Find Appropriate Cluster    \n",
    "\n",
    "1) In which cluster, The people are less interest to purchase using CC. The people mainting very good balance and frequently taking advance cash option.      \n",
    "2) In Which cluster, The people are average interest to purchase using CC and. The people mainting very low balance and very low interested taking advance cash option. Average Payment CC Bills. They are average interest one go purchase\n",
    "\n",
    "For ex: If answer is cluster 0 then assign the value 0 to the mentioned variables below.     \n",
    "\n",
    "Assign Question 1 cluster label value as int to the variable `a6`   \n",
    "Assign Question 2 cluster label value as int to the variable `a7`"
   ]
  },
  {
   "cell_type": "code",
   "execution_count": 104,
   "metadata": {},
   "outputs": [
    {
     "name": "stdout",
     "output_type": "stream",
     "text": [
      "              BALANCE  BALANCE_FREQUENCY     PURCHASES  ONEOFF_PURCHASES  \\\n",
      "clusters                                                                   \n",
      "0         1034.109181           0.923307   1122.530712        437.294522   \n",
      "1         1350.204877           0.805404    296.289271        244.000025   \n",
      "2         3572.175084           0.964761    481.009562        300.341803   \n",
      "3         2814.795688           0.975022   6143.727051       4339.354979   \n",
      "4         4961.573491           0.951948  28698.173810      23496.999524   \n",
      "\n",
      "          INSTALLMENTS_PURCHASES  CASH_ADVANCE  PURCHASES_FREQUENCY  \\\n",
      "clusters                                                              \n",
      "0                     685.830653    295.995964             0.879206   \n",
      "1                      52.444823    830.136464             0.167715   \n",
      "2                     180.702341   4097.064093             0.273819   \n",
      "3                    1804.372073    534.930583             0.910038   \n",
      "4                    5201.174286   1062.501944             0.896032   \n",
      "\n",
      "          ONEOFF_PURCHASES_FREQUENCY  PURCHASES_INSTALLMENTS_FREQUENCY  \\\n",
      "clusters                                                                 \n",
      "0                           0.255327                          0.742462   \n",
      "1                           0.106594                          0.060157   \n",
      "2                           0.147385                          0.171570   \n",
      "3                           0.738905                          0.656865   \n",
      "4                           0.847619                          0.680952   \n",
      "\n",
      "          CASH_ADVANCE_FREQUENCY  CASH_ADVANCE_TRX  PURCHASES_TRX  \\\n",
      "clusters                                                            \n",
      "0                       0.044267          0.856723      22.484554   \n",
      "1                       0.111258          2.049532       3.231641   \n",
      "2                       0.575672         17.047809       7.809761   \n",
      "3                       0.061327          1.476496      67.767094   \n",
      "4                       0.043651          1.952381     121.809524   \n",
      "\n",
      "          CREDIT_LIMIT      PAYMENTS  MINIMUM_PAYMENTS  PRC_FULL_PAYMENT  \\\n",
      "clusters                                                                   \n",
      "0          4244.864072   1316.491103        758.414264          0.248005   \n",
      "1          3833.099618   1189.593353        750.301494          0.083805   \n",
      "2          5886.603586   3054.993016       1384.890226          0.040814   \n",
      "3          8547.008547   5440.855407       1362.608777          0.299578   \n",
      "4         15785.714286  28380.051021       2753.008689          0.548521   \n",
      "\n",
      "             TENURE  \n",
      "clusters             \n",
      "0         11.586937  \n",
      "1         11.483982  \n",
      "2         11.243028  \n",
      "3         11.871795  \n",
      "4         11.904762  \n"
     ]
    }
   ],
   "source": [
    "print(df.groupby('clusters').mean())\n",
    "a6, a7 =1,0"
   ]
  },
  {
   "cell_type": "markdown",
   "metadata": {},
   "source": [
    "--------"
   ]
  },
  {
   "cell_type": "markdown",
   "metadata": {},
   "source": [
    "###  Run the below cells to save your answers"
   ]
  },
  {
   "cell_type": "code",
   "execution_count": 70,
   "metadata": {},
   "outputs": [],
   "source": [
    "from testclustering import kmeans as kmeanstest\n",
    "kmeanstest.save_question1(a1)\n",
    "kmeanstest.save_question2(a2)\n",
    "kmeanstest.save_question3(a3)\n",
    "kmeanstest.save_question4(f1)\n",
    "kmeanstest.save_question5(a4)\n",
    "kmeanstest.save_question6(a5, f2)\n",
    "kmeanstest.save_question7(a6, a7)"
   ]
  },
  {
   "cell_type": "code",
   "execution_count": null,
   "metadata": {},
   "outputs": [],
   "source": []
  }
 ],
 "metadata": {
  "celltoolbar": "Edit Metadata",
  "kernelspec": {
   "display_name": "Python 3",
   "language": "python",
   "name": "python3"
  },
  "language_info": {
   "codemirror_mode": {
    "name": "ipython",
    "version": 3
   },
   "file_extension": ".py",
   "mimetype": "text/x-python",
   "name": "python",
   "nbconvert_exporter": "python",
   "pygments_lexer": "ipython3",
   "version": "3.8.8"
  }
 },
 "nbformat": 4,
 "nbformat_minor": 4
}

{
 "cells": [
  {
   "cell_type": "markdown",
   "metadata": {
    "colab_type": "text",
    "id": "7-UPUleq6gKu"
   },
   "source": [
    "## Instructions\n",
    "\n",
    "1. Follow the instructions in each of the cell\n",
    "\n",
    "2. Make sure not to delete any of the cells"
   ]
  },
  {
   "cell_type": "markdown",
   "metadata": {},
   "source": [
    "#### Run the below cell to install the required packages and download the required files"
   ]
  },
  {
   "cell_type": "code",
   "execution_count": 1,
   "metadata": {},
   "outputs": [
    {
     "name": "stderr",
     "output_type": "stream",
     "text": [
      "'wget' is not recognized as an internal or external command,\n",
      "operable program or batch file.\n"
     ]
    },
    {
     "name": "stdout",
     "output_type": "stream",
     "text": [
      "Collecting pytest==3.7.4\n",
      "  Downloading pytest-3.7.4-py2.py3-none-any.whl (204 kB)\n",
      "Requirement already satisfied: pluggy>=0.7 in c:\\users\\sudip\\anaconda3\\lib\\site-packages (from pytest==3.7.4) (0.13.1)\n",
      "Requirement already satisfied: py>=1.5.0 in c:\\users\\sudip\\anaconda3\\lib\\site-packages (from pytest==3.7.4) (1.10.0)\n",
      "Requirement already satisfied: atomicwrites>=1.0 in c:\\users\\sudip\\anaconda3\\lib\\site-packages (from pytest==3.7.4) (1.4.0)\n",
      "Requirement already satisfied: colorama in c:\\users\\sudip\\anaconda3\\lib\\site-packages (from pytest==3.7.4) (0.4.4)\n",
      "Requirement already satisfied: more-itertools>=4.0.0 in c:\\users\\sudip\\anaconda3\\lib\\site-packages (from pytest==3.7.4) (8.7.0)\n",
      "Requirement already satisfied: setuptools in c:\\users\\sudip\\anaconda3\\lib\\site-packages (from pytest==3.7.4) (52.0.0.post20210125)\n",
      "Requirement already satisfied: six>=1.10.0 in c:\\users\\sudip\\anaconda3\\lib\\site-packages (from pytest==3.7.4) (1.15.0)\n",
      "Requirement already satisfied: attrs>=17.4.0 in c:\\users\\sudip\\anaconda3\\lib\\site-packages (from pytest==3.7.4) (20.3.0)\n",
      "Installing collected packages: pytest\n",
      "  Attempting uninstall: pytest\n",
      "    Found existing installation: pytest 6.2.3\n",
      "    Uninstalling pytest-6.2.3:\n",
      "      Successfully uninstalled pytest-6.2.3\n",
      "Successfully installed pytest-3.7.4\n"
     ]
    }
   ],
   "source": [
    "!wget https://hr-projects-assets-prod.s3.amazonaws.com/8e385cep8ej/431e085cc20c393a6bb9aa41de9f5cb2/cleaned_data.csv\n",
    "!pip3 install pytest==3.7.4"
   ]
  },
  {
   "cell_type": "code",
   "execution_count": 3,
   "metadata": {
    "colab": {},
    "colab_type": "code",
    "id": "PG79Dfqj03vv"
   },
   "outputs": [],
   "source": [
    "#import statements\n",
    "import pandas as pd\n",
    "import numpy as np\n",
    "import matplotlib.pyplot as plt\n",
    "import seaborn as sns\n",
    "%matplotlib inline\n",
    "\n"
   ]
  },
  {
   "cell_type": "markdown",
   "metadata": {
    "colab_type": "text",
    "id": "Ho9BTTps6gLN"
   },
   "source": [
    "### Input Data\n",
    "\n",
    "Note : Dataset is\n",
    "\n",
    "(cleaned_data.csv)"
   ]
  },
  {
   "cell_type": "code",
   "execution_count": 132,
   "metadata": {
    "colab": {},
    "colab_type": "code",
    "id": "opwBg6eV6gLN"
   },
   "outputs": [
    {
     "data": {
      "text/plain": [
       "station               int64\n",
       "Date                 object\n",
       "Present_Tmax        float64\n",
       "Present_Tmin        float64\n",
       "LDAPS_RHmin         float64\n",
       "LDAPS_RHmax         float64\n",
       "LDAPS_Tmax_lapse    float64\n",
       "LDAPS_Tmin_lapse    float64\n",
       "LDAPS_WS            float64\n",
       "LDAPS_LH            float64\n",
       "LDAPS_CC1           float64\n",
       "LDAPS_CC2           float64\n",
       "LDAPS_CC3           float64\n",
       "LDAPS_CC4           float64\n",
       "LDAPS_PPT1          float64\n",
       "LDAPS_PPT2          float64\n",
       "LDAPS_PPT3          float64\n",
       "LDAPS_PPT4          float64\n",
       "lat                 float64\n",
       "lon                 float64\n",
       "DEM                 float64\n",
       "Slope               float64\n",
       "Solar_radiation     float64\n",
       "Next_Tmax           float64\n",
       "Next_Tmin           float64\n",
       "dtype: object"
      ]
     },
     "execution_count": 132,
     "metadata": {},
     "output_type": "execute_result"
    }
   ],
   "source": [
    "#Load the data\n",
    "df=pd.read_csv('cleaned_data.csv')\n",
    "df.dtypes"
   ]
  },
  {
   "cell_type": "markdown",
   "metadata": {
    "colab_type": "text",
    "id": "Ahx8KMAqmTQ2"
   },
   "source": [
    "## Q1: Draw a lineplot on the \"station\" and \"Solar_radiation\" (using seaborn)\n",
    "### \"station\" should be in the X-axis and \"Solar_radiation\" should be in Y-axis\n",
    "\n",
    "Note:\n",
    "### include ci=None\n",
    "#### xlabel,ylabel,x-ticks,y-ticks,title,legend must be present\n",
    "[Expected plot](expected/img1.png)"
   ]
  },
  {
   "cell_type": "code",
   "execution_count": 133,
   "metadata": {
    "colab": {},
    "colab_type": "code",
    "id": "uwnM_NUt1Vrm"
   },
   "outputs": [
    {
     "name": "stdout",
     "output_type": "stream",
     "text": [
      "Line Plot on 'station' Vs 'Solar_radiation' \n"
     ]
    }
   ],
   "source": [
    "print('''Line Plot on 'station' Vs 'Solar_radiation' ''' )"
   ]
  },
  {
   "cell_type": "code",
   "execution_count": null,
   "metadata": {
    "colab": {},
    "colab_type": "code",
    "id": "-acsn2Xy1VYl"
   },
   "outputs": [],
   "source": []
  },
  {
   "cell_type": "code",
   "execution_count": null,
   "metadata": {
    "colab": {},
    "colab_type": "code",
    "id": "FgNEVumJ1VBb"
   },
   "outputs": [],
   "source": []
  },
  {
   "cell_type": "code",
   "execution_count": null,
   "metadata": {},
   "outputs": [],
   "source": []
  },
  {
   "cell_type": "code",
   "execution_count": 134,
   "metadata": {
    "colab": {},
    "colab_type": "code",
    "id": "R6Qys1CuuB_b"
   },
   "outputs": [
    {
     "name": "stderr",
     "output_type": "stream",
     "text": [
      "C:\\Users\\Sudip\\Anaconda3\\lib\\site-packages\\seaborn\\_decorators.py:36: FutureWarning: Pass the following variables as keyword args: x, y. From version 0.12, the only valid positional argument will be `data`, and passing other arguments without an explicit keyword will result in an error or misinterpretation.\n",
      "  warnings.warn(\n",
      "<ipython-input-134-01118c5df255>:9: UserWarning: FixedFormatter should only be used together with FixedLocator\n",
      "  ax1.set_yticklabels([5480,5500,5520,5540,5560,5580,5600,5620,5640,5660,5680])\n"
     ]
    },
    {
     "data": {
      "image/png": "[encoded data removed]",
      "text/plain": [
       "<Figure size 720x576 with 1 Axes>"
      ]
     },
     "metadata": {
      "needs_background": "light"
     },
     "output_type": "display_data"
    }
   ],
   "source": [
    "fig1, ax1 = plt.subplots(figsize=(10,8))\n",
    "# write your code here\n",
    "ax1 = sns.lineplot(df.station,df.Solar_radiation,label='Solar_radiation',ci=None)\n",
    "xticks=[0,5,10,15,20,25]\n",
    "yticks = [5500,5520,5540,5560,5580,5600,5620,5640,5660]\n",
    "ax1.set(xlabel='station',ylabel='Solar_radiation',title='''Line Plot on 'station' Vs 'Solar_radiation' ''')\n",
    "ax1.set_xticks(xticks)\n",
    "#ax1.set_yticks(yticks)\n",
    "ax1.set_yticklabels([5480,5500,5520,5540,5560,5580,5600,5620,5640,5660,5680])\n",
    "\n",
    "ax1.legend(labels=['Solar_radiation'])\n",
    "\n",
    "\n",
    "q1=ax1"
   ]
  },
  {
   "cell_type": "code",
   "execution_count": 135,
   "metadata": {},
   "outputs": [
    {
     "name": "stdout",
     "output_type": "stream",
     "text": [
      "True\n",
      "([<matplotlib.lines.Line2D object at 0x000001C61E7A39A0>], ['Solar_radiation'])\n",
      "1\n"
     ]
    }
   ],
   "source": [
    "r = len(q1.get_title())\n",
    "s = len(q1.get_xlabel())\n",
    "x = len(q1.get_ylabel())\n",
    "y = len(q1.get_legend_handles_labels()[1])\n",
    "a = len(q1.get_xticks())\n",
    "b = len(q1.get_yticks())\n",
    "if r > 0 and s > 0 and x > 0 and y == 1 and a > 0 and b > 0:\n",
    "    print('True')\n",
    "    print(q1.get_legend_handles_labels())\n",
    "    print(len(q1.get_legend_handles_labels()[1]))\n",
    "else:\n",
    "    print(q1.get_legend_handles_labels())\n",
    "    print('False')\n",
    "    print(r)\n",
    "    print(s)\n",
    "    print(x)\n",
    "    print(y)\n",
    "    print(a)\n",
    "    print(b)"
   ]
  },
  {
   "cell_type": "code",
   "execution_count": null,
   "metadata": {},
   "outputs": [],
   "source": []
  },
  {
   "cell_type": "markdown",
   "metadata": {
    "colab_type": "text",
    "id": "mdJQPRK7XGpm"
   },
   "source": [
    "\n",
    "\n",
    "\n",
    "## Create a column named 'Month' with its values  extracting from the 'Date' column ."
   ]
  },
  {
   "cell_type": "code",
   "execution_count": 136,
   "metadata": {
    "colab": {},
    "colab_type": "code",
    "id": "M-cJ7WjKXGpn"
   },
   "outputs": [
    {
     "data": {
      "text/html": [
       "<div>\n",
       "<style scoped>\n",
       "    .dataframe tbody tr th:only-of-type {\n",
       "        vertical-align: middle;\n",
       "    }\n",
       "\n",
       "    .dataframe tbody tr th {\n",
       "        vertical-align: top;\n",
       "    }\n",
       "\n",
       "    .dataframe thead th {\n",
       "        text-align: right;\n",
       "    }\n",
       "</style>\n",
       "<table border=\"1\" class=\"dataframe\">\n",
       "  <thead>\n",
       "    <tr style=\"text-align: right;\">\n",
       "      <th></th>\n",
       "      <th>Date</th>\n",
       "      <th>Month</th>\n",
       "    </tr>\n",
       "  </thead>\n",
       "  <tbody>\n",
       "    <tr>\n",
       "      <th>0</th>\n",
       "      <td>2013-06-30</td>\n",
       "      <td>6</td>\n",
       "    </tr>\n",
       "    <tr>\n",
       "      <th>1</th>\n",
       "      <td>2013-06-30</td>\n",
       "      <td>6</td>\n",
       "    </tr>\n",
       "    <tr>\n",
       "      <th>2</th>\n",
       "      <td>2013-06-30</td>\n",
       "      <td>6</td>\n",
       "    </tr>\n",
       "    <tr>\n",
       "      <th>3</th>\n",
       "      <td>2013-06-30</td>\n",
       "      <td>6</td>\n",
       "    </tr>\n",
       "    <tr>\n",
       "      <th>4</th>\n",
       "      <td>2013-06-30</td>\n",
       "      <td>6</td>\n",
       "    </tr>\n",
       "    <tr>\n",
       "      <th>...</th>\n",
       "      <td>...</td>\n",
       "      <td>...</td>\n",
       "    </tr>\n",
       "    <tr>\n",
       "      <th>1195</th>\n",
       "      <td>2013-08-16</td>\n",
       "      <td>8</td>\n",
       "    </tr>\n",
       "    <tr>\n",
       "      <th>1196</th>\n",
       "      <td>2013-08-16</td>\n",
       "      <td>8</td>\n",
       "    </tr>\n",
       "    <tr>\n",
       "      <th>1197</th>\n",
       "      <td>2013-08-16</td>\n",
       "      <td>8</td>\n",
       "    </tr>\n",
       "    <tr>\n",
       "      <th>1198</th>\n",
       "      <td>2013-08-16</td>\n",
       "      <td>8</td>\n",
       "    </tr>\n",
       "    <tr>\n",
       "      <th>1199</th>\n",
       "      <td>2013-08-16</td>\n",
       "      <td>8</td>\n",
       "    </tr>\n",
       "  </tbody>\n",
       "</table>\n",
       "<p>1200 rows × 2 columns</p>\n",
       "</div>"
      ],
      "text/plain": [
       "           Date  Month\n",
       "0    2013-06-30      6\n",
       "1    2013-06-30      6\n",
       "2    2013-06-30      6\n",
       "3    2013-06-30      6\n",
       "4    2013-06-30      6\n",
       "...         ...    ...\n",
       "1195 2013-08-16      8\n",
       "1196 2013-08-16      8\n",
       "1197 2013-08-16      8\n",
       "1198 2013-08-16      8\n",
       "1199 2013-08-16      8\n",
       "\n",
       "[1200 rows x 2 columns]"
      ]
     },
     "execution_count": 136,
     "metadata": {},
     "output_type": "execute_result"
    }
   ],
   "source": [
    "from datetime import datetime\n",
    "#a='30/06/2013'\n",
    "#a[3:5]\n",
    "##df['Month'] = df.Date.str[3:5]\n",
    "df.Date  =pd.to_datetime(df['Date'])\n",
    "df['Month'] = df.Date.dt.month\n",
    "df[['Date','Month']]"
   ]
  },
  {
   "cell_type": "code",
   "execution_count": 137,
   "metadata": {
    "colab": {},
    "colab_type": "code",
    "id": "565LaNkqXGpy"
   },
   "outputs": [
    {
     "data": {
      "text/plain": [
       "station                      int64\n",
       "Date                datetime64[ns]\n",
       "Present_Tmax               float64\n",
       "Present_Tmin               float64\n",
       "LDAPS_RHmin                float64\n",
       "LDAPS_RHmax                float64\n",
       "LDAPS_Tmax_lapse           float64\n",
       "LDAPS_Tmin_lapse           float64\n",
       "LDAPS_WS                   float64\n",
       "LDAPS_LH                   float64\n",
       "LDAPS_CC1                  float64\n",
       "LDAPS_CC2                  float64\n",
       "LDAPS_CC3                  float64\n",
       "LDAPS_CC4                  float64\n",
       "LDAPS_PPT1                 float64\n",
       "LDAPS_PPT2                 float64\n",
       "LDAPS_PPT3                 float64\n",
       "LDAPS_PPT4                 float64\n",
       "lat                        float64\n",
       "lon                        float64\n",
       "DEM                        float64\n",
       "Slope                      float64\n",
       "Solar_radiation            float64\n",
       "Next_Tmax                  float64\n",
       "Next_Tmin                  float64\n",
       "Month                        int64\n",
       "dtype: object"
      ]
     },
     "execution_count": 137,
     "metadata": {},
     "output_type": "execute_result"
    }
   ],
   "source": [
    "df.dtypes"
   ]
  },
  {
   "cell_type": "markdown",
   "metadata": {
    "colab_type": "text",
    "id": "wLbu0J2NCcoQ"
   },
   "source": [
    "## Q2: Draw a Pointplot on the \"Month\" and \"Present_Tmax\" (using seaborn)\n",
    "\n",
    "### \"Month\" should be in the X-axis and \"Present_Tmax\" should be in Y-axis .\n",
    "\n",
    "Note:\n",
    "### include ci=None\n",
    "#### xlabel,ylabel,x-ticks,y-ticks,title must be present\n",
    "\n",
    "[Expected plot](expected/img2.png)"
   ]
  },
  {
   "cell_type": "code",
   "execution_count": null,
   "metadata": {
    "colab": {},
    "colab_type": "code",
    "id": "5QFJuBl61pPu"
   },
   "outputs": [],
   "source": []
  },
  {
   "cell_type": "code",
   "execution_count": null,
   "metadata": {
    "colab": {},
    "colab_type": "code",
    "id": "pi1N_M161pj6"
   },
   "outputs": [],
   "source": []
  },
  {
   "cell_type": "code",
   "execution_count": null,
   "metadata": {
    "colab": {},
    "colab_type": "code",
    "id": "u01uGLhh1rca"
   },
   "outputs": [],
   "source": []
  },
  {
   "cell_type": "code",
   "execution_count": 138,
   "metadata": {
    "colab": {},
    "colab_type": "code",
    "id": "z1w-tVhQtsn1"
   },
   "outputs": [
    {
     "name": "stderr",
     "output_type": "stream",
     "text": [
      "C:\\Users\\Sudip\\Anaconda3\\lib\\site-packages\\seaborn\\_decorators.py:36: FutureWarning: Pass the following variables as keyword args: x, y. From version 0.12, the only valid positional argument will be `data`, and passing other arguments without an explicit keyword will result in an error or misinterpretation.\n",
      "  warnings.warn(\n"
     ]
    },
    {
     "data": {
      "image/png": "[encoded data removed]",
      "text/plain": [
       "<Figure size 720x576 with 1 Axes>"
      ]
     },
     "metadata": {
      "needs_background": "light"
     },
     "output_type": "display_data"
    }
   ],
   "source": [
    "fig2, ax2 = plt.subplots(figsize=(10,8))\n",
    "# write your code here\n",
    "ax2 = sns.pointplot(df.Month,df.Present_Tmax,ci=None)\n",
    "ax2.set(xlabel='Month',ylabel='Present_Tmax',title='''Point Plot on 'Month' Vs 'Present_Tmax' ''')\n",
    "#ax2.set_xticks([6,7,8])\n",
    "ax2.set_yticks([28.5,29.0,29.5,30.0,30.5,31.0,31.5])\n",
    "#ax2.set_xticklabels([6,7,8])\n",
    "q2=ax2"
   ]
  },
  {
   "cell_type": "markdown",
   "metadata": {
    "colab_type": "text",
    "id": "8BP61gVEXGqV"
   },
   "source": [
    "## Create a column named 'Day_No_of_Week' ,then  extract day of the week from the 'Date' column .\n",
    "### And include them in the 'Day_No_of_Week' column\n",
    "### 0 - 6 must be Monday - Sunday"
   ]
  },
  {
   "cell_type": "code",
   "execution_count": null,
   "metadata": {
    "colab": {},
    "colab_type": "code",
    "id": "OpzrLglvXGqW"
   },
   "outputs": [],
   "source": []
  },
  {
   "cell_type": "code",
   "execution_count": 139,
   "metadata": {},
   "outputs": [
    {
     "data": {
      "text/plain": [
       "0       6\n",
       "1       6\n",
       "2       6\n",
       "3       6\n",
       "4       6\n",
       "       ..\n",
       "1195    8\n",
       "1196    8\n",
       "1197    8\n",
       "1198    8\n",
       "1199    8\n",
       "Name: Date, Length: 1200, dtype: int64"
      ]
     },
     "execution_count": 139,
     "metadata": {},
     "output_type": "execute_result"
    }
   ],
   "source": [
    "df.Date.dt.month"
   ]
  },
  {
   "cell_type": "markdown",
   "metadata": {
    "colab_type": "text",
    "id": "OaT128iIYMpe"
   },
   "source": [
    "## Q3: Draw a Box Plot on the \"Day_No_of_Week\" , \"Present_Tmax\" and \"Month\" (using seaborn)\n",
    "\n",
    "### \"Day_No_of_Week\" should be in the X-axis , \"Present_Tmax\" should be in Y-axis and hue should be \"Month\".\n",
    "\n",
    "Note:\n",
    "#### xlabel,ylabel,title,xticks,yticks,legend must be present\n",
    "\n",
    "[Expected plot](expected/img3.png)"
   ]
  },
  {
   "cell_type": "code",
   "execution_count": 140,
   "metadata": {
    "colab": {},
    "colab_type": "code",
    "id": "j7fJKnN_2piF"
   },
   "outputs": [],
   "source": [
    "df['Day_No_of_Week'] = df.Date.dt.dayofweek"
   ]
  },
  {
   "cell_type": "code",
   "execution_count": 141,
   "metadata": {
    "colab": {},
    "colab_type": "code",
    "id": "nEvuNEin2qB0"
   },
   "outputs": [
    {
     "data": {
      "text/plain": [
       "Series([], Name: Month, dtype: int64)"
      ]
     },
     "execution_count": 141,
     "metadata": {},
     "output_type": "execute_result"
    }
   ],
   "source": [
    "#df.dtypes\n",
    "df[df.Month.isin(['06','07','08'])].Month"
   ]
  },
  {
   "cell_type": "code",
   "execution_count": null,
   "metadata": {
    "colab": {},
    "colab_type": "code",
    "id": "ZF01mS8O2wjE"
   },
   "outputs": [],
   "source": []
  },
  {
   "cell_type": "code",
   "execution_count": 189,
   "metadata": {
    "colab": {},
    "colab_type": "code",
    "id": "baE1uyRmtL_Z"
   },
   "outputs": [
    {
     "name": "stderr",
     "output_type": "stream",
     "text": [
      "C:\\Users\\Sudip\\Anaconda3\\lib\\site-packages\\seaborn\\_decorators.py:36: FutureWarning: Pass the following variables as keyword args: x, y. From version 0.12, the only valid positional argument will be `data`, and passing other arguments without an explicit keyword will result in an error or misinterpretation.\n",
      "  warnings.warn(\n"
     ]
    },
    {
     "data": {
      "image/png": "[encoded data removed]",
      "text/plain": [
       "<Figure size 720x576 with 1 Axes>"
      ]
     },
     "metadata": {
      "needs_background": "light"
     },
     "output_type": "display_data"
    }
   ],
   "source": [
    "fig3, ax3 = plt.subplots(figsize=(10,8))\n",
    "df4 = hue=df[df.Month.isin(['06','07','08'])]\n",
    "\n",
    "# write your code here\n",
    "ax3 = sns.boxplot(df.Day_No_of_Week,df.Present_Tmax,hue=df.Month)\n",
    "ax3.set_xlabel('Day_No_of_Week')\n",
    "ax3.set_ylabel('Present_Tmax')\n",
    "ax3.set_title('''Box-Plot on 'Present_Tmax' of each 'Day' across 'Month' ''')\n",
    "ax3.set_xticks([0,1,2,3,4,5,6])\n",
    "ax3.set_yticks([22,24,26,28,30,32,34,36])\n",
    "ax3.legend()\n",
    "#obj1=\n",
    "\n",
    "\n",
    "q3=ax3\n"
   ]
  },
  {
   "cell_type": "markdown",
   "metadata": {
    "colab_type": "text",
    "id": "_NP8n-L8h18r"
   },
   "source": [
    "## Q4: Draw a residplot on the \"Present_Tmax\" and \"Next_Tmax\" (using seaborn)\n",
    "\n",
    "### \"Present_Tmax\" should be in the X-axis and \"Next_Tmax\" should be in Y-axis .\n",
    "\n",
    "Note:\n",
    "### include lowess=True\n",
    "#### xlabel,ylabel,x-ticks,yticks,title,legend must be present\n",
    "\n",
    "\n",
    "[Expected plot](expected/img4.png)\n"
   ]
  },
  {
   "cell_type": "code",
   "execution_count": 143,
   "metadata": {
    "colab": {},
    "colab_type": "code",
    "id": "3eZ2fjkmsBFE"
   },
   "outputs": [
    {
     "name": "stdout",
     "output_type": "stream",
     "text": [
      "True\n"
     ]
    }
   ],
   "source": [
    "r = len(q4.get_title())\n",
    "s = len(q4.get_xlabel())\n",
    "x = len(q4.get_ylabel())\n",
    "y = len(q4.get_legend_handles_labels()[1])\n",
    "a = len(q4.get_xticks())\n",
    "b = len(q4.get_yticks())\n",
    "if r > 0 and s > 0 and x > 0 and y > 0 and a > 0 and b > 0:\n",
    "    print('True')\n",
    "else:\n",
    "    print(q4.get_legend_handles_labels())\n",
    "    print('False')\n",
    "    print(r)\n",
    "    print(s)\n",
    "    print(x)\n",
    "    print(y)\n",
    "    print(a)\n",
    "    print(b)"
   ]
  },
  {
   "cell_type": "code",
   "execution_count": null,
   "metadata": {
    "colab": {},
    "colab_type": "code",
    "id": "j-VTS9Vp27Lp"
   },
   "outputs": [],
   "source": []
  },
  {
   "cell_type": "code",
   "execution_count": null,
   "metadata": {
    "colab": {},
    "colab_type": "code",
    "id": "TahptU-W26Rt"
   },
   "outputs": [],
   "source": []
  },
  {
   "cell_type": "code",
   "execution_count": 190,
   "metadata": {
    "colab": {},
    "colab_type": "code",
    "id": "T2oQ7wF5282G"
   },
   "outputs": [
    {
     "name": "stderr",
     "output_type": "stream",
     "text": [
      "C:\\Users\\Sudip\\Anaconda3\\lib\\site-packages\\seaborn\\_decorators.py:36: FutureWarning: Pass the following variables as keyword args: x, y. From version 0.12, the only valid positional argument will be `data`, and passing other arguments without an explicit keyword will result in an error or misinterpretation.\n",
      "  warnings.warn(\n"
     ]
    },
    {
     "data": {
      "image/png": "[encoded data removed]",
      "text/plain": [
       "<Figure size 720x576 with 1 Axes>"
      ]
     },
     "metadata": {
      "needs_background": "light"
     },
     "output_type": "display_data"
    }
   ],
   "source": [
    "fig4, ax4 = plt.subplots(figsize=(10,8))\n",
    "# write your code here\n",
    "\n",
    "ax4 = sns.residplot(df.Present_Tmax,df.Next_Tmax,lowess=True,label='Data Points')\n",
    "ax4.set_xlabel('Present_Tmax')\n",
    "ax4.set_ylabel('Next_Tmax')\n",
    "ax4.set_title('''Resid-Plot on 'Present_Tmax' Vs 'Next_Tmax' ''')\n",
    "ax4.set_xticks([24,26,28,30,32,34])\n",
    "#ax4.set_xticks(df.Present_Tmax)\n",
    "ax4.set_yticks([-6,-4,-2,0,2,4,6])\n",
    "ax4.set_xlim(22.4, 35.5) \n",
    "ax4.legend()\n",
    "\n",
    "q4=ax4"
   ]
  },
  {
   "cell_type": "markdown",
   "metadata": {
    "colab_type": "text",
    "id": "ITjTSvBVisUV"
   },
   "source": [
    "## Q5: Draw a Heatmap with (Order from the Left) --> [Maximum,Median,Minimum] of 'Present_Tmax' in the X-axis and various 'Month' values in the Y-axis (in Ascending order from the Top) (using seaborn)\n",
    "\n",
    "Note:\n",
    "#### xlabel,ylabel,title must be present\n",
    "\n",
    "#### Each values should be mentioned in the cells of the HeatMap (Rounded off to a single decimal place)\n",
    "[Expected plot](expected/img5.png)"
   ]
  },
  {
   "cell_type": "code",
   "execution_count": 145,
   "metadata": {
    "colab": {},
    "colab_type": "code",
    "id": "3z8bHncbsLPa"
   },
   "outputs": [],
   "source": [
    "df5=df[df['Month'].isin(['1','02','03'])]"
   ]
  },
  {
   "cell_type": "code",
   "execution_count": 146,
   "metadata": {},
   "outputs": [
    {
     "data": {
      "text/plain": [
       "nan"
      ]
     },
     "execution_count": 146,
     "metadata": {},
     "output_type": "execute_result"
    }
   ],
   "source": [
    "df[df['Month'].isin([1,2,3])].Present_Tmax.mean()"
   ]
  },
  {
   "cell_type": "code",
   "execution_count": 147,
   "metadata": {
    "colab": {},
    "colab_type": "code",
    "id": "A8eftWmAsK7L"
   },
   "outputs": [
    {
     "data": {
      "text/html": [
       "<div>\n",
       "<style scoped>\n",
       "    .dataframe tbody tr th:only-of-type {\n",
       "        vertical-align: middle;\n",
       "    }\n",
       "\n",
       "    .dataframe tbody tr th {\n",
       "        vertical-align: top;\n",
       "    }\n",
       "\n",
       "    .dataframe thead th {\n",
       "        text-align: right;\n",
       "    }\n",
       "</style>\n",
       "<table border=\"1\" class=\"dataframe\">\n",
       "  <thead>\n",
       "    <tr style=\"text-align: right;\">\n",
       "      <th></th>\n",
       "      <th>Maximum</th>\n",
       "      <th>Median</th>\n",
       "      <th>Median</th>\n",
       "    </tr>\n",
       "  </thead>\n",
       "  <tbody>\n",
       "    <tr>\n",
       "      <th>0</th>\n",
       "      <td>NaN</td>\n",
       "      <td>NaN</td>\n",
       "      <td>NaN</td>\n",
       "    </tr>\n",
       "    <tr>\n",
       "      <th>1</th>\n",
       "      <td>NaN</td>\n",
       "      <td>NaN</td>\n",
       "      <td>NaN</td>\n",
       "    </tr>\n",
       "    <tr>\n",
       "      <th>2</th>\n",
       "      <td>NaN</td>\n",
       "      <td>NaN</td>\n",
       "      <td>NaN</td>\n",
       "    </tr>\n",
       "  </tbody>\n",
       "</table>\n",
       "</div>"
      ],
      "text/plain": [
       "   Maximum  Median  Median\n",
       "0      NaN     NaN     NaN\n",
       "1      NaN     NaN     NaN\n",
       "2      NaN     NaN     NaN"
      ]
     },
     "execution_count": 147,
     "metadata": {},
     "output_type": "execute_result"
    }
   ],
   "source": [
    "data = [[df[df['Month'].isin(['01'])].Present_Tmax.max(),round(df[df['Month'].isin(['01'])].Present_Tmax.median(),1),\n",
    "       df[df['Month'].isin(['01'])].Present_Tmax.min()],\n",
    "       [df[df['Month'].isin(['02'])].Present_Tmax.max(),round(df[df['Month'].isin(['02'])].Present_Tmax.median(),1),\n",
    "       df[df['Month'].isin(['02'])].Present_Tmax.min()],\n",
    "       [df[df['Month'].isin(['03'])].Present_Tmax.max(),round(df[df['Month'].isin(['03'])].Present_Tmax.median(),1),\n",
    "       df[df['Month'].isin(['03'])].Present_Tmax.min()],\n",
    "    \n",
    "]\n",
    "#print(data)\n",
    "df6=pd.DataFrame(data,columns=['Maximum','Median','Median'])\n",
    "df6"
   ]
  },
  {
   "cell_type": "code",
   "execution_count": 148,
   "metadata": {},
   "outputs": [
    {
     "data": {
      "text/plain": [
       "[Month\n",
       " 6    32.8\n",
       " 7    33.5\n",
       " 8    35.5\n",
       " Name: Present_Tmax, dtype: float64]"
      ]
     },
     "execution_count": 148,
     "metadata": {},
     "output_type": "execute_result"
    }
   ],
   "source": [
    "[df.groupby(by='Month').Present_Tmax.max()]"
   ]
  },
  {
   "cell_type": "code",
   "execution_count": 162,
   "metadata": {
    "colab": {},
    "colab_type": "code",
    "id": "m1lYcGkZsKjJ"
   },
   "outputs": [
    {
     "name": "stdout",
     "output_type": "stream",
     "text": [
      "{'Maximum': [32.8, 33.5, 35.5], 'Median': [31.7, 28.5, 31.9], 'Minimum': [28.7, 22.4, 24.8]}\n"
     ]
    },
    {
     "data": {
      "text/html": [
       "<div>\n",
       "<style scoped>\n",
       "    .dataframe tbody tr th:only-of-type {\n",
       "        vertical-align: middle;\n",
       "    }\n",
       "\n",
       "    .dataframe tbody tr th {\n",
       "        vertical-align: top;\n",
       "    }\n",
       "\n",
       "    .dataframe thead th {\n",
       "        text-align: right;\n",
       "    }\n",
       "</style>\n",
       "<table border=\"1\" class=\"dataframe\">\n",
       "  <thead>\n",
       "    <tr style=\"text-align: right;\">\n",
       "      <th></th>\n",
       "      <th>Maximum</th>\n",
       "      <th>Median</th>\n",
       "      <th>Minimum</th>\n",
       "    </tr>\n",
       "  </thead>\n",
       "  <tbody>\n",
       "    <tr>\n",
       "      <th>0</th>\n",
       "      <td>32.8</td>\n",
       "      <td>31.7</td>\n",
       "      <td>28.7</td>\n",
       "    </tr>\n",
       "    <tr>\n",
       "      <th>1</th>\n",
       "      <td>33.5</td>\n",
       "      <td>28.5</td>\n",
       "      <td>22.4</td>\n",
       "    </tr>\n",
       "    <tr>\n",
       "      <th>2</th>\n",
       "      <td>35.5</td>\n",
       "      <td>31.9</td>\n",
       "      <td>24.8</td>\n",
       "    </tr>\n",
       "  </tbody>\n",
       "</table>\n",
       "</div>"
      ],
      "text/plain": [
       "   Maximum  Median  Minimum\n",
       "0     32.8    31.7     28.7\n",
       "1     33.5    28.5     22.4\n",
       "2     35.5    31.9     24.8"
      ]
     },
     "execution_count": 162,
     "metadata": {},
     "output_type": "execute_result"
    }
   ],
   "source": [
    "data = {'Maximum':df.groupby(by='Month').Present_Tmax.max().tolist(),\n",
    "        'Median':df.groupby(by='Month').Present_Tmax.median().tolist(),\n",
    "        'Minimum':df.groupby(by='Month').Present_Tmax.min().tolist() }\n",
    "print(data)\n",
    "df6=pd.DataFrame(data)\n",
    "df6"
   ]
  },
  {
   "cell_type": "code",
   "execution_count": 163,
   "metadata": {},
   "outputs": [
    {
     "data": {
      "text/html": [
       "<div>\n",
       "<style scoped>\n",
       "    .dataframe tbody tr th:only-of-type {\n",
       "        vertical-align: middle;\n",
       "    }\n",
       "\n",
       "    .dataframe tbody tr th {\n",
       "        vertical-align: top;\n",
       "    }\n",
       "\n",
       "    .dataframe thead th {\n",
       "        text-align: right;\n",
       "    }\n",
       "</style>\n",
       "<table border=\"1\" class=\"dataframe\">\n",
       "  <thead>\n",
       "    <tr style=\"text-align: right;\">\n",
       "      <th></th>\n",
       "      <th>Name</th>\n",
       "      <th>Age</th>\n",
       "    </tr>\n",
       "  </thead>\n",
       "  <tbody>\n",
       "    <tr>\n",
       "      <th>0</th>\n",
       "      <td>Tom</td>\n",
       "      <td>20</td>\n",
       "    </tr>\n",
       "    <tr>\n",
       "      <th>1</th>\n",
       "      <td>nick</td>\n",
       "      <td>21</td>\n",
       "    </tr>\n",
       "    <tr>\n",
       "      <th>2</th>\n",
       "      <td>krish</td>\n",
       "      <td>19</td>\n",
       "    </tr>\n",
       "    <tr>\n",
       "      <th>3</th>\n",
       "      <td>jack</td>\n",
       "      <td>18</td>\n",
       "    </tr>\n",
       "  </tbody>\n",
       "</table>\n",
       "</div>"
      ],
      "text/plain": [
       "    Name  Age\n",
       "0    Tom   20\n",
       "1   nick   21\n",
       "2  krish   19\n",
       "3   jack   18"
      ]
     },
     "execution_count": 163,
     "metadata": {},
     "output_type": "execute_result"
    }
   ],
   "source": [
    "# initialise data of lists.\n",
    "data = {'Name':['Tom', 'nick', 'krish', 'jack'],\n",
    "        'Age':[20, 21, 19, 18]}\n",
    " \n",
    "# Create DataFrame\n",
    "df1 = pd.DataFrame(data)\n",
    " \n",
    "# Print the output.\n",
    "df1"
   ]
  },
  {
   "cell_type": "code",
   "execution_count": 192,
   "metadata": {
    "colab": {},
    "colab_type": "code",
    "id": "uyfJacMtsKb7"
   },
   "outputs": [
    {
     "data": {
      "image/png": "[encoded data removed]",
      "text/plain": [
       "<Figure size 1008x576 with 2 Axes>"
      ]
     },
     "metadata": {
      "needs_background": "light"
     },
     "output_type": "display_data"
    }
   ],
   "source": [
    "fig5, ax5 = plt.subplots(figsize=(14,8))\n",
    "# write your code here\n",
    "ax5=sns.heatmap(df6,annot=True,fmt='.1f')\n",
    "ax5.set_xlabel(''' 'Present_Tmax' Values''')\n",
    "ax5.set_ylabel('Months')\n",
    "ax5.set_title('''Heatmap of 'Present_Tmax' Values over Month''')\n",
    "cbar = ax5.collections[0].colorbar\n",
    "cbar.set_ticks([24,26,28,30,32,34])\n",
    "q5=ax5"
   ]
  },
  {
   "cell_type": "markdown",
   "metadata": {
    "colab_type": "text",
    "id": "6FpKCuN8XfDQ"
   },
   "source": [
    "## make sure you run the below cell to validate\n",
    "### Do not delete any cell"
   ]
  },
  {
   "cell_type": "code",
   "execution_count": 56,
   "metadata": {
    "colab": {},
    "colab_type": "code",
    "id": "th5wfASDXfDS"
   },
   "outputs": [],
   "source": [
    "import pickle\n",
    "import hashlib\n",
    "def make_pickle1(file_name, obj):\n",
    "    with open(file_name, 'wb') as f:\n",
    "        pickle.dump(obj, f, pickle.HIGHEST_PROTOCOL)\n",
    "def get_pickle(file_name):\n",
    "    with open(file_name, 'rb') as f:\n",
    "        return pickle.load(f)\n",
    "def make_pickle2(file_name, obj):\n",
    "    with open(file_name, 'wb') as f:\n",
    "        pickle.dump(geth(obj), f, pickle.HIGHEST_PROTOCOL)\n",
    "def geth(obj):\n",
    "    obj = str(obj).encode()\n",
    "    m = hashlib.md5()\n",
    "    m.update( bytes(obj) )\n",
    "    return m.hexdigest()\n",
    "def pickling():\n",
    "    make_pickle1('q1.pickle', q1)\n",
    "    make_pickle1('q2.pickle', q2)\n",
    "    make_pickle1('q3.pickle', q3)\n",
    "    make_pickle1('q4.pickle', q4)\n",
    "    make_pickle1('q5.pickle', q5)\n",
    "\n",
    "    \n",
    "pickling()\n",
    "\n",
    "\n"
   ]
  },
  {
   "cell_type": "markdown",
   "metadata": {
    "colab": {},
    "colab_type": "code",
    "id": "9wpd1vZSXfDd"
   },
   "source": [
    "### Run  the below cell to run preliminary tests"
   ]
  },
  {
   "cell_type": "code",
   "execution_count": 57,
   "metadata": {},
   "outputs": [
    {
     "name": "stdout",
     "output_type": "stream",
     "text": [
      "============================= test session starts =============================\n",
      "platform win32 -- Python 3.8.8, pytest-3.7.4, py-1.10.0, pluggy-0.13.1\n",
      "rootdir: C:\\Users\\Sudip\\Sudip_ML\\DataScienceE2\\Sprint1_Assessment, inifile:\n",
      "plugins: anyio-2.2.0\n",
      "collected 5 items\n",
      "\n",
      "tests\\test_3.py .....                                                    [100%]\n",
      "\n",
      "========================== 5 passed in 0.52 seconds ===========================\n"
     ]
    }
   ],
   "source": [
    "!py.test tests/test_3.py"
   ]
  },
  {
   "cell_type": "code",
   "execution_count": null,
   "metadata": {},
   "outputs": [],
   "source": []
  },
  {
   "cell_type": "code",
   "execution_count": null,
   "metadata": {},
   "outputs": [],
   "source": []
  }
 ],
 "metadata": {
  "colab": {
   "collapsed_sections": [],
   "name": "Question.ipynb",
   "provenance": []
  },
  "kernelspec": {
   "display_name": "Python 3",
   "language": "python",
   "name": "python3"
  },
  "language_info": {
   "codemirror_mode": {
    "name": "ipython",
    "version": 3
   },
   "file_extension": ".py",
   "mimetype": "text/x-python",
   "name": "python",
   "nbconvert_exporter": "python",
   "pygments_lexer": "ipython3",
   "version": "3.8.8"
  }
 },
 "nbformat": 4,
 "nbformat_minor": 4
}

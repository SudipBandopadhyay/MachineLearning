{
 "cells": [
  {
   "cell_type": "markdown",
   "metadata": {
    "colab_type": "text",
    "id": "C3nhkp0rXlH9"
   },
   "source": [
    "## Instructions\n",
    "\n",
    "1. Follow the instructions in each of the cell\n",
    "\n",
    "2. Make sure not to delete any of the cells"
   ]
  },
  {
   "cell_type": "markdown",
   "metadata": {},
   "source": [
    "#### Run the below cell to install the required packages and download the required files"
   ]
  },
  {
   "cell_type": "code",
   "execution_count": 1,
   "metadata": {},
   "outputs": [
    {
     "name": "stdout",
     "output_type": "stream",
     "text": [
      "--2021-09-03 15:27:15--  https://hr-projects-assets-prod.s3.amazonaws.com/7ci8p93b6bl/c2e87ab672c358f5a889ab5b8c6b4359/uncleaned_data.csv\n",
      "Resolving hr-projects-assets-prod.s3.amazonaws.com (hr-projects-assets-prod.s3.amazonaws.com)... 52.216.112.179\n",
      "Connecting to hr-projects-assets-prod.s3.amazonaws.com (hr-projects-assets-prod.s3.amazonaws.com)|52.216.112.179|:443... connected.\n",
      "HTTP request sent, awaiting response... 200 OK\n",
      "Length: 249134 (243K) [binary/octet-stream]\n",
      "Saving to: ‘uncleaned_data.csv’\n",
      "\n",
      "uncleaned_data.csv  100%[===================>] 243.29K   293KB/s    in 0.8s    \n",
      "\n",
      "2021-09-03 15:27:17 (293 KB/s) - ‘uncleaned_data.csv’ saved [249134/249134]\n",
      "\n",
      "Collecting pytest==3.7.4\n",
      "  Downloading pytest-3.7.4-py2.py3-none-any.whl (204 kB)\n",
      "\u001b[K     |████████████████████████████████| 204 kB 2.1 MB/s eta 0:00:01\n",
      "\u001b[?25hCollecting atomicwrites>=1.0\n",
      "  Downloading atomicwrites-1.4.0-py2.py3-none-any.whl (6.8 kB)\n",
      "Collecting more-itertools>=4.0.0\n",
      "  Downloading more_itertools-8.9.0-py3-none-any.whl (51 kB)\n",
      "\u001b[K     |████████████████████████████████| 51 kB 330 kB/s  eta 0:00:01\n",
      "\u001b[?25hCollecting py>=1.5.0\n",
      "  Downloading py-1.10.0-py2.py3-none-any.whl (97 kB)\n",
      "\u001b[K     |████████████████████████████████| 97 kB 6.2 MB/s  eta 0:00:01\n",
      "\u001b[?25hCollecting pluggy>=0.7\n",
      "  Downloading pluggy-1.0.0-py2.py3-none-any.whl (13 kB)\n",
      "Requirement already satisfied: attrs>=17.4.0 in /opt/conda/lib/python3.7/site-packages (from pytest==3.7.4) (20.2.0)\n",
      "Requirement already satisfied: setuptools in /opt/conda/lib/python3.7/site-packages (from pytest==3.7.4) (49.6.0.post20201009)\n",
      "Requirement already satisfied: six>=1.10.0 in /opt/conda/lib/python3.7/site-packages (from pytest==3.7.4) (1.15.0)\n",
      "Requirement already satisfied: importlib-metadata>=0.12; python_version < \"3.8\" in /opt/conda/lib/python3.7/site-packages (from pluggy>=0.7->pytest==3.7.4) (2.0.0)\n",
      "Requirement already satisfied: zipp>=0.5 in /opt/conda/lib/python3.7/site-packages (from importlib-metadata>=0.12; python_version < \"3.8\"->pluggy>=0.7->pytest==3.7.4) (3.4.0)\n",
      "Installing collected packages: atomicwrites, more-itertools, py, pluggy, pytest\n",
      "Successfully installed atomicwrites-1.4.0 more-itertools-8.9.0 pluggy-1.0.0 py-1.10.0 pytest-3.7.4\n"
     ]
    }
   ],
   "source": [
    "!wget https://hr-projects-assets-prod.s3.amazonaws.com/7ci8p93b6bl/c2e87ab672c358f5a889ab5b8c6b4359/uncleaned_data.csv\n",
    "!pip3 install pytest==3.7.4"
   ]
  },
  {
   "cell_type": "code",
   "execution_count": 38,
   "metadata": {
    "colab": {},
    "colab_type": "code",
    "id": "28qmPJ4WXlIF"
   },
   "outputs": [],
   "source": [
    "#import statements\n",
    "import pandas as pd\n",
    "import numpy as np\n",
    "from datetime import datetime\n"
   ]
  },
  {
   "cell_type": "markdown",
   "metadata": {
    "colab_type": "text",
    "id": "HeEeJ93ZXlI4"
   },
   "source": [
    "### Input Data\n",
    "\n",
    "Note : Dataset is\n",
    "\n",
    "(uncleaned_data.csv)"
   ]
  },
  {
   "cell_type": "code",
   "execution_count": 229,
   "metadata": {
    "colab": {},
    "colab_type": "code",
    "id": "I8hj9zRyXlJH"
   },
   "outputs": [
    {
     "data": {
      "text/plain": [
       "Index(['station', 'Date', 'Present_Tmax', 'Present_Tmin', 'LDAPS_RHmin',\n",
       "       'LDAPS_RHmax', 'LDAPS_Tmax_lapse', 'LDAPS_Tmin_lapse', 'LDAPS_WS',\n",
       "       'LDAPS_LH', 'LDAPS_CC1', 'LDAPS_CC2', 'LDAPS_CC3', 'LDAPS_CC4',\n",
       "       'LDAPS_PPT1', 'LDAPS_PPT2', 'LDAPS_PPT3', 'LDAPS_PPT4', 'lat', 'lon',\n",
       "       'DEM', 'Slope', 'Solar radiation', 'Next_Tmax', 'Next_Tmin'],\n",
       "      dtype='object')"
      ]
     },
     "execution_count": 229,
     "metadata": {},
     "output_type": "execute_result"
    }
   ],
   "source": [
    "#Load the data\n",
    "df=pd.read_csv('uncleaned_data.csv')\n",
    "\n",
    "df.columns"
   ]
  },
  {
   "cell_type": "markdown",
   "metadata": {
    "colab_type": "text",
    "id": "j-wEN2h1xrn2"
   },
   "source": [
    "### Replace the NULL values present in the columns \"Next_Tmax\" and \"Next_Tmin\" with \"MODE\" of the columns respectively "
   ]
  },
  {
   "cell_type": "markdown",
   "metadata": {
    "colab_type": "text",
    "id": "zROXqHSKyv40"
   },
   "source": [
    "### Q1.Return the Column \"Next_Tmax\" as a LIST"
   ]
  },
  {
   "cell_type": "code",
   "execution_count": 73,
   "metadata": {
    "colab": {},
    "colab_type": "code",
    "id": "mnOl4svTzHE9"
   },
   "outputs": [],
   "source": [
    "df['Next_Tmax'].fillna(df['Next_Tmax'].mode(),inplace=True)"
   ]
  },
  {
   "cell_type": "code",
   "execution_count": 74,
   "metadata": {
    "colab": {},
    "colab_type": "code",
    "id": "In5rYGTLzG4z"
   },
   "outputs": [],
   "source": [
    "df['Next_Tmin'].fillna(df['Next_Tmin'].mode(),inplace=True)"
   ]
  },
  {
   "cell_type": "code",
   "execution_count": null,
   "metadata": {
    "colab": {},
    "colab_type": "code",
    "id": "4VYPd8kJzGtr"
   },
   "outputs": [],
   "source": []
  },
  {
   "cell_type": "code",
   "execution_count": 75,
   "metadata": {
    "colab": {},
    "colab_type": "code",
    "id": "gqttKyCgXlML"
   },
   "outputs": [],
   "source": [
    "#Assign your answer to this variable\n",
    "\n",
    "q1=df['Next_Tmax'].values.tolist()"
   ]
  },
  {
   "cell_type": "markdown",
   "metadata": {
    "colab_type": "text",
    "id": "sSgAfks9z3wL"
   },
   "source": [
    "### Replace the NULL values present in the list of columns \n",
    "\n",
    "[\n",
    "'Present_Tmin',\n",
    "'Present_Tmax',\n",
    "'LDAPS_RHmin',\n",
    "'LDAPS_RHmax',\n",
    "'LDAPS_Tmax_lapse',\n",
    "'LDAPS_Tmin_lapse',\n",
    "'LDAPS_WS',\n",
    "'LDAPS_LH',\n",
    "'LDAPS_CC1',\n",
    "'LDAPS_CC2',\n",
    "'LDAPS_CC3',\n",
    "'LDAPS_CC4',\n",
    "'LDAPS_PPT1',\n",
    "'LDAPS_PPT2',\n",
    "'LDAPS_PPT3',\n",
    "'LDAPS_PPT4'\n",
    "]\n",
    "### with \"Mean/Average\" of the columns respectively \n",
    "\n",
    "#### Note:\n",
    "\n",
    "Round off the 'Mean' values upto the number of decimal places the mentioned in the following:\n",
    "\n",
    "['Present_Tmin','Present_Tmax'] - 1\n",
    "\n",
    "['LDAPS_PPT1','LDAPS_PPT2','LDAPS_PPT3','LDAPS_PPT4'] - 5\n",
    "\n",
    "['LDAPS_RHmin','LDAPS_RHmax','LDAPS_Tmax_lapse','LDAPS_Tmin_lapse','LDAPS_LH'] - 8\n",
    "\n",
    "['LDAPS_WS','LDAPS_CC1','LDAPS_CC2','LDAPS_CC3','LDAPS_CC4',] - 9"
   ]
  },
  {
   "cell_type": "code",
   "execution_count": 76,
   "metadata": {
    "colab": {},
    "colab_type": "code",
    "id": "lTYahfeI4Uc7"
   },
   "outputs": [],
   "source": [
    "round1 =['Present_Tmin','Present_Tmax']\n",
    "round5 = ['LDAPS_PPT1','LDAPS_PPT2','LDAPS_PPT3','LDAPS_PPT4'] \n",
    "round8 = ['LDAPS_RHmin','LDAPS_RHmax','LDAPS_Tmax_lapse','LDAPS_Tmin_lapse','LDAPS_LH']\n",
    "round9 = ['LDAPS_WS','LDAPS_CC1','LDAPS_CC2','LDAPS_CC3','LDAPS_CC4',] "
   ]
  },
  {
   "cell_type": "code",
   "execution_count": 77,
   "metadata": {
    "colab": {},
    "colab_type": "code",
    "id": "9deMPPUB4UPG"
   },
   "outputs": [],
   "source": [
    "for i in round1:\n",
    "    df[i].fillna(round(df[i].mode(),1),inplace=True)"
   ]
  },
  {
   "cell_type": "code",
   "execution_count": 78,
   "metadata": {
    "colab": {},
    "colab_type": "code",
    "id": "BAeWfhnM4UF4"
   },
   "outputs": [],
   "source": [
    "for i in round5:\n",
    "    df[i].fillna(round(df[i].mode(),5),inplace=True)"
   ]
  },
  {
   "cell_type": "code",
   "execution_count": 79,
   "metadata": {
    "colab": {},
    "colab_type": "code",
    "id": "Xp8qEUjx4T8T"
   },
   "outputs": [],
   "source": [
    "for i in round8:\n",
    "    df[i].fillna(round(df[i].mode(),8),inplace=True)"
   ]
  },
  {
   "cell_type": "code",
   "execution_count": 80,
   "metadata": {
    "colab": {},
    "colab_type": "code",
    "id": "AjtrQAyn4TtJ"
   },
   "outputs": [],
   "source": [
    "for i in round9:\n",
    "    df[i].fillna(round(df[i].mode(),9),inplace=True)"
   ]
  },
  {
   "cell_type": "markdown",
   "metadata": {
    "colab_type": "text",
    "id": "ZE4TVnAJ4ZLF"
   },
   "source": [
    "### Q2.Return the Dataframe which contains these columns [ 'Present_Tmin', 'Present_Tmax', 'LDAPS_RHmin', 'LDAPS_RHmax', 'LDAPS_Tmax_lapse', 'LDAPS_Tmin_lapse', 'LDAPS_WS', 'LDAPS_LH', 'LDAPS_CC1', 'LDAPS_CC2', 'LDAPS_CC3', 'LDAPS_CC4', 'LDAPS_PPT1', 'LDAPS_PPT2', 'LDAPS_PPT3', 'LDAPS_PPT4' ]"
   ]
  },
  {
   "cell_type": "code",
   "execution_count": 81,
   "metadata": {
    "colab": {},
    "colab_type": "code",
    "id": "uETnMJAH4ZLJ"
   },
   "outputs": [],
   "source": [
    "#Assign your answer to this variable\n",
    "q2=df[[ 'Present_Tmin', 'Present_Tmax', 'LDAPS_RHmin', 'LDAPS_RHmax', 'LDAPS_Tmax_lapse', 'LDAPS_Tmin_lapse', 'LDAPS_WS', 'LDAPS_LH', 'LDAPS_CC1', 'LDAPS_CC2', 'LDAPS_CC3', 'LDAPS_CC4', 'LDAPS_PPT1', 'LDAPS_PPT2', 'LDAPS_PPT3', 'LDAPS_PPT4' ]]"
   ]
  },
  {
   "cell_type": "markdown",
   "metadata": {
    "colab_type": "text",
    "id": "8_wPy8laA05g"
   },
   "source": [
    "### Replace the Representation errors in the column \"Date\" properly as per the column\n",
    "\n",
    "#### e.g.:\n",
    "### Some values are represented using words instead of numbers like \"Fifteen-10-14\" instead of \"15-10-14\"\n",
    "\n",
    "### The format of 'Date' should be 'dd-mm-yy'"
   ]
  },
  {
   "cell_type": "markdown",
   "metadata": {
    "colab_type": "text",
    "id": "USlTjdQFDf6U"
   },
   "source": [
    "### Replace the NULL values present in the column \"Date\"\n",
    "\n",
    "#### Hint:\n",
    "Understanding the Data features of the given dataset will make it EASY"
   ]
  },
  {
   "cell_type": "markdown",
   "metadata": {
    "colab_type": "text",
    "id": "_WjonjaLC7vB"
   },
   "source": [
    "### Q3.Return the Column \"Date\" as a LIST"
   ]
  },
  {
   "cell_type": "code",
   "execution_count": 203,
   "metadata": {
    "colab": {},
    "colab_type": "code",
    "id": "QfbDewjzC7vR"
   },
   "outputs": [
    {
     "data": {
      "text/plain": [
       "(1200, 26)"
      ]
     },
     "execution_count": 203,
     "metadata": {},
     "output_type": "execute_result"
    }
   ],
   "source": [
    "#Assign your answer to this variable\n",
    "df3=df\n",
    "#df3['Date'].mode()[0]\n",
    "df.shape"
   ]
  },
  {
   "cell_type": "code",
   "execution_count": 205,
   "metadata": {},
   "outputs": [
    {
     "data": {
      "text/plain": [
       "(1200, 26)"
      ]
     },
     "execution_count": 205,
     "metadata": {},
     "output_type": "execute_result"
    }
   ],
   "source": [
    "df3['Date'].fillna(df3['Date'].mode()[0],inplace=True)\n",
    "df3.isnull().sum()\n",
    "df3.shape\n"
   ]
  },
  {
   "cell_type": "code",
   "execution_count": 199,
   "metadata": {},
   "outputs": [],
   "source": [
    "def convert_dates(x):\n",
    "    if (x == 'Thirty-Six-2013'):\n",
    "        final_date  = '30-06-2013'\n",
    "       # print(final_date)\n",
    "        return final_date\n",
    "    if ('Seven' in x):\n",
    "        final_date = '15-07-2013'\n",
    "        #print(final_date)\n",
    "        return final_date\n",
    "    if ('Twenty' in x):\n",
    "        final_date = '20-07-2013'\n",
    "       # print(final_date)\n",
    "        return final_date\n",
    "    if ('Thirteen' in x):\n",
    "        final_date = '07-08-2013'\n",
    "       # print(final_date)\n",
    "        return final_date\n",
    "    if ('Nine' in x):\n",
    "        final_date = '09-08-2013'\n",
    "        #print(final_date)\n",
    "        return final_date\n",
    "    else:\n",
    "        final_date = x[0:6]+'20'+x[6:8]\n",
    "        #print(len(x))\n",
    "        return final_date\n",
    "    \n",
    "    \n",
    "\n",
    "\n",
    "#q3="
   ]
  },
  {
   "cell_type": "code",
   "execution_count": 206,
   "metadata": {},
   "outputs": [
    {
     "data": {
      "text/plain": [
       "0       30-06-2013\n",
       "1       30-06-2013\n",
       "2       30-06-2013\n",
       "3       30-06-2013\n",
       "4       30-06-2013\n",
       "           ...    \n",
       "1195    16-08-2013\n",
       "1196    16-08-2013\n",
       "1197    16-08-2013\n",
       "1198    16-08-2013\n",
       "1199    16-08-2013\n",
       "Name: Dates, Length: 1200, dtype: object"
      ]
     },
     "execution_count": 206,
     "metadata": {},
     "output_type": "execute_result"
    }
   ],
   "source": [
    "#df3['Dates'] = df3['Date'].apply(lambda x:convert_dates(x))\n",
    "df3['Dates']=df3['Date'].apply(lambda x:convert_dates(x))\n",
    "df3['Dates']\n",
    "#len('Thirty-Six-2013')"
   ]
  },
  {
   "cell_type": "code",
   "execution_count": 207,
   "metadata": {},
   "outputs": [],
   "source": [
    "q3=df3['Dates'].tolist()"
   ]
  },
  {
   "cell_type": "markdown",
   "metadata": {
    "colab_type": "text",
    "id": "qaa0za64Os91"
   },
   "source": [
    "### Replace the \"OUTLIERS\" in the Column \"DEM\" with the \"Mean/Average\" Value\n",
    "\n",
    "### Find out the \"OUTLIERS\" using the 'Inter-Quartile Range' (IQR)\n",
    "\n",
    "#### Note:\n",
    "\n",
    "The Average value should be calculated using the values other than the \"OUTLIERS\" and it must be rounded off to 4 decimal places"
   ]
  },
  {
   "cell_type": "markdown",
   "metadata": {
    "colab_type": "text",
    "id": "q5uCFBZ-SSgO"
   },
   "source": [
    "### Q4.Return the Column \"DEM\" as a LIST"
   ]
  },
  {
   "cell_type": "code",
   "execution_count": 208,
   "metadata": {
    "colab": {},
    "colab_type": "code",
    "id": "Ba_d81XqSSgO"
   },
   "outputs": [],
   "source": [
    "#Assign your answer to this variable\n",
    "\n",
    "q4=df['DEM'].values.tolist()"
   ]
  },
  {
   "cell_type": "markdown",
   "metadata": {
    "colab_type": "text",
    "id": "BXcfu9vltF2v"
   },
   "source": [
    "### Return the Final Dataframe"
   ]
  },
  {
   "cell_type": "code",
   "execution_count": 231,
   "metadata": {
    "colab": {},
    "colab_type": "code",
    "id": "0Xx0ELwDs4tO"
   },
   "outputs": [
    {
     "data": {
      "text/plain": [
       "(1200, 25)"
      ]
     },
     "execution_count": 231,
     "metadata": {},
     "output_type": "execute_result"
    }
   ],
   "source": [
    "#Assign your answer to this variable\n",
    "df=df.assign(Date=df3.Dates)\n",
    "q5=df.copy()\n",
    "q5.shape"
   ]
  },
  {
   "cell_type": "markdown",
   "metadata": {
    "colab_type": "text",
    "id": "2-qNOTQRmKXc"
   },
   "source": [
    "## make sure you run the below cells to validate\n",
    "### Do not delete any cells"
   ]
  },
  {
   "cell_type": "code",
   "execution_count": 232,
   "metadata": {
    "colab": {},
    "colab_type": "code",
    "id": "i5cwTvzYmKXc"
   },
   "outputs": [],
   "source": [
    "import pickle\n",
    "import hashlib"
   ]
  },
  {
   "cell_type": "code",
   "execution_count": 233,
   "metadata": {
    "colab": {},
    "colab_type": "code",
    "id": "Nqv6q3uGmKXr"
   },
   "outputs": [],
   "source": [
    "def make_pickle1(file_name, obj):\n",
    "    with open(file_name, 'wb') as f:\n",
    "        pickle.dump(geth(obj), f, pickle.HIGHEST_PROTOCOL)"
   ]
  },
  {
   "cell_type": "code",
   "execution_count": 234,
   "metadata": {
    "colab": {},
    "colab_type": "code",
    "id": "pM4KbREdmKXr"
   },
   "outputs": [],
   "source": [
    "def make_pickle2(file_name, obj):\n",
    "    with open(file_name, 'wb') as f:\n",
    "        pickle.dump(obj, f, pickle.HIGHEST_PROTOCOL)"
   ]
  },
  {
   "cell_type": "code",
   "execution_count": 235,
   "metadata": {
    "colab": {},
    "colab_type": "code",
    "id": "3tp5hPYWmKX7"
   },
   "outputs": [],
   "source": [
    "def get_pickle(file_name):\n",
    "    with open(file_name, 'rb') as f:\n",
    "        return pickle.load(f)"
   ]
  },
  {
   "cell_type": "code",
   "execution_count": 236,
   "metadata": {
    "colab": {},
    "colab_type": "code",
    "id": "D0LSFKDemKX7"
   },
   "outputs": [],
   "source": [
    "def geth(obj):\n",
    "    obj = str(obj).encode()\n",
    "    m = hashlib.md5()\n",
    "    m.update( bytes(obj) )\n",
    "    return m.hexdigest()"
   ]
  },
  {
   "cell_type": "code",
   "execution_count": 237,
   "metadata": {
    "colab": {},
    "colab_type": "code",
    "id": "a1b5gbVHmKX7"
   },
   "outputs": [],
   "source": [
    "def pickling():\n",
    "    make_pickle2('q1.pickle', q1)\n",
    "    make_pickle2('q1b.pickle', q1)\n",
    "    make_pickle2('q2.pickle', q2)\n",
    "    make_pickle2('q2b.pickle', q2)\n",
    "    make_pickle2('q3.pickle', q3)\n",
    "    make_pickle2('q3b.pickle', q3)\n",
    "    make_pickle2('q4.pickle', q4)\n",
    "    make_pickle2('q4b.pickle', q4)\n",
    "    make_pickle2('q5.pickle', q5)\n",
    "    make_pickle2('q5b.pickle', q5)\n",
    "\n",
    "    \n",
    "    \n",
    "pickling()"
   ]
  },
  {
   "cell_type": "markdown",
   "metadata": {},
   "source": [
    "### Run  the below cell to run preliminary tests"
   ]
  },
  {
   "cell_type": "code",
   "execution_count": 238,
   "metadata": {},
   "outputs": [
    {
     "name": "stdout",
     "output_type": "stream",
     "text": [
      "\u001b[1m============================= test session starts ==============================\u001b[0m\n",
      "platform linux -- Python 3.7.8, pytest-3.7.4, py-1.10.0, pluggy-1.0.0\n",
      "rootdir: /projects/challenge, inifile:\n",
      "collected 5 items                                                              \u001b[0m\u001b[1m\n",
      "\n",
      "tests/test_1.py .....\u001b[36m                                                    [100%]\u001b[0m\n",
      "\n",
      "\u001b[32m\u001b[1m=========================== 5 passed in 0.58 seconds ===========================\u001b[0m\n"
     ]
    }
   ],
   "source": [
    "!py.test tests/test_1.py"
   ]
  },
  {
   "cell_type": "code",
   "execution_count": null,
   "metadata": {},
   "outputs": [],
   "source": []
  }
 ],
 "metadata": {
  "colab": {
   "collapsed_sections": [],
   "name": "Question.ipynb",
   "provenance": []
  },
  "kernelspec": {
   "display_name": "Python 3",
   "language": "python",
   "name": "python3"
  },
  "language_info": {
   "codemirror_mode": {
    "name": "ipython",
    "version": 3
   },
   "file_extension": ".py",
   "mimetype": "text/x-python",
   "name": "python",
   "nbconvert_exporter": "python",
   "pygments_lexer": "ipython3",
   "version": "3.8.8"
  }
 },
 "nbformat": 4,
 "nbformat_minor": 4
}

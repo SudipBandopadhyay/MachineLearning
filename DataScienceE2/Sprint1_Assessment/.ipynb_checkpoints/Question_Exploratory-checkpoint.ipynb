{
 "cells": [
  {
   "cell_type": "markdown",
   "metadata": {
    "colab_type": "text",
    "id": "5NBG9C1A4c8w"
   },
   "source": [
    "## Instructions\n",
    "\n",
    "1. Follow the instructions in each of the cell\n",
    "\n",
    "2. Make sure not to delete any of the cells"
   ]
  },
  {
   "cell_type": "markdown",
   "metadata": {},
   "source": [
    "#### Run the below cell to install the required packages and download the required files"
   ]
  },
  {
   "cell_type": "code",
   "execution_count": 1,
   "metadata": {},
   "outputs": [
    {
     "name": "stderr",
     "output_type": "stream",
     "text": [
      "'wget' is not recognized as an internal or external command,\n",
      "operable program or batch file.\n"
     ]
    },
    {
     "name": "stdout",
     "output_type": "stream",
     "text": [
      "Requirement already satisfied: pytest==3.7.4 in c:\\users\\sudip\\anaconda3\\lib\\site-packages (3.7.4)\n",
      "Requirement already satisfied: six>=1.10.0 in c:\\users\\sudip\\anaconda3\\lib\\site-packages (from pytest==3.7.4) (1.15.0)\n",
      "Requirement already satisfied: attrs>=17.4.0 in c:\\users\\sudip\\anaconda3\\lib\\site-packages (from pytest==3.7.4) (20.3.0)\n",
      "Requirement already satisfied: setuptools in c:\\users\\sudip\\anaconda3\\lib\\site-packages (from pytest==3.7.4) (52.0.0.post20210125)\n",
      "Requirement already satisfied: atomicwrites>=1.0 in c:\\users\\sudip\\anaconda3\\lib\\site-packages (from pytest==3.7.4) (1.4.0)\n",
      "Requirement already satisfied: py>=1.5.0 in c:\\users\\sudip\\anaconda3\\lib\\site-packages (from pytest==3.7.4) (1.10.0)\n",
      "Requirement already satisfied: more-itertools>=4.0.0 in c:\\users\\sudip\\anaconda3\\lib\\site-packages (from pytest==3.7.4) (8.7.0)\n",
      "Requirement already satisfied: colorama in c:\\users\\sudip\\anaconda3\\lib\\site-packages (from pytest==3.7.4) (0.4.4)\n",
      "Requirement already satisfied: pluggy>=0.7 in c:\\users\\sudip\\anaconda3\\lib\\site-packages (from pytest==3.7.4) (0.13.1)\n"
     ]
    }
   ],
   "source": [
    "!wget https://hr-projects-assets-prod.s3.amazonaws.com/d4p5l228bii/e5d64275e84bcfb8b83587ad79e93f52/cleaned_data.csv\n",
    "!pip3 install pytest==3.7.4"
   ]
  },
  {
   "cell_type": "code",
   "execution_count": 2,
   "metadata": {
    "colab": {},
    "colab_type": "code",
    "id": "b6idoT7ihcmm"
   },
   "outputs": [],
   "source": [
    "#import statements\n",
    "import numpy as np \n",
    "import pandas as pd \n",
    "\n"
   ]
  },
  {
   "cell_type": "markdown",
   "metadata": {
    "colab_type": "text",
    "id": "2AI3KRa54c87"
   },
   "source": [
    "### Input Data\n",
    "\n",
    "Note : Dataset is\n",
    "\n",
    "(cleaned_data.csv)"
   ]
  },
  {
   "cell_type": "code",
   "execution_count": 7,
   "metadata": {
    "colab": {},
    "colab_type": "code",
    "id": "aj5o3d3qhcm0"
   },
   "outputs": [],
   "source": [
    "#Load the data\n",
    "df=pd.read_csv('cleaned_data.csv')\n",
    "df.dtypes\n",
    "df.Date  =pd.to_datetime(df['Date'])\n",
    "df['Day_No_of_Week'] = df.Date.dt.dayofweek"
   ]
  },
  {
   "cell_type": "markdown",
   "metadata": {
    "colab_type": "text",
    "id": "ObcGoVjQhcoD"
   },
   "source": [
    "## On how many occassions the 'Present_Tmax' values on Weekends exceeded the \"Average\" 'Present_Tmax' value of Weekdays ? \n",
    "\n",
    "Note:\n",
    "\n",
    " Return your answer as an integer.\n",
    "\n",
    " 'Weekend' means \"Saturday and Sunday\" Only & the remaining days are 'weekdays'\n",
    "\n",
    " Round off the \"Average\" 'Present_Tmax' value of Weekdays to a single decimal   place"
   ]
  },
  {
   "cell_type": "code",
   "execution_count": 23,
   "metadata": {
    "colab": {},
    "colab_type": "code",
    "id": "Ur8B5Y7Q4c9G"
   },
   "outputs": [],
   "source": [
    "#Assign your answer to this variable\n",
    "avg = round(df[df[\"Day_No_of_Week\"].isin([0,1,2,3,4])].Present_Tmax.mean(),1)\n",
    "df1= df[(df['Day_No_of_Week'].isin([5,6])) & (df['Present_Tmax']>avg)]\n",
    "df1.shape\n",
    "q1=185"
   ]
  },
  {
   "cell_type": "code",
   "execution_count": 9,
   "metadata": {},
   "outputs": [
    {
     "data": {
      "text/plain": [
       "array([6, 0, 1, 2, 3, 4, 5], dtype=int64)"
      ]
     },
     "execution_count": 9,
     "metadata": {},
     "output_type": "execute_result"
    }
   ],
   "source": [
    "df[\"Day_No_of_Week\"].unique()"
   ]
  },
  {
   "cell_type": "markdown",
   "metadata": {
    "colab_type": "text",
    "id": "E_sr8H4KhcoZ"
   },
   "source": [
    "## Which month has the maximum difference between 'Present_Tmax' and 'Next_Tmax' values\n",
    "\n",
    "Note:Return that maximum difference with its value rounded off to a single decimal place."
   ]
  },
  {
   "cell_type": "code",
   "execution_count": null,
   "metadata": {
    "colab": {},
    "colab_type": "code",
    "id": "8yUxvFPr4c9O"
   },
   "outputs": [],
   "source": [
    "#Assign your answer to this variable\n",
    "\n",
    "q2="
   ]
  },
  {
   "cell_type": "markdown",
   "metadata": {
    "colab_type": "text",
    "id": "Cl0bzoOghcox"
   },
   "source": [
    "## Find the 'lat' and 'lon'(Latitude and Longitude)pair where the values greater than the 3rd quartile(Q3) of 'LDAPS_RHmax' lies the most (Most No. of occurrences)\n",
    "\n",
    "Hint: \n",
    "\n",
    "Get the Most occurred Latitude value and the Most Occurred Longitude value with the above mentioned condition (i.e The value of 'LDAPS_RHmax' should be greater than its 3rd quartile(Q3))\n",
    "\n",
    "Return the [Latitude,Longitude] pair as a LIST with each value rounded to 3 decimal places\n"
   ]
  },
  {
   "cell_type": "code",
   "execution_count": null,
   "metadata": {
    "colab": {},
    "colab_type": "code",
    "id": "YnTLj8Pt4c9W"
   },
   "outputs": [],
   "source": [
    "#Assign your answer to this variable\n",
    "\n",
    "q3="
   ]
  },
  {
   "cell_type": "markdown",
   "metadata": {
    "colab_type": "text",
    "id": "bAzrFcV9hcpN"
   },
   "source": [
    "## Which column is highly correlated to the column 'Next_Tmax'  \"Negatively\"\n",
    "\n",
    "Hint:\n",
    "\n",
    "Use 'Pearson' Coefficient of Correlation \n",
    "\n",
    "### Return the [Column name,Its 'Pearson' Coefficient of Correlation] (rounded off to 3 decimal places) as a LIST\n"
   ]
  },
  {
   "cell_type": "code",
   "execution_count": null,
   "metadata": {
    "colab": {},
    "colab_type": "code",
    "id": "001-jPn74c9d"
   },
   "outputs": [],
   "source": [
    "# Assign your answer to this variable.\n",
    "\n",
    "q4="
   ]
  },
  {
   "cell_type": "markdown",
   "metadata": {
    "colab_type": "text",
    "id": "qVq_a1M_UnI_"
   },
   "source": [
    "## Which station has recorded the MAXIMUM Average 'Solar_radiation' \n",
    "\n",
    "Note:\n",
    " Return as an integer."
   ]
  },
  {
   "cell_type": "code",
   "execution_count": null,
   "metadata": {
    "colab": {},
    "colab_type": "code",
    "id": "nRl1aB5f4c9n"
   },
   "outputs": [],
   "source": [
    "# Assign your answer to this variable.\n",
    "\n",
    "q5="
   ]
  },
  {
   "cell_type": "markdown",
   "metadata": {
    "colab_type": "text",
    "id": "YP_mgakC4c9u"
   },
   "source": [
    "## make sure you run the below cells to validate\n",
    "### Do not delete any cells"
   ]
  },
  {
   "cell_type": "code",
   "execution_count": 24,
   "metadata": {
    "colab": {},
    "colab_type": "code",
    "id": "L-sB3mes4c9v"
   },
   "outputs": [],
   "source": [
    "import pickle\n",
    "import hashlib"
   ]
  },
  {
   "cell_type": "code",
   "execution_count": 25,
   "metadata": {
    "colab": {},
    "colab_type": "code",
    "id": "ak1U_I7D4c91"
   },
   "outputs": [],
   "source": [
    "def make_pickle1(file_name, obj):\n",
    "    with open(file_name, 'wb') as f:\n",
    "        pickle.dump(geth(obj), f, pickle.HIGHEST_PROTOCOL)"
   ]
  },
  {
   "cell_type": "code",
   "execution_count": 26,
   "metadata": {
    "colab": {},
    "colab_type": "code",
    "id": "mW2z9nOW4c98"
   },
   "outputs": [],
   "source": [
    "def make_pickle2(file_name, obj):\n",
    "    with open(file_name, 'wb') as f:\n",
    "        pickle.dump(obj, f, pickle.HIGHEST_PROTOCOL)"
   ]
  },
  {
   "cell_type": "code",
   "execution_count": 27,
   "metadata": {
    "colab": {},
    "colab_type": "code",
    "id": "cZDRJv3D4c-D"
   },
   "outputs": [],
   "source": [
    "def get_pickle(file_name):\n",
    "    with open(file_name, 'rb') as f:\n",
    "        return pickle.load(f)"
   ]
  },
  {
   "cell_type": "code",
   "execution_count": 28,
   "metadata": {
    "colab": {},
    "colab_type": "code",
    "id": "CkQw1tDF4c-I"
   },
   "outputs": [],
   "source": [
    "def geth(obj):\n",
    "    obj = str(obj).encode()\n",
    "    m = hashlib.md5()\n",
    "    m.update( bytes(obj) )\n",
    "    return m.hexdigest()"
   ]
  },
  {
   "cell_type": "code",
   "execution_count": 29,
   "metadata": {
    "colab": {},
    "colab_type": "code",
    "id": "XQ7sGahh4c-O"
   },
   "outputs": [
    {
     "ename": "NameError",
     "evalue": "name 'q2' is not defined",
     "output_type": "error",
     "traceback": [
      "\u001b[1;31m---------------------------------------------------------------------------\u001b[0m",
      "\u001b[1;31mNameError\u001b[0m                                 Traceback (most recent call last)",
      "\u001b[1;32m<ipython-input-29-cfa173db8f11>\u001b[0m in \u001b[0;36m<module>\u001b[1;34m\u001b[0m\n\u001b[0;32m     13\u001b[0m \u001b[1;33m\u001b[0m\u001b[0m\n\u001b[0;32m     14\u001b[0m \u001b[1;33m\u001b[0m\u001b[0m\n\u001b[1;32m---> 15\u001b[1;33m \u001b[0mpickling\u001b[0m\u001b[1;33m(\u001b[0m\u001b[1;33m)\u001b[0m\u001b[1;33m\u001b[0m\u001b[1;33m\u001b[0m\u001b[0m\n\u001b[0m",
      "\u001b[1;32m<ipython-input-29-cfa173db8f11>\u001b[0m in \u001b[0;36mpickling\u001b[1;34m()\u001b[0m\n\u001b[0;32m      2\u001b[0m     \u001b[0mmake_pickle1\u001b[0m\u001b[1;33m(\u001b[0m\u001b[1;34m'q1.pickle'\u001b[0m\u001b[1;33m,\u001b[0m \u001b[0mq1\u001b[0m\u001b[1;33m)\u001b[0m\u001b[1;33m\u001b[0m\u001b[1;33m\u001b[0m\u001b[0m\n\u001b[0;32m      3\u001b[0m     \u001b[0mmake_pickle2\u001b[0m\u001b[1;33m(\u001b[0m\u001b[1;34m'q1b.pickle'\u001b[0m\u001b[1;33m,\u001b[0m \u001b[0mq1\u001b[0m\u001b[1;33m)\u001b[0m\u001b[1;33m\u001b[0m\u001b[1;33m\u001b[0m\u001b[0m\n\u001b[1;32m----> 4\u001b[1;33m     \u001b[0mmake_pickle1\u001b[0m\u001b[1;33m(\u001b[0m\u001b[1;34m'q2.pickle'\u001b[0m\u001b[1;33m,\u001b[0m \u001b[0mq2\u001b[0m\u001b[1;33m)\u001b[0m\u001b[1;33m\u001b[0m\u001b[1;33m\u001b[0m\u001b[0m\n\u001b[0m\u001b[0;32m      5\u001b[0m     \u001b[0mmake_pickle2\u001b[0m\u001b[1;33m(\u001b[0m\u001b[1;34m'q2b.pickle'\u001b[0m\u001b[1;33m,\u001b[0m \u001b[0mq2\u001b[0m\u001b[1;33m)\u001b[0m\u001b[1;33m\u001b[0m\u001b[1;33m\u001b[0m\u001b[0m\n\u001b[0;32m      6\u001b[0m     \u001b[0mmake_pickle1\u001b[0m\u001b[1;33m(\u001b[0m\u001b[1;34m'q3.pickle'\u001b[0m\u001b[1;33m,\u001b[0m \u001b[0mq3\u001b[0m\u001b[1;33m)\u001b[0m\u001b[1;33m\u001b[0m\u001b[1;33m\u001b[0m\u001b[0m\n",
      "\u001b[1;31mNameError\u001b[0m: name 'q2' is not defined"
     ]
    }
   ],
   "source": [
    "def pickling():\n",
    "    make_pickle1('q1.pickle', q1)\n",
    "    make_pickle2('q1b.pickle', q1)\n",
    "    make_pickle1('q2.pickle', q2)\n",
    "    make_pickle2('q2b.pickle', q2)\n",
    "    make_pickle1('q3.pickle', q3)\n",
    "    make_pickle2('q3b.pickle', q3)\n",
    "    make_pickle1('q4.pickle', q4)\n",
    "    make_pickle2('q4b.pickle', q4)\n",
    "    make_pickle1('q5.pickle', q5)\n",
    "    make_pickle2('q5b.pickle', q5)\n",
    "\n",
    "    \n",
    "    \n",
    "pickling()"
   ]
  },
  {
   "cell_type": "markdown",
   "metadata": {
    "colab": {},
    "colab_type": "code",
    "id": "pKW-JLXu4c-h"
   },
   "source": [
    "### Run  the below cell to run preliminary tests"
   ]
  },
  {
   "cell_type": "code",
   "execution_count": 31,
   "metadata": {
    "colab": {},
    "colab_type": "code",
    "id": "YsuOrNuV4c-n"
   },
   "outputs": [
    {
     "name": "stdout",
     "output_type": "stream",
     "text": [
      "============================= test session starts =============================\n",
      "platform win32 -- Python 3.8.8, pytest-3.7.4, py-1.10.0, pluggy-0.13.1\n",
      "rootdir: C:\\Users\\Sudip\\Sudip_ML\\DataScienceE2\\Sprint1_Assessment, inifile:\n",
      "plugins: anyio-2.2.0\n",
      "collected 5 items\n",
      "\n",
      "tests\\test_4.py .FFFF                                                    [100%]\n",
      "\n",
      "================================== FAILURES ===================================\n",
      "____________________________________ test2 ____________________________________\n",
      "\n",
      "    def test2():\n",
      ">       t = get_pickle('q2b.pickle')\n",
      "\n",
      "tests\\test_4.py:17: \n",
      "_ _ _ _ _ _ _ _ _ _ _ _ _ _ _ _ _ _ _ _ _ _ _ _ _ _ _ _ _ _ _ _ _ _ _ _ _ _ _ _\n",
      "\n",
      "file_name = 'q2b.pickle'\n",
      "\n",
      "    def get_pickle(file_name):\n",
      ">       with open(file_name, 'rb') as f:\n",
      "E       FileNotFoundError: [Errno 2] No such file or directory: 'q2b.pickle'\n",
      "\n",
      "tests\\test_4.py:6: FileNotFoundError\n",
      "____________________________________ test3 ____________________________________\n",
      "\n",
      "    def test3():\n",
      ">       t = get_pickle('q3b.pickle')\n",
      "\n",
      "tests\\test_4.py:28: \n",
      "_ _ _ _ _ _ _ _ _ _ _ _ _ _ _ _ _ _ _ _ _ _ _ _ _ _ _ _ _ _ _ _ _ _ _ _ _ _ _ _\n",
      "\n",
      "file_name = 'q3b.pickle'\n",
      "\n",
      "    def get_pickle(file_name):\n",
      ">       with open(file_name, 'rb') as f:\n",
      "E       FileNotFoundError: [Errno 2] No such file or directory: 'q3b.pickle'\n",
      "\n",
      "tests\\test_4.py:6: FileNotFoundError\n",
      "____________________________________ test4 ____________________________________\n",
      "\n",
      "    def test4():\n",
      ">       t = get_pickle('q4b.pickle')\n",
      "\n",
      "tests\\test_4.py:34: \n",
      "_ _ _ _ _ _ _ _ _ _ _ _ _ _ _ _ _ _ _ _ _ _ _ _ _ _ _ _ _ _ _ _ _ _ _ _ _ _ _ _\n",
      "\n",
      "file_name = 'q4b.pickle'\n",
      "\n",
      "    def get_pickle(file_name):\n",
      ">       with open(file_name, 'rb') as f:\n",
      "E       FileNotFoundError: [Errno 2] No such file or directory: 'q4b.pickle'\n",
      "\n",
      "tests\\test_4.py:6: FileNotFoundError\n",
      "____________________________________ test5 ____________________________________\n",
      "\n",
      "    def test5():\n",
      ">       t = get_pickle('q5b.pickle')\n",
      "\n",
      "tests\\test_4.py:40: \n",
      "_ _ _ _ _ _ _ _ _ _ _ _ _ _ _ _ _ _ _ _ _ _ _ _ _ _ _ _ _ _ _ _ _ _ _ _ _ _ _ _\n",
      "\n",
      "file_name = 'q5b.pickle'\n",
      "\n",
      "    def get_pickle(file_name):\n",
      ">       with open(file_name, 'rb') as f:\n",
      "E       FileNotFoundError: [Errno 2] No such file or directory: 'q5b.pickle'\n",
      "\n",
      "tests\\test_4.py:6: FileNotFoundError\n",
      "===================== 4 failed, 1 passed in 0.35 seconds ======================\n"
     ]
    }
   ],
   "source": [
    "!py.test tests/test_4.py"
   ]
  },
  {
   "cell_type": "code",
   "execution_count": null,
   "metadata": {},
   "outputs": [],
   "source": []
  }
 ],
 "metadata": {
  "colab": {
   "collapsed_sections": [
    "ObcGoVjQhcoD",
    "E_sr8H4KhcoZ",
    "bAzrFcV9hcpN",
    "qVq_a1M_UnI_"
   ],
   "name": "Bias_EDA_Question.ipynb",
   "provenance": []
  },
  "kernelspec": {
   "display_name": "Python 3",
   "language": "python",
   "name": "python3"
  },
  "language_info": {
   "codemirror_mode": {
    "name": "ipython",
    "version": 3
   },
   "file_extension": ".py",
   "mimetype": "text/x-python",
   "name": "python",
   "nbconvert_exporter": "python",
   "pygments_lexer": "ipython3",
   "version": "3.8.8"
  }
 },
 "nbformat": 4,
 "nbformat_minor": 4
}

{
 "cells": [
  {
   "cell_type": "markdown",
   "metadata": {
    "colab_type": "text",
    "id": "C3nhkp0rXlH9"
   },
   "source": [
    "## Instructions\n",
    "\n",
    "1. Follow the instructions in each of the cell\n",
    "\n",
    "2. Make sure not to delete any of the cells"
   ]
  },
  {
   "cell_type": "markdown",
   "metadata": {},
   "source": [
    "#### Run the below cell to install the required packages and download the required files"
   ]
  },
  {
   "cell_type": "code",
   "execution_count": 261,
   "metadata": {},
   "outputs": [
    {
     "name": "stderr",
     "output_type": "stream",
     "text": [
      "'wget' is not recognized as an internal or external command,\n",
      "operable program or batch file.\n"
     ]
    },
    {
     "name": "stdout",
     "output_type": "stream",
     "text": [
      "Requirement already satisfied: pytest==3.7.4 in c:\\users\\sudip\\anaconda3\\lib\\site-packages (3.7.4)\n",
      "Requirement already satisfied: pluggy>=0.7 in c:\\users\\sudip\\anaconda3\\lib\\site-packages (from pytest==3.7.4) (0.13.1)\n",
      "Requirement already satisfied: more-itertools>=4.0.0 in c:\\users\\sudip\\anaconda3\\lib\\site-packages (from pytest==3.7.4) (8.7.0)\n",
      "Requirement already satisfied: attrs>=17.4.0 in c:\\users\\sudip\\anaconda3\\lib\\site-packages (from pytest==3.7.4) (20.3.0)\n",
      "Requirement already satisfied: setuptools in c:\\users\\sudip\\anaconda3\\lib\\site-packages (from pytest==3.7.4) (52.0.0.post20210125)\n",
      "Requirement already satisfied: py>=1.5.0 in c:\\users\\sudip\\anaconda3\\lib\\site-packages (from pytest==3.7.4) (1.10.0)\n",
      "Requirement already satisfied: colorama in c:\\users\\sudip\\anaconda3\\lib\\site-packages (from pytest==3.7.4) (0.4.4)\n",
      "Requirement already satisfied: six>=1.10.0 in c:\\users\\sudip\\anaconda3\\lib\\site-packages (from pytest==3.7.4) (1.15.0)\n",
      "Requirement already satisfied: atomicwrites>=1.0 in c:\\users\\sudip\\anaconda3\\lib\\site-packages (from pytest==3.7.4) (1.4.0)\n"
     ]
    }
   ],
   "source": [
    "!wget https://hr-projects-assets-prod.s3.amazonaws.com/7ci8p93b6bl/c2e87ab672c358f5a889ab5b8c6b4359/uncleaned_data.csv\n",
    "!pip3 install pytest==3.7.4"
   ]
  },
  {
   "cell_type": "code",
   "execution_count": 321,
   "metadata": {
    "colab": {},
    "colab_type": "code",
    "id": "28qmPJ4WXlIF"
   },
   "outputs": [],
   "source": [
    "#import statements\n",
    "import pandas as pd\n",
    "import numpy as np\n",
    "from datetime import datetime\n"
   ]
  },
  {
   "cell_type": "markdown",
   "metadata": {
    "colab_type": "text",
    "id": "HeEeJ93ZXlI4"
   },
   "source": [
    "### Input Data\n",
    "\n",
    "Note : Dataset is\n",
    "\n",
    "(uncleaned_data.csv)"
   ]
  },
  {
   "cell_type": "code",
   "execution_count": 322,
   "metadata": {
    "colab": {},
    "colab_type": "code",
    "id": "I8hj9zRyXlJH"
   },
   "outputs": [
    {
     "data": {
      "text/plain": [
       "Index(['station', 'Date', 'Present_Tmax', 'Present_Tmin', 'LDAPS_RHmin',\n",
       "       'LDAPS_RHmax', 'LDAPS_Tmax_lapse', 'LDAPS_Tmin_lapse', 'LDAPS_WS',\n",
       "       'LDAPS_LH', 'LDAPS_CC1', 'LDAPS_CC2', 'LDAPS_CC3', 'LDAPS_CC4',\n",
       "       'LDAPS_PPT1', 'LDAPS_PPT2', 'LDAPS_PPT3', 'LDAPS_PPT4', 'lat', 'lon',\n",
       "       'DEM', 'Slope', 'Solar radiation', 'Next_Tmax', 'Next_Tmin'],\n",
       "      dtype='object')"
      ]
     },
     "execution_count": 322,
     "metadata": {},
     "output_type": "execute_result"
    }
   ],
   "source": [
    "#Load the data\n",
    "df=pd.read_csv('uncleaned_data.csv')\n",
    "\n",
    "df.columns"
   ]
  },
  {
   "cell_type": "markdown",
   "metadata": {
    "colab_type": "text",
    "id": "j-wEN2h1xrn2"
   },
   "source": [
    "### Replace the NULL values present in the columns \"Next_Tmax\" and \"Next_Tmin\" with \"MODE\" of the columns respectively "
   ]
  },
  {
   "cell_type": "markdown",
   "metadata": {
    "colab_type": "text",
    "id": "zROXqHSKyv40"
   },
   "source": [
    "### Q1.Return the Column \"Next_Tmax\" as a LIST"
   ]
  },
  {
   "cell_type": "code",
   "execution_count": 323,
   "metadata": {
    "colab": {},
    "colab_type": "code",
    "id": "mnOl4svTzHE9"
   },
   "outputs": [],
   "source": [
    "df['Next_Tmax'].fillna(df['Next_Tmax'].mode()[0],inplace=True)\n",
    "df['Next_Tmin'].fillna(df['Next_Tmin'].mode()[0],inplace=True)"
   ]
  },
  {
   "cell_type": "code",
   "execution_count": null,
   "metadata": {
    "colab": {},
    "colab_type": "code",
    "id": "In5rYGTLzG4z"
   },
   "outputs": [],
   "source": []
  },
  {
   "cell_type": "code",
   "execution_count": null,
   "metadata": {
    "colab": {},
    "colab_type": "code",
    "id": "4VYPd8kJzGtr"
   },
   "outputs": [],
   "source": []
  },
  {
   "cell_type": "code",
   "execution_count": 324,
   "metadata": {
    "colab": {},
    "colab_type": "code",
    "id": "gqttKyCgXlML"
   },
   "outputs": [],
   "source": [
    "#Assign your answer to this variable\n",
    "\n",
    "q1=df['Next_Tmax'].values.tolist()"
   ]
  },
  {
   "cell_type": "markdown",
   "metadata": {
    "colab_type": "text",
    "id": "sSgAfks9z3wL"
   },
   "source": [
    "### Replace the NULL values present in the list of columns \n",
    "\n",
    "[\n",
    "'Present_Tmin',\n",
    "'Present_Tmax',\n",
    "'LDAPS_RHmin',\n",
    "'LDAPS_RHmax',\n",
    "'LDAPS_Tmax_lapse',\n",
    "'LDAPS_Tmin_lapse',\n",
    "'LDAPS_WS',\n",
    "'LDAPS_LH',\n",
    "'LDAPS_CC1',\n",
    "'LDAPS_CC2',\n",
    "'LDAPS_CC3',\n",
    "'LDAPS_CC4',\n",
    "'LDAPS_PPT1',\n",
    "'LDAPS_PPT2',\n",
    "'LDAPS_PPT3',\n",
    "'LDAPS_PPT4'\n",
    "]\n",
    "### with \"Mean/Average\" of the columns respectively \n",
    "\n",
    "#### Note:\n",
    "\n",
    "Round off the 'Mean' values upto the number of decimal places the mentioned in the following:\n",
    "\n",
    "['Present_Tmin','Present_Tmax'] - 1\n",
    "\n",
    "['LDAPS_PPT1','LDAPS_PPT2','LDAPS_PPT3','LDAPS_PPT4'] - 5\n",
    "\n",
    "['LDAPS_RHmin','LDAPS_RHmax','LDAPS_Tmax_lapse','LDAPS_Tmin_lapse','LDAPS_LH'] - 8\n",
    "\n",
    "['LDAPS_WS','LDAPS_CC1','LDAPS_CC2','LDAPS_CC3','LDAPS_CC4',] - 9"
   ]
  },
  {
   "cell_type": "code",
   "execution_count": 325,
   "metadata": {
    "colab": {},
    "colab_type": "code",
    "id": "lTYahfeI4Uc7"
   },
   "outputs": [],
   "source": [
    "round1 =['Present_Tmin','Present_Tmax']\n",
    "round5 = ['LDAPS_PPT1','LDAPS_PPT2','LDAPS_PPT3','LDAPS_PPT4'] \n",
    "round8 = ['LDAPS_RHmin','LDAPS_RHmax','LDAPS_Tmax_lapse','LDAPS_Tmin_lapse','LDAPS_LH']\n",
    "round9 = ['LDAPS_WS','LDAPS_CC1','LDAPS_CC2','LDAPS_CC3','LDAPS_CC4',] "
   ]
  },
  {
   "cell_type": "code",
   "execution_count": 326,
   "metadata": {
    "colab": {},
    "colab_type": "code",
    "id": "9deMPPUB4UPG"
   },
   "outputs": [
    {
     "name": "stdout",
     "output_type": "stream",
     "text": [
      "LDAPS_WS\n",
      "LDAPS_CC1\n",
      "LDAPS_CC2\n",
      "LDAPS_CC3\n",
      "LDAPS_CC4\n"
     ]
    }
   ],
   "source": [
    "for i in round1:\n",
    "    df[i].fillna(round(df[i].mean(),1),inplace=True)\n",
    "\n",
    "for i in round5:\n",
    "    df[i].fillna(round(df[i].mean(),5),inplace=True)\n",
    "    \n",
    "for i in round8:\n",
    "    df[i].fillna(round(df[i].mean(),8),inplace=True)\n",
    "    \n",
    "for i in round9:\n",
    "    print(i)\n",
    "    df[i].fillna(round(df[i].mean(),9),inplace=True)"
   ]
  },
  {
   "cell_type": "code",
   "execution_count": 327,
   "metadata": {
    "colab": {},
    "colab_type": "code",
    "id": "BAeWfhnM4UF4"
   },
   "outputs": [
    {
     "data": {
      "text/plain": [
       "station             0\n",
       "Date                5\n",
       "Present_Tmax        0\n",
       "Present_Tmin        0\n",
       "LDAPS_RHmin         0\n",
       "LDAPS_RHmax         0\n",
       "LDAPS_Tmax_lapse    0\n",
       "LDAPS_Tmin_lapse    0\n",
       "LDAPS_WS            0\n",
       "LDAPS_LH            0\n",
       "LDAPS_CC1           0\n",
       "LDAPS_CC2           0\n",
       "LDAPS_CC3           0\n",
       "LDAPS_CC4           0\n",
       "LDAPS_PPT1          0\n",
       "LDAPS_PPT2          0\n",
       "LDAPS_PPT3          0\n",
       "LDAPS_PPT4          0\n",
       "lat                 0\n",
       "lon                 0\n",
       "DEM                 0\n",
       "Slope               0\n",
       "Solar radiation     0\n",
       "Next_Tmax           0\n",
       "Next_Tmin           0\n",
       "dtype: int64"
      ]
     },
     "execution_count": 327,
     "metadata": {},
     "output_type": "execute_result"
    }
   ],
   "source": [
    "df.isnull().sum()"
   ]
  },
  {
   "cell_type": "code",
   "execution_count": null,
   "metadata": {
    "colab": {},
    "colab_type": "code",
    "id": "Xp8qEUjx4T8T"
   },
   "outputs": [],
   "source": []
  },
  {
   "cell_type": "code",
   "execution_count": null,
   "metadata": {
    "colab": {},
    "colab_type": "code",
    "id": "AjtrQAyn4TtJ"
   },
   "outputs": [],
   "source": []
  },
  {
   "cell_type": "markdown",
   "metadata": {
    "colab_type": "text",
    "id": "ZE4TVnAJ4ZLF"
   },
   "source": [
    "### Q2.Return the Dataframe which contains these columns [ 'Present_Tmin', 'Present_Tmax', 'LDAPS_RHmin', 'LDAPS_RHmax', 'LDAPS_Tmax_lapse', 'LDAPS_Tmin_lapse', 'LDAPS_WS', 'LDAPS_LH', 'LDAPS_CC1', 'LDAPS_CC2', 'LDAPS_CC3', 'LDAPS_CC4', 'LDAPS_PPT1', 'LDAPS_PPT2', 'LDAPS_PPT3', 'LDAPS_PPT4' ]"
   ]
  },
  {
   "cell_type": "code",
   "execution_count": 328,
   "metadata": {
    "colab": {},
    "colab_type": "code",
    "id": "uETnMJAH4ZLJ"
   },
   "outputs": [],
   "source": [
    "#Assign your answer to this variable\n",
    "q2=df[[ 'Present_Tmin', 'Present_Tmax', 'LDAPS_RHmin', 'LDAPS_RHmax', 'LDAPS_Tmax_lapse', 'LDAPS_Tmin_lapse', 'LDAPS_WS', 'LDAPS_LH', 'LDAPS_CC1', 'LDAPS_CC2', 'LDAPS_CC3', 'LDAPS_CC4', 'LDAPS_PPT1', 'LDAPS_PPT2', 'LDAPS_PPT3', 'LDAPS_PPT4' ]]"
   ]
  },
  {
   "cell_type": "markdown",
   "metadata": {
    "colab_type": "text",
    "id": "8_wPy8laA05g"
   },
   "source": [
    "### Replace the Representation errors in the column \"Date\" properly as per the column\n",
    "\n",
    "#### e.g.:\n",
    "### Some values are represented using words instead of numbers like \"Fifteen-10-14\" instead of \"15-10-14\"\n",
    "\n",
    "### The format of 'Date' should be 'dd-mm-yy'"
   ]
  },
  {
   "cell_type": "markdown",
   "metadata": {
    "colab_type": "text",
    "id": "USlTjdQFDf6U"
   },
   "source": [
    "### Replace the NULL values present in the column \"Date\"\n",
    "\n",
    "#### Hint:\n",
    "Understanding the Data features of the given dataset will make it EASY"
   ]
  },
  {
   "cell_type": "markdown",
   "metadata": {
    "colab_type": "text",
    "id": "_WjonjaLC7vB"
   },
   "source": [
    "### Q3.Return the Column \"Date\" as a LIST"
   ]
  },
  {
   "cell_type": "code",
   "execution_count": 329,
   "metadata": {
    "colab": {},
    "colab_type": "code",
    "id": "QfbDewjzC7vR"
   },
   "outputs": [],
   "source": [
    "#Assign your answer to this variable\n",
    "df3=df\n",
    "#df3['Date'].mode()[0]\n",
    "df.shape\n",
    "df[df.Date.isnull()].index\n",
    "for i in df[df.Date.isnull()].index:\n",
    "    df.loc[i,'Date']=df.loc[i+1,'Date']\n"
   ]
  },
  {
   "cell_type": "code",
   "execution_count": null,
   "metadata": {},
   "outputs": [],
   "source": [
    "\n",
    "\n"
   ]
  },
  {
   "cell_type": "code",
   "execution_count": 330,
   "metadata": {},
   "outputs": [],
   "source": [
    "def convert_dates(x):\n",
    "    if (x == 'Thirty-Six-2013'):\n",
    "        final_date  = '30-06-2013'\n",
    "       # print(final_date)\n",
    "        return final_date\n",
    "    if ('Seven' in x):\n",
    "        final_date = '15-07-2013'\n",
    "        #print(final_date)\n",
    "        return final_date\n",
    "    if ('Twenty' in x):\n",
    "        final_date = '20-07-2013'\n",
    "       # print(final_date)\n",
    "        return final_date\n",
    "    if ('Thirteen' in x):\n",
    "        final_date = '07-08-2013'\n",
    "       # print(final_date)\n",
    "        return final_date\n",
    "    if ('Nine' in x):\n",
    "        final_date = '09-08-2013'\n",
    "        #print(final_date)\n",
    "        return final_date\n",
    "    else:\n",
    "        final_date = x[0:6]+'20'+x[6:8]\n",
    "        #print(len(x))\n",
    "        return final_date\n",
    "    \n",
    "    \n",
    "\n",
    "\n",
    "#q3="
   ]
  },
  {
   "cell_type": "code",
   "execution_count": 331,
   "metadata": {},
   "outputs": [],
   "source": [
    "#df3['Dates'] = df3['Date'].apply(lambda x:convert_dates(x))\n",
    "df['Dates']=df['Date'].apply(lambda x:convert_dates(x))\n",
    "df=df.assign(Date=df.Dates)\n",
    "df = df.drop(['Dates'], axis=1)\n",
    "#len('Thirty-Six-2013')"
   ]
  },
  {
   "cell_type": "code",
   "execution_count": 332,
   "metadata": {},
   "outputs": [],
   "source": [
    "q3=df['Date'].tolist()"
   ]
  },
  {
   "cell_type": "markdown",
   "metadata": {
    "colab_type": "text",
    "id": "qaa0za64Os91"
   },
   "source": [
    "### Replace the \"OUTLIERS\" in the Column \"DEM\" with the \"Mean/Average\" Value\n",
    "\n",
    "### Find out the \"OUTLIERS\" using the 'Inter-Quartile Range' (IQR)\n",
    "\n",
    "#### Note:\n",
    "\n",
    "The Average value should be calculated using the values other than the \"OUTLIERS\" and it must be rounded off to 4 decimal places"
   ]
  },
  {
   "cell_type": "markdown",
   "metadata": {
    "colab_type": "text",
    "id": "q5uCFBZ-SSgO"
   },
   "source": [
    "\n",
    "### Q4.Return the Column \"DEM\" as a LIST"
   ]
  },
  {
   "cell_type": "code",
   "execution_count": 336,
   "metadata": {
    "colab": {},
    "colab_type": "code",
    "id": "Ba_d81XqSSgO"
   },
   "outputs": [],
   "source": [
    "#Assign your answer to this variable\n",
    "Q1 = np.percentile(df['DEM'], 25, interpolation = 'midpoint')\n",
    "Q3 = np.percentile(df['DEM'], 75, interpolation = 'midpoint')\n",
    "IQR =  Q3- Q1 \n",
    "low_lim = Q1 - 1.5 * IQR\n",
    "up_lim = Q3 + 1.5 * IQR\n",
    "\n",
    "non_outlier =[]\n",
    "for x in df['DEM']:\n",
    "    if ((x<= up_lim) or (x>=low_lim)):\n",
    "         non_outlier.append(x)\n",
    "avg=round(sum(non_outlier)/len(non_outlier),4)\n",
    "df[\"DEM\"] = np.where(((df[\"DEM\"] > up_lim) & (df[\"DEM\"] > low_lim)), avg, df['DEM'])\n"
   ]
  },
  {
   "cell_type": "code",
   "execution_count": 337,
   "metadata": {},
   "outputs": [
    {
     "data": {
      "text/plain": [
       "[]"
      ]
     },
     "execution_count": 337,
     "metadata": {},
     "output_type": "execute_result"
    }
   ],
   "source": [
    "outlier =[]\n",
    "for x in df['DEM']:\n",
    "    if ((x> up_lim) or (x<low_lim)):\n",
    "         non_outlier.append(x)\n",
    "outlier"
   ]
  },
  {
   "cell_type": "code",
   "execution_count": 335,
   "metadata": {},
   "outputs": [],
   "source": [
    "q4=df['DEM'].values.tolist()"
   ]
  },
  {
   "cell_type": "markdown",
   "metadata": {
    "colab_type": "text",
    "id": "BXcfu9vltF2v"
   },
   "source": [
    "### Return the Final Dataframe"
   ]
  },
  {
   "cell_type": "code",
   "execution_count": 318,
   "metadata": {
    "colab": {},
    "colab_type": "code",
    "id": "0Xx0ELwDs4tO"
   },
   "outputs": [
    {
     "data": {
      "text/plain": [
       "station               int64\n",
       "Date                 object\n",
       "Present_Tmax        float64\n",
       "Present_Tmin        float64\n",
       "LDAPS_RHmin         float64\n",
       "LDAPS_RHmax         float64\n",
       "LDAPS_Tmax_lapse    float64\n",
       "LDAPS_Tmin_lapse    float64\n",
       "LDAPS_WS            float64\n",
       "LDAPS_LH            float64\n",
       "LDAPS_CC1           float64\n",
       "LDAPS_CC2           float64\n",
       "LDAPS_CC3           float64\n",
       "LDAPS_CC4           float64\n",
       "LDAPS_PPT1          float64\n",
       "LDAPS_PPT2          float64\n",
       "LDAPS_PPT3          float64\n",
       "LDAPS_PPT4          float64\n",
       "lat                 float64\n",
       "lon                 float64\n",
       "DEM                 float64\n",
       "Slope               float64\n",
       "Solar radiation     float64\n",
       "Next_Tmax           float64\n",
       "Next_Tmin           float64\n",
       "dtype: object"
      ]
     },
     "execution_count": 318,
     "metadata": {},
     "output_type": "execute_result"
    }
   ],
   "source": [
    "#Assign your answer to this variable\n",
    "\n",
    "q5=df.copy()\n",
    "q5.dtypes"
   ]
  },
  {
   "cell_type": "markdown",
   "metadata": {
    "colab_type": "text",
    "id": "2-qNOTQRmKXc"
   },
   "source": [
    "## make sure you run the below cells to validate\n",
    "### Do not delete any cells"
   ]
  },
  {
   "cell_type": "code",
   "execution_count": 319,
   "metadata": {
    "colab": {},
    "colab_type": "code",
    "id": "i5cwTvzYmKXc"
   },
   "outputs": [],
   "source": [
    "import pickle\n",
    "import hashlib"
   ]
  },
  {
   "cell_type": "code",
   "execution_count": 320,
   "metadata": {
    "colab": {},
    "colab_type": "code",
    "id": "Nqv6q3uGmKXr"
   },
   "outputs": [],
   "source": [
    "def make_pickle1(file_name, obj):\n",
    "    with open(file_name, 'wb') as f:\n",
    "        pickle.dump(geth(obj), f, pickle.HIGHEST_PROTOCOL)"
   ]
  },
  {
   "cell_type": "code",
   "execution_count": 282,
   "metadata": {
    "colab": {},
    "colab_type": "code",
    "id": "pM4KbREdmKXr"
   },
   "outputs": [],
   "source": [
    "def make_pickle2(file_name, obj):\n",
    "    with open(file_name, 'wb') as f:\n",
    "        pickle.dump(obj, f, pickle.HIGHEST_PROTOCOL)"
   ]
  },
  {
   "cell_type": "code",
   "execution_count": 283,
   "metadata": {
    "colab": {},
    "colab_type": "code",
    "id": "3tp5hPYWmKX7"
   },
   "outputs": [],
   "source": [
    "def get_pickle(file_name):\n",
    "    with open(file_name, 'rb') as f:\n",
    "        return pickle.load(f)"
   ]
  },
  {
   "cell_type": "code",
   "execution_count": 284,
   "metadata": {
    "colab": {},
    "colab_type": "code",
    "id": "D0LSFKDemKX7"
   },
   "outputs": [],
   "source": [
    "def geth(obj):\n",
    "    obj = str(obj).encode()\n",
    "    m = hashlib.md5()\n",
    "    m.update( bytes(obj) )\n",
    "    return m.hexdigest()"
   ]
  },
  {
   "cell_type": "code",
   "execution_count": 285,
   "metadata": {
    "colab": {},
    "colab_type": "code",
    "id": "a1b5gbVHmKX7"
   },
   "outputs": [],
   "source": [
    "def pickling():\n",
    "    make_pickle2('q1.pickle', q1)\n",
    "    make_pickle2('q1b.pickle', q1)\n",
    "    make_pickle2('q2.pickle', q2)\n",
    "    make_pickle2('q2b.pickle', q2)\n",
    "    make_pickle2('q3.pickle', q3)\n",
    "    make_pickle2('q3b.pickle', q3)\n",
    "    make_pickle2('q4.pickle', q4)\n",
    "    make_pickle2('q4b.pickle', q4)\n",
    "    make_pickle2('q5.pickle', q5)\n",
    "    make_pickle2('q5b.pickle', q5)\n",
    "\n",
    "    \n",
    "    \n",
    "pickling()"
   ]
  },
  {
   "cell_type": "markdown",
   "metadata": {},
   "source": [
    "### Run  the below cell to run preliminary tests"
   ]
  },
  {
   "cell_type": "code",
   "execution_count": 286,
   "metadata": {},
   "outputs": [
    {
     "name": "stdout",
     "output_type": "stream",
     "text": [
      "============================= test session starts =============================\n",
      "platform win32 -- Python 3.8.8, pytest-3.7.4, py-1.10.0, pluggy-0.13.1\n",
      "rootdir: C:\\Users\\Sudip\\Sudip_ML\\DataScienceE2\\Sprint1_Assessment, inifile:\n",
      "plugins: anyio-2.2.0\n",
      "collected 5 items\n",
      "\n",
      "tests\\test_2.py .....                                                    [100%]\n",
      "\n",
      "========================== 5 passed in 0.63 seconds ===========================\n"
     ]
    }
   ],
   "source": [
    "!py.test tests/test_2.py"
   ]
  },
  {
   "cell_type": "code",
   "execution_count": null,
   "metadata": {},
   "outputs": [],
   "source": []
  }
 ],
 "metadata": {
  "colab": {
   "collapsed_sections": [],
   "name": "Question.ipynb",
   "provenance": []
  },
  "kernelspec": {
   "display_name": "Python 3",
   "language": "python",
   "name": "python3"
  },
  "language_info": {
   "codemirror_mode": {
    "name": "ipython",
    "version": 3
   },
   "file_extension": ".py",
   "mimetype": "text/x-python",
   "name": "python",
   "nbconvert_exporter": "python",
   "pygments_lexer": "ipython3",
   "version": "3.8.8"
  }
 },
 "nbformat": 4,
 "nbformat_minor": 4
}

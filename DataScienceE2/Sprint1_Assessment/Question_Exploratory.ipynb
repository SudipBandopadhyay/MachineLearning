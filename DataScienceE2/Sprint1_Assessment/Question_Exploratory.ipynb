{
 "cells": [
  {
   "cell_type": "markdown",
   "metadata": {
    "colab_type": "text",
    "id": "5NBG9C1A4c8w"
   },
   "source": [
    "## Instructions\n",
    "\n",
    "1. Follow the instructions in each of the cell\n",
    "\n",
    "2. Make sure not to delete any of the cells"
   ]
  },
  {
   "cell_type": "markdown",
   "metadata": {},
   "source": [
    "#### Run the below cell to install the required packages and download the required files"
   ]
  },
  {
   "cell_type": "code",
   "execution_count": 1,
   "metadata": {},
   "outputs": [
    {
     "name": "stderr",
     "output_type": "stream",
     "text": [
      "'wget' is not recognized as an internal or external command,\n",
      "operable program or batch file.\n"
     ]
    },
    {
     "name": "stdout",
     "output_type": "stream",
     "text": [
      "Requirement already satisfied: pytest==3.7.4 in c:\\users\\sudip\\anaconda3\\lib\\site-packages (3.7.4)\n",
      "Requirement already satisfied: six>=1.10.0 in c:\\users\\sudip\\anaconda3\\lib\\site-packages (from pytest==3.7.4) (1.15.0)\n",
      "Requirement already satisfied: attrs>=17.4.0 in c:\\users\\sudip\\anaconda3\\lib\\site-packages (from pytest==3.7.4) (20.3.0)\n",
      "Requirement already satisfied: setuptools in c:\\users\\sudip\\anaconda3\\lib\\site-packages (from pytest==3.7.4) (52.0.0.post20210125)\n",
      "Requirement already satisfied: atomicwrites>=1.0 in c:\\users\\sudip\\anaconda3\\lib\\site-packages (from pytest==3.7.4) (1.4.0)\n",
      "Requirement already satisfied: py>=1.5.0 in c:\\users\\sudip\\anaconda3\\lib\\site-packages (from pytest==3.7.4) (1.10.0)\n",
      "Requirement already satisfied: more-itertools>=4.0.0 in c:\\users\\sudip\\anaconda3\\lib\\site-packages (from pytest==3.7.4) (8.7.0)\n",
      "Requirement already satisfied: colorama in c:\\users\\sudip\\anaconda3\\lib\\site-packages (from pytest==3.7.4) (0.4.4)\n",
      "Requirement already satisfied: pluggy>=0.7 in c:\\users\\sudip\\anaconda3\\lib\\site-packages (from pytest==3.7.4) (0.13.1)\n"
     ]
    }
   ],
   "source": [
    "!wget https://hr-projects-assets-prod.s3.amazonaws.com/d4p5l228bii/e5d64275e84bcfb8b83587ad79e93f52/cleaned_data.csv\n",
    "!pip3 install pytest==3.7.4"
   ]
  },
  {
   "cell_type": "code",
   "execution_count": 1,
   "metadata": {
    "colab": {},
    "colab_type": "code",
    "id": "b6idoT7ihcmm"
   },
   "outputs": [],
   "source": [
    "#import statements\n",
    "import numpy as np \n",
    "import pandas as pd \n",
    "\n"
   ]
  },
  {
   "cell_type": "markdown",
   "metadata": {
    "colab_type": "text",
    "id": "2AI3KRa54c87"
   },
   "source": [
    "### Input Data\n",
    "\n",
    "Note : Dataset is\n",
    "\n",
    "(cleaned_data.csv)"
   ]
  },
  {
   "cell_type": "code",
   "execution_count": 2,
   "metadata": {
    "colab": {},
    "colab_type": "code",
    "id": "aj5o3d3qhcm0"
   },
   "outputs": [],
   "source": [
    "#Load the data\n",
    "df=pd.read_csv('cleaned_data.csv')\n",
    "df.dtypes\n",
    "df.Date  =pd.to_datetime(df['Date'])\n",
    "df['Day_No_of_Week'] = df.Date.dt.dayofweek"
   ]
  },
  {
   "cell_type": "markdown",
   "metadata": {
    "colab_type": "text",
    "id": "ObcGoVjQhcoD"
   },
   "source": [
    "## On how many occassions the 'Present_Tmax' values on Weekends exceeded the \"Average\" 'Present_Tmax' value of Weekdays ? \n",
    "\n",
    "Note:\n",
    "\n",
    " Return your answer as an integer.\n",
    "\n",
    " 'Weekend' means \"Saturday and Sunday\" Only & the remaining days are 'weekdays'\n",
    "\n",
    " Round off the \"Average\" 'Present_Tmax' value of Weekdays to a single decimal   place"
   ]
  },
  {
   "cell_type": "code",
   "execution_count": 175,
   "metadata": {
    "colab": {},
    "colab_type": "code",
    "id": "Ur8B5Y7Q4c9G"
   },
   "outputs": [
    {
     "data": {
      "text/plain": [
       "185"
      ]
     },
     "execution_count": 175,
     "metadata": {},
     "output_type": "execute_result"
    }
   ],
   "source": [
    "#Assign your answer to this variable\n",
    "avg = round(df[df[\"Day_No_of_Week\"].isin([0,1,2,3,4])].Present_Tmax.mean(),1)\n",
    "df1= df[(df['Day_No_of_Week'].isin([5,6])) & (df['Present_Tmax']>avg)]\n",
    "index = df1.index\n",
    "number_of_rows = len(index) \n",
    "q1=number_of_rows\n",
    "number_of_rows"
   ]
  },
  {
   "cell_type": "code",
   "execution_count": 176,
   "metadata": {},
   "outputs": [
    {
     "data": {
      "text/plain": [
       "array([6, 0, 1, 2, 3, 4, 5], dtype=int64)"
      ]
     },
     "execution_count": 176,
     "metadata": {},
     "output_type": "execute_result"
    }
   ],
   "source": [
    "df[\"Day_No_of_Week\"].unique()"
   ]
  },
  {
   "cell_type": "markdown",
   "metadata": {
    "colab_type": "text",
    "id": "E_sr8H4KhcoZ"
   },
   "source": [
    "## Which month has the maximum difference between 'Present_Tmax' and 'Next_Tmax' values\n",
    "\n",
    "Note:Return that maximum difference with its value rounded off to a single decimal place."
   ]
  },
  {
   "cell_type": "code",
   "execution_count": 177,
   "metadata": {
    "colab": {},
    "colab_type": "code",
    "id": "8yUxvFPr4c9O"
   },
   "outputs": [
    {
     "name": "stdout",
     "output_type": "stream",
     "text": [
      "6.6\n"
     ]
    },
    {
     "data": {
      "text/plain": [
       "6.6"
      ]
     },
     "execution_count": 177,
     "metadata": {},
     "output_type": "execute_result"
    }
   ],
   "source": [
    "#Assign your answer to this variable\n",
    "df['Diff_Tmax']= round(abs(df['Present_Tmax']-df['Next_Tmax']),1)\n",
    "max=df['Diff_Tmax'].max()\n",
    "print(max)\n",
    "df[df['Diff_Tmax']==max].Date.dt.month\n",
    "q2=df['Diff_Tmax'].max()\n",
    "#q2=df[df['Diff_Tmax']==max].Date.dt.month.values[0]\n",
    "q2"
   ]
  },
  {
   "cell_type": "markdown",
   "metadata": {
    "colab_type": "text",
    "id": "Cl0bzoOghcox"
   },
   "source": [
    "## Find the 'lat' and 'lon'(Latitude and Longitude)pair where the values greater than the 3rd quartile(Q3) of 'LDAPS_RHmax' lies the most (Most No. of occurrences)\n",
    "\n",
    "Hint: \n",
    "\n",
    "Get the Most occurred Latitude value and the Most Occurred Longitude value with the above mentioned condition (i.e The value of 'LDAPS_RHmax' should be greater than its 3rd quartile(Q3))\n",
    "\n",
    "Return the [Latitude,Longitude] pair as a LIST with each value rounded to 3 decimal places\n"
   ]
  },
  {
   "cell_type": "code",
   "execution_count": 178,
   "metadata": {
    "colab": {},
    "colab_type": "code",
    "id": "YnTLj8Pt4c9W"
   },
   "outputs": [
    {
     "data": {
      "text/plain": [
       "[37.618, 127.004]"
      ]
     },
     "execution_count": 178,
     "metadata": {},
     "output_type": "execute_result"
    }
   ],
   "source": [
    "#Assign your answer to this variable\n",
    "limit = df['LDAPS_RHmax'].quantile(0.75)\n",
    "#print(limit)\n",
    "df3= df[df['LDAPS_RHmax']>limit]\n",
    "\n",
    "q3=([round(df3.groupby(by='lat')['LDAPS_RHmax'].count().idxmax(),3),\n",
    "     round(df3.groupby(by='lon')['LDAPS_RHmax'].count().idxmax(),3)])\n",
    "q3"
   ]
  },
  {
   "cell_type": "markdown",
   "metadata": {
    "colab_type": "text",
    "id": "bAzrFcV9hcpN"
   },
   "source": [
    "## Which column is highly correlated to the column 'Next_Tmax'  \"Negatively\"\n",
    "\n",
    "Hint:\n",
    "\n",
    "Use 'Pearson' Coefficient of Correlation \n",
    "\n",
    "### Return the [Column name,Its 'Pearson' Coefficient of Correlation] (rounded off to 3 decimal places) as a LIST\n"
   ]
  },
  {
   "cell_type": "code",
   "execution_count": 179,
   "metadata": {
    "colab": {},
    "colab_type": "code",
    "id": "001-jPn74c9d"
   },
   "outputs": [
    {
     "name": "stdout",
     "output_type": "stream",
     "text": [
      "Solar_radiation\n"
     ]
    },
    {
     "data": {
      "text/plain": [
       "['Solar_radiation', -0.652]"
      ]
     },
     "execution_count": 179,
     "metadata": {},
     "output_type": "execute_result"
    }
   ],
   "source": [
    "# Assign your answer to this variable.\n",
    "min=0\n",
    "corr  = df.corr().unstack().sort_values().drop_duplicates().to_frame()\n",
    "\n",
    "corr = corr.reset_index()\n",
    "corr.columns=['Column1','Column2','Corr']\n",
    "#print(corr[corr['Corr'] == (-0.6524106657797397) ])\n",
    "corr1 = corr[(corr['Column1'] == 'Next_Tmax')]\n",
    "min= corr1.Corr.min()\n",
    "field = corr1[corr1['Corr'] == min].Column2.values[0]\n",
    "print(field)\n",
    "    \n",
    "#print(df['Next_Tmax'].corr(df['LDAPS_RHmin']))\n",
    "q4=([field,round(min,3)])\n",
    "q4"
   ]
  },
  {
   "cell_type": "markdown",
   "metadata": {
    "colab_type": "text",
    "id": "qVq_a1M_UnI_"
   },
   "source": [
    "## Which station has recorded the MAXIMUM Average 'Solar_radiation' \n",
    "\n",
    "Note:\n",
    " Return as an integer."
   ]
  },
  {
   "cell_type": "code",
   "execution_count": 182,
   "metadata": {
    "colab": {},
    "colab_type": "code",
    "id": "nRl1aB5f4c9n"
   },
   "outputs": [
    {
     "data": {
      "text/plain": [
       "1"
      ]
     },
     "execution_count": 182,
     "metadata": {},
     "output_type": "execute_result"
    }
   ],
   "source": [
    "# Assign your answer to this variable.\n",
    "\n",
    "q5=int(df.groupby(by = 'station')['Solar_radiation'].mean().idxmax())\n",
    "q5"
   ]
  },
  {
   "cell_type": "markdown",
   "metadata": {
    "colab_type": "text",
    "id": "YP_mgakC4c9u"
   },
   "source": [
    "## make sure you run the below cells to validate\n",
    "### Do not delete any cells"
   ]
  },
  {
   "cell_type": "code",
   "execution_count": 181,
   "metadata": {
    "colab": {},
    "colab_type": "code",
    "id": "L-sB3mes4c9v"
   },
   "outputs": [],
   "source": [
    "import pickle\n",
    "import hashlib"
   ]
  },
  {
   "cell_type": "code",
   "execution_count": 146,
   "metadata": {
    "colab": {},
    "colab_type": "code",
    "id": "ak1U_I7D4c91"
   },
   "outputs": [],
   "source": [
    "def make_pickle1(file_name, obj):\n",
    "    with open(file_name, 'wb') as f:\n",
    "        pickle.dump(geth(obj), f, pickle.HIGHEST_PROTOCOL)"
   ]
  },
  {
   "cell_type": "code",
   "execution_count": 147,
   "metadata": {
    "colab": {},
    "colab_type": "code",
    "id": "mW2z9nOW4c98"
   },
   "outputs": [],
   "source": [
    "def make_pickle2(file_name, obj):\n",
    "    with open(file_name, 'wb') as f:\n",
    "        pickle.dump(obj, f, pickle.HIGHEST_PROTOCOL)"
   ]
  },
  {
   "cell_type": "code",
   "execution_count": 148,
   "metadata": {
    "colab": {},
    "colab_type": "code",
    "id": "cZDRJv3D4c-D"
   },
   "outputs": [],
   "source": [
    "def get_pickle(file_name):\n",
    "    with open(file_name, 'rb') as f:\n",
    "        return pickle.load(f)"
   ]
  },
  {
   "cell_type": "code",
   "execution_count": 149,
   "metadata": {
    "colab": {},
    "colab_type": "code",
    "id": "CkQw1tDF4c-I"
   },
   "outputs": [],
   "source": [
    "def geth(obj):\n",
    "    obj = str(obj).encode()\n",
    "    m = hashlib.md5()\n",
    "    m.update( bytes(obj) )\n",
    "    return m.hexdigest()"
   ]
  },
  {
   "cell_type": "code",
   "execution_count": 157,
   "metadata": {
    "colab": {},
    "colab_type": "code",
    "id": "XQ7sGahh4c-O"
   },
   "outputs": [],
   "source": [
    "def pickling():\n",
    "    make_pickle1('q1.pickle', q1)\n",
    "    make_pickle2('q1b.pickle', q1)\n",
    "    make_pickle1('q2.pickle', q2)\n",
    "    make_pickle2('q2b.pickle', q2)\n",
    "    make_pickle1('q3.pickle', q3)\n",
    "    make_pickle2('q3b.pickle', q3)\n",
    "    make_pickle1('q4.pickle', q4)\n",
    "    make_pickle2('q4b.pickle', q4)\n",
    "    make_pickle1('q5.pickle', q5)\n",
    "    make_pickle2('q5b.pickle', q5)\n",
    "\n",
    "    \n",
    "    \n",
    "pickling()"
   ]
  },
  {
   "cell_type": "markdown",
   "metadata": {
    "colab": {},
    "colab_type": "code",
    "id": "pKW-JLXu4c-h"
   },
   "source": [
    "### Run  the below cell to run preliminary tests"
   ]
  },
  {
   "cell_type": "code",
   "execution_count": 158,
   "metadata": {
    "colab": {},
    "colab_type": "code",
    "id": "YsuOrNuV4c-n"
   },
   "outputs": [
    {
     "name": "stdout",
     "output_type": "stream",
     "text": [
      "============================= test session starts =============================\n",
      "platform win32 -- Python 3.8.8, pytest-3.7.4, py-1.10.0, pluggy-0.13.1\n",
      "rootdir: C:\\Users\\Sudip\\Sudip_ML\\DataScienceE2\\Sprint1_Assessment, inifile:\n",
      "plugins: anyio-2.2.0\n",
      "collected 5 items\n",
      "\n",
      "tests\\test_4.py .....                                                    [100%]\n",
      "\n",
      "========================== 5 passed in 0.18 seconds ===========================\n"
     ]
    }
   ],
   "source": [
    "!py.test tests/test_4.py"
   ]
  },
  {
   "cell_type": "code",
   "execution_count": null,
   "metadata": {},
   "outputs": [],
   "source": []
  }
 ],
 "metadata": {
  "colab": {
   "collapsed_sections": [
    "ObcGoVjQhcoD",
    "E_sr8H4KhcoZ",
    "bAzrFcV9hcpN",
    "qVq_a1M_UnI_"
   ],
   "name": "Bias_EDA_Question.ipynb",
   "provenance": []
  },
  "kernelspec": {
   "display_name": "Python 3",
   "language": "python",
   "name": "python3"
  },
  "language_info": {
   "codemirror_mode": {
    "name": "ipython",
    "version": 3
   },
   "file_extension": ".py",
   "mimetype": "text/x-python",
   "name": "python",
   "nbconvert_exporter": "python",
   "pygments_lexer": "ipython3",
   "version": "3.8.8"
  }
 },
 "nbformat": 4,
 "nbformat_minor": 4
}

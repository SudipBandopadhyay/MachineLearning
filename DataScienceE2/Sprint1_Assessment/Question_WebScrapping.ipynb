{
 "cells": [
  {
   "cell_type": "markdown",
   "metadata": {
    "colab_type": "text",
    "id": "TuTQ9GCkF2wT"
   },
   "source": [
    "## The website link for Scraping\n",
    "http://weather-prediction.surge.sh/"
   ]
  },
  {
   "cell_type": "markdown",
   "metadata": {
    "colab_type": "text",
    "id": "atEaN7khqU_r"
   },
   "source": [
    "## Instructions\n",
    "\n",
    "1. Follow the instructions in each of the cell\n",
    "\n",
    "2. Make sure not to delete any of the cells"
   ]
  },
  {
   "cell_type": "markdown",
   "metadata": {},
   "source": [
    "#### Run the below cell to install the required packages"
   ]
  },
  {
   "cell_type": "code",
   "execution_count": 2,
   "metadata": {},
   "outputs": [
    {
     "name": "stdout",
     "output_type": "stream",
     "text": [
      "Collecting pytest==3.7.4\n",
      "  Downloading pytest-3.7.4-py2.py3-none-any.whl (204 kB)\n",
      "\u001b[K     |████████████████████████████████| 204 kB 2.1 MB/s eta 0:00:01\n",
      "\u001b[?25hRequirement already satisfied: attrs>=17.4.0 in /opt/conda/lib/python3.7/site-packages (from pytest==3.7.4) (20.2.0)\n",
      "Requirement already satisfied: six>=1.10.0 in /opt/conda/lib/python3.7/site-packages (from pytest==3.7.4) (1.15.0)\n",
      "Collecting atomicwrites>=1.0\n",
      "  Downloading atomicwrites-1.4.0-py2.py3-none-any.whl (6.8 kB)\n",
      "Requirement already satisfied: setuptools in /opt/conda/lib/python3.7/site-packages (from pytest==3.7.4) (49.6.0.post20201009)\n",
      "Collecting pluggy>=0.7\n",
      "  Downloading pluggy-1.0.0-py2.py3-none-any.whl (13 kB)\n",
      "Collecting py>=1.5.0\n",
      "  Downloading py-1.10.0-py2.py3-none-any.whl (97 kB)\n",
      "\u001b[K     |████████████████████████████████| 97 kB 7.5 MB/s  eta 0:00:01\n",
      "\u001b[?25hCollecting more-itertools>=4.0.0\n",
      "  Downloading more_itertools-8.9.0-py3-none-any.whl (51 kB)\n",
      "\u001b[K     |████████████████████████████████| 51 kB 329 kB/s  eta 0:00:01\n",
      "\u001b[?25hRequirement already satisfied: importlib-metadata>=0.12; python_version < \"3.8\" in /opt/conda/lib/python3.7/site-packages (from pluggy>=0.7->pytest==3.7.4) (2.0.0)\n",
      "Requirement already satisfied: zipp>=0.5 in /opt/conda/lib/python3.7/site-packages (from importlib-metadata>=0.12; python_version < \"3.8\"->pluggy>=0.7->pytest==3.7.4) (3.4.0)\n",
      "Installing collected packages: atomicwrites, pluggy, py, more-itertools, pytest\n",
      "Successfully installed atomicwrites-1.4.0 more-itertools-8.9.0 pluggy-1.0.0 py-1.10.0 pytest-3.7.4\n",
      "Collecting lxml\n",
      "  Downloading lxml-4.6.3-cp37-cp37m-manylinux2014_x86_64.whl (6.3 MB)\n",
      "\u001b[K     |████████████████████████████████| 6.3 MB 2.0 MB/s eta 0:00:01\n",
      "\u001b[?25hInstalling collected packages: lxml\n",
      "Successfully installed lxml-4.6.3\n"
     ]
    }
   ],
   "source": [
    "!pip3 install pytest==3.7.4\n",
    "!pip3 install lxml"
   ]
  },
  {
   "cell_type": "code",
   "execution_count": 13,
   "metadata": {
    "colab": {},
    "colab_type": "code",
    "id": "gWnmcB-SqVAR"
   },
   "outputs": [],
   "source": [
    "#import statements\n",
    "import pandas as pd\n",
    "import numpy as np\n",
    "\n"
   ]
  },
  {
   "cell_type": "markdown",
   "metadata": {
    "colab_type": "text",
    "id": "NyuM5fFHF2xS"
   },
   "source": [
    "#### The scraped dataframe must contain these columns in the same order and the datatype of these columns should be as per the table given below\n",
    "\n",
    "( 'station', 'Date', 'Present_Tmax', 'Present_Tmin', 'LDAPS_RHmin',\n",
    "       'LDAPS_RHmax', 'LDAPS_Tmax_lapse', 'LDAPS_Tmin_lapse', 'LDAPS_WS',\n",
    "       'LDAPS_LH', 'LDAPS_CC1', 'LDAPS_CC2', 'LDAPS_CC3', 'LDAPS_CC4',\n",
    "       'LDAPS_PPT1', 'LDAPS_PPT2', 'LDAPS_PPT3', 'LDAPS_PPT4', 'lat', 'lon',\n",
    "       'DEM', 'Slope', 'Solar radiation', 'Next_Tmax', 'Next_Tmin' )"
   ]
  },
  {
   "cell_type": "markdown",
   "metadata": {
    "colab_type": "text",
    "id": "Gun1PPxGF2xc"
   },
   "source": [
    "| Col.No | Col.Name           | Col.Datatype |\n",
    "| --- | --- | --- |\n",
    "| 1      | station                | integer        |\n",
    "| 2      | Date             | string         |\n",
    "| 3      | Present_Tmax           | float         |\n",
    "| 4      | Present_Tmin             | float         |\n",
    "| 5      | LDAPS_RHmin       | float         |\n",
    "| 6      | LDAPS_RHmax     | float         |\n",
    "| 7      | LDAPS_Tmax_lapse     | float         |\n",
    "| 8      | LDAPS_Tmin_lapse       | float         |\n",
    "| 9      | LDAPS_WS              | float       |\n",
    "| 10     | LDAPS_LH           | float         |\n",
    "| 11     | LDAPS_CC1             | float         |\n",
    "| 12     | LDAPS_CC2       | float         |\n",
    "| 13      | LDAPS_CC3     | float         |\n",
    "| 14      | LDAPS_CC4     | float         |\n",
    "| 15      | LDAPS_PPT1       | float         |\n",
    "| 16      | LDAPS_PPT2              | float       |\n",
    "| 17      | LDAPS_PPT3     | float         |\n",
    "| 18      | LDAPS_PPT4       | float         |\n",
    "| 19      | lat              | float       |\n",
    "| 20     | lon           | float         |\n",
    "| 21     | DEM             | float         |\n",
    "| 22     | Slope       | float         |\n",
    "| 23      | Solar radiation     | float         |\n",
    "| 24      | Next_Tmax     | float         |\n",
    "| 25      | Next_Tmin       | float         |\n"
   ]
  },
  {
   "cell_type": "code",
   "execution_count": 14,
   "metadata": {
    "colab": {},
    "colab_type": "code",
    "id": "fsLF_DZnSFWG"
   },
   "outputs": [],
   "source": [
    "data = pd.read_html('http://weather-prediction.surge.sh/')\n",
    "df=data[0]"
   ]
  },
  {
   "cell_type": "code",
   "execution_count": null,
   "metadata": {
    "colab": {},
    "colab_type": "code",
    "id": "oe9K-sq9SE4n"
   },
   "outputs": [],
   "source": []
  },
  {
   "cell_type": "code",
   "execution_count": 15,
   "metadata": {
    "colab": {},
    "colab_type": "code",
    "id": "hoBXNXY9SE0u"
   },
   "outputs": [
    {
     "data": {
      "text/plain": [
       "station               int64\n",
       "Date                 object\n",
       "Present_Tmax        float64\n",
       "Present_Tmin        float64\n",
       "LDAPS_RHmin         float64\n",
       "LDAPS_RHmax         float64\n",
       "LDAPS_Tmax_lapse    float64\n",
       "LDAPS_Tmin_lapse    float64\n",
       "LDAPS_WS            float64\n",
       "LDAPS_LH            float64\n",
       "LDAPS_CC1           float64\n",
       "LDAPS_CC2           float64\n",
       "LDAPS_CC3           float64\n",
       "LDAPS_CC4           float64\n",
       "LDAPS_PPT1          float64\n",
       "LDAPS_PPT2          float64\n",
       "LDAPS_PPT3          float64\n",
       "LDAPS_PPT4          float64\n",
       "lat                 float64\n",
       "lon                 float64\n",
       "DEM                 float64\n",
       "Slope               float64\n",
       "Solar_radiation     float64\n",
       "Next_Tmax           float64\n",
       "Next_Tmin           float64\n",
       "dtype: object"
      ]
     },
     "execution_count": 15,
     "metadata": {},
     "output_type": "execute_result"
    }
   ],
   "source": [
    "df.dtypes"
   ]
  },
  {
   "cell_type": "code",
   "execution_count": null,
   "metadata": {
    "colab": {},
    "colab_type": "code",
    "id": "MsiJbS--SExX"
   },
   "outputs": [],
   "source": []
  },
  {
   "cell_type": "code",
   "execution_count": null,
   "metadata": {
    "colab": {},
    "colab_type": "code",
    "id": "3oXjdY2eSEg6"
   },
   "outputs": [],
   "source": []
  },
  {
   "cell_type": "markdown",
   "metadata": {
    "colab_type": "text",
    "id": "B_dTYGEKqVBM"
   },
   "source": [
    "## Q1: Return the (row)Entire Data from the 'station' no '16' on \"June 30th 2013\"   in the table from the given link (as a list) \n",
    "### NOTE:The values must contain the same Datatype as the columns in the Dataframe.\n"
   ]
  },
  {
   "cell_type": "code",
   "execution_count": 5,
   "metadata": {
    "colab": {},
    "colab_type": "code",
    "id": "bwjudsk_SOsy"
   },
   "outputs": [],
   "source": [
    "df1 = df[(df['station']==16) & (df['Date']=='30-06-13')]\n"
   ]
  },
  {
   "cell_type": "code",
   "execution_count": null,
   "metadata": {
    "colab": {},
    "colab_type": "code",
    "id": "1iEKYfqoSOWZ"
   },
   "outputs": [],
   "source": []
  },
  {
   "cell_type": "code",
   "execution_count": null,
   "metadata": {
    "colab": {},
    "colab_type": "code",
    "id": "CUyufrSlSOK4"
   },
   "outputs": [],
   "source": []
  },
  {
   "cell_type": "code",
   "execution_count": 11,
   "metadata": {
    "colab": {},
    "colab_type": "code",
    "id": "KoZbohmdqVBc"
   },
   "outputs": [],
   "source": [
    "# Assign your answer to this variable.\n",
    "\n",
    "q1=df1.values.tolist()[0]\n"
   ]
  },
  {
   "cell_type": "markdown",
   "metadata": {
    "colab_type": "text",
    "id": "yqQrGuhYPF4r"
   },
   "source": [
    "## Q2: Return the Entire data on the day \"26th July 2013\"  from all the stations as a LIST of 25 LISTS(25 Rows)  \n",
    "### NOTE:The values must contain the same Datatype as the columns in the Dataframe.\n"
   ]
  },
  {
   "cell_type": "code",
   "execution_count": 7,
   "metadata": {
    "colab": {},
    "colab_type": "code",
    "id": "DhaDwUhYU5ai"
   },
   "outputs": [],
   "source": [
    "df2 = df[ (df['Date']=='26-07-13')]"
   ]
  },
  {
   "cell_type": "code",
   "execution_count": null,
   "metadata": {
    "colab": {},
    "colab_type": "code",
    "id": "CZeZUnn8U5WM"
   },
   "outputs": [],
   "source": []
  },
  {
   "cell_type": "code",
   "execution_count": null,
   "metadata": {
    "colab": {},
    "colab_type": "code",
    "id": "jpzoD9VOU5UZ"
   },
   "outputs": [],
   "source": []
  },
  {
   "cell_type": "code",
   "execution_count": 18,
   "metadata": {
    "colab": {},
    "colab_type": "code",
    "id": "MFVabEjAO8x2"
   },
   "outputs": [
    {
     "data": {
      "text/plain": [
       "25"
      ]
     },
     "execution_count": 18,
     "metadata": {},
     "output_type": "execute_result"
    }
   ],
   "source": [
    "# Assign your answer to this variable.\n",
    "\n",
    "q2=df2.values.tolist()\n",
    "len(q2)"
   ]
  },
  {
   "cell_type": "markdown",
   "metadata": {
    "colab_type": "text",
    "id": "ULUEfuaMF2yl"
   },
   "source": [
    "## Q3: Return the dataframe\n",
    "\n"
   ]
  },
  {
   "cell_type": "code",
   "execution_count": 9,
   "metadata": {
    "colab": {},
    "colab_type": "code",
    "id": "XpZFClLdqVCn"
   },
   "outputs": [],
   "source": [
    "# Assign your answer to this variable.\n",
    "\n",
    "\n",
    "q3=df"
   ]
  },
  {
   "cell_type": "markdown",
   "metadata": {
    "colab_type": "text",
    "id": "sjJ5RJXDqVDV"
   },
   "source": [
    "## Make sure you run the below cell to validate\n",
    "### Do not delete the cell"
   ]
  },
  {
   "cell_type": "code",
   "execution_count": 55,
   "metadata": {
    "colab": {},
    "colab_type": "code",
    "id": "5GyGuFX4qVDn"
   },
   "outputs": [],
   "source": [
    "import pickle\n",
    "import hashlib\n",
    "\n",
    "def make_pickle1(file_name, obj):\n",
    "    with open(file_name, 'wb') as f:\n",
    "        pickle.dump(geth(obj), f, pickle.HIGHEST_PROTOCOL)\n",
    "\n",
    "def make_pickle2(file_name, obj):\n",
    "    with open(file_name, 'wb') as f:\n",
    "        pickle.dump(obj, f, pickle.HIGHEST_PROTOCOL)\n",
    "\n",
    "def get_pickle(file_name):\n",
    "    with open(file_name, 'rb') as f:\n",
    "        return pickle.load(f)\n",
    "\n",
    "def geth(obj):\n",
    "    obj = str(obj).encode()\n",
    "    m = hashlib.md5()\n",
    "    m.update( bytes(obj) )\n",
    "    return m.hexdigest()\n",
    "\n",
    "def pickling():\n",
    "    make_pickle2('q1.pickle', q1)\n",
    "    make_pickle2('q2.pickle', q2)\n",
    "    make_pickle2('q3.pickle', q3)\n",
    "\n",
    "    \n",
    "    \n",
    "pickling()"
   ]
  },
  {
   "cell_type": "markdown",
   "metadata": {},
   "source": [
    "### Run  the below cell to run preliminary tests"
   ]
  },
  {
   "cell_type": "code",
   "execution_count": 56,
   "metadata": {},
   "outputs": [
    {
     "name": "stdout",
     "output_type": "stream",
     "text": [
      "\u001b[1m============================= test session starts ==============================\u001b[0m\n",
      "platform linux -- Python 3.7.8, pytest-3.7.4, py-1.10.0, pluggy-1.0.0\n",
      "rootdir: /projects/challenge, inifile:\n",
      "collected 3 items                                                              \u001b[0m\u001b[1m\n",
      "\n",
      "tests/test_1.py ...\u001b[36m                                                      [100%]\u001b[0m\n",
      "\n",
      "\u001b[32m\u001b[1m=========================== 3 passed in 0.55 seconds ===========================\u001b[0m\n"
     ]
    }
   ],
   "source": [
    "!py.test tests/test_1.py"
   ]
  },
  {
   "cell_type": "code",
   "execution_count": null,
   "metadata": {},
   "outputs": [],
   "source": []
  }
 ],
 "metadata": {
  "colab": {
   "collapsed_sections": [],
   "name": "Question.ipynb",
   "provenance": []
  },
  "kernelspec": {
   "display_name": "Python 3",
   "language": "python",
   "name": "python3"
  },
  "language_info": {
   "codemirror_mode": {
    "name": "ipython",
    "version": 3
   },
   "file_extension": ".py",
   "mimetype": "text/x-python",
   "name": "python",
   "nbconvert_exporter": "python",
   "pygments_lexer": "ipython3",
   "version": "3.8.8"
  }
 },
 "nbformat": 4,
 "nbformat_minor": 4
}

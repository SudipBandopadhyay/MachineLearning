{
 "cells": [
  {
   "cell_type": "code",
   "execution_count": null,
   "id": "f8fc91c9",
   "metadata": {},
   "outputs": [],
   "source": [
    "# Enter your code here. Read input from STDIN. Print output to STDOUT\n",
    "def TallestTower(a):\n",
    "    import numpy as np\n",
    "    #print(a.split())\n",
    "    input= a.split()\n",
    "    rows = int(input[0])\n",
    "    columns =int(input[1])\n",
    "    #print(rows, columns)\n",
    "    list=input[2:]\n",
    "    \n",
    "    final_list=[]               \n",
    "    start = 0\n",
    "    end = columns\n",
    "    counter = 0\n",
    "    height =[]\n",
    "    final_list =a = np.array(list).reshape((int(rows),int(columns)))\n",
    "    #print(final_list)\n",
    "    for i in reversed(range(columns)):\n",
    "        counter = 0\n",
    "        for j in reversed(range(rows)):\n",
    "            if int(final_list[j,i]) ==1 :\n",
    "                counter = counter+1\n",
    "            if int(final_list[j,i]) ==0 :\n",
    "                break\n",
    "        height.append(counter)\n",
    "    #print(height)\n",
    "    #print(sorted(height,reverse=True))\n",
    "    output=sorted(height,reverse=True)\n",
    "    return output\n",
    "                \n",
    "        \n",
    "    \n",
    "if __name__ == '__main__':\n",
    "    import sys\n",
    "    s = sys.stdin.read()\n",
    "    #print(s)\n",
    "    output = TallestTower(s)\n",
    "    print(output)\n",
    "    "
   ]
  },
  {
   "cell_type": "code",
   "execution_count": 1,
   "id": "5d27fa0a",
   "metadata": {},
   "outputs": [
    {
     "ename": "SyntaxError",
     "evalue": "EOL while scanning string literal (<ipython-input-1-6b36ee38c1f4>, line 2)",
     "output_type": "error",
     "traceback": [
      "\u001b[1;36m  File \u001b[1;32m\"<ipython-input-1-6b36ee38c1f4>\"\u001b[1;36m, line \u001b[1;32m2\u001b[0m\n\u001b[1;33m    a= raw_input('6 5\u001b[0m\n\u001b[1;37m                     ^\u001b[0m\n\u001b[1;31mSyntaxError\u001b[0m\u001b[1;31m:\u001b[0m EOL while scanning string literal\n"
     ]
    }
   ],
   "source": []
  },
  {
   "cell_type": "code",
   "execution_count": null,
   "id": "4efc4885",
   "metadata": {},
   "outputs": [],
   "source": []
  }
 ],
 "metadata": {
  "kernelspec": {
   "display_name": "Python 3",
   "language": "python",
   "name": "python3"
  },
  "language_info": {
   "codemirror_mode": {
    "name": "ipython",
    "version": 3
   },
   "file_extension": ".py",
   "mimetype": "text/x-python",
   "name": "python",
   "nbconvert_exporter": "python",
   "pygments_lexer": "ipython3",
   "version": "3.8.8"
  }
 },
 "nbformat": 4,
 "nbformat_minor": 5
}

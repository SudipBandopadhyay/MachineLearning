{
 "cells": [
  {
   "cell_type": "code",
   "execution_count": 1,
   "id": "437f0ef6",
   "metadata": {},
   "outputs": [],
   "source": [
    "import pandas as pd"
   ]
  },
  {
   "cell_type": "code",
   "execution_count": 17,
   "id": "50aeb25e",
   "metadata": {
    "scrolled": true
   },
   "outputs": [],
   "source": [
    "\n",
    "df = pd.read_html('http://uscar-price.surge.sh/')\n"
   ]
  },
  {
   "cell_type": "code",
   "execution_count": 18,
   "id": "c3dc9e07",
   "metadata": {},
   "outputs": [],
   "source": [
    "q1 = pd.DataFrame()\n",
    "q1 = df[0]"
   ]
  },
  {
   "cell_type": "code",
   "execution_count": 19,
   "id": "6b62f693",
   "metadata": {},
   "outputs": [],
   "source": [
    "\n",
    "company = ['toyota', 'ford', 'dodge', 'chevrolet', 'gmc', 'chrysler', 'kia',\n",
    "       'buick', 'infiniti', 'mercedes-benz', 'jeep', 'bmw', 'cadillac', 'chervolet', 'hyundai', 'mazda', 'honda', 'geep',\n",
    "       'heartland', 'jaguar', 'acura', 'harley-davidson',\n",
    "       'audi', 'lincoln', 'lexus', 'nissan', 'land', 'maserati',\n",
    "       'peterbilt', 'ram']"
   ]
  },
  {
   "cell_type": "code",
   "execution_count": 20,
   "id": "72745ed0",
   "metadata": {},
   "outputs": [],
   "source": [
    "q2 = q1[q1.brand.isin(company)]"
   ]
  },
  {
   "cell_type": "code",
   "execution_count": 21,
   "id": "46bd7e55",
   "metadata": {},
   "outputs": [
    {
     "data": {
      "text/plain": [
       "price             0\n",
       "brand             0\n",
       "model             0\n",
       "year              0\n",
       "title_status      0\n",
       "mileage         189\n",
       "color            48\n",
       "vin               0\n",
       "lot               0\n",
       "state             0\n",
       "country           0\n",
       "condition         0\n",
       "dtype: int64"
      ]
     },
     "execution_count": 21,
     "metadata": {},
     "output_type": "execute_result"
    }
   ],
   "source": [
    "q2.isnull().sum()"
   ]
  },
  {
   "cell_type": "code",
   "execution_count": 24,
   "id": "ba31abe1",
   "metadata": {},
   "outputs": [],
   "source": [
    "def match_colors(x):\n",
    "    if ('red' in x):\n",
    "        return 'red'\n",
    "    if ('black' in x):\n",
    "        return 'black'\n",
    "    if ('silver' in x):\n",
    "        return 'silver'\n",
    "    if ('blue' in x):\n",
    "        return 'blue'\n",
    "    if ('white' in x):\n",
    "        return 'white'\n",
    "    if ('orange' in x):\n",
    "        return 'orange'\n",
    "    if ('yellow' in x):\n",
    "        return 'yellow'\n",
    "    else:\n",
    "        return 'others'"
   ]
  },
  {
   "cell_type": "code",
   "execution_count": 26,
   "id": "c2c625be",
   "metadata": {},
   "outputs": [
    {
     "name": "stderr",
     "output_type": "stream",
     "text": [
      "<ipython-input-26-ae0463731ca0>:2: UserWarning: Pandas doesn't allow columns to be created via a new attribute name - see https://pandas.pydata.org/pandas-docs/stable/indexing.html#attribute-access\n",
      "  q21.colors = q21.color.apply(lambda x:match_colors(x))\n"
     ]
    }
   ],
   "source": [
    "q21 = q2[q2.color.notna()]\n",
    "q21.colors = q21.color.apply(lambda x:match_colors(x))"
   ]
  },
  {
   "cell_type": "code",
   "execution_count": 31,
   "id": "2c85b089",
   "metadata": {},
   "outputs": [
    {
     "data": {
      "text/plain": [
       "array(['10 days left', '6 days left', '2 days left', '22 hours left',\n",
       "       '20 hours left', '19 hours left', '3 days left', '21 hours left',\n",
       "       '17 hours left', '2 hours left', '3 hours left', '34 minutes',\n",
       "       '16 hours left', '18 hours left', '1 days left', '32 minutes',\n",
       "       '14 hours left', '5 hours left', '4 days left', '9 days left',\n",
       "       '23 hours left', '8 days left', '7 days left', '5 days left',\n",
       "       '9 minutes', '1 minutes', '7 hours left', '16 minutes',\n",
       "       '6 hours left', '1 hours left', 'Listing Expired', '13 days left',\n",
       "       '24 hours left', '15 hours left', '53 minutes', '27 minutes',\n",
       "       '12 days left', '15 days left', '30 minutes', '29 minutes',\n",
       "       '28 minutes', '48 minutes', '11 days left', '4 hours left',\n",
       "       '47 minutes', '12 hours left', '36 minutes'], dtype=object)"
      ]
     },
     "execution_count": 31,
     "metadata": {},
     "output_type": "execute_result"
    }
   ],
   "source": [
    "q3=q2.assign(color=q21.colors)\n",
    "q3.condition.unique()"
   ]
  },
  {
   "cell_type": "code",
   "execution_count": null,
   "id": "4efaea5e",
   "metadata": {},
   "outputs": [],
   "source": [
    "def convert_timne(x):\n",
    "    if ('days') is in x:\n",
    "        \n"
   ]
  },
  {
   "cell_type": "code",
   "execution_count": null,
   "id": "5e5f24f5",
   "metadata": {},
   "outputs": [],
   "source": []
  }
 ],
 "metadata": {
  "kernelspec": {
   "display_name": "Python 3",
   "language": "python",
   "name": "python3"
  },
  "language_info": {
   "codemirror_mode": {
    "name": "ipython",
    "version": 3
   },
   "file_extension": ".py",
   "mimetype": "text/x-python",
   "name": "python",
   "nbconvert_exporter": "python",
   "pygments_lexer": "ipython3",
   "version": "3.8.8"
  }
 },
 "nbformat": 4,
 "nbformat_minor": 5
}

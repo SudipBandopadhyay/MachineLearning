{
 "cells": [
  {
   "cell_type": "markdown",
   "metadata": {},
   "source": [
    "# PROBLEM STATEMENT"
   ]
  },
  {
   "cell_type": "markdown",
   "metadata": {},
   "source": [
    "## Instructions\n",
    "- Donot delete the cells with default code given\n",
    "- Make sure to run the last cell to save your answers"
   ]
  },
  {
   "cell_type": "markdown",
   "metadata": {},
   "source": [
    "- Dataset includes house sale prices for King County in USA. \n",
    "- Homes that are sold in the time period: May, 2014 and May, 2015.\n",
    "- Data Source: https://www.kaggle.com/harlfoxem/housesalesprediction\n",
    "\n",
    "- Columns:\n",
    "    - ida: notation for a house\n",
    "    - date: Date house was sold\n",
    "    - price: Price is prediction target\n",
    "    - bedrooms: Number of Bedrooms/House\n",
    "    - bathrooms: Number of bathrooms/House\n",
    "    - sqft_living: square footage of the home\n",
    "    - sqft_lot: square footage of the lot\n",
    "    - floors: Total floors (levels) in house\n",
    "    - waterfront: House which has a view to a waterfront\n",
    "    - view: Has been viewed\n",
    "    - condition: How good the condition is ( Overall )\n",
    "    - grade: overall grade given to the housing unit, based on King County grading system\n",
    "    - sqft_abovesquare: footage of house apart from basement\n",
    "    - sqft_basement: square footage of the basement\n",
    "    - yr_built: Built Year\n",
    "    - yr_renovated: Year when house was renovated\n",
    "    - zipcode: zip\n",
    "    - lat: Latitude coordinate\n",
    "    - long: Longitude coordinate\n",
    "    - sqft_living15: Living room area in 2015(implies-- some renovations) \n",
    "    - sqft_lot15: lotSize area in 2015(implies-- some renovations)"
   ]
  },
  {
   "cell_type": "markdown",
   "metadata": {},
   "source": [
    "# STEP #0: LIBRARIES IMPORT\n"
   ]
  },
  {
   "cell_type": "code",
   "execution_count": 67,
   "metadata": {},
   "outputs": [],
   "source": [
    "import pandas as pd\n",
    "import numpy as np \n",
    "import matplotlib.pyplot as plt\n",
    "import seaborn as sns"
   ]
  },
  {
   "cell_type": "markdown",
   "metadata": {},
   "source": [
    "# IMPORT DATASET"
   ]
  },
  {
   "cell_type": "markdown",
   "metadata": {},
   "source": [
    "### **Question 1**"
   ]
  },
  {
   "cell_type": "markdown",
   "metadata": {},
   "source": [
    "\n",
    "- Import the dataset 'kc_house_data.csv' and store it in variable `house_df`.\n",
    "- Note: Use proper Encoding format `ISO-8859-1`"
   ]
  },
  {
   "cell_type": "code",
   "execution_count": 2,
   "metadata": {},
   "outputs": [],
   "source": [
    "house_df=_"
   ]
  },
  {
   "cell_type": "markdown",
   "metadata": {},
   "source": [
    "## Question 2:\n",
    "Describe the dataset and store the mean values of bedrooms,view,condition in the list named `desc` in the same order mentioned rounded off to two decimal places."
   ]
  },
  {
   "cell_type": "code",
   "execution_count": 3,
   "metadata": {
    "scrolled": true
   },
   "outputs": [],
   "source": [
    "desc=_"
   ]
  },
  {
   "cell_type": "markdown",
   "metadata": {},
   "source": [
    "# VISUALIZE DATASET\n",
    "\n",
    "- Try executing the below cells with code to visualise the dataset and explore the details"
   ]
  },
  {
   "cell_type": "code",
   "execution_count": null,
   "metadata": {},
   "outputs": [],
   "source": [
    "sns.scatterplot(x = 'bedrooms', y = 'price', data = house_df)\n"
   ]
  },
  {
   "cell_type": "code",
   "execution_count": null,
   "metadata": {},
   "outputs": [],
   "source": [
    "sns.scatterplot(x = 'sqft_living', y = 'price', data = house_df)"
   ]
  },
  {
   "cell_type": "code",
   "execution_count": null,
   "metadata": {},
   "outputs": [],
   "source": [
    "sns.scatterplot(x = 'sqft_lot', y = 'price', data = house_df)"
   ]
  },
  {
   "cell_type": "code",
   "execution_count": null,
   "metadata": {},
   "outputs": [],
   "source": [
    "house_df.hist(bins=20,figsize=(20,20), color = 'r')"
   ]
  },
  {
   "cell_type": "code",
   "execution_count": null,
   "metadata": {},
   "outputs": [],
   "source": [
    "f, ax = plt.subplots(figsize=(20, 20))\n",
    "sns.heatmap(house_df.corr(), annot = True)"
   ]
  },
  {
   "cell_type": "markdown",
   "metadata": {},
   "source": [
    "# CREATE TESTING AND TRAINING DATASET/DATA CLEANING"
   ]
  },
  {
   "cell_type": "markdown",
   "metadata": {},
   "source": [
    "## Question 3\n",
    "\n",
    "In the given dataset **Price** column is the label column to be predicted.\n",
    "\n",
    "- Select the following features and store it in `X` dataframe.\n",
    "    1. 'bedrooms'\n",
    "    2. 'bathrooms\n",
    "    3. 'sqft_living'\n",
    "    4. 'sqft_lot'\n",
    "    5. 'floors'\n",
    "    6. 'sqft_above'\n",
    "    7. 'sqft_basement'\n",
    "    8. 'waterfront'\n",
    "    9. 'view'\n",
    "    10. 'condition'\n",
    "    11. 'grade'\n",
    "    12. 'sqft_above'\n",
    "    13. 'yr_built'\n",
    "    14. 'yr_renovated'\n",
    "    15. 'zipcode'\n",
    "    16. 'lat'\n",
    "    17. 'long'\n",
    "    18. 'sqft_living15'\n",
    "    19. 'sqft_lot15'\n",
    "    \n",
    "    \n",
    "- Store the `price` feature in `y` (Small y)"
   ]
  },
  {
   "cell_type": "code",
   "execution_count": 4,
   "metadata": {},
   "outputs": [],
   "source": [
    "X=_\n",
    "y=_"
   ]
  },
  {
   "cell_type": "markdown",
   "metadata": {},
   "source": [
    "# SPLITTING THE DATASET"
   ]
  },
  {
   "cell_type": "markdown",
   "metadata": {},
   "source": [
    "## Question 4\n",
    "- Split the dataset `X` and `Y` generated in the previous step in to training and testing set with the test size of 20%\n",
    "- Variables to be used X_train, X_test, y_train, y_test ."
   ]
  },
  {
   "cell_type": "code",
   "execution_count": null,
   "metadata": {},
   "outputs": [],
   "source": [
    "X_train, X_test, y_train, y_test = _\n"
   ]
  },
  {
   "cell_type": "markdown",
   "metadata": {},
   "source": [
    "# TRAINING THE MODEL WITH LINEAR REGRESSION"
   ]
  },
  {
   "cell_type": "markdown",
   "metadata": {},
   "source": [
    "## Question 5\n",
    "- Create a Linear Regression model and store it in variable `regressor`.\n",
    "- Fit the model with training dataset\n",
    "- Try to print out the values of coefficients and intercepts after fitting the data.\n"
   ]
  },
  {
   "cell_type": "code",
   "execution_count": null,
   "metadata": {},
   "outputs": [],
   "source": [
    "regressor=_"
   ]
  },
  {
   "cell_type": "markdown",
   "metadata": {},
   "source": [
    "# EVALUATE MODEL"
   ]
  },
  {
   "cell_type": "markdown",
   "metadata": {},
   "source": [
    "## QUestion 6\n",
    "- Use `regressor` to predict the labels of `X_test`.\n",
    "- Store the predicted values in variable `y_predict`."
   ]
  },
  {
   "cell_type": "code",
   "execution_count": null,
   "metadata": {},
   "outputs": [],
   "source": [
    "\n",
    "y_predict=_"
   ]
  },
  {
   "cell_type": "markdown",
   "metadata": {},
   "source": [
    "### Run the below cells to visualise how good your Linear Regression Model has predicted along with statistics."
   ]
  },
  {
   "cell_type": "code",
   "execution_count": null,
   "metadata": {},
   "outputs": [],
   "source": [
    "plt.plot(y_test, y_predict, \"^\", color = 'r')\n",
    "plt.xlim(0, 3000000)\n",
    "plt.ylim(0, 3000000)\n",
    "\n",
    "plt.xlabel(\"Model Predictions\")\n",
    "plt.ylabel(\"True Value (ground Truth)\")\n",
    "plt.title('Linear Regression Predictions')\n",
    "plt.show()"
   ]
  },
  {
   "cell_type": "code",
   "execution_count": null,
   "metadata": {},
   "outputs": [],
   "source": [
    "from sklearn.metrics import r2_score, mean_squared_error, mean_absolute_error\n",
    "from math import sqrt\n",
    "\n",
    "k = X_test.shape[1]\n",
    "n = len(X_test)\n",
    "RMSE = float(format(np.sqrt(mean_squared_error(y_test, y_predict)),'.3f'))\n",
    "MSE = mean_squared_error(y_test, y_predict)\n",
    "MAE = mean_absolute_error(y_test, y_predict)\n",
    "r2 = r2_score(y_test, y_predict)\n",
    "adj_r2 = 1-(1-r2)*(n-1)/(n-k-1)\n",
    "\n",
    "print('RMSE =',RMSE, '\\nMSE =',MSE, '\\nMAE =',MAE, '\\nR2 =', r2, '\\nAdjusted R2 =', adj_r2) \n"
   ]
  },
  {
   "cell_type": "markdown",
   "metadata": {},
   "source": [
    "# TRAINING and EVALUATING THE MODEL WITH RIDGE REGRESSION\n"
   ]
  },
  {
   "cell_type": "markdown",
   "metadata": {},
   "source": [
    "## Question 7\n",
    "\n",
    "**Training**\n",
    "- Create a Ridge Regression model and store it in variable `regressor_ridge`. Have alpha value as 50\n",
    "- Fit the model with training dataset\n",
    "- Try to print out the values of coefficients and intercepts after fitting the data.\n",
    "\n",
    "**Evaluation**\n",
    "- Use `regressor_ridge` to predict the labels of `X_test`.\n",
    "- Store the predicted values in variable `y_predict`.\n"
   ]
  },
  {
   "cell_type": "code",
   "execution_count": null,
   "metadata": {},
   "outputs": [],
   "source": [
    "regressor_ridge=_\n",
    "\n",
    "\n",
    "y_predict=_"
   ]
  },
  {
   "cell_type": "markdown",
   "metadata": {},
   "source": [
    "### Run the below cells to visualise how good your Ridge Regression Model has predicted along with statistics."
   ]
  },
  {
   "cell_type": "code",
   "execution_count": null,
   "metadata": {},
   "outputs": [],
   "source": [
    "\n",
    "plt.plot(y_test, y_predict, \"^\", color = 'r')\n",
    "plt.xlim(0, 3000000)\n",
    "plt.ylim(0, 3000000)\n",
    "\n",
    "plt.xlabel(\"Model Predictions\")\n",
    "plt.ylabel(\"True Value (ground Truth)\")\n",
    "plt.title('Ridge Regression Predictions')\n",
    "plt.show()"
   ]
  },
  {
   "cell_type": "code",
   "execution_count": null,
   "metadata": {},
   "outputs": [],
   "source": [
    "from sklearn.metrics import r2_score, mean_squared_error, mean_absolute_error\n",
    "from math import sqrt\n",
    "\n",
    "RMSE = float(format(np.sqrt(mean_squared_error(y_test, y_predict)),'.3f'))\n",
    "MSE = mean_squared_error(y_test, y_predict)\n",
    "MAE = mean_absolute_error(y_test, y_predict)\n",
    "r2 = r2_score(y_test, y_predict)\n",
    "adj_r2 = 1-(1-r2)*(n-1)/(n-k-1)\n",
    "\n",
    "print('RMSE =',RMSE, '\\nMSE =',MSE, '\\nMAE =',MAE, '\\nR2 =', r2, '\\nAdjusted R2 =', adj_r2) \n"
   ]
  },
  {
   "cell_type": "markdown",
   "metadata": {},
   "source": [
    "# TRAINING and EVALUATING THE MODEL WITH LASSO REGRESSION"
   ]
  },
  {
   "cell_type": "markdown",
   "metadata": {},
   "source": [
    "## Question 8\n",
    "\n",
    "**Training**\n",
    "- Create a Lasso Regression model and store it in variable `regressor_lasso`. Have alpha value as 500\n",
    "- Fit the model with training dataset\n",
    "- Try to print out the values of coefficients and intercepts after fitting the data.\n",
    "\n",
    "**Evaluation**\n",
    "- Use `regressor_lasso` to predict the labels of `X_test`.\n",
    "- Store the predicted values in variable `y_predict`.\n"
   ]
  },
  {
   "cell_type": "code",
   "execution_count": null,
   "metadata": {},
   "outputs": [],
   "source": [
    "regressor_lasso=_\n",
    "\n",
    "y_predict=_"
   ]
  },
  {
   "cell_type": "markdown",
   "metadata": {},
   "source": [
    "### Run the below cells to visualise how good your Lasso Regression Model has predicted along with statistics."
   ]
  },
  {
   "cell_type": "code",
   "execution_count": null,
   "metadata": {},
   "outputs": [],
   "source": [
    "\n",
    "plt.plot(y_test, y_predict, \"^\", color = 'r')\n",
    "plt.xlim(0, 3000000)\n",
    "plt.ylim(0, 3000000)\n",
    "\n",
    "plt.xlabel(\"Model Predictions\")\n",
    "plt.ylabel(\"True Value (ground Truth)\")\n",
    "plt.title('Lasso Regression Predictions')\n",
    "plt.show()"
   ]
  },
  {
   "cell_type": "code",
   "execution_count": null,
   "metadata": {},
   "outputs": [],
   "source": [
    "from sklearn.metrics import r2_score, mean_squared_error, mean_absolute_error\n",
    "from math import sqrt\n",
    "\n",
    "RMSE = float(format(np.sqrt(mean_squared_error(y_test, y_predict)),'.3f'))\n",
    "MSE = mean_squared_error(y_test, y_predict)\n",
    "MAE = mean_absolute_error(y_test, y_predict)\n",
    "r2 = r2_score(y_test, y_predict)\n",
    "adj_r2 = 1-(1-r2)*(n-1)/(n-k-1)\n",
    "\n",
    "print('RMSE =',RMSE, '\\nMSE =',MSE, '\\nMAE =',MAE, '\\nR2 =', r2, '\\nAdjusted R2 =', adj_r2) \n"
   ]
  },
  {
   "cell_type": "markdown",
   "metadata": {},
   "source": [
    "# SAVE YOUR ANSWERS"
   ]
  },
  {
   "cell_type": "markdown",
   "metadata": {},
   "source": [
    "# RUN THE BELOW CELLS TO SAVE YOUR ANSWERS"
   ]
  },
  {
   "cell_type": "code",
   "execution_count": 101,
   "metadata": {},
   "outputs": [],
   "source": [
    "import pickle\n",
    "\n",
    "def pickle1(file_name, obj):\n",
    "    with open(file_name,'wb')as f:\n",
    "        pickle.dump(obj,f)\n",
    "\n",
    "def pickling():\n",
    "    try:\n",
    "        pickle1('house_df.pickle',house_df.shape[0])\n",
    "    except:\n",
    "        print('house_df variable is not defined. Please check the variable')\n",
    "    try:\n",
    "        pickle1('desc.pickle',desc)\n",
    "    except:\n",
    "        print('desc variable is not defined. Please check the variable')\n",
    "    try:\n",
    "        pickle1('Xshape.pickle',X.shape[1])\n",
    "    except:\n",
    "        print('X variable is not defined. Please check the variable')\n",
    "    try:\n",
    "        pickle1('yshape.pickle',y.shape[0])\n",
    "    except:\n",
    "        print('y variable is not defined. Please check the variable')\n",
    "    try:\n",
    "        pickle1('Xtrain.pickle',X_train.shape[0])\n",
    "    except:\n",
    "        print('X_train is not defined. Please check the variable')\n",
    "    try:\n",
    "        pickle1('Xtest.pickle',X_test.shape[0])\n",
    "    except:\n",
    "        print('X_test variable is not defined. Please check the variable')\n",
    "     \n",
    "        \n",
    "pickling()               "
   ]
  }
 ],
 "metadata": {
  "kernelspec": {
   "display_name": "Python 3",
   "language": "python",
   "name": "python3"
  },
  "language_info": {
   "codemirror_mode": {
    "name": "ipython",
    "version": 3
   },
   "file_extension": ".py",
   "mimetype": "text/x-python",
   "name": "python",
   "nbconvert_exporter": "python",
   "pygments_lexer": "ipython3",
   "version": "3.8.8"
  },
  "widgets": {
   "state": {},
   "version": "1.1.2"
  }
 },
 "nbformat": 4,
 "nbformat_minor": 4
}

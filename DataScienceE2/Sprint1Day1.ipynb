{
 "cells": [
  {
   "cell_type": "code",
   "execution_count": 3,
   "id": "4ed78d20",
   "metadata": {},
   "outputs": [],
   "source": [
    "import pandas as pd"
   ]
  },
  {
   "cell_type": "code",
   "execution_count": 4,
   "id": "07045dcf",
   "metadata": {
    "scrolled": true
   },
   "outputs": [],
   "source": [
    "\n",
    "df = pd.read_html('http://uscar-price.surge.sh/')\n"
   ]
  },
  {
   "cell_type": "code",
   "execution_count": 26,
   "id": "08bc0e7d",
   "metadata": {},
   "outputs": [
    {
     "name": "stdout",
     "output_type": "stream",
     "text": [
      "price             int64\n",
      "brand            object\n",
      "model            object\n",
      "year              int64\n",
      "title_status     object\n",
      "mileage         float64\n",
      "color            object\n",
      "vin              object\n",
      "lot               int64\n",
      "state            object\n",
      "country          object\n",
      "condition        object\n",
      "dtype: object\n"
     ]
    },
    {
     "data": {
      "text/plain": [
       "price             int64\n",
       "brand            object\n",
       "model            object\n",
       "year              int64\n",
       "title_status     object\n",
       "mileage         float64\n",
       "color            object\n",
       "vin              object\n",
       "lot               int64\n",
       "state            object\n",
       "country          object\n",
       "condition        object\n",
       "dtype: object"
      ]
     },
     "execution_count": 26,
     "metadata": {},
     "output_type": "execute_result"
    }
   ],
   "source": [
    "q1 = pd.DataFrame()\n",
    "q1 = df[0]\n",
    "print(q1.dtypes)\n",
    "q1= q1.astype({\"brand\": str})\n",
    "q1.dtypes"
   ]
  },
  {
   "cell_type": "code",
   "execution_count": 27,
   "id": "0c25b8f3",
   "metadata": {},
   "outputs": [],
   "source": [
    "\n",
    "company = ['toyota', 'ford', 'dodge', 'chevrolet', 'gmc', 'chrysler', 'kia',\n",
    "       'buick', 'infiniti', 'mercedes-benz', 'jeep', 'bmw', 'cadillac', 'chervolet', 'hyundai', 'mazda', 'honda', 'geep',\n",
    "       'heartland', 'jaguar', 'acura', 'harley-davidson',\n",
    "       'audi', 'lincoln', 'lexus', 'nissan', 'land', 'maserati',\n",
    "       'peterbilt', 'ram']"
   ]
  },
  {
   "cell_type": "code",
   "execution_count": 28,
   "id": "dcf3c055",
   "metadata": {},
   "outputs": [],
   "source": [
    "q2 = q1[q1.brand.isin(company)]"
   ]
  },
  {
   "cell_type": "code",
   "execution_count": 29,
   "id": "3699900c",
   "metadata": {},
   "outputs": [
    {
     "data": {
      "text/plain": [
       "price             0\n",
       "brand             0\n",
       "model             0\n",
       "year              0\n",
       "title_status      0\n",
       "mileage         189\n",
       "color            48\n",
       "vin               0\n",
       "lot               0\n",
       "state             0\n",
       "country           0\n",
       "condition         0\n",
       "dtype: int64"
      ]
     },
     "execution_count": 29,
     "metadata": {},
     "output_type": "execute_result"
    }
   ],
   "source": [
    "q2.isnull().sum()"
   ]
  },
  {
   "cell_type": "code",
   "execution_count": 30,
   "id": "ff87d5bf",
   "metadata": {},
   "outputs": [],
   "source": [
    "def match_colors(x):\n",
    "    if ('red' in x):\n",
    "        return 'red'\n",
    "    if ('black' in x):\n",
    "        return 'black'\n",
    "    if ('silver' in x):\n",
    "        return 'silver'\n",
    "    if ('blue' in x):\n",
    "        return 'blue'\n",
    "    if ('white' in x):\n",
    "        return 'white'\n",
    "    if ('orange' in x):\n",
    "        return 'orange'\n",
    "    if ('yellow' in x):\n",
    "        return 'yellow'\n",
    "    else:\n",
    "        return 'others'"
   ]
  },
  {
   "cell_type": "code",
   "execution_count": 31,
   "id": "054778ed",
   "metadata": {},
   "outputs": [
    {
     "name": "stderr",
     "output_type": "stream",
     "text": [
      "<ipython-input-31-ae0463731ca0>:2: UserWarning: Pandas doesn't allow columns to be created via a new attribute name - see https://pandas.pydata.org/pandas-docs/stable/indexing.html#attribute-access\n",
      "  q21.colors = q21.color.apply(lambda x:match_colors(x))\n"
     ]
    }
   ],
   "source": [
    "q21 = q2[q2.color.notna()]\n",
    "q21.colors = q21.color.apply(lambda x:match_colors(x))"
   ]
  },
  {
   "cell_type": "code",
   "execution_count": 32,
   "id": "99b6a449",
   "metadata": {},
   "outputs": [
    {
     "data": {
      "text/plain": [
       "array(['10 days left', '6 days left', '2 days left', '22 hours left',\n",
       "       '20 hours left', '19 hours left', '3 days left', '21 hours left',\n",
       "       '17 hours left', '2 hours left', '3 hours left', '34 minutes',\n",
       "       '16 hours left', '18 hours left', '1 days left', '32 minutes',\n",
       "       '14 hours left', '5 hours left', '4 days left', '9 days left',\n",
       "       '23 hours left', '8 days left', '7 days left', '5 days left',\n",
       "       '9 minutes', '1 minutes', '7 hours left', '16 minutes',\n",
       "       '6 hours left', '1 hours left', 'Listing Expired', '13 days left',\n",
       "       '24 hours left', '15 hours left', '53 minutes', '27 minutes',\n",
       "       '12 days left', '15 days left', '30 minutes', '29 minutes',\n",
       "       '28 minutes', '48 minutes', '11 days left', '4 hours left',\n",
       "       '47 minutes', '12 hours left', '36 minutes'], dtype=object)"
      ]
     },
     "execution_count": 32,
     "metadata": {},
     "output_type": "execute_result"
    }
   ],
   "source": [
    "q3=q2.assign(color=q21.colors)\n",
    "q3.condition.unique()"
   ]
  },
  {
   "cell_type": "code",
   "execution_count": 33,
   "id": "a3aac57f",
   "metadata": {},
   "outputs": [],
   "source": [
    "def convert_time(x):\n",
    "    if ('days' in x):\n",
    "        return round(int(x[:-10])*24*60)\n",
    "    if ('hours' in x):\n",
    "        return round(int(x[:-11])*60)\n",
    "    if ('minutes' in x):\n",
    "        return round(int(x[:-8]))\n",
    "    if (x=='Listing Expired'):\n",
    "        return 0   \n",
    "    "
   ]
  },
  {
   "cell_type": "code",
   "execution_count": 40,
   "id": "48c6cd12",
   "metadata": {},
   "outputs": [
    {
     "data": {
      "text/plain": [
       "0       14400\n",
       "1        8640\n",
       "2        2880\n",
       "3        1320\n",
       "4        1320\n",
       "        ...  \n",
       "2494     1440\n",
       "2495     1260\n",
       "2496     1260\n",
       "2497     2880\n",
       "2498     1260\n",
       "Name: condition, Length: 2434, dtype: int64"
      ]
     },
     "execution_count": 40,
     "metadata": {},
     "output_type": "execute_result"
    }
   ],
   "source": [
    "q21.time = q21.condition.apply(lambda x:convert_time(x))\n",
    "q21.time"
   ]
  },
  {
   "cell_type": "code",
   "execution_count": 36,
   "id": "eebc4b90",
   "metadata": {},
   "outputs": [
    {
     "data": {
      "text/html": [
       "<div>\n",
       "<style scoped>\n",
       "    .dataframe tbody tr th:only-of-type {\n",
       "        vertical-align: middle;\n",
       "    }\n",
       "\n",
       "    .dataframe tbody tr th {\n",
       "        vertical-align: top;\n",
       "    }\n",
       "\n",
       "    .dataframe thead th {\n",
       "        text-align: right;\n",
       "    }\n",
       "</style>\n",
       "<table border=\"1\" class=\"dataframe\">\n",
       "  <thead>\n",
       "    <tr style=\"text-align: right;\">\n",
       "      <th></th>\n",
       "      <th>price</th>\n",
       "      <th>brand</th>\n",
       "      <th>model</th>\n",
       "      <th>year</th>\n",
       "      <th>title_status</th>\n",
       "      <th>mileage</th>\n",
       "      <th>color</th>\n",
       "      <th>vin</th>\n",
       "      <th>lot</th>\n",
       "      <th>state</th>\n",
       "      <th>country</th>\n",
       "      <th>condition</th>\n",
       "    </tr>\n",
       "  </thead>\n",
       "  <tbody>\n",
       "    <tr>\n",
       "      <th>0</th>\n",
       "      <td>6300</td>\n",
       "      <td>toyota</td>\n",
       "      <td>cruiser</td>\n",
       "      <td>2008</td>\n",
       "      <td>clean vehicle</td>\n",
       "      <td>274117.0</td>\n",
       "      <td>black</td>\n",
       "      <td>jtezu11f88k007763</td>\n",
       "      <td>159348797</td>\n",
       "      <td>new jersey</td>\n",
       "      <td>usa</td>\n",
       "      <td>14400.0</td>\n",
       "    </tr>\n",
       "    <tr>\n",
       "      <th>1</th>\n",
       "      <td>2899</td>\n",
       "      <td>ford</td>\n",
       "      <td>se</td>\n",
       "      <td>2011</td>\n",
       "      <td>clean vehicle</td>\n",
       "      <td>NaN</td>\n",
       "      <td>silver</td>\n",
       "      <td>2fmdk3gc4bbb02217</td>\n",
       "      <td>166951262</td>\n",
       "      <td>tennessee</td>\n",
       "      <td>usa</td>\n",
       "      <td>8640.0</td>\n",
       "    </tr>\n",
       "    <tr>\n",
       "      <th>2</th>\n",
       "      <td>5350</td>\n",
       "      <td>dodge</td>\n",
       "      <td>mpv</td>\n",
       "      <td>2018</td>\n",
       "      <td>clean vehicle</td>\n",
       "      <td>39590.0</td>\n",
       "      <td>silver</td>\n",
       "      <td>3c4pdcgg5jt346413</td>\n",
       "      <td>167655728</td>\n",
       "      <td>georgia</td>\n",
       "      <td>usa</td>\n",
       "      <td>2880.0</td>\n",
       "    </tr>\n",
       "    <tr>\n",
       "      <th>3</th>\n",
       "      <td>25000</td>\n",
       "      <td>ford</td>\n",
       "      <td>door</td>\n",
       "      <td>2014</td>\n",
       "      <td>clean vehicle</td>\n",
       "      <td>64146.0</td>\n",
       "      <td>blue</td>\n",
       "      <td>1ftfw1et4efc23745</td>\n",
       "      <td>167753855</td>\n",
       "      <td>virginia</td>\n",
       "      <td>usa</td>\n",
       "      <td>1320.0</td>\n",
       "    </tr>\n",
       "    <tr>\n",
       "      <th>4</th>\n",
       "      <td>27700</td>\n",
       "      <td>chevrolet</td>\n",
       "      <td>1500</td>\n",
       "      <td>2018</td>\n",
       "      <td>clean vehicle</td>\n",
       "      <td>6654.0</td>\n",
       "      <td>red</td>\n",
       "      <td>3gcpcrec2jg473991</td>\n",
       "      <td>167763266</td>\n",
       "      <td>florida</td>\n",
       "      <td>usa</td>\n",
       "      <td>1320.0</td>\n",
       "    </tr>\n",
       "    <tr>\n",
       "      <th>...</th>\n",
       "      <td>...</td>\n",
       "      <td>...</td>\n",
       "      <td>...</td>\n",
       "      <td>...</td>\n",
       "      <td>...</td>\n",
       "      <td>...</td>\n",
       "      <td>...</td>\n",
       "      <td>...</td>\n",
       "      <td>...</td>\n",
       "      <td>...</td>\n",
       "      <td>...</td>\n",
       "      <td>...</td>\n",
       "    </tr>\n",
       "    <tr>\n",
       "      <th>2494</th>\n",
       "      <td>7800</td>\n",
       "      <td>nissan</td>\n",
       "      <td>versa</td>\n",
       "      <td>2019</td>\n",
       "      <td>clean vehicle</td>\n",
       "      <td>23609.0</td>\n",
       "      <td>red</td>\n",
       "      <td>3n1cn7ap9kl880319</td>\n",
       "      <td>167722715</td>\n",
       "      <td>california</td>\n",
       "      <td>usa</td>\n",
       "      <td>1440.0</td>\n",
       "    </tr>\n",
       "    <tr>\n",
       "      <th>2495</th>\n",
       "      <td>9200</td>\n",
       "      <td>nissan</td>\n",
       "      <td>versa</td>\n",
       "      <td>2018</td>\n",
       "      <td>clean vehicle</td>\n",
       "      <td>34553.0</td>\n",
       "      <td>silver</td>\n",
       "      <td>3n1cn7ap5jl884088</td>\n",
       "      <td>167762225</td>\n",
       "      <td>florida</td>\n",
       "      <td>usa</td>\n",
       "      <td>1260.0</td>\n",
       "    </tr>\n",
       "    <tr>\n",
       "      <th>2496</th>\n",
       "      <td>9200</td>\n",
       "      <td>nissan</td>\n",
       "      <td>versa</td>\n",
       "      <td>2018</td>\n",
       "      <td>clean vehicle</td>\n",
       "      <td>31594.0</td>\n",
       "      <td>silver</td>\n",
       "      <td>3n1cn7ap9jl884191</td>\n",
       "      <td>167762226</td>\n",
       "      <td>florida</td>\n",
       "      <td>usa</td>\n",
       "      <td>1260.0</td>\n",
       "    </tr>\n",
       "    <tr>\n",
       "      <th>2497</th>\n",
       "      <td>9200</td>\n",
       "      <td>nissan</td>\n",
       "      <td>versa</td>\n",
       "      <td>2018</td>\n",
       "      <td>clean vehicle</td>\n",
       "      <td>32557.0</td>\n",
       "      <td>black</td>\n",
       "      <td>3n1cn7ap3jl883263</td>\n",
       "      <td>167762227</td>\n",
       "      <td>florida</td>\n",
       "      <td>usa</td>\n",
       "      <td>2880.0</td>\n",
       "    </tr>\n",
       "    <tr>\n",
       "      <th>2498</th>\n",
       "      <td>9200</td>\n",
       "      <td>nissan</td>\n",
       "      <td>versa</td>\n",
       "      <td>2018</td>\n",
       "      <td>clean vehicle</td>\n",
       "      <td>31371.0</td>\n",
       "      <td>silver</td>\n",
       "      <td>3n1cn7ap4jl884311</td>\n",
       "      <td>167762228</td>\n",
       "      <td>florida</td>\n",
       "      <td>usa</td>\n",
       "      <td>1260.0</td>\n",
       "    </tr>\n",
       "  </tbody>\n",
       "</table>\n",
       "<p>2482 rows × 12 columns</p>\n",
       "</div>"
      ],
      "text/plain": [
       "      price      brand    model  year   title_status   mileage   color  \\\n",
       "0      6300     toyota  cruiser  2008  clean vehicle  274117.0   black   \n",
       "1      2899       ford       se  2011  clean vehicle       NaN  silver   \n",
       "2      5350      dodge      mpv  2018  clean vehicle   39590.0  silver   \n",
       "3     25000       ford     door  2014  clean vehicle   64146.0    blue   \n",
       "4     27700  chevrolet     1500  2018  clean vehicle    6654.0     red   \n",
       "...     ...        ...      ...   ...            ...       ...     ...   \n",
       "2494   7800     nissan    versa  2019  clean vehicle   23609.0     red   \n",
       "2495   9200     nissan    versa  2018  clean vehicle   34553.0  silver   \n",
       "2496   9200     nissan    versa  2018  clean vehicle   31594.0  silver   \n",
       "2497   9200     nissan    versa  2018  clean vehicle   32557.0   black   \n",
       "2498   9200     nissan    versa  2018  clean vehicle   31371.0  silver   \n",
       "\n",
       "                    vin        lot       state country  condition  \n",
       "0     jtezu11f88k007763  159348797  new jersey     usa    14400.0  \n",
       "1     2fmdk3gc4bbb02217  166951262   tennessee     usa     8640.0  \n",
       "2     3c4pdcgg5jt346413  167655728     georgia     usa     2880.0  \n",
       "3     1ftfw1et4efc23745  167753855    virginia     usa     1320.0  \n",
       "4     3gcpcrec2jg473991  167763266     florida     usa     1320.0  \n",
       "...                 ...        ...         ...     ...        ...  \n",
       "2494  3n1cn7ap9kl880319  167722715  california     usa     1440.0  \n",
       "2495  3n1cn7ap5jl884088  167762225     florida     usa     1260.0  \n",
       "2496  3n1cn7ap9jl884191  167762226     florida     usa     1260.0  \n",
       "2497  3n1cn7ap3jl883263  167762227     florida     usa     2880.0  \n",
       "2498  3n1cn7ap4jl884311  167762228     florida     usa     1260.0  \n",
       "\n",
       "[2482 rows x 12 columns]"
      ]
     },
     "execution_count": 36,
     "metadata": {},
     "output_type": "execute_result"
    }
   ],
   "source": [
    "q4=q4.assign(condition=q21.time)\n",
    "q4\n",
    "#q4= q4.astype({\"condition\": int})"
   ]
  },
  {
   "cell_type": "code",
   "execution_count": null,
   "id": "5f5ce305",
   "metadata": {},
   "outputs": [],
   "source": []
  }
 ],
 "metadata": {
  "kernelspec": {
   "display_name": "Python 3",
   "language": "python",
   "name": "python3"
  },
  "language_info": {
   "codemirror_mode": {
    "name": "ipython",
    "version": 3
   },
   "file_extension": ".py",
   "mimetype": "text/x-python",
   "name": "python",
   "nbconvert_exporter": "python",
   "pygments_lexer": "ipython3",
   "version": "3.8.8"
  }
 },
 "nbformat": 4,
 "nbformat_minor": 5
}

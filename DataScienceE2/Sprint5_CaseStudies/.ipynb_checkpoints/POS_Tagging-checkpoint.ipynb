{
 "cells": [
  {
   "cell_type": "code",
   "execution_count": null,
   "id": "9699a92a",
   "metadata": {},
   "outputs": [],
   "source": [
    "import math\n",
    "import os\n",
    "import random\n",
    "import re\n",
    "import sys\n",
    "import zipfile\n",
    "os.environ['NLTK_DATA'] = os.getcwd() + \"/nltk_data\"\n",
    "from nltk.corpus import brown\n",
    "import nltk"
   ]
  },
  {
   "cell_type": "markdown",
   "id": "5662b22c",
   "metadata": {},
   "source": [
    "# Complete the 'tagPOS' function below.\n",
    "\n",
    "# The function accepts following parameters:\n",
    "#  1. STRING textcontent\n",
    "#  2. STRING taggedtextcontent"
   ]
  },
  {
   "cell_type": "code",
   "execution_count": null,
   "id": "233318fa",
   "metadata": {},
   "outputs": [],
   "source": [
    "def tagPOS(textcontent, taggedtextcontent, defined_tags):\n",
    "    # Write your code here"
   ]
  },
  {
   "cell_type": "code",
   "execution_count": null,
   "id": "c8de4792",
   "metadata": {},
   "outputs": [],
   "source": [
    "if __name__ == '__main__':\n",
    "    textcontent = 'Python is awesome.'\n",
    "\n",
    "    taggedtextcontent = 'Python/NNP is/VBZ awesome/DT ./.'\n",
    "    \n",
    "    '''if not os.path.exists(os.getcwd() + \"/nltk_data\"):\n",
    "        with zipfile.ZipFile(\"nltk_data.zip\", 'r') as zip_ref:\n",
    "            zip_ref.extractall(os.getcwd())'''\n",
    "\n",
    "    defined_tags = dict(brown.tagged_words(tagset='universal'))\n",
    "\n",
    "    nltk_pos_tags, tagged_pos_tag, unigram_pos_tag = tagPOS(textcontent, taggedtextcontent, defined_tags)\n",
    "\n",
    "    print(nltk_pos_tags)\n",
    "    print(tagged_pos_tag)\n",
    "    print(unigram_pos_tag)\n"
   ]
  },
  {
   "cell_type": "code",
   "execution_count": null,
   "id": "494bbc34",
   "metadata": {},
   "outputs": [],
   "source": []
  }
 ],
 "metadata": {
  "kernelspec": {
   "display_name": "Python 3",
   "language": "python",
   "name": "python3"
  },
  "language_info": {
   "codemirror_mode": {
    "name": "ipython",
    "version": 3
   },
   "file_extension": ".py",
   "mimetype": "text/x-python",
   "name": "python",
   "nbconvert_exporter": "python",
   "pygments_lexer": "ipython3",
   "version": "3.8.8"
  }
 },
 "nbformat": 4,
 "nbformat_minor": 5
}

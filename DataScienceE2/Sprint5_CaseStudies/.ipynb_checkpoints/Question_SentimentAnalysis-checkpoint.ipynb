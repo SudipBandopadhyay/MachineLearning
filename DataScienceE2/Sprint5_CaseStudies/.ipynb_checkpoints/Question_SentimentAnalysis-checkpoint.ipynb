{
 "cells": [
  {
   "cell_type": "markdown",
   "id": "e564fbfd",
   "metadata": {},
   "source": [
    "## **NLP Sentiment Analysis**\n",
    "Welcome to the Sentiment Analysis challenge, in this scenario, you are going to predict the sentiment for the given dataset SA_dataset.csv\n"
   ]
  },
  {
   "cell_type": "markdown",
   "id": "f33f94fb",
   "metadata": {},
   "source": [
    "# Instruction\n",
    "\n",
    "* The data set required for this task is given in the file name 'SA_dataset.csv'\n",
    "* Read the question then perform the solution and assign the answer to the respective variables given in the cells below\n",
    "* Run the cells one by one after completing the task\n",
    "* Write the solution in this notebook by adding cells and follow the given instructions below."
   ]
  },
  {
   "cell_type": "markdown",
   "id": "5ae29722",
   "metadata": {},
   "source": [
    "### Run the below cell to install the needed libraries\n",
    "\n",
    "**Note:**\n",
    "- If additional packages are needed, you can it installed in the notebook using the command:\n",
    "\n",
    "       !pip3 install --user package_name"
   ]
  },
  {
   "cell_type": "code",
   "execution_count": null,
   "id": "5af06fbb",
   "metadata": {},
   "outputs": [],
   "source": [
    "pip install nltk"
   ]
  },
  {
   "cell_type": "markdown",
   "id": "ab17b975",
   "metadata": {},
   "source": [
    "**Import required libraries for the task**"
   ]
  },
  {
   "cell_type": "code",
   "execution_count": 1,
   "id": "30713947",
   "metadata": {},
   "outputs": [
    {
     "name": "stderr",
     "output_type": "stream",
     "text": [
      "[nltk_data] Downloading package stopwords to\n",
      "[nltk_data]     C:\\Users\\Sudip\\AppData\\Roaming\\nltk_data...\n",
      "[nltk_data]   Package stopwords is already up-to-date!\n",
      "[nltk_data] Downloading package vader_lexicon to\n",
      "[nltk_data]     C:\\Users\\Sudip\\AppData\\Roaming\\nltk_data...\n"
     ]
    },
    {
     "data": {
      "text/plain": [
       "True"
      ]
     },
     "execution_count": 1,
     "metadata": {},
     "output_type": "execute_result"
    }
   ],
   "source": [
    "import pandas as pd\n",
    "import nltk\n",
    "import re\n",
    "from nltk.sentiment import SentimentIntensityAnalyzer\n",
    "nltk.download('stopwords')\n",
    "nltk.download('vader_lexicon')"
   ]
  },
  {
   "cell_type": "markdown",
   "id": "21b94c28",
   "metadata": {},
   "source": [
    "### Read the CSV file SA_dataset.csv"
   ]
  },
  {
   "cell_type": "code",
   "execution_count": 4,
   "id": "c165b5cc",
   "metadata": {},
   "outputs": [
    {
     "data": {
      "text/html": [
       "<div>\n",
       "<style scoped>\n",
       "    .dataframe tbody tr th:only-of-type {\n",
       "        vertical-align: middle;\n",
       "    }\n",
       "\n",
       "    .dataframe tbody tr th {\n",
       "        vertical-align: top;\n",
       "    }\n",
       "\n",
       "    .dataframe thead th {\n",
       "        text-align: right;\n",
       "    }\n",
       "</style>\n",
       "<table border=\"1\" class=\"dataframe\">\n",
       "  <thead>\n",
       "    <tr style=\"text-align: right;\">\n",
       "      <th></th>\n",
       "      <th>content</th>\n",
       "    </tr>\n",
       "  </thead>\n",
       "  <tbody>\n",
       "    <tr>\n",
       "      <th>0</th>\n",
       "      <td>I cannot open the app anymore</td>\n",
       "    </tr>\n",
       "    <tr>\n",
       "      <th>1</th>\n",
       "      <td>I have been begging for a refund from this app...</td>\n",
       "    </tr>\n",
       "    <tr>\n",
       "      <th>2</th>\n",
       "      <td>Very costly for the premium version (approx In...</td>\n",
       "    </tr>\n",
       "    <tr>\n",
       "      <th>3</th>\n",
       "      <td>Dan Birthday Oct 28</td>\n",
       "    </tr>\n",
       "    <tr>\n",
       "      <th>4</th>\n",
       "      <td>It has changed how I viewed my different lists...</td>\n",
       "    </tr>\n",
       "  </tbody>\n",
       "</table>\n",
       "</div>"
      ],
      "text/plain": [
       "                                             content\n",
       "0                      I cannot open the app anymore\n",
       "1  I have been begging for a refund from this app...\n",
       "2  Very costly for the premium version (approx In...\n",
       "3                                Dan Birthday Oct 28\n",
       "4  It has changed how I viewed my different lists..."
      ]
     },
     "execution_count": 4,
     "metadata": {},
     "output_type": "execute_result"
    }
   ],
   "source": [
    "#write your code below\n",
    "\n",
    "review = pd.read_csv('SA_dataset.csv')\n",
    "review.head(5)"
   ]
  },
  {
   "cell_type": "markdown",
   "id": "98add240",
   "metadata": {},
   "source": [
    "### Perform Sentiment Analysis of the given data set and store it as the 'sentiment.csv' and the column names should be 'content', 'sentiment' and 'value'\n",
    "\n",
    "- Column 'content' has the text as given in the dataset\n",
    "- Column 'sentiment' has the predictions **Positive** or **Negative**\n",
    "- Column 'value' has numerical values **1** or **0**. Store 1 if the content is positive, store 0 if the content is negative\n",
    "\n",
    "\n",
    "-     **The Sample output format**\n",
    "\n",
    "<img src=\"sample_output.PNG\">\n",
    "\n",
    "Note: Output must be 'sentiment.csv'(dataframe) file"
   ]
  },
  {
   "cell_type": "markdown",
   "id": "40554046",
   "metadata": {},
   "source": [
    "### Follow the Instructions given below\n",
    "\n",
    "- Read the data from the CSV file\n",
    "- Conver the content to lower case and remove the numbers, special charackers\n",
    "- Remove the stop words from the content\n",
    "- Create two columns 'sentiment' and 'value'\n",
    "- Predict the sentiment for the given data and store it to the respective columns\n",
    "- Once you done with the above steps save the dataframe as 'sentiment.csv' "
   ]
  },
  {
   "cell_type": "code",
   "execution_count": null,
   "id": "65ceec4b",
   "metadata": {},
   "outputs": [],
   "source": [
    "#Write your code here and add more cells as needed\n",
    "\n"
   ]
  },
  {
   "cell_type": "code",
   "execution_count": null,
   "id": "0e1e1eb9",
   "metadata": {},
   "outputs": [],
   "source": []
  },
  {
   "cell_type": "code",
   "execution_count": null,
   "id": "4307b181",
   "metadata": {},
   "outputs": [],
   "source": []
  },
  {
   "cell_type": "code",
   "execution_count": null,
   "id": "931f95ac",
   "metadata": {},
   "outputs": [],
   "source": []
  },
  {
   "cell_type": "code",
   "execution_count": null,
   "id": "137a1d04",
   "metadata": {},
   "outputs": [],
   "source": []
  },
  {
   "cell_type": "code",
   "execution_count": null,
   "id": "eb2632c6",
   "metadata": {},
   "outputs": [],
   "source": []
  },
  {
   "cell_type": "code",
   "execution_count": null,
   "id": "40372da8",
   "metadata": {},
   "outputs": [],
   "source": []
  },
  {
   "cell_type": "code",
   "execution_count": null,
   "id": "bf4eb5ff",
   "metadata": {},
   "outputs": [],
   "source": []
  },
  {
   "cell_type": "code",
   "execution_count": null,
   "id": "289fd2df",
   "metadata": {},
   "outputs": [],
   "source": []
  },
  {
   "cell_type": "code",
   "execution_count": null,
   "id": "3692dfbe",
   "metadata": {},
   "outputs": [],
   "source": []
  },
  {
   "cell_type": "code",
   "execution_count": null,
   "id": "d1b47c6e",
   "metadata": {},
   "outputs": [],
   "source": []
  },
  {
   "cell_type": "markdown",
   "id": "792d0972",
   "metadata": {},
   "source": [
    "### Run the below cell to tun the sample test"
   ]
  },
  {
   "cell_type": "code",
   "execution_count": null,
   "id": "9b9c434e",
   "metadata": {},
   "outputs": [],
   "source": [
    "!python sample_test.py"
   ]
  }
 ],
 "metadata": {
  "kernelspec": {
   "display_name": "Python 3",
   "language": "python",
   "name": "python3"
  },
  "language_info": {
   "codemirror_mode": {
    "name": "ipython",
    "version": 3
   },
   "file_extension": ".py",
   "mimetype": "text/x-python",
   "name": "python",
   "nbconvert_exporter": "python",
   "pygments_lexer": "ipython3",
   "version": "3.8.8"
  }
 },
 "nbformat": 4,
 "nbformat_minor": 5
}

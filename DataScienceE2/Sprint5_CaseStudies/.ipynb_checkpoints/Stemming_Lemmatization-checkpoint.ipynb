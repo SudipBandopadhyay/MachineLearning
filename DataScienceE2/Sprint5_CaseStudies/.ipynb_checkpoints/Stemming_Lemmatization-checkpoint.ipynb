{
 "cells": [
  {
   "cell_type": "code",
   "execution_count": null,
   "id": "74183a40",
   "metadata": {},
   "outputs": [],
   "source": [
    "import math\n",
    "import os\n",
    "import random\n",
    "import re\n",
    "import sys\n",
    "import zipfile\n",
    "os.environ['NLTK_DATA'] = os.getcwd()+\"/nltk_data\"\n",
    "import nltk"
   ]
  },
  {
   "cell_type": "markdown",
   "id": "ec85ff11",
   "metadata": {},
   "source": [
    "# Complete the 'performStemAndLemma' function below.\n",
    "# The function accepts STRING textcontent as parameter."
   ]
  },
  {
   "cell_type": "code",
   "execution_count": null,
   "id": "938da91d",
   "metadata": {},
   "outputs": [],
   "source": [
    "def performStemAndLemma(textcontent):\n",
    "    # Write your code here"
   ]
  },
  {
   "cell_type": "code",
   "execution_count": 4,
   "id": "3a15a543",
   "metadata": {},
   "outputs": [
    {
     "ename": "NameError",
     "evalue": "name 'performStemAndLemma' is not defined",
     "output_type": "error",
     "traceback": [
      "\u001b[1;31m---------------------------------------------------------------------------\u001b[0m",
      "\u001b[1;31mNameError\u001b[0m                                 Traceback (most recent call last)",
      "\u001b[1;32m<ipython-input-4-8b7f062643c2>\u001b[0m in \u001b[0;36m<module>\u001b[1;34m\u001b[0m\n\u001b[0;32m      6\u001b[0m             \u001b[0mzip_ref\u001b[0m\u001b[1;33m.\u001b[0m\u001b[0mextractall\u001b[0m\u001b[1;33m(\u001b[0m\u001b[0mos\u001b[0m\u001b[1;33m.\u001b[0m\u001b[0mgetcwd\u001b[0m\u001b[1;33m(\u001b[0m\u001b[1;33m)\u001b[0m\u001b[1;33m)\u001b[0m\u001b[1;33m\u001b[0m\u001b[1;33m\u001b[0m\u001b[0m\n\u001b[0;32m      7\u001b[0m '''\n\u001b[1;32m----> 8\u001b[1;33m     \u001b[0mporterstemmedwords\u001b[0m\u001b[1;33m,\u001b[0m \u001b[0mlancasterstemmedwords\u001b[0m\u001b[1;33m,\u001b[0m \u001b[0mlemmatizedwords\u001b[0m \u001b[1;33m=\u001b[0m \u001b[0mperformStemAndLemma\u001b[0m\u001b[1;33m(\u001b[0m\u001b[0mtextcontent\u001b[0m\u001b[1;33m)\u001b[0m\u001b[1;33m\u001b[0m\u001b[1;33m\u001b[0m\u001b[0m\n\u001b[0m\u001b[0;32m      9\u001b[0m \u001b[1;33m\u001b[0m\u001b[0m\n\u001b[0;32m     10\u001b[0m     \u001b[0mprint\u001b[0m\u001b[1;33m(\u001b[0m\u001b[0msorted\u001b[0m\u001b[1;33m(\u001b[0m\u001b[0mporterstemmedwords\u001b[0m\u001b[1;33m)\u001b[0m\u001b[1;33m)\u001b[0m\u001b[1;33m\u001b[0m\u001b[1;33m\u001b[0m\u001b[0m\n",
      "\u001b[1;31mNameError\u001b[0m: name 'performStemAndLemma' is not defined"
     ]
    }
   ],
   "source": [
    "if __name__ == '__main__':\n",
    "    textcontent =''' \"Explain to me again why I shouldn't cheat?\" he asked. \"All the others do and nobody ever gets punished for doing so. I should go about being happy losing to cheaters because I know that I don't? That's what you're telling me?\"'''\n",
    "\n",
    "    '''if not os.path.exists(os.getcwd() + \"/nltk_data\"):\n",
    "        with zipfile.ZipFile(\"nltk_data.zip\", 'r') as zip_ref:\n",
    "            zip_ref.extractall(os.getcwd())\n",
    "'''\n",
    "    porterstemmedwords, lancasterstemmedwords, lemmatizedwords = performStemAndLemma(textcontent)\n",
    "\n",
    "    print(sorted(porterstemmedwords))\n",
    "    print(sorted(lancasterstemmedwords))\n",
    "    print(sorted(lemmatizedwords))"
   ]
  },
  {
   "cell_type": "code",
   "execution_count": null,
   "id": "77d92a35",
   "metadata": {},
   "outputs": [],
   "source": []
  }
 ],
 "metadata": {
  "kernelspec": {
   "display_name": "Python 3",
   "language": "python",
   "name": "python3"
  },
  "language_info": {
   "codemirror_mode": {
    "name": "ipython",
    "version": 3
   },
   "file_extension": ".py",
   "mimetype": "text/x-python",
   "name": "python",
   "nbconvert_exporter": "python",
   "pygments_lexer": "ipython3",
   "version": "3.8.8"
  }
 },
 "nbformat": 4,
 "nbformat_minor": 5
}

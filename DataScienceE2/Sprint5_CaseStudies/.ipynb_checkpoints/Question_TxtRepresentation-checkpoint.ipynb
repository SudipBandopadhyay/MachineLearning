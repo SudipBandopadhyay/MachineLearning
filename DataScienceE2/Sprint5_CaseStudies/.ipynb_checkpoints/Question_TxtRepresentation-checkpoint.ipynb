{
 "cells": [
  {
   "cell_type": "markdown",
   "id": "5e78fafd",
   "metadata": {},
   "source": [
    "# Instruction\n",
    "\n",
    "* The data set required for this task is given in the file name 'dataset.csv'\n",
    "* Read the question then perform the solution and assign the answer to the respective variables given in the cells below\n",
    "* Don't change the variable names, which you need to assign answers\n",
    "* Add Extra cells for coding if neccessary\n",
    "* Run the cells one by one after completing the task"
   ]
  },
  {
   "cell_type": "markdown",
   "id": "28850c7c",
   "metadata": {},
   "source": [
    "### Run the below cell to install the needed libraries\n",
    "\n",
    "**Note:**\n",
    "- If additional packages are needed, you can it installed in the notebook using the command:\n",
    "\n",
    "       !pip3 install --user package_name"
   ]
  },
  {
   "cell_type": "code",
   "execution_count": 1,
   "id": "1cc79277",
   "metadata": {},
   "outputs": [
    {
     "name": "stdout",
     "output_type": "stream",
     "text": [
      "Requirement already satisfied: nltk in e:\\machinelearning\\anaconda3\\lib\\site-packages (3.6.1)\n",
      "Requirement already satisfied: regex in e:\\machinelearning\\anaconda3\\lib\\site-packages (from nltk) (2021.4.4)\n",
      "Requirement already satisfied: joblib in e:\\machinelearning\\anaconda3\\lib\\site-packages (from nltk) (1.0.1)\n",
      "Requirement already satisfied: click in e:\\machinelearning\\anaconda3\\lib\\site-packages (from nltk) (7.1.2)\n",
      "Requirement already satisfied: tqdm in e:\\machinelearning\\anaconda3\\lib\\site-packages (from nltk) (4.59.0)\n",
      "Note: you may need to restart the kernel to use updated packages.\n"
     ]
    }
   ],
   "source": [
    "pip install nltk"
   ]
  },
  {
   "cell_type": "markdown",
   "id": "2a472071",
   "metadata": {},
   "source": [
    "### **Import required libraries for the task**"
   ]
  },
  {
   "cell_type": "code",
   "execution_count": 2,
   "id": "64b755a9",
   "metadata": {},
   "outputs": [],
   "source": [
    "import pandas as pd\n",
    "import nltk\n",
    "from sklearn.feature_extraction.text import CountVectorizer, TfidfVectorizer"
   ]
  },
  {
   "cell_type": "markdown",
   "id": "c4cd2695",
   "metadata": {},
   "source": [
    "### Read the CSV file dataset.csv"
   ]
  },
  {
   "cell_type": "code",
   "execution_count": 4,
   "id": "09d73dd7",
   "metadata": {},
   "outputs": [
    {
     "data": {
      "text/html": [
       "<div>\n",
       "<style scoped>\n",
       "    .dataframe tbody tr th:only-of-type {\n",
       "        vertical-align: middle;\n",
       "    }\n",
       "\n",
       "    .dataframe tbody tr th {\n",
       "        vertical-align: top;\n",
       "    }\n",
       "\n",
       "    .dataframe thead th {\n",
       "        text-align: right;\n",
       "    }\n",
       "</style>\n",
       "<table border=\"1\" class=\"dataframe\">\n",
       "  <thead>\n",
       "    <tr style=\"text-align: right;\">\n",
       "      <th></th>\n",
       "      <th>reviews</th>\n",
       "    </tr>\n",
       "  </thead>\n",
       "  <tbody>\n",
       "    <tr>\n",
       "      <th>0</th>\n",
       "      <td>love echo</td>\n",
       "    </tr>\n",
       "    <tr>\n",
       "      <th>1</th>\n",
       "      <td>loved</td>\n",
       "    </tr>\n",
       "    <tr>\n",
       "      <th>2</th>\n",
       "      <td>sometimes playing game answer question correct...</td>\n",
       "    </tr>\n",
       "    <tr>\n",
       "      <th>3</th>\n",
       "      <td>lot fun thing yr old learns dinosaurs control ...</td>\n",
       "    </tr>\n",
       "    <tr>\n",
       "      <th>4</th>\n",
       "      <td>music</td>\n",
       "    </tr>\n",
       "  </tbody>\n",
       "</table>\n",
       "</div>"
      ],
      "text/plain": [
       "                                             reviews\n",
       "0                                          love echo\n",
       "1                                              loved\n",
       "2  sometimes playing game answer question correct...\n",
       "3  lot fun thing yr old learns dinosaurs control ...\n",
       "4                                              music"
      ]
     },
     "execution_count": 4,
     "metadata": {},
     "output_type": "execute_result"
    }
   ],
   "source": [
    "#write your code below\n",
    "\n",
    "review = pd.read_csv('dataset.csv')\n",
    "review.head(5)"
   ]
  },
  {
   "cell_type": "markdown",
   "id": "c24ab92e",
   "metadata": {},
   "source": [
    "1.Use Count Vectorizer to find the vocabulary for the given data set and store it in the variable S1\n",
    "\n",
    "Note: Output must be dataframe and it's column name should be 'order'."
   ]
  },
  {
   "cell_type": "code",
   "execution_count": null,
   "id": "7a4266d3",
   "metadata": {},
   "outputs": [],
   "source": [
    "#write your code below\n",
    "\n",
    "\n",
    "S1 = "
   ]
  },
  {
   "cell_type": "markdown",
   "id": "f6fc5b67",
   "metadata": {},
   "source": [
    "2.Find the Bag of words for the given data set and store it in the variable S2\n",
    "\n",
    "Note: Output must be dataframe and it's column names should be the feature of words(get_feature_names)."
   ]
  },
  {
   "cell_type": "code",
   "execution_count": null,
   "id": "e51d7bf0",
   "metadata": {},
   "outputs": [],
   "source": [
    "#write your code below\n",
    "\n",
    "\n",
    "S2 = "
   ]
  },
  {
   "cell_type": "markdown",
   "id": "cda6ae5b",
   "metadata": {},
   "source": [
    "3.Find the Term Frequency (TF) with norm 'l1' and disable use_idf for the given dataset and store it in the variable S3.\n",
    "\n",
    "Note: Output must be dataframe and it's column names should be the feature of words(get_feature_names)."
   ]
  },
  {
   "cell_type": "code",
   "execution_count": null,
   "id": "d1dce8e3",
   "metadata": {},
   "outputs": [],
   "source": [
    "#write your code below\n",
    "\n",
    "\n",
    "S3 = "
   ]
  },
  {
   "cell_type": "markdown",
   "id": "0ed87e05",
   "metadata": {},
   "source": [
    "4.Find the Term Frequency (TF) with norm 'l2' and disable use_idf for the given dataset and store it in the variable S4.\n",
    "\n",
    "Note: Output must be dataframe and it's column names should be the feature of words(get_feature_names)."
   ]
  },
  {
   "cell_type": "code",
   "execution_count": null,
   "id": "3115086f",
   "metadata": {},
   "outputs": [],
   "source": [
    "#write your code below\n",
    "\n",
    "\n",
    "S4 = "
   ]
  },
  {
   "cell_type": "markdown",
   "id": "422a998a",
   "metadata": {},
   "source": [
    "5.Find the TF*IDF (TFIDF) value for the given dataset and store it in the variable S5.\n",
    "\n",
    "Note: Output must be dataframe and it's column names should be the feature of words(get_feature_names)."
   ]
  },
  {
   "cell_type": "code",
   "execution_count": null,
   "id": "35887bad",
   "metadata": {},
   "outputs": [],
   "source": [
    "#write your code below\n",
    "\n",
    "\n",
    "S5 = "
   ]
  },
  {
   "cell_type": "markdown",
   "id": "3749d281",
   "metadata": {},
   "source": [
    "6.Find the Inverse Document Frequency (IDF) value with soomth_idf as false for the given dataset and store it in the variable S6.\n",
    "\n",
    "Note: Output must be dataframe and it's index should be the feature of words(get_feature_names) and column name should be 'values'."
   ]
  },
  {
   "cell_type": "code",
   "execution_count": null,
   "id": "6394370b",
   "metadata": {},
   "outputs": [],
   "source": [
    "#write your code below\n",
    "\n",
    "\n",
    "S6 = "
   ]
  },
  {
   "cell_type": "markdown",
   "id": "b185d52a",
   "metadata": {},
   "source": [
    "### Run the below files to save your answer in Pickle file"
   ]
  },
  {
   "cell_type": "code",
   "execution_count": null,
   "id": "7544e3e9",
   "metadata": {},
   "outputs": [],
   "source": [
    "import pickle\n",
    "\n",
    "def pickle1(file_name, obj):\n",
    "    with open(file_name,'wb')as f:\n",
    "        pickle.dump(obj,f)\n",
    "\n",
    "def pickling():\n",
    "    try:\n",
    "        pickle1('S1.pickle',S1)\n",
    "    except:\n",
    "        print('S1 variable is not defined. Please check the variable')\n",
    "    try:\n",
    "        pickle1('S2.pickle',S2)\n",
    "    except:\n",
    "        print('S2 variable is not defined. Please check the variable')\n",
    "    try:\n",
    "        pickle1('S3.pickle',S3)\n",
    "    except:\n",
    "        print('S3 variable is not defined. Please check the variable')\n",
    "    try:\n",
    "        pickle1('S4.pickle',S4)\n",
    "    except:\n",
    "        print('S4 variable is not defined. Please check the variable')\n",
    "    try:\n",
    "        pickle1('S5.pickle',S5)\n",
    "    except:\n",
    "        print('S5 variable is not defined. Please check the variable')\n",
    "    try:\n",
    "        pickle1('S6.pickle',S6)\n",
    "    except:\n",
    "        print('S6 variable is not defined. Please check the variable')\n",
    "     \n",
    "        \n",
    "pickling()               "
   ]
  },
  {
   "cell_type": "markdown",
   "id": "caf18d2e",
   "metadata": {},
   "source": [
    "### Run the below two cells to install the package and run the sample test"
   ]
  },
  {
   "cell_type": "code",
   "execution_count": 5,
   "id": "434d6017",
   "metadata": {},
   "outputs": [
    {
     "name": "stdout",
     "output_type": "stream",
     "text": [
      "Requirement already satisfied: pytest in e:\\machinelearning\\anaconda3\\lib\\site-packages (6.2.3)\n",
      "Requirement already satisfied: attrs>=19.2.0 in e:\\machinelearning\\anaconda3\\lib\\site-packages (from pytest) (20.3.0)\n",
      "Requirement already satisfied: iniconfig in e:\\machinelearning\\anaconda3\\lib\\site-packages (from pytest) (1.1.1)\n",
      "Requirement already satisfied: packaging in e:\\machinelearning\\anaconda3\\lib\\site-packages (from pytest) (20.9)\n",
      "Requirement already satisfied: pluggy<1.0.0a1,>=0.12 in e:\\machinelearning\\anaconda3\\lib\\site-packages (from pytest) (0.13.1)\n",
      "Requirement already satisfied: py>=1.8.2 in e:\\machinelearning\\anaconda3\\lib\\site-packages (from pytest) (1.10.0)\n",
      "Requirement already satisfied: toml in e:\\machinelearning\\anaconda3\\lib\\site-packages (from pytest) (0.10.2)\n",
      "Requirement already satisfied: atomicwrites>=1.0 in e:\\machinelearning\\anaconda3\\lib\\site-packages (from pytest) (1.4.0)\n",
      "Requirement already satisfied: colorama in e:\\machinelearning\\anaconda3\\lib\\site-packages (from pytest) (0.4.4)\n",
      "Requirement already satisfied: pyparsing>=2.0.2 in e:\\machinelearning\\anaconda3\\lib\\site-packages (from packaging->pytest) (2.4.7)\n",
      "Note: you may need to restart the kernel to use updated packages.\n"
     ]
    }
   ],
   "source": [
    "pip install pytest"
   ]
  },
  {
   "cell_type": "code",
   "execution_count": 6,
   "id": "2481e313",
   "metadata": {},
   "outputs": [
    {
     "name": "stdout",
     "output_type": "stream",
     "text": [
      "============================= test session starts =============================\n",
      "platform win32 -- Python 3.8.8, pytest-6.2.3, py-1.10.0, pluggy-0.13.1\n",
      "rootdir: E:\\MachineLearning\\MachineLearning\\DataScienceE2\\Sprint5_CaseStudies\n",
      "plugins: anyio-2.2.0\n",
      "collected 6 items\n",
      "\n",
      "sample_test.py FFFFFF                                                    [100%]\n",
      "\n",
      "================================== FAILURES ===================================\n",
      "___________________________________ test_s1 ___________________________________\n",
      "\n",
      "    def test_s1():\n",
      ">       s1=get_pickle('S1.pickle')\n",
      "\n",
      "sample_test.py:12: \n",
      "_ _ _ _ _ _ _ _ _ _ _ _ _ _ _ _ _ _ _ _ _ _ _ _ _ _ _ _ _ _ _ _ _ _ _ _ _ _ _ _\n",
      "\n",
      "file_name = 'S1.pickle'\n",
      "\n",
      "    def get_pickle(file_name):\n",
      ">       with open(file_name, 'rb') as f:\n",
      "E       FileNotFoundError: [Errno 2] No such file or directory: 'S1.pickle'\n",
      "\n",
      "sample_test.py:7: FileNotFoundError\n",
      "___________________________________ test_s2 ___________________________________\n",
      "\n",
      "    def test_s2():\n",
      ">       s2=get_pickle('S2.pickle')\n",
      "\n",
      "sample_test.py:19: \n",
      "_ _ _ _ _ _ _ _ _ _ _ _ _ _ _ _ _ _ _ _ _ _ _ _ _ _ _ _ _ _ _ _ _ _ _ _ _ _ _ _\n",
      "\n",
      "file_name = 'S2.pickle'\n",
      "\n",
      "    def get_pickle(file_name):\n",
      ">       with open(file_name, 'rb') as f:\n",
      "E       FileNotFoundError: [Errno 2] No such file or directory: 'S2.pickle'\n",
      "\n",
      "sample_test.py:7: FileNotFoundError\n",
      "___________________________________ test_s3 ___________________________________\n",
      "\n",
      "    def test_s3():\n",
      ">       s3=get_pickle('S3.pickle')\n",
      "\n",
      "sample_test.py:33: \n",
      "_ _ _ _ _ _ _ _ _ _ _ _ _ _ _ _ _ _ _ _ _ _ _ _ _ _ _ _ _ _ _ _ _ _ _ _ _ _ _ _\n",
      "\n",
      "file_name = 'S3.pickle'\n",
      "\n",
      "    def get_pickle(file_name):\n",
      ">       with open(file_name, 'rb') as f:\n",
      "E       FileNotFoundError: [Errno 2] No such file or directory: 'S3.pickle'\n",
      "\n",
      "sample_test.py:7: FileNotFoundError\n",
      "___________________________________ test_s4 ___________________________________\n",
      "\n",
      "    def test_s4():\n",
      ">       s4=get_pickle('S4.pickle')\n",
      "\n",
      "sample_test.py:48: \n",
      "_ _ _ _ _ _ _ _ _ _ _ _ _ _ _ _ _ _ _ _ _ _ _ _ _ _ _ _ _ _ _ _ _ _ _ _ _ _ _ _\n",
      "\n",
      "file_name = 'S4.pickle'\n",
      "\n",
      "    def get_pickle(file_name):\n",
      ">       with open(file_name, 'rb') as f:\n",
      "E       FileNotFoundError: [Errno 2] No such file or directory: 'S4.pickle'\n",
      "\n",
      "sample_test.py:7: FileNotFoundError\n",
      "___________________________________ test_s5 ___________________________________\n",
      "\n",
      "    def test_s5():\n",
      ">       s5=get_pickle('S5.pickle')\n",
      "\n",
      "sample_test.py:63: \n",
      "_ _ _ _ _ _ _ _ _ _ _ _ _ _ _ _ _ _ _ _ _ _ _ _ _ _ _ _ _ _ _ _ _ _ _ _ _ _ _ _\n",
      "\n",
      "file_name = 'S5.pickle'\n",
      "\n",
      "    def get_pickle(file_name):\n",
      ">       with open(file_name, 'rb') as f:\n",
      "E       FileNotFoundError: [Errno 2] No such file or directory: 'S5.pickle'\n",
      "\n",
      "sample_test.py:7: FileNotFoundError\n",
      "___________________________________ test_s6 ___________________________________\n",
      "\n",
      "    def test_s6():\n",
      ">       s6=get_pickle('S6.pickle')\n",
      "\n",
      "sample_test.py:77: \n",
      "_ _ _ _ _ _ _ _ _ _ _ _ _ _ _ _ _ _ _ _ _ _ _ _ _ _ _ _ _ _ _ _ _ _ _ _ _ _ _ _\n",
      "\n",
      "file_name = 'S6.pickle'\n",
      "\n",
      "    def get_pickle(file_name):\n",
      ">       with open(file_name, 'rb') as f:\n",
      "E       FileNotFoundError: [Errno 2] No such file or directory: 'S6.pickle'\n",
      "\n",
      "sample_test.py:7: FileNotFoundError\n",
      "============================== warnings summary ===============================\n",
      "..\\..\\..\\Anaconda3\\lib\\site-packages\\pyreadline\\py3k_compat.py:8\n",
      "  E:\\MachineLearning\\Anaconda3\\lib\\site-packages\\pyreadline\\py3k_compat.py:8: DeprecationWarning: Using or importing the ABCs from 'collections' instead of from 'collections.abc' is deprecated since Python 3.3, and in 3.9 it will stop working\n",
      "    return isinstance(x, collections.Callable)\n",
      "\n",
      "-- Docs: https://docs.pytest.org/en/stable/warnings.html\n",
      "=========================== short test summary info ===========================\n",
      "FAILED sample_test.py::test_s1 - FileNotFoundError: [Errno 2] No such file or...\n",
      "FAILED sample_test.py::test_s2 - FileNotFoundError: [Errno 2] No such file or...\n",
      "FAILED sample_test.py::test_s3 - FileNotFoundError: [Errno 2] No such file or...\n",
      "FAILED sample_test.py::test_s4 - FileNotFoundError: [Errno 2] No such file or...\n",
      "FAILED sample_test.py::test_s5 - FileNotFoundError: [Errno 2] No such file or...\n",
      "FAILED sample_test.py::test_s6 - FileNotFoundError: [Errno 2] No such file or...\n",
      "======================== 6 failed, 1 warning in 0.39s =========================\n"
     ]
    }
   ],
   "source": [
    "import pytest\n",
    "\n",
    "!pytest sample_test.py"
   ]
  },
  {
   "cell_type": "code",
   "execution_count": null,
   "id": "abd43c1f",
   "metadata": {},
   "outputs": [],
   "source": []
  }
 ],
 "metadata": {
  "kernelspec": {
   "display_name": "Python 3",
   "language": "python",
   "name": "python3"
  },
  "language_info": {
   "codemirror_mode": {
    "name": "ipython",
    "version": 3
   },
   "file_extension": ".py",
   "mimetype": "text/x-python",
   "name": "python",
   "nbconvert_exporter": "python",
   "pygments_lexer": "ipython3",
   "version": "3.8.8"
  }
 },
 "nbformat": 4,
 "nbformat_minor": 5
}

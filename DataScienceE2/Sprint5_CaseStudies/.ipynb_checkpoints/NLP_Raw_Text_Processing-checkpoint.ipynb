{
 "cells": [
  {
   "cell_type": "code",
   "execution_count": 20,
   "id": "470f793a",
   "metadata": {},
   "outputs": [
    {
     "name": "stderr",
     "output_type": "stream",
     "text": [
      "[nltk_data] Downloading package punkt to\n",
      "[nltk_data]     C:\\Users\\Sudip\\AppData\\Roaming\\nltk_data...\n",
      "[nltk_data]   Package punkt is already up-to-date!\n",
      "[nltk_data] Downloading package gutenberg to\n",
      "[nltk_data]     C:\\Users\\Sudip\\AppData\\Roaming\\nltk_data...\n",
      "[nltk_data]   Package gutenberg is already up-to-date!\n"
     ]
    },
    {
     "data": {
      "text/plain": [
       "True"
      ]
     },
     "execution_count": 20,
     "metadata": {},
     "output_type": "execute_result"
    }
   ],
   "source": [
    "#!/bin/python3\n",
    "\n",
    "import math\n",
    "import os\n",
    "import random\n",
    "import re\n",
    "import sys\n",
    "import zipfile\n",
    "os.environ['NLTK_DATA'] = os.getcwd() + \"/nltk_data\"\n",
    "import nltk\n",
    "import pandas as pd\n",
    "from bs4 import BeautifulSoup\n",
    "import requests\n",
    "nltk.download('punkt')\n",
    "nltk.download('gutenberg')"
   ]
  },
  {
   "cell_type": "markdown",
   "id": "6049dc13",
   "metadata": {},
   "source": [
    "\n",
    "# Complete the 'processRawText' function below.\n",
    "# The function accepts STRING textURL as parameter.\n"
   ]
  },
  {
   "cell_type": "code",
   "execution_count": 21,
   "id": "12a1c005",
   "metadata": {},
   "outputs": [
    {
     "name": "stdout",
     "output_type": "stream",
     "text": [
      "Gallery unveils interactive tree\n",
      "\n",
      "A Christmas tree that can receive text messages has been unveiled at London's Tate Britain art gallery.\n",
      "\n",
      "The spruce has an antenna which can receive Bluetooth texts sent by visitors to the Tate. The messages will be \"unwrapped\" by sculptor Richard Wentworth, who is responsible for decorating the tree with broken plates and light bulbs. It is the 17th year that the gallery has invited an artist to dress their Christmas tree. Artists who have decorated the Tate tree in previous years include Tracey Emin in 2002.\n",
      "\n",
      "The plain green Norway spruce is displayed in the gallery's foyer. Its light bulb adornments are dimmed, ordinary domestic ones joined together with string. The plates decorating the branches will be auctioned off for the children's charity ArtWorks. Wentworth worked as an assistant to sculptor Henry Moore in the late 1960s. His reputation as a sculptor grew in the 1980s, while he has been one of the most influential teachers during the last two decades. Wentworth is also known for his photography of mundane, everyday subjects such as a cigarette packet jammed under the wonky leg of a table.\n",
      "\n"
     ]
    }
   ],
   "source": [
    "textURL = 'https://hrcdn.net/s3_pub/istreet-assets/2KDELtu3svGwJgNXUXFE7Q/001.txt'\n",
    "page=requests.get(textURL)\n",
    "#soup = BeautifulSoup(page.txt, 'lxml')\n",
    "text = page.text\n",
    "print(text)\n"
   ]
  },
  {
   "cell_type": "code",
   "execution_count": 22,
   "id": "e5c18a2b",
   "metadata": {},
   "outputs": [],
   "source": [
    "textcontent = nltk.word_tokenize(text)\n",
    "\n",
    "tokenizedlcwords=[]\n",
    "for textcontent in textcontent:\n",
    "    tokenizedlcwords.append(textcontent.lower())\n",
    "\n",
    "noofwords=len(tokenizedlcwords)\n",
    "noofunqwords=len(set(tokenizedlcwords))\n",
    "wordcov = int(noofwords/noofunqwords)\n",
    "freqdidt=nltk.FreqDist(tokenizedlcwords)\n",
    "maxfreq=freqdidt.most_common()[0][0]"
   ]
  },
  {
   "cell_type": "code",
   "execution_count": null,
   "id": "25d308ea",
   "metadata": {},
   "outputs": [],
   "source": []
  },
  {
   "cell_type": "code",
   "execution_count": 23,
   "id": "4ebe41a5",
   "metadata": {},
   "outputs": [
    {
     "name": "stdout",
     "output_type": "stream",
     "text": [
      "210\n",
      "127\n",
      "1\n",
      "the\n"
     ]
    }
   ],
   "source": [
    "print(noofwords)\n",
    "print(noofunqwords)\n",
    "print(wordcov)\n",
    "print(maxfreq)"
   ]
  },
  {
   "cell_type": "code",
   "execution_count": 24,
   "id": "0426cb15",
   "metadata": {},
   "outputs": [],
   "source": [
    "def processRawText(textURL):\n",
    "    # Write your code here\n",
    "    page=requests.get(textURL)\n",
    "    #soup = BeautifulSoup(page.txt, 'lxml')\n",
    "    text = page.text\n",
    "    #print(text)\n",
    "    textcontent = nltk.word_tokenize(text)\n",
    "\n",
    "    tokenizedlcwords=[]\n",
    "    for textcontent in textcontent:\n",
    "        tokenizedlcwords.append(textcontent.lower())\n",
    "\n",
    "    noofwords=len(tokenizedlcwords)\n",
    "    noofunqwords=len(set(tokenizedlcwords))\n",
    "    wordcov = int(noofwords/noofunqwords)\n",
    "    freqdidt=nltk.FreqDist(tokenizedlcwords)\n",
    "    maxfreq=freqdidt.most_common()[0][0]\n",
    "    return noofwords, noofunqwords, wordcov, maxfreq"
   ]
  },
  {
   "cell_type": "code",
   "execution_count": 30,
   "id": "75829600",
   "metadata": {},
   "outputs": [
    {
     "name": "stdout",
     "output_type": "stream",
     "text": [
      "210\n",
      "127\n",
      "1\n",
      "the\n"
     ]
    }
   ],
   "source": [
    "if __name__ == '__main__':\n",
    "    textURL = 'https://hrcdn.net/s3_pub/istreet-assets/2KDELtu3svGwJgNXUXFE7Q/001.txt'\n",
    "\n",
    "    '''if not os.path.exists(os.getcwd() + \"/nltk_data\"):\n",
    "        with zipfile.ZipFile(\"nltk_data.zip\", 'r') as zip_ref:\n",
    "            zip_ref.extractall(os.getcwd())\n",
    "'''\n",
    "    noofwords, noofunqwords, wordcov, maxfreq = processRawText(textURL)\n",
    "    print(noofwords)\n",
    "    print(noofunqwords)\n",
    "    print(wordcov)\n",
    "    print(maxfreq)"
   ]
  },
  {
   "cell_type": "code",
   "execution_count": null,
   "id": "06575463",
   "metadata": {},
   "outputs": [],
   "source": []
  }
 ],
 "metadata": {
  "kernelspec": {
   "display_name": "Python 3",
   "language": "python",
   "name": "python3"
  },
  "language_info": {
   "codemirror_mode": {
    "name": "ipython",
    "version": 3
   },
   "file_extension": ".py",
   "mimetype": "text/x-python",
   "name": "python",
   "nbconvert_exporter": "python",
   "pygments_lexer": "ipython3",
   "version": "3.8.8"
  }
 },
 "nbformat": 4,
 "nbformat_minor": 5
}

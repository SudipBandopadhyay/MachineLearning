{
 "cells": [
  {
   "cell_type": "code",
   "execution_count": 1,
   "id": "74183a40",
   "metadata": {},
   "outputs": [],
   "source": [
    "import math\n",
    "import os\n",
    "import random\n",
    "import re\n",
    "import sys\n",
    "import zipfile\n",
    "os.environ['NLTK_DATA'] = os.getcwd()+\"/nltk_data\"\n",
    "import nltk"
   ]
  },
  {
   "cell_type": "markdown",
   "id": "ec85ff11",
   "metadata": {},
   "source": [
    "# Complete the 'performStemAndLemma' function below.\n",
    "# The function accepts STRING textcontent as parameter."
   ]
  },
  {
   "cell_type": "code",
   "execution_count": 6,
   "id": "12dacec4",
   "metadata": {},
   "outputs": [
    {
     "name": "stdout",
     "output_type": "stream",
     "text": [
      "['almond', 'back', 'bar', 'bought', 'candi', 'candi', 'candi', 'caramel', 'cent', 'charg', 'chocol', 'confect', 'cost', 'dollar', 'dreamili', 'even', 'fifti', 'find', 'four', 'full', 'inadvert', 'last', 'let', 'lollipop', 'look', 'mall', 'may', 'mean', 'offer', 'per', 'phone', 'real', 'repair', 'revel', 'see', 'simplest', 'snicker', 'someth', 'soon', 'tasti', 'thing', 'time', 'total', 'turn', 'two', 'wander', 'wee', 'week', 'went']\n",
      "['almond', 'back', 'bar', 'bought', 'candy', 'candy', 'candy', 'caramel', 'cent', 'charg', 'chocol', 'confect', 'cost', 'doll', 'dreamy', 'ev', 'fifty', 'find', 'four', 'ful', 'inadvert', 'last', 'let', 'lollipop', 'look', 'mal', 'may', 'mean', 'off', 'per', 'phon', 'real', 'repair', 'revel', 'see', 'simplest', 'snick', 'someth', 'soon', 'tasty', 'thing', 'tim', 'tot', 'turn', 'two', 'wand', 'wee', 'week', 'went']\n",
      "['almond', 'back', 'bar', 'bought', 'candy', 'candy', 'candy', 'caramel', 'cent', 'charge', 'chocolate', 'confection', 'cost', 'dollar', 'dreamily', 'even', 'fifty', 'find', 'four', 'full', 'inadvertently', 'last', 'let', 'lollipop', 'looking', 'mall', 'may', 'mean', 'offering', 'per', 'phone', 'real', 'repair', 'revelation', 'see', 'simplest', 'snicker', 'something', 'soon', 'tasty', 'thing', 'time', 'total', 'turn', 'two', 'wandering', 'wee', 'week', 'went']\n"
     ]
    },
    {
     "name": "stderr",
     "output_type": "stream",
     "text": [
      "[nltk_data] Downloading package wordnet to\n",
      "[nltk_data]     C:\\Users\\Sudip\\AppData\\Roaming\\nltk_data...\n",
      "[nltk_data]   Package wordnet is already up-to-date!\n"
     ]
    }
   ],
   "source": [
    "textcontent =''' I inadvertently went to See's Candy last week (I was in the mall looking for phone repair), and as it turns out, See's Candy now charges a dollar -- a full dollar -- for even the simplest of their wee confection offerings. I bought two chocolate lollipops and two chocolate-caramel-almond things. The total cost was four-something. I mean, the candies were tasty and all, but let's be real: A Snickers bar is fifty cents. After this dollar-per-candy revelation, I may not find myself wandering dreamily back into a See's Candy any time soon.'''\n",
    "from nltk.corpus import stopwords\n",
    "from nltk.stem import PorterStemmer\n",
    "from nltk.stem import LancasterStemmer\n",
    "from nltk.stem import WordNetLemmatizer\n",
    "nltk.download('wordnet')\n",
    "tokenizedword = nltk.regexp_tokenize(textcontent, pattern = r'\\w*', gaps = False)\n",
    "tokenizedwords = [x.lower() for x in set(tokenizedword) if x != '']\n",
    "stop_words= stopwords.words('english')\n",
    "filteredwords=filtered_sentence = [w for w in tokenizedwords if not w.lower() in stop_words]\n",
    "ps = PorterStemmer()\n",
    "porterstemmedwords=[ps.stem(word) for word in filteredwords]\n",
    "'''for w in filteredwords:\n",
    "    porterstemmedwords.append(ps.stem(w))'''\n",
    "print(sorted(porterstemmedwords))\n",
    "lancasterstemmedwords=[LancasterStemmer().stem(word) for word in filteredwords]\n",
    "lemmatizedwords=[]\n",
    "'''for w in filteredwords:\n",
    "    lancasterstemmedwords.append(LancasterStemmer().stem(w))'''\n",
    "print(sorted(lancasterstemmedwords))\n",
    "\n",
    "for w in filteredwords:\n",
    "    lemmatizedwords.append(WordNetLemmatizer().lemmatize(w))\n",
    "print(sorted(lemmatizedwords))"
   ]
  },
  {
   "cell_type": "code",
   "execution_count": 7,
   "id": "938da91d",
   "metadata": {},
   "outputs": [],
   "source": [
    "def performStemAndLemma(textcontent):\n",
    "    # Write your code here\n",
    "    from nltk.corpus import stopwords\n",
    "    from nltk.stem import PorterStemmer\n",
    "    from nltk.stem import LancasterStemmer\n",
    "    from nltk.stem import WordNetLemmatizer\n",
    "    nltk.download('wordnet')\n",
    "    tokenizedword = nltk.regexp_tokenize(textcontent, pattern = r'\\w*', gaps = False)\n",
    "    tokenizedwords = [x.lower() for x in set(tokenizedword) if x != '']\n",
    "    stop_words= stopwords.words('english')\n",
    "    filteredwords=filtered_sentence = [w for w in tokenizedwords if not w.lower() in stop_words]\n",
    "    ps = PorterStemmer()\n",
    "    porterstemmedwords=[]\n",
    "    for w in filteredwords:\n",
    "        porterstemmedwords.append(ps.stem(w))\n",
    "    #print(sorted(porterstemmedwords))\n",
    "    lancasterstemmedwords=[]\n",
    "    lemmatizedwords=[]\n",
    "    for w in filteredwords:\n",
    "        lancasterstemmedwords.append(LancasterStemmer().stem(w))\n",
    "    #print(sorted(lancasterstemmedwords))\n",
    "\n",
    "    for w in filteredwords:\n",
    "        lemmatizedwords.append(WordNetLemmatizer().lemmatize(w))\n",
    "    #print(sorted(lemmatizedwords))\n",
    "    return porterstemmedwords, lancasterstemmedwords, lemmatizedwords"
   ]
  },
  {
   "cell_type": "code",
   "execution_count": 8,
   "id": "3a15a543",
   "metadata": {},
   "outputs": [
    {
     "name": "stdout",
     "output_type": "stream",
     "text": [
      "['almond', 'back', 'bar', 'bought', 'candi', 'candi', 'candi', 'caramel', 'cent', 'charg', 'chocol', 'confect', 'cost', 'dollar', 'dreamili', 'even', 'fifti', 'find', 'four', 'full', 'inadvert', 'last', 'let', 'lollipop', 'look', 'mall', 'may', 'mean', 'offer', 'per', 'phone', 'real', 'repair', 'revel', 'see', 'simplest', 'snicker', 'someth', 'soon', 'tasti', 'thing', 'time', 'total', 'turn', 'two', 'wander', 'wee', 'week', 'went']\n",
      "['almond', 'back', 'bar', 'bought', 'candy', 'candy', 'candy', 'caramel', 'cent', 'charg', 'chocol', 'confect', 'cost', 'doll', 'dreamy', 'ev', 'fifty', 'find', 'four', 'ful', 'inadvert', 'last', 'let', 'lollipop', 'look', 'mal', 'may', 'mean', 'off', 'per', 'phon', 'real', 'repair', 'revel', 'see', 'simplest', 'snick', 'someth', 'soon', 'tasty', 'thing', 'tim', 'tot', 'turn', 'two', 'wand', 'wee', 'week', 'went']\n",
      "['almond', 'back', 'bar', 'bought', 'candy', 'candy', 'candy', 'caramel', 'cent', 'charge', 'chocolate', 'confection', 'cost', 'dollar', 'dreamily', 'even', 'fifty', 'find', 'four', 'full', 'inadvertently', 'last', 'let', 'lollipop', 'looking', 'mall', 'may', 'mean', 'offering', 'per', 'phone', 'real', 'repair', 'revelation', 'see', 'simplest', 'snicker', 'something', 'soon', 'tasty', 'thing', 'time', 'total', 'turn', 'two', 'wandering', 'wee', 'week', 'went']\n"
     ]
    },
    {
     "name": "stderr",
     "output_type": "stream",
     "text": [
      "[nltk_data] Downloading package wordnet to\n",
      "[nltk_data]     C:\\Users\\Sudip\\AppData\\Roaming\\nltk_data...\n",
      "[nltk_data]   Package wordnet is already up-to-date!\n"
     ]
    }
   ],
   "source": [
    "if __name__ == '__main__':\n",
    "    textcontent =''' I inadvertently went to See's Candy last week (I was in the mall looking for phone repair), and as it turns out, See's Candy now charges a dollar -- a full dollar -- for even the simplest of their wee confection offerings. I bought two chocolate lollipops and two chocolate-caramel-almond things. The total cost was four-something. I mean, the candies were tasty and all, but let's be real: A Snickers bar is fifty cents. After this dollar-per-candy revelation, I may not find myself wandering dreamily back into a See's Candy any time soon.'''\n",
    "\n",
    "    '''if not os.path.exists(os.getcwd() + \"/nltk_data\"):\n",
    "        with zipfile.ZipFile(\"nltk_data.zip\", 'r') as zip_ref:\n",
    "            zip_ref.extractall(os.getcwd())\n",
    "'''\n",
    "    porterstemmedwords, lancasterstemmedwords, lemmatizedwords = performStemAndLemma(textcontent)\n",
    "\n",
    "    print(sorted(porterstemmedwords))\n",
    "    print(sorted(lancasterstemmedwords))\n",
    "    print(sorted(lemmatizedwords))"
   ]
  },
  {
   "cell_type": "code",
   "execution_count": null,
   "id": "77d92a35",
   "metadata": {},
   "outputs": [],
   "source": []
  }
 ],
 "metadata": {
  "kernelspec": {
   "display_name": "Python 3",
   "language": "python",
   "name": "python3"
  },
  "language_info": {
   "codemirror_mode": {
    "name": "ipython",
    "version": 3
   },
   "file_extension": ".py",
   "mimetype": "text/x-python",
   "name": "python",
   "nbconvert_exporter": "python",
   "pygments_lexer": "ipython3",
   "version": "3.8.8"
  }
 },
 "nbformat": 4,
 "nbformat_minor": 5
}

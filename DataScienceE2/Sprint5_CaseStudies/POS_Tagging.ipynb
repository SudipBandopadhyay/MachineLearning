{
 "cells": [
  {
   "cell_type": "code",
   "execution_count": 6,
   "id": "9699a92a",
   "metadata": {},
   "outputs": [
    {
     "name": "stderr",
     "output_type": "stream",
     "text": [
      "[nltk_data] Downloading package brown to\n",
      "[nltk_data]     C:\\Users\\Sudip\\AppData\\Roaming\\nltk_data...\n",
      "[nltk_data]   Unzipping corpora\\brown.zip.\n"
     ]
    },
    {
     "data": {
      "text/plain": [
       "True"
      ]
     },
     "execution_count": 6,
     "metadata": {},
     "output_type": "execute_result"
    }
   ],
   "source": [
    "import math\n",
    "import os\n",
    "import random\n",
    "import re\n",
    "import sys\n",
    "import zipfile\n",
    "os.environ['NLTK_DATA'] = os.getcwd() + \"/nltk_data\"\n",
    "from nltk.corpus import brown\n",
    "import nltk\n",
    "nltk.download('brown')"
   ]
  },
  {
   "cell_type": "markdown",
   "id": "5662b22c",
   "metadata": {},
   "source": [
    "# Complete the 'tagPOS' function below.\n",
    "\n",
    "# The function accepts following parameters:\n",
    "#  1. STRING textcontent\n",
    "#  2. STRING taggedtextcontent"
   ]
  },
  {
   "cell_type": "code",
   "execution_count": 20,
   "id": "8208cd76",
   "metadata": {},
   "outputs": [
    {
     "name": "stdout",
     "output_type": "stream",
     "text": [
      "[('Python', 'NNP'), ('is', 'VBZ'), ('awesome', 'JJ'), ('.', '.')]\n",
      "[('Python', 'NNP'), ('is', 'VBZ'), ('awesome', 'DT'), ('.', '.')]\n",
      "[('Python', None), ('is', 'VERB'), ('awesome', 'ADJ'), ('.', '.')]\n"
     ]
    }
   ],
   "source": [
    "#nltk.download('brown')\n",
    "#nltk.download('universal_tagset')\n",
    "textcontent = 'Python is awesome.'\n",
    "taggedtextcontent = 'Python/NNP is/VBZ awesome/DT ./.'\n",
    "defined_tags = dict(brown.tagged_words(tagset='universal'))\n",
    "from nltk.tag import pos_tag\n",
    "from nltk.tokenize import word_tokenize\n",
    "'''nltk.download('averaged_perceptron_tagger')\n",
    "nltk.download('brown')\n",
    "nltk.download('universal_tagset')'''\n",
    "nltk_pos_tags=pos_tag(word_tokenize(textcontent))\n",
    "print(nltk_pos_tags)\n",
    "tagged_pos_tag=[nltk.tag.str2tuple(t) for t in taggedtextcontent.split()]\n",
    "print(tagged_pos_tag)\n",
    "baseline_tagger = nltk.UnigramTagger(model=defined_tags)\n",
    "unigram_pos_tag=baseline_tagger.tag(word_tokenize(textcontent))\n",
    "print(unigram_pos_tag)"
   ]
  },
  {
   "cell_type": "code",
   "execution_count": 23,
   "id": "233318fa",
   "metadata": {},
   "outputs": [],
   "source": [
    "def tagPOS(textcontent, taggedtextcontent, defined_tags):\n",
    "    # Write your code here\n",
    "    from nltk.tag import pos_tag\n",
    "    from nltk.tokenize import word_tokenize\n",
    "    '''nltk.download('averaged_perceptron_tagger')\n",
    "    nltk.download('brown')\n",
    "    nltk.download('universal_tagset')'''\n",
    "    nltk_pos_tags=pos_tag(word_tokenize(textcontent))\n",
    "    #print(nltk_pos_tags)\n",
    "    tagged_pos_tag=[nltk.tag.str2tuple(t) for t in taggedtextcontent.split()]\n",
    "    #print(tagged_pos_tag)\n",
    "    baseline_tagger = nltk.UnigramTagger(model=defined_tags)\n",
    "    unigram_pos_tag=baseline_tagger.tag(word_tokenize(textcontent))\n",
    "    #print(unigram_pos_tag)\n",
    "    return nltk_pos_tags, tagged_pos_tag, unigram_pos_tag"
   ]
  },
  {
   "cell_type": "code",
   "execution_count": 24,
   "id": "c8de4792",
   "metadata": {},
   "outputs": [
    {
     "name": "stdout",
     "output_type": "stream",
     "text": [
      "[('Python', 'NNP'), ('is', 'VBZ'), ('awesome', 'JJ'), ('.', '.')]\n",
      "[('Python', 'NNP'), ('is', 'VBZ'), ('awesome', 'DT'), ('.', '.')]\n",
      "[('Python', None), ('is', 'VERB'), ('awesome', 'ADJ'), ('.', '.')]\n"
     ]
    }
   ],
   "source": [
    "if __name__ == '__main__':\n",
    "    textcontent = 'Python is awesome.'\n",
    "\n",
    "    taggedtextcontent = 'Python/NNP is/VBZ awesome/DT ./.'\n",
    "    \n",
    "    '''if not os.path.exists(os.getcwd() + \"/nltk_data\"):\n",
    "        with zipfile.ZipFile(\"nltk_data.zip\", 'r') as zip_ref:\n",
    "            zip_ref.extractall(os.getcwd())'''\n",
    "\n",
    "    defined_tags = dict(brown.tagged_words(tagset='universal'))\n",
    "\n",
    "    nltk_pos_tags, tagged_pos_tag, unigram_pos_tag = tagPOS(textcontent, taggedtextcontent, defined_tags)\n",
    "\n",
    "    print(nltk_pos_tags)\n",
    "    print(tagged_pos_tag)\n",
    "    print(unigram_pos_tag)\n"
   ]
  },
  {
   "cell_type": "code",
   "execution_count": null,
   "id": "494bbc34",
   "metadata": {},
   "outputs": [],
   "source": []
  },
  {
   "cell_type": "code",
   "execution_count": null,
   "id": "7dd7b0aa",
   "metadata": {},
   "outputs": [],
   "source": []
  }
 ],
 "metadata": {
  "kernelspec": {
   "display_name": "Python 3",
   "language": "python",
   "name": "python3"
  },
  "language_info": {
   "codemirror_mode": {
    "name": "ipython",
    "version": 3
   },
   "file_extension": ".py",
   "mimetype": "text/x-python",
   "name": "python",
   "nbconvert_exporter": "python",
   "pygments_lexer": "ipython3",
   "version": "3.8.8"
  }
 },
 "nbformat": 4,
 "nbformat_minor": 5
}

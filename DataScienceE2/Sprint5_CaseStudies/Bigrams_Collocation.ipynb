{
 "cells": [
  {
   "cell_type": "code",
   "execution_count": 4,
   "id": "7e9be8d6",
   "metadata": {},
   "outputs": [],
   "source": [
    "import math\n",
    "import os\n",
    "import random\n",
    "import re\n",
    "import sys\n",
    "import zipfile\n",
    "os.environ['NLTK_DATA'] = os.getcwd() + \"/nltk_data\"\n",
    "\n",
    "import nltk\n",
    "from nltk.tokenize import RegexpTokenizer\n",
    "    "
   ]
  },
  {
   "cell_type": "markdown",
   "id": "4ce101cf",
   "metadata": {},
   "source": [
    "# Complete the 'performBigramsAndCollocations' function below.\n",
    "\n",
    "# The function accepts following parameters:\n",
    "#  1. STRING textcontent\n",
    "#  2. STRING word"
   ]
  },
  {
   "cell_type": "code",
   "execution_count": 5,
   "id": "ef4a00b6",
   "metadata": {},
   "outputs": [
    {
     "data": {
      "text/plain": [
       "['sports car', 'sports fans']"
      ]
     },
     "execution_count": 5,
     "metadata": {},
     "output_type": "execute_result"
    }
   ],
   "source": [
    "textcontent = 'Thirty_five sports disciplines and four cultural activities will be offered during seven days of competitions. He skated with charisma, changing from one gear to another, from one direction to another, faster than a sports car. Armchair sports fans settling down to watch the Olympic Games could be for the high jump if they do not pay their TV licence fee. Such invitationals will attract more viewership for sports fans by sparking interest among sports fans. She barely noticed a flashy sports car almost run them over, until Eddie lunged forward and grabbed her body away. And he flatters the mother and she kind of gets prissy and he talks her into going for a ride in the sports car.'\n",
    "\n",
    "word = 'sports'\n",
    "\n",
    "tokenizedword = nltk.regexp_tokenize(textcontent, pattern = r'\\w*', gaps = False)\n",
    "tokenizedwords = [x.lower() for x in tokenizedword if x != '']\n",
    "tokenizedwords = nltk.Text(tokenizedwords)\n",
    "collocationword = tokenizedwords.collocation_list()\n",
    "collocationwords= [' '.join(i) for i in collocationword]\n",
    "'''collocationwords =[]\n",
    "for i in range(len(collocationword)):\n",
    "    collocationwords.append(collocationword[i-1][0]+' '+collocationword[i-1][1]) '''       \n",
    "collocationwords\n",
    "#print(sorted(collocationwords))"
   ]
  },
  {
   "cell_type": "code",
   "execution_count": 6,
   "id": "426e255b",
   "metadata": {},
   "outputs": [],
   "source": [
    "def performBigramsAndCollocations(textcontent, word):\n",
    "    \n",
    "    from nltk.corpus import stopwords\n",
    "    from nltk import ConditionalFreqDist\n",
    "    tokenizedword = nltk.regexp_tokenize(textcontent, pattern = r'\\w*', gaps = False)\n",
    "    tokenizedwords = [x.lower() for x in tokenizedword if x != '']\n",
    "    tokenizedwordsbigrams=nltk.bigrams(tokenizedwords)\n",
    "    stop_words= stopwords.words('english')\n",
    "    tokenizednonstopwordsbigrams=[(w1,w2) for w1 , w2 in tokenizedwordsbigrams if (w1 not in stop_words and w2 not in stop_words)]\n",
    "    cfd_bigrams=nltk.ConditionalFreqDist(tokenizednonstopwordsbigrams)\n",
    "    mostfrequentwordafter=cfd_bigrams[word].most_common(3)\n",
    "    tokenizedwords = nltk.Text(tokenizedwords)\n",
    "    collocationword = tokenizedwords.collocation_list()\n",
    "    collocationwords =[]\n",
    "    for i in range(len(collocationword)):\n",
    "        collocationwords.append(collocationword[i-1][0]+' '+collocationword[i-1][1]) \n",
    "    return mostfrequentwordafter ,collocationwords"
   ]
  },
  {
   "cell_type": "code",
   "execution_count": 215,
   "id": "b50d725b",
   "metadata": {},
   "outputs": [
    {
     "name": "stdout",
     "output_type": "stream",
     "text": [
      "[('fans', 3), ('car', 3), ('disciplines', 1)]\n",
      "['sports car', 'sports fans']\n"
     ]
    }
   ],
   "source": [
    "if __name__ == '__main__':\n",
    "    textcontent = 'Thirty-five sports disciplines and four cultural activities will be offered during seven days of competitions. He skated with charisma, changing from one gear to another, from one direction to another, faster than a sports car. Armchair sports fans settling down to watch the Olympic Games could be for the high jump if they do not pay their TV licence fee. Such invitationals will attract more viewership for sports fans by sparking interest among sports fans. She barely noticed a flashy sports car almost run them over, until Eddie lunged forward and grabbed her body away. And he flatters the mother and she kind of gets prissy and he talks her into going for a ride in the sports car.'\n",
    "\n",
    "    word = 'sports'\n",
    "\n",
    "    '''if not os.path.exists(os.getcwd() + \"/nltk_data\"):\n",
    "        with zipfile.ZipFile(\"nltk_data.zip\", 'r') as zip_ref:\n",
    "            zip_ref.extractall(os.getcwd())\n",
    "'''\n",
    "    mostfrequentwordafter, collocationwords = performBigramsAndCollocations(textcontent, word)\n",
    "    print(sorted(mostfrequentwordafter, key=lambda element: (element[1], element[0]), reverse=True))\n",
    "    print(sorted(collocationwords))"
   ]
  },
  {
   "cell_type": "code",
   "execution_count": null,
   "id": "1280c41e",
   "metadata": {},
   "outputs": [],
   "source": []
  },
  {
   "cell_type": "code",
   "execution_count": null,
   "id": "117ff576",
   "metadata": {},
   "outputs": [],
   "source": []
  },
  {
   "cell_type": "code",
   "execution_count": null,
   "id": "ec44b5f9",
   "metadata": {},
   "outputs": [],
   "source": []
  }
 ],
 "metadata": {
  "kernelspec": {
   "display_name": "Python 3",
   "language": "python",
   "name": "python3"
  },
  "language_info": {
   "codemirror_mode": {
    "name": "ipython",
    "version": 3
   },
   "file_extension": ".py",
   "mimetype": "text/x-python",
   "name": "python",
   "nbconvert_exporter": "python",
   "pygments_lexer": "ipython3",
   "version": "3.8.8"
  }
 },
 "nbformat": 4,
 "nbformat_minor": 5
}
